{
 "cells": [
  {
   "cell_type": "markdown",
   "metadata": {},
   "source": [
    "# Automated ML\n",
    "\n",
    "Importing all needed dependencies to complete the project."
   ]
  },
  {
   "cell_type": "code",
   "execution_count": 2,
   "metadata": {
    "gather": {
     "logged": 1612018493821
    },
    "jupyter": {
     "outputs_hidden": false,
     "source_hidden": false
    },
    "nteract": {
     "transient": {
      "deleting": false
     }
    }
   },
   "outputs": [
    {
     "name": "stdout",
     "output_type": "stream",
     "text": [
      "SDK version: 1.20.0\n"
     ]
    }
   ],
   "source": [
    "import logging\n",
    "import os\n",
    "import json\n",
    "import csv\n",
    "import numpy as np\n",
    "import pandas as pd\n",
    "import pkg_resources\n",
    "import joblib\n",
    "\n",
    "import azureml.core\n",
    "from azureml.core.experiment import Experiment\n",
    "from azureml.core.workspace import Workspace\n",
    "from azureml.train.automl import AutoMLConfig\n",
    "from azureml.core.dataset import Dataset\n",
    "from azureml.core.compute import AmlCompute\n",
    "from azureml.core.compute import ComputeTarget\n",
    "from azureml.core.compute_target import ComputeTargetException\n",
    "from azureml.pipeline.steps import AutoMLStep\n",
    "from azureml.widgets import RunDetails\n",
    "from azureml.core import Model, Environment\n",
    "from azureml.core.model import InferenceConfig\n",
    "from azureml.core.webservice import AciWebservice\n",
    "from sklearn.preprocessing import StandardScaler\n",
    "\n",
    "# Check core SDK version number\n",
    "print(\"SDK version:\", azureml.core.VERSION)"
   ]
  },
  {
   "cell_type": "markdown",
   "metadata": {},
   "source": [
    "## Dataset\n",
    "\n",
    "### Overview\n",
    "This dataset comes from the Diabetes and Digestive and Kidney Disease National Institutes. The purpose of this dataset is to diagnose whether or not a patient is diabetic, on the basis of certain diagnostic measures in the dataset. The selection of these instances from a larger database was subject to several restrictions. All patients are women from the Indian heritage of Pima, at least 21 years old. \n",
    "https://www.kaggle.com/uciml/pima-indians-diabetes-database\n",
    "\n",
    "Task\n",
    "Predict the \"Outcome\" column based on the input features, either the patient has diabetes or not.\n",
    "\n",
    "Reference: http://www.arogyaworld.org/wp-content/uploads/2010/10/ArogyaWorld_IndiaDiabetes_FactSheets_CGI2013_web.pdf\n",
    "\n",
    "The dataset has nine features as follow:\n",
    "- Pregnancies: Number pregnancy times (int).\n",
    "- Glucose: Plasma glucose concentration level (int).\n",
    "- BloodPressure: Diastolic blood pressure level in mm Hg(int).\n",
    "- SkinThickness: skinfold thickness in mm(int).\n",
    "- Insulin: two-hour serum insulin measured by mu U/ml(int).\n",
    "- BMI: Body mass index (float).\n",
    "- DiabetesPedigreeFunction: Diabetes pedigree function(float).\n",
    "- Age: age in years 21 and above(int).\n",
    "- Outcome: Target column 0 or 1, 0 = Not diabetes, 1 = diabetes(int)."
   ]
  },
  {
   "cell_type": "code",
   "execution_count": 3,
   "metadata": {
    "gather": {
     "logged": 1598423890461
    },
    "jupyter": {
     "outputs_hidden": false,
     "source_hidden": false
    },
    "nteract": {
     "transient": {
      "deleting": false
     }
    }
   },
   "outputs": [],
   "source": [
    "ws = Workspace.from_config()\n",
    "\n",
    "# choose a name for experiment\n",
    "experiment_name = 'automl'\n",
    "\n",
    "experiment=Experiment(ws, experiment_name)"
   ]
  },
  {
   "cell_type": "code",
   "execution_count": 4,
   "metadata": {},
   "outputs": [
    {
     "name": "stdout",
     "output_type": "stream",
     "text": [
      "<class 'pandas.core.frame.DataFrame'>\n",
      "RangeIndex: 768 entries, 0 to 767\n",
      "Data columns (total 9 columns):\n",
      "Pregnancies                 768 non-null int64\n",
      "Glucose                     768 non-null int64\n",
      "BloodPressure               768 non-null int64\n",
      "SkinThickness               768 non-null int64\n",
      "Insulin                     768 non-null int64\n",
      "BMI                         768 non-null float64\n",
      "DiabetesPedigreeFunction    768 non-null float64\n",
      "Age                         768 non-null int64\n",
      "Outcome                     768 non-null int64\n",
      "dtypes: float64(2), int64(7)\n",
      "memory usage: 54.1 KB\n"
     ]
    }
   ],
   "source": [
    "# Load the registered dataset from workspace\n",
    "dataset = Dataset.get_by_name(ws, name='diabetes')\n",
    "\n",
    "# Convert the dataset to dataframe\n",
    "df = dataset.to_pandas_dataframe()\n",
    "df.info()"
   ]
  },
  {
   "cell_type": "code",
   "execution_count": 5,
   "metadata": {},
   "outputs": [
    {
     "data": {
      "text/html": [
       "<div>\n",
       "<style scoped>\n",
       "    .dataframe tbody tr th:only-of-type {\n",
       "        vertical-align: middle;\n",
       "    }\n",
       "\n",
       "    .dataframe tbody tr th {\n",
       "        vertical-align: top;\n",
       "    }\n",
       "\n",
       "    .dataframe thead th {\n",
       "        text-align: right;\n",
       "    }\n",
       "</style>\n",
       "<table border=\"1\" class=\"dataframe\">\n",
       "  <thead>\n",
       "    <tr style=\"text-align: right;\">\n",
       "      <th></th>\n",
       "      <th>Pregnancies</th>\n",
       "      <th>Glucose</th>\n",
       "      <th>BloodPressure</th>\n",
       "      <th>SkinThickness</th>\n",
       "      <th>Insulin</th>\n",
       "      <th>BMI</th>\n",
       "      <th>DiabetesPedigreeFunction</th>\n",
       "      <th>Age</th>\n",
       "      <th>Outcome</th>\n",
       "    </tr>\n",
       "  </thead>\n",
       "  <tbody>\n",
       "    <tr>\n",
       "      <th>count</th>\n",
       "      <td>768.000000</td>\n",
       "      <td>768.000000</td>\n",
       "      <td>768.000000</td>\n",
       "      <td>768.000000</td>\n",
       "      <td>768.000000</td>\n",
       "      <td>768.000000</td>\n",
       "      <td>768.000000</td>\n",
       "      <td>768.000000</td>\n",
       "      <td>768.000000</td>\n",
       "    </tr>\n",
       "    <tr>\n",
       "      <th>mean</th>\n",
       "      <td>3.845052</td>\n",
       "      <td>120.894531</td>\n",
       "      <td>69.105469</td>\n",
       "      <td>20.536458</td>\n",
       "      <td>79.799479</td>\n",
       "      <td>31.992578</td>\n",
       "      <td>0.471876</td>\n",
       "      <td>33.240885</td>\n",
       "      <td>0.348958</td>\n",
       "    </tr>\n",
       "    <tr>\n",
       "      <th>std</th>\n",
       "      <td>3.369578</td>\n",
       "      <td>31.972618</td>\n",
       "      <td>19.355807</td>\n",
       "      <td>15.952218</td>\n",
       "      <td>115.244002</td>\n",
       "      <td>7.884160</td>\n",
       "      <td>0.331329</td>\n",
       "      <td>11.760232</td>\n",
       "      <td>0.476951</td>\n",
       "    </tr>\n",
       "    <tr>\n",
       "      <th>min</th>\n",
       "      <td>0.000000</td>\n",
       "      <td>0.000000</td>\n",
       "      <td>0.000000</td>\n",
       "      <td>0.000000</td>\n",
       "      <td>0.000000</td>\n",
       "      <td>0.000000</td>\n",
       "      <td>0.078000</td>\n",
       "      <td>21.000000</td>\n",
       "      <td>0.000000</td>\n",
       "    </tr>\n",
       "    <tr>\n",
       "      <th>25%</th>\n",
       "      <td>1.000000</td>\n",
       "      <td>99.000000</td>\n",
       "      <td>62.000000</td>\n",
       "      <td>0.000000</td>\n",
       "      <td>0.000000</td>\n",
       "      <td>27.300000</td>\n",
       "      <td>0.243750</td>\n",
       "      <td>24.000000</td>\n",
       "      <td>0.000000</td>\n",
       "    </tr>\n",
       "    <tr>\n",
       "      <th>50%</th>\n",
       "      <td>3.000000</td>\n",
       "      <td>117.000000</td>\n",
       "      <td>72.000000</td>\n",
       "      <td>23.000000</td>\n",
       "      <td>30.500000</td>\n",
       "      <td>32.000000</td>\n",
       "      <td>0.372500</td>\n",
       "      <td>29.000000</td>\n",
       "      <td>0.000000</td>\n",
       "    </tr>\n",
       "    <tr>\n",
       "      <th>75%</th>\n",
       "      <td>6.000000</td>\n",
       "      <td>140.250000</td>\n",
       "      <td>80.000000</td>\n",
       "      <td>32.000000</td>\n",
       "      <td>127.250000</td>\n",
       "      <td>36.600000</td>\n",
       "      <td>0.626250</td>\n",
       "      <td>41.000000</td>\n",
       "      <td>1.000000</td>\n",
       "    </tr>\n",
       "    <tr>\n",
       "      <th>max</th>\n",
       "      <td>17.000000</td>\n",
       "      <td>199.000000</td>\n",
       "      <td>122.000000</td>\n",
       "      <td>99.000000</td>\n",
       "      <td>846.000000</td>\n",
       "      <td>67.100000</td>\n",
       "      <td>2.420000</td>\n",
       "      <td>81.000000</td>\n",
       "      <td>1.000000</td>\n",
       "    </tr>\n",
       "  </tbody>\n",
       "</table>\n",
       "</div>"
      ],
      "text/plain": [
       "       Pregnancies     Glucose  BloodPressure  SkinThickness     Insulin  \\\n",
       "count   768.000000  768.000000     768.000000     768.000000  768.000000   \n",
       "mean      3.845052  120.894531      69.105469      20.536458   79.799479   \n",
       "std       3.369578   31.972618      19.355807      15.952218  115.244002   \n",
       "min       0.000000    0.000000       0.000000       0.000000    0.000000   \n",
       "25%       1.000000   99.000000      62.000000       0.000000    0.000000   \n",
       "50%       3.000000  117.000000      72.000000      23.000000   30.500000   \n",
       "75%       6.000000  140.250000      80.000000      32.000000  127.250000   \n",
       "max      17.000000  199.000000     122.000000      99.000000  846.000000   \n",
       "\n",
       "              BMI  DiabetesPedigreeFunction         Age     Outcome  \n",
       "count  768.000000                768.000000  768.000000  768.000000  \n",
       "mean    31.992578                  0.471876   33.240885    0.348958  \n",
       "std      7.884160                  0.331329   11.760232    0.476951  \n",
       "min      0.000000                  0.078000   21.000000    0.000000  \n",
       "25%     27.300000                  0.243750   24.000000    0.000000  \n",
       "50%     32.000000                  0.372500   29.000000    0.000000  \n",
       "75%     36.600000                  0.626250   41.000000    1.000000  \n",
       "max     67.100000                  2.420000   81.000000    1.000000  "
      ]
     },
     "execution_count": 5,
     "metadata": {},
     "output_type": "execute_result"
    }
   ],
   "source": [
    "df.describe()"
   ]
  },
  {
   "cell_type": "code",
   "execution_count": 6,
   "metadata": {},
   "outputs": [
    {
     "data": {
      "text/html": [
       "<div>\n",
       "<style scoped>\n",
       "    .dataframe tbody tr th:only-of-type {\n",
       "        vertical-align: middle;\n",
       "    }\n",
       "\n",
       "    .dataframe tbody tr th {\n",
       "        vertical-align: top;\n",
       "    }\n",
       "\n",
       "    .dataframe thead th {\n",
       "        text-align: right;\n",
       "    }\n",
       "</style>\n",
       "<table border=\"1\" class=\"dataframe\">\n",
       "  <thead>\n",
       "    <tr style=\"text-align: right;\">\n",
       "      <th></th>\n",
       "      <th>Pregnancies</th>\n",
       "      <th>Glucose</th>\n",
       "      <th>BloodPressure</th>\n",
       "      <th>SkinThickness</th>\n",
       "      <th>Insulin</th>\n",
       "      <th>BMI</th>\n",
       "      <th>DiabetesPedigreeFunction</th>\n",
       "      <th>Age</th>\n",
       "      <th>Outcome</th>\n",
       "    </tr>\n",
       "  </thead>\n",
       "  <tbody>\n",
       "    <tr>\n",
       "      <th>0</th>\n",
       "      <td>6</td>\n",
       "      <td>148</td>\n",
       "      <td>72</td>\n",
       "      <td>35</td>\n",
       "      <td>0</td>\n",
       "      <td>33.6</td>\n",
       "      <td>0.627</td>\n",
       "      <td>50</td>\n",
       "      <td>1</td>\n",
       "    </tr>\n",
       "    <tr>\n",
       "      <th>1</th>\n",
       "      <td>1</td>\n",
       "      <td>85</td>\n",
       "      <td>66</td>\n",
       "      <td>29</td>\n",
       "      <td>0</td>\n",
       "      <td>26.6</td>\n",
       "      <td>0.351</td>\n",
       "      <td>31</td>\n",
       "      <td>0</td>\n",
       "    </tr>\n",
       "    <tr>\n",
       "      <th>2</th>\n",
       "      <td>8</td>\n",
       "      <td>183</td>\n",
       "      <td>64</td>\n",
       "      <td>0</td>\n",
       "      <td>0</td>\n",
       "      <td>23.3</td>\n",
       "      <td>0.672</td>\n",
       "      <td>32</td>\n",
       "      <td>1</td>\n",
       "    </tr>\n",
       "    <tr>\n",
       "      <th>3</th>\n",
       "      <td>1</td>\n",
       "      <td>89</td>\n",
       "      <td>66</td>\n",
       "      <td>23</td>\n",
       "      <td>94</td>\n",
       "      <td>28.1</td>\n",
       "      <td>0.167</td>\n",
       "      <td>21</td>\n",
       "      <td>0</td>\n",
       "    </tr>\n",
       "    <tr>\n",
       "      <th>4</th>\n",
       "      <td>0</td>\n",
       "      <td>137</td>\n",
       "      <td>40</td>\n",
       "      <td>35</td>\n",
       "      <td>168</td>\n",
       "      <td>43.1</td>\n",
       "      <td>2.288</td>\n",
       "      <td>33</td>\n",
       "      <td>1</td>\n",
       "    </tr>\n",
       "  </tbody>\n",
       "</table>\n",
       "</div>"
      ],
      "text/plain": [
       "   Pregnancies  Glucose  BloodPressure  SkinThickness  Insulin   BMI  \\\n",
       "0            6      148             72             35        0  33.6   \n",
       "1            1       85             66             29        0  26.6   \n",
       "2            8      183             64              0        0  23.3   \n",
       "3            1       89             66             23       94  28.1   \n",
       "4            0      137             40             35      168  43.1   \n",
       "\n",
       "   DiabetesPedigreeFunction  Age  Outcome  \n",
       "0                     0.627   50        1  \n",
       "1                     0.351   31        0  \n",
       "2                     0.672   32        1  \n",
       "3                     0.167   21        0  \n",
       "4                     2.288   33        1  "
      ]
     },
     "execution_count": 6,
     "metadata": {},
     "output_type": "execute_result"
    }
   ],
   "source": [
    "#Display the first five records of the dataset\n",
    "df.head()"
   ]
  },
  {
   "cell_type": "code",
   "execution_count": 7,
   "metadata": {},
   "outputs": [
    {
     "name": "stdout",
     "output_type": "stream",
     "text": [
      "Found existing cluster, use it.\n",
      "\n",
      "Running\n"
     ]
    }
   ],
   "source": [
    "# Create CPU cluster\n",
    "amlcompute_cluster_name = \"notebook138879\"\n",
    "\n",
    "# Verify if cluster does not exist otherwise use the existing one\n",
    "try:\n",
    "    compute_target = ComputeTarget(workspace=ws, name=amlcompute_cluster_name)\n",
    "    print('Found existing cluster, use it.')\n",
    "except ComputeTargetException:\n",
    "    compute_config = AmlCompute.provisioning_configuration(vm_size='Standard_DS12_V2',\n",
    "                                                           vm_priority = 'lowpriority', \n",
    "                                                           max_nodes=4)\n",
    "    compute_target = ComputeTarget.create(ws, amlcompute_cluster_name, compute_config)\n",
    "\n",
    "compute_target.wait_for_completion(show_output=True)\n"
   ]
  },
  {
   "cell_type": "markdown",
   "metadata": {},
   "source": [
    "## AutoML Configuration\n",
    "\n",
    "Overview of the automl settings and configuration used for this experiment:\n",
    "\n",
    "- \"experiment_timeout_minutes\": set to 30 minutes. The experiment will timeout after that period to avoid wasting resources.\n",
    "- \"max_concurrent_iterations\": is set to 4. The max number of concurrent iterations to be run in parallel at the same time.\n",
    "- \"primary_metric\" : is set to 'accuracy', which is a sutible metric for classification problems.\n",
    "- \"n_cross_validations\": is set to 5, therefore the training and validation sets will be divided into five equal sets.\n",
    "- \"iterations\": the number of iterations for the experiment is set to 20. It's a reasonable number and would provide the intendable result for the given dataset.\n",
    "- compute_target: set to the project cluster to run the experiment.\n",
    "- task: set to 'classification' since our target to predict whether the patient has diabetes or not.\n",
    "- training_data: the loaded dataset for the project.\n",
    "- label_column_name: set to the result/target colunm in the dataset 'Outcome' (0 or 1).\n",
    "- enable_early_stopping: is enabled to terminate the experiment if the accuracy score is not showing improvement over time.\n",
    "- featurization = is set to 'auto', it's an indicator of whether implementing a featurization step to preprocess/clean the dataset automatically or not. In our case, the preprocessing was applied for the numerical columns which normally involve treating missing values, cluster distance, the weight of evidence...etc.\n",
    "- debug_log: errors will be logged into 'automl_errors.log'.\n"
   ]
  },
  {
   "cell_type": "code",
   "execution_count": 8,
   "metadata": {
    "gather": {
     "logged": 1598429217746
    },
    "jupyter": {
     "outputs_hidden": false,
     "source_hidden": false
    },
    "nteract": {
     "transient": {
      "deleting": false
     }
    }
   },
   "outputs": [],
   "source": [
    "# Automl settings \n",
    "automl_settings = {\n",
    "    \"experiment_timeout_minutes\": 30,\n",
    "    \"max_concurrent_iterations\": 4,\n",
    "    \"primary_metric\" : 'accuracy',\n",
    "    \"n_cross_validations\": 5,\n",
    "    \"iterations\": 24\n",
    "    \n",
    "}\n",
    "\n",
    "# Automl config \n",
    "automl_config = AutoMLConfig(compute_target=compute_target,\n",
    "                             task = 'classification',\n",
    "                             training_data=dataset,\n",
    "                             label_column_name='Outcome',\n",
    "                             enable_early_stopping= True,\n",
    "                             featurization = 'auto',\n",
    "                             debug_log = 'automl_errors.log',\n",
    "                             **automl_settings\n",
    "                            )\n",
    "\n"
   ]
  },
  {
   "cell_type": "code",
   "execution_count": 9,
   "metadata": {
    "gather": {
     "logged": 1598431107951
    },
    "jupyter": {
     "outputs_hidden": false,
     "source_hidden": false
    },
    "nteract": {
     "transient": {
      "deleting": false
     }
    }
   },
   "outputs": [
    {
     "name": "stdout",
     "output_type": "stream",
     "text": [
      "Running on remote.\n",
      "No run_configuration provided, running on notebook138879 with default configuration\n",
      "Running on remote compute: notebook138879\n",
      "Parent Run ID: AutoML_0c1155d7-c4c9-4662-abe0-5a612296c3c0\n",
      "\n",
      "Current status: FeaturesGeneration. Generating features for the dataset.\n",
      "Current status: DatasetCrossValidationSplit. Generating individually featurized CV splits.\n",
      "Current status: ModelSelection. Beginning model selection.\n",
      "\n",
      "****************************************************************************************************\n",
      "DATA GUARDRAILS: \n",
      "\n",
      "TYPE:         Class balancing detection\n",
      "STATUS:       PASSED\n",
      "DESCRIPTION:  Your inputs were analyzed, and all classes are balanced in your training data.\n",
      "              Learn more about imbalanced data: https://aka.ms/AutomatedMLImbalancedData\n",
      "\n",
      "****************************************************************************************************\n",
      "\n",
      "TYPE:         Missing feature values imputation\n",
      "STATUS:       PASSED\n",
      "DESCRIPTION:  No feature missing values were detected in the training data.\n",
      "              Learn more about missing value imputation: https://aka.ms/AutomatedMLFeaturization\n",
      "\n",
      "****************************************************************************************************\n",
      "\n",
      "TYPE:         High cardinality feature detection\n",
      "STATUS:       PASSED\n",
      "DESCRIPTION:  Your inputs were analyzed, and no high cardinality features were detected.\n",
      "              Learn more about high cardinality feature handling: https://aka.ms/AutomatedMLFeaturization\n",
      "\n",
      "****************************************************************************************************\n",
      "\n",
      "****************************************************************************************************\n",
      "ITERATION: The iteration being evaluated.\n",
      "PIPELINE: A summary description of the pipeline being evaluated.\n",
      "DURATION: Time taken for the current iteration.\n",
      "METRIC: The result of computing score on the fitted pipeline.\n",
      "BEST: The best observed score thus far.\n",
      "****************************************************************************************************\n",
      "\n",
      " ITERATION   PIPELINE                                       DURATION      METRIC      BEST\n",
      "         0   MaxAbsScaler LightGBM                          0:01:05       0.7435    0.7435\n",
      "         2   MaxAbsScaler RandomForest                      0:01:10       0.7540    0.7540\n",
      "         3   MaxAbsScaler RandomForest                      0:01:07       0.7423    0.7540\n",
      "         1   MaxAbsScaler XGBoostClassifier                 0:01:14       0.7656    0.7656\n",
      "         4   MaxAbsScaler RandomForest                      0:01:13       0.7553    0.7656\n",
      "         5   MaxAbsScaler RandomForest                      0:01:08       0.7305    0.7656\n",
      "         6   SparseNormalizer XGBoostClassifier             0:01:18       0.7189    0.7656\n",
      "         7   SparseNormalizer XGBoostClassifier             0:01:15       0.7110    0.7656\n",
      "         8   SparseNormalizer XGBoostClassifier             0:01:12       0.7045    0.7656\n",
      "         9   SparseNormalizer XGBoostClassifier             0:01:08       0.7097    0.7656\n",
      "        10   SparseNormalizer XGBoostClassifier             0:01:04       0.6485    0.7656\n",
      "        11   MaxAbsScaler RandomForest                      0:01:07       0.7696    0.7696\n",
      "        12   StandardScalerWrapper RandomForest             0:01:05       0.7605    0.7696\n",
      "        13   MaxAbsScaler LightGBM                          0:01:07       0.7474    0.7696\n",
      "        14   MaxAbsScaler LogisticRegression                0:01:06       0.7683    0.7696\n",
      "        15   MaxAbsScaler LightGBM                          0:01:03       0.7527    0.7696\n",
      "        16   StandardScalerWrapper LogisticRegression       0:01:09       0.7617    0.7696\n",
      "        17   MaxAbsScaler LightGBM                          0:01:06       0.7670    0.7696\n",
      "        19   MaxAbsScaler LogisticRegression                0:01:04       0.7709    0.7709\n",
      "        18   SparseNormalizer LightGBM                      0:01:44       0.6759    0.7709\n",
      "        20   SparseNormalizer LightGBM                      0:01:05       0.6811    0.7709\n",
      "        21   MaxAbsScaler LightGBM                          0:01:11       0.7643    0.7709\n",
      "        22    VotingEnsemble                                0:01:37       0.7852    0.7852\n",
      "        23    StackEnsemble                                 0:01:36       0.7722    0.7852\n"
     ]
    }
   ],
   "source": [
    "# Submit experiment\n",
    "remote_run = experiment.submit(automl_config, show_output=True)"
   ]
  },
  {
   "cell_type": "markdown",
   "metadata": {},
   "source": [
    "## Run Details\n",
    "\n",
    "The best model has resulted from the AutoML experiment from VotingEnsemble model. The Voting Ensemble model takes a majority vote of several algorithms which makes it surpass individual algorithms and minimize the bias. \n",
    "\n",
    "Use the `RunDetails` widget to show the different experiments."
   ]
  },
  {
   "cell_type": "code",
   "execution_count": 10,
   "metadata": {
    "gather": {
     "logged": 1598431121770
    },
    "jupyter": {
     "outputs_hidden": false,
     "source_hidden": false
    },
    "nteract": {
     "transient": {
      "deleting": false
     }
    }
   },
   "outputs": [
    {
     "data": {
      "application/vnd.jupyter.widget-view+json": {
       "model_id": "245bc3bd238d4d46aa5c28b33dbefe82",
       "version_major": 2,
       "version_minor": 0
      },
      "text/plain": [
       "_AutoMLWidget(widget_settings={'childWidgetDisplay': 'popup', 'send_telemetry': False, 'log_level': 'INFO', 's…"
      ]
     },
     "metadata": {},
     "output_type": "display_data"
    },
    {
     "data": {
      "application/aml.mini.widget.v1": "{\"status\": \"Completed\", \"workbench_run_details_uri\": \"https://ml.azure.com/experiments/automl/runs/AutoML_0c1155d7-c4c9-4662-abe0-5a612296c3c0?wsid=/subscriptions/610d6e37-4747-4a20-80eb-3aad70a55f43/resourcegroups/aml-quickstarts-138879/workspaces/quick-starts-ws-138879\", \"run_id\": \"AutoML_0c1155d7-c4c9-4662-abe0-5a612296c3c0\", \"run_properties\": {\"run_id\": \"AutoML_0c1155d7-c4c9-4662-abe0-5a612296c3c0\", \"created_utc\": \"2021-02-14T11:04:39.327325Z\", \"properties\": {\"num_iterations\": \"24\", \"training_type\": \"TrainFull\", \"acquisition_function\": \"EI\", \"primary_metric\": \"accuracy\", \"train_split\": \"0\", \"acquisition_parameter\": \"0\", \"num_cross_validation\": \"5\", \"target\": \"notebook138879\", \"AMLSettingsJsonString\": \"{\\\"path\\\":null,\\\"name\\\":\\\"automl\\\",\\\"subscription_id\\\":\\\"610d6e37-4747-4a20-80eb-3aad70a55f43\\\",\\\"resource_group\\\":\\\"aml-quickstarts-138879\\\",\\\"workspace_name\\\":\\\"quick-starts-ws-138879\\\",\\\"region\\\":\\\"southcentralus\\\",\\\"compute_target\\\":\\\"notebook138879\\\",\\\"spark_service\\\":null,\\\"azure_service\\\":\\\"remote\\\",\\\"many_models\\\":false,\\\"pipeline_fetch_max_batch_size\\\":1,\\\"iterations\\\":24,\\\"primary_metric\\\":\\\"accuracy\\\",\\\"task_type\\\":\\\"classification\\\",\\\"data_script\\\":null,\\\"validation_size\\\":0.0,\\\"n_cross_validations\\\":5,\\\"y_min\\\":null,\\\"y_max\\\":null,\\\"num_classes\\\":null,\\\"featurization\\\":\\\"auto\\\",\\\"_ignore_package_version_incompatibilities\\\":false,\\\"is_timeseries\\\":false,\\\"max_cores_per_iteration\\\":1,\\\"max_concurrent_iterations\\\":4,\\\"iteration_timeout_minutes\\\":null,\\\"mem_in_mb\\\":null,\\\"enforce_time_on_windows\\\":false,\\\"experiment_timeout_minutes\\\":30,\\\"experiment_exit_score\\\":null,\\\"whitelist_models\\\":null,\\\"blacklist_algos\\\":[\\\"TensorFlowLinearClassifier\\\",\\\"TensorFlowDNN\\\"],\\\"supported_models\\\":[\\\"SGD\\\",\\\"LinearSVM\\\",\\\"RandomForest\\\",\\\"LogisticRegression\\\",\\\"MultinomialNaiveBayes\\\",\\\"KNN\\\",\\\"ExtremeRandomTrees\\\",\\\"AveragedPerceptronClassifier\\\",\\\"TensorFlowLinearClassifier\\\",\\\"LightGBM\\\",\\\"XGBoostClassifier\\\",\\\"TensorFlowDNN\\\",\\\"GradientBoosting\\\",\\\"SVM\\\",\\\"BernoulliNaiveBayes\\\",\\\"DecisionTree\\\"],\\\"auto_blacklist\\\":true,\\\"blacklist_samples_reached\\\":false,\\\"exclude_nan_labels\\\":true,\\\"verbosity\\\":20,\\\"_debug_log\\\":\\\"azureml_automl.log\\\",\\\"show_warnings\\\":false,\\\"model_explainability\\\":true,\\\"service_url\\\":null,\\\"sdk_url\\\":null,\\\"sdk_packages\\\":null,\\\"enable_onnx_compatible_models\\\":false,\\\"enable_split_onnx_featurizer_estimator_models\\\":false,\\\"vm_type\\\":\\\"STANDARD_DS3_V2\\\",\\\"telemetry_verbosity\\\":20,\\\"send_telemetry\\\":true,\\\"enable_dnn\\\":false,\\\"scenario\\\":\\\"SDK-1.13.0\\\",\\\"environment_label\\\":null,\\\"force_text_dnn\\\":false,\\\"enable_feature_sweeping\\\":true,\\\"enable_early_stopping\\\":true,\\\"early_stopping_n_iters\\\":10,\\\"metrics\\\":null,\\\"enable_ensembling\\\":true,\\\"enable_stack_ensembling\\\":true,\\\"ensemble_iterations\\\":15,\\\"enable_tf\\\":false,\\\"enable_subsampling\\\":false,\\\"subsample_seed\\\":null,\\\"enable_nimbusml\\\":false,\\\"enable_streaming\\\":false,\\\"force_streaming\\\":false,\\\"track_child_runs\\\":true,\\\"allowed_private_models\\\":[],\\\"label_column_name\\\":\\\"Outcome\\\",\\\"weight_column_name\\\":null,\\\"cv_split_column_names\\\":null,\\\"enable_local_managed\\\":false,\\\"_local_managed_run_id\\\":null,\\\"cost_mode\\\":1,\\\"lag_length\\\":0,\\\"metric_operation\\\":\\\"maximize\\\",\\\"preprocess\\\":true}\", \"DataPrepJsonString\": \"{\\\\\\\"training_data\\\\\\\": \\\\\\\"{\\\\\\\\\\\\\\\"blocks\\\\\\\\\\\\\\\": [{\\\\\\\\\\\\\\\"id\\\\\\\\\\\\\\\": \\\\\\\\\\\\\\\"081984ef-900c-460f-9150-8ae517c12665\\\\\\\\\\\\\\\", \\\\\\\\\\\\\\\"type\\\\\\\\\\\\\\\": \\\\\\\\\\\\\\\"Microsoft.DPrep.GetDatastoreFilesBlock\\\\\\\\\\\\\\\", \\\\\\\\\\\\\\\"arguments\\\\\\\\\\\\\\\": {\\\\\\\\\\\\\\\"datastores\\\\\\\\\\\\\\\": [{\\\\\\\\\\\\\\\"datastoreName\\\\\\\\\\\\\\\": \\\\\\\\\\\\\\\"workspaceblobstore\\\\\\\\\\\\\\\", \\\\\\\\\\\\\\\"path\\\\\\\\\\\\\\\": \\\\\\\\\\\\\\\"UI/02-14-2021_105647_UTC/diabetes.csv\\\\\\\\\\\\\\\", \\\\\\\\\\\\\\\"resourceGroup\\\\\\\\\\\\\\\": \\\\\\\\\\\\\\\"aml-quickstarts-138879\\\\\\\\\\\\\\\", \\\\\\\\\\\\\\\"subscription\\\\\\\\\\\\\\\": \\\\\\\\\\\\\\\"610d6e37-4747-4a20-80eb-3aad70a55f43\\\\\\\\\\\\\\\", \\\\\\\\\\\\\\\"workspaceName\\\\\\\\\\\\\\\": \\\\\\\\\\\\\\\"quick-starts-ws-138879\\\\\\\\\\\\\\\"}]}, \\\\\\\\\\\\\\\"localData\\\\\\\\\\\\\\\": {}, \\\\\\\\\\\\\\\"isEnabled\\\\\\\\\\\\\\\": true, \\\\\\\\\\\\\\\"name\\\\\\\\\\\\\\\": null, \\\\\\\\\\\\\\\"annotation\\\\\\\\\\\\\\\": null}, {\\\\\\\\\\\\\\\"id\\\\\\\\\\\\\\\": \\\\\\\\\\\\\\\"dc127ae0-6d19-4688-a01c-601e33aa4ab5\\\\\\\\\\\\\\\", \\\\\\\\\\\\\\\"type\\\\\\\\\\\\\\\": \\\\\\\\\\\\\\\"Microsoft.DPrep.ParseDelimitedBlock\\\\\\\\\\\\\\\", \\\\\\\\\\\\\\\"arguments\\\\\\\\\\\\\\\": {\\\\\\\\\\\\\\\"columnHeadersMode\\\\\\\\\\\\\\\": 3, \\\\\\\\\\\\\\\"fileEncoding\\\\\\\\\\\\\\\": 0, \\\\\\\\\\\\\\\"handleQuotedLineBreaks\\\\\\\\\\\\\\\": false, \\\\\\\\\\\\\\\"preview\\\\\\\\\\\\\\\": false, \\\\\\\\\\\\\\\"separator\\\\\\\\\\\\\\\": \\\\\\\\\\\\\\\",\\\\\\\\\\\\\\\", \\\\\\\\\\\\\\\"skipRows\\\\\\\\\\\\\\\": 0, \\\\\\\\\\\\\\\"skipRowsMode\\\\\\\\\\\\\\\": 0}, \\\\\\\\\\\\\\\"localData\\\\\\\\\\\\\\\": {}, \\\\\\\\\\\\\\\"isEnabled\\\\\\\\\\\\\\\": true, \\\\\\\\\\\\\\\"name\\\\\\\\\\\\\\\": null, \\\\\\\\\\\\\\\"annotation\\\\\\\\\\\\\\\": null}, {\\\\\\\\\\\\\\\"id\\\\\\\\\\\\\\\": \\\\\\\\\\\\\\\"e1dac204-3e6b-49d2-a98a-1c474ec09d20\\\\\\\\\\\\\\\", \\\\\\\\\\\\\\\"type\\\\\\\\\\\\\\\": \\\\\\\\\\\\\\\"Microsoft.DPrep.DropColumnsBlock\\\\\\\\\\\\\\\", \\\\\\\\\\\\\\\"arguments\\\\\\\\\\\\\\\": {\\\\\\\\\\\\\\\"columns\\\\\\\\\\\\\\\": {\\\\\\\\\\\\\\\"type\\\\\\\\\\\\\\\": 0, \\\\\\\\\\\\\\\"details\\\\\\\\\\\\\\\": {\\\\\\\\\\\\\\\"selectedColumns\\\\\\\\\\\\\\\": [\\\\\\\\\\\\\\\"Path\\\\\\\\\\\\\\\"]}}}, \\\\\\\\\\\\\\\"localData\\\\\\\\\\\\\\\": {}, \\\\\\\\\\\\\\\"isEnabled\\\\\\\\\\\\\\\": true, \\\\\\\\\\\\\\\"name\\\\\\\\\\\\\\\": null, \\\\\\\\\\\\\\\"annotation\\\\\\\\\\\\\\\": null}, {\\\\\\\\\\\\\\\"id\\\\\\\\\\\\\\\": \\\\\\\\\\\\\\\"3b84e1de-a54a-4405-add0-e910cb94e669\\\\\\\\\\\\\\\", \\\\\\\\\\\\\\\"type\\\\\\\\\\\\\\\": \\\\\\\\\\\\\\\"Microsoft.DPrep.SetColumnTypesBlock\\\\\\\\\\\\\\\", \\\\\\\\\\\\\\\"arguments\\\\\\\\\\\\\\\": {\\\\\\\\\\\\\\\"columnConversion\\\\\\\\\\\\\\\": [{\\\\\\\\\\\\\\\"column\\\\\\\\\\\\\\\": {\\\\\\\\\\\\\\\"type\\\\\\\\\\\\\\\": 2, \\\\\\\\\\\\\\\"details\\\\\\\\\\\\\\\": {\\\\\\\\\\\\\\\"selectedColumn\\\\\\\\\\\\\\\": \\\\\\\\\\\\\\\"Path\\\\\\\\\\\\\\\"}}, \\\\\\\\\\\\\\\"typeProperty\\\\\\\\\\\\\\\": 0}, {\\\\\\\\\\\\\\\"column\\\\\\\\\\\\\\\": {\\\\\\\\\\\\\\\"type\\\\\\\\\\\\\\\": 2, \\\\\\\\\\\\\\\"details\\\\\\\\\\\\\\\": {\\\\\\\\\\\\\\\"selectedColumn\\\\\\\\\\\\\\\": \\\\\\\\\\\\\\\"Pregnancies\\\\\\\\\\\\\\\"}}, \\\\\\\\\\\\\\\"typeProperty\\\\\\\\\\\\\\\": 2}, {\\\\\\\\\\\\\\\"column\\\\\\\\\\\\\\\": {\\\\\\\\\\\\\\\"type\\\\\\\\\\\\\\\": 2, \\\\\\\\\\\\\\\"details\\\\\\\\\\\\\\\": {\\\\\\\\\\\\\\\"selectedColumn\\\\\\\\\\\\\\\": \\\\\\\\\\\\\\\"Glucose\\\\\\\\\\\\\\\"}}, \\\\\\\\\\\\\\\"typeProperty\\\\\\\\\\\\\\\": 2}, {\\\\\\\\\\\\\\\"column\\\\\\\\\\\\\\\": {\\\\\\\\\\\\\\\"type\\\\\\\\\\\\\\\": 2, \\\\\\\\\\\\\\\"details\\\\\\\\\\\\\\\": {\\\\\\\\\\\\\\\"selectedColumn\\\\\\\\\\\\\\\": \\\\\\\\\\\\\\\"BloodPressure\\\\\\\\\\\\\\\"}}, \\\\\\\\\\\\\\\"typeProperty\\\\\\\\\\\\\\\": 2}, {\\\\\\\\\\\\\\\"column\\\\\\\\\\\\\\\": {\\\\\\\\\\\\\\\"type\\\\\\\\\\\\\\\": 2, \\\\\\\\\\\\\\\"details\\\\\\\\\\\\\\\": {\\\\\\\\\\\\\\\"selectedColumn\\\\\\\\\\\\\\\": \\\\\\\\\\\\\\\"SkinThickness\\\\\\\\\\\\\\\"}}, \\\\\\\\\\\\\\\"typeProperty\\\\\\\\\\\\\\\": 2}, {\\\\\\\\\\\\\\\"column\\\\\\\\\\\\\\\": {\\\\\\\\\\\\\\\"type\\\\\\\\\\\\\\\": 2, \\\\\\\\\\\\\\\"details\\\\\\\\\\\\\\\": {\\\\\\\\\\\\\\\"selectedColumn\\\\\\\\\\\\\\\": \\\\\\\\\\\\\\\"Insulin\\\\\\\\\\\\\\\"}}, \\\\\\\\\\\\\\\"typeProperty\\\\\\\\\\\\\\\": 2}, {\\\\\\\\\\\\\\\"column\\\\\\\\\\\\\\\": {\\\\\\\\\\\\\\\"type\\\\\\\\\\\\\\\": 2, \\\\\\\\\\\\\\\"details\\\\\\\\\\\\\\\": {\\\\\\\\\\\\\\\"selectedColumn\\\\\\\\\\\\\\\": \\\\\\\\\\\\\\\"BMI\\\\\\\\\\\\\\\"}}, \\\\\\\\\\\\\\\"typeProperty\\\\\\\\\\\\\\\": 3}, {\\\\\\\\\\\\\\\"column\\\\\\\\\\\\\\\": {\\\\\\\\\\\\\\\"type\\\\\\\\\\\\\\\": 2, \\\\\\\\\\\\\\\"details\\\\\\\\\\\\\\\": {\\\\\\\\\\\\\\\"selectedColumn\\\\\\\\\\\\\\\": \\\\\\\\\\\\\\\"DiabetesPedigreeFunction\\\\\\\\\\\\\\\"}}, \\\\\\\\\\\\\\\"typeProperty\\\\\\\\\\\\\\\": 3}, {\\\\\\\\\\\\\\\"column\\\\\\\\\\\\\\\": {\\\\\\\\\\\\\\\"type\\\\\\\\\\\\\\\": 2, \\\\\\\\\\\\\\\"details\\\\\\\\\\\\\\\": {\\\\\\\\\\\\\\\"selectedColumn\\\\\\\\\\\\\\\": \\\\\\\\\\\\\\\"Age\\\\\\\\\\\\\\\"}}, \\\\\\\\\\\\\\\"typeProperty\\\\\\\\\\\\\\\": 2}, {\\\\\\\\\\\\\\\"column\\\\\\\\\\\\\\\": {\\\\\\\\\\\\\\\"type\\\\\\\\\\\\\\\": 2, \\\\\\\\\\\\\\\"details\\\\\\\\\\\\\\\": {\\\\\\\\\\\\\\\"selectedColumn\\\\\\\\\\\\\\\": \\\\\\\\\\\\\\\"Outcome\\\\\\\\\\\\\\\"}}, \\\\\\\\\\\\\\\"typeProperty\\\\\\\\\\\\\\\": 2}]}, \\\\\\\\\\\\\\\"localData\\\\\\\\\\\\\\\": {}, \\\\\\\\\\\\\\\"isEnabled\\\\\\\\\\\\\\\": true, \\\\\\\\\\\\\\\"name\\\\\\\\\\\\\\\": null, \\\\\\\\\\\\\\\"annotation\\\\\\\\\\\\\\\": null}], \\\\\\\\\\\\\\\"inspectors\\\\\\\\\\\\\\\": [], \\\\\\\\\\\\\\\"meta\\\\\\\\\\\\\\\": {\\\\\\\\\\\\\\\"savedDatasetId\\\\\\\\\\\\\\\": \\\\\\\\\\\\\\\"2405eb8a-8e3c-4b76-8bf5-e37c9290f597\\\\\\\\\\\\\\\", \\\\\\\\\\\\\\\"datasetType\\\\\\\\\\\\\\\": \\\\\\\\\\\\\\\"tabular\\\\\\\\\\\\\\\", \\\\\\\\\\\\\\\"subscriptionId\\\\\\\\\\\\\\\": \\\\\\\\\\\\\\\"610d6e37-4747-4a20-80eb-3aad70a55f43\\\\\\\\\\\\\\\", \\\\\\\\\\\\\\\"workspaceId\\\\\\\\\\\\\\\": \\\\\\\\\\\\\\\"7496996b-164b-47f2-b860-71e73a53e44d\\\\\\\\\\\\\\\", \\\\\\\\\\\\\\\"workspaceLocation\\\\\\\\\\\\\\\": \\\\\\\\\\\\\\\"southcentralus\\\\\\\\\\\\\\\"}}\\\\\\\", \\\\\\\"activities\\\\\\\": 0}\", \"EnableSubsampling\": \"False\", \"runTemplate\": \"AutoML\", \"azureml.runsource\": \"automl\", \"display_task_type\": \"classification\", \"dependencies_versions\": \"{\\\"azureml-widgets\\\": \\\"1.20.0\\\", \\\"azureml-train\\\": \\\"1.20.0\\\", \\\"azureml-train-restclients-hyperdrive\\\": \\\"1.20.0\\\", \\\"azureml-train-core\\\": \\\"1.20.0\\\", \\\"azureml-train-automl\\\": \\\"1.20.0\\\", \\\"azureml-train-automl-runtime\\\": \\\"1.20.0\\\", \\\"azureml-train-automl-client\\\": \\\"1.20.0\\\", \\\"azureml-tensorboard\\\": \\\"1.20.0\\\", \\\"azureml-telemetry\\\": \\\"1.20.0\\\", \\\"azureml-sdk\\\": \\\"1.20.0\\\", \\\"azureml-samples\\\": \\\"0+unknown\\\", \\\"azureml-pipeline\\\": \\\"1.20.0\\\", \\\"azureml-pipeline-steps\\\": \\\"1.20.0\\\", \\\"azureml-pipeline-core\\\": \\\"1.20.0\\\", \\\"azureml-opendatasets\\\": \\\"1.20.0\\\", \\\"azureml-model-management-sdk\\\": \\\"1.0.1b6.post1\\\", \\\"azureml-mlflow\\\": \\\"1.20.0.post1\\\", \\\"azureml-interpret\\\": \\\"1.20.0\\\", \\\"azureml-explain-model\\\": \\\"1.20.0\\\", \\\"azureml-defaults\\\": \\\"1.20.0\\\", \\\"azureml-dataset-runtime\\\": \\\"1.20.0\\\", \\\"azureml-dataprep\\\": \\\"2.7.3\\\", \\\"azureml-dataprep-rslex\\\": \\\"1.5.0\\\", \\\"azureml-dataprep-native\\\": \\\"27.0.0\\\", \\\"azureml-datadrift\\\": \\\"1.20.0\\\", \\\"azureml-core\\\": \\\"1.20.0\\\", \\\"azureml-contrib-services\\\": \\\"1.20.0\\\", \\\"azureml-contrib-server\\\": \\\"1.20.0\\\", \\\"azureml-contrib-reinforcementlearning\\\": \\\"1.20.0\\\", \\\"azureml-contrib-pipeline-steps\\\": \\\"1.20.0\\\", \\\"azureml-contrib-notebook\\\": \\\"1.20.0\\\", \\\"azureml-contrib-interpret\\\": \\\"1.20.0\\\", \\\"azureml-contrib-gbdt\\\": \\\"1.20.0\\\", \\\"azureml-contrib-fairness\\\": \\\"1.20.0\\\", \\\"azureml-contrib-dataset\\\": \\\"1.20.0\\\", \\\"azureml-cli-common\\\": \\\"1.20.0\\\", \\\"azureml-automl-runtime\\\": \\\"1.20.0\\\", \\\"azureml-automl-core\\\": \\\"1.20.0\\\", \\\"azureml-accel-models\\\": \\\"1.20.0\\\"}\", \"_aml_system_scenario_identification\": \"Remote.Parent\", \"ClientType\": \"SDK\", \"environment_cpu_name\": \"AzureML-AutoML\", \"environment_cpu_label\": \"prod\", \"environment_gpu_name\": \"AzureML-AutoML-GPU\", \"environment_gpu_label\": \"prod\", \"root_attribution\": \"automl\", \"attribution\": \"AutoML\", \"Orchestrator\": \"AutoML\", \"CancelUri\": \"https://southcentralus.experiments.azureml.net/jasmine/v1.0/subscriptions/610d6e37-4747-4a20-80eb-3aad70a55f43/resourceGroups/aml-quickstarts-138879/providers/Microsoft.MachineLearningServices/workspaces/quick-starts-ws-138879/experimentids/a811a5e1-b8fb-46be-936b-a6195c9daf58/cancel/AutoML_0c1155d7-c4c9-4662-abe0-5a612296c3c0\", \"ClientSdkVersion\": \"1.21.0\", \"snapshotId\": \"00000000-0000-0000-0000-000000000000\", \"SetupRunId\": \"AutoML_0c1155d7-c4c9-4662-abe0-5a612296c3c0_setup\", \"SetupRunContainerId\": \"dcid.AutoML_0c1155d7-c4c9-4662-abe0-5a612296c3c0_setup\", \"FeaturizationRunJsonPath\": \"featurizer_container.json\", \"FeaturizationRunId\": \"AutoML_0c1155d7-c4c9-4662-abe0-5a612296c3c0_featurize\", \"ProblemInfoJsonString\": \"{\\\"dataset_num_categorical\\\": 0, \\\"is_sparse\\\": true, \\\"subsampling\\\": false, \\\"dataset_classes\\\": 2, \\\"dataset_features\\\": 24, \\\"dataset_samples\\\": 768, \\\"single_frequency_class_detected\\\": false}\", \"ModelExplainRunId\": \"AutoML_0c1155d7-c4c9-4662-abe0-5a612296c3c0_ModelExplain\"}, \"tags\": {\"model_explain_run\": \"best_run\", \"_aml_system_azureml.automlComponent\": \"AutoML\", \"pipeline_id\": \"\", \"score\": \"\", \"predicted_cost\": \"\", \"fit_time\": \"\", \"training_percent\": \"\", \"iteration\": \"\", \"run_preprocessor\": \"\", \"run_algorithm\": \"\", \"automl_best_child_run_id\": \"AutoML_0c1155d7-c4c9-4662-abe0-5a612296c3c0_22\", \"model_explain_best_run_child_id\": \"AutoML_0c1155d7-c4c9-4662-abe0-5a612296c3c0_22\"}, \"end_time_utc\": \"2021-02-14T11:20:03.389021Z\", \"status\": \"Completed\", \"log_files\": {}, \"log_groups\": [], \"run_duration\": \"0:15:24\"}, \"child_runs\": [{\"run_id\": \"AutoML_0c1155d7-c4c9-4662-abe0-5a612296c3c0_0\", \"run_number\": 5, \"metric\": null, \"status\": \"Completed\", \"run_type\": \"azureml.scriptrun\", \"training_percent\": \"100\", \"start_time\": \"2021-02-14T11:09:46.163581Z\", \"end_time\": \"2021-02-14T11:10:50.683374Z\", \"created_time\": \"2021-02-14T11:09:34.313945Z\", \"created_time_dt\": \"2021-02-14T11:09:34.313945Z\", \"duration\": \"0:01:16\", \"iteration\": \"0\", \"goal\": \"accuracy_max\", \"run_name\": \"MaxAbsScaler, LightGBM\", \"run_properties\": \"copy=True\", \"primary_metric\": 0.74352771, \"best_metric\": 0.74352771}, {\"run_id\": \"AutoML_0c1155d7-c4c9-4662-abe0-5a612296c3c0_2\", \"run_number\": 6, \"metric\": null, \"status\": \"Completed\", \"run_type\": \"azureml.scriptrun\", \"training_percent\": \"100\", \"start_time\": \"2021-02-14T11:09:45.181358Z\", \"end_time\": \"2021-02-14T11:10:54.964177Z\", \"created_time\": \"2021-02-14T11:09:34.357736Z\", \"created_time_dt\": \"2021-02-14T11:09:34.357736Z\", \"duration\": \"0:01:20\", \"iteration\": \"2\", \"goal\": \"accuracy_max\", \"run_name\": \"MaxAbsScaler, RandomForest\", \"run_properties\": \"copy=True\", \"primary_metric\": 0.75400221, \"best_metric\": 0.76563959}, {\"run_id\": \"AutoML_0c1155d7-c4c9-4662-abe0-5a612296c3c0_3\", \"run_number\": 7, \"metric\": null, \"status\": \"Completed\", \"run_type\": \"azureml.scriptrun\", \"training_percent\": \"100\", \"start_time\": \"2021-02-14T11:09:44.495249Z\", \"end_time\": \"2021-02-14T11:10:51.596008Z\", \"created_time\": \"2021-02-14T11:09:34.355938Z\", \"created_time_dt\": \"2021-02-14T11:09:34.355938Z\", \"duration\": \"0:01:17\", \"iteration\": \"3\", \"goal\": \"accuracy_max\", \"run_name\": \"MaxAbsScaler, RandomForest\", \"run_properties\": \"copy=True\", \"primary_metric\": 0.74228843, \"best_metric\": 0.76563959}, {\"run_id\": \"AutoML_0c1155d7-c4c9-4662-abe0-5a612296c3c0_1\", \"run_number\": 8, \"metric\": null, \"status\": \"Completed\", \"run_type\": \"azureml.scriptrun\", \"training_percent\": \"100\", \"start_time\": \"2021-02-14T11:09:47.365763Z\", \"end_time\": \"2021-02-14T11:11:01.616072Z\", \"created_time\": \"2021-02-14T11:09:34.356996Z\", \"created_time_dt\": \"2021-02-14T11:09:34.356996Z\", \"duration\": \"0:01:27\", \"iteration\": \"1\", \"goal\": \"accuracy_max\", \"run_name\": \"MaxAbsScaler, XGBoostClassifier\", \"run_properties\": \"copy=True\", \"primary_metric\": 0.76563959, \"best_metric\": 0.76563959}, {\"run_id\": \"AutoML_0c1155d7-c4c9-4662-abe0-5a612296c3c0_4\", \"run_number\": 9, \"metric\": null, \"status\": \"Completed\", \"run_type\": \"azureml.scriptrun\", \"training_percent\": \"100\", \"start_time\": \"2021-02-14T11:11:04.121556Z\", \"end_time\": \"2021-02-14T11:12:16.849312Z\", \"created_time\": \"2021-02-14T11:10:52.426395Z\", \"created_time_dt\": \"2021-02-14T11:10:52.426395Z\", \"duration\": \"0:01:24\", \"iteration\": \"4\", \"goal\": \"accuracy_max\", \"run_name\": \"MaxAbsScaler, RandomForest\", \"run_properties\": \"copy=True\", \"primary_metric\": 0.75527544, \"best_metric\": 0.76563959}, {\"run_id\": \"AutoML_0c1155d7-c4c9-4662-abe0-5a612296c3c0_6\", \"run_number\": 10, \"metric\": null, \"status\": \"Completed\", \"run_type\": \"azureml.scriptrun\", \"training_percent\": \"100\", \"start_time\": \"2021-02-14T11:11:10.158298Z\", \"end_time\": \"2021-02-14T11:12:28.613544Z\", \"created_time\": \"2021-02-14T11:10:59.229048Z\", \"created_time_dt\": \"2021-02-14T11:10:59.229048Z\", \"duration\": \"0:01:29\", \"iteration\": \"6\", \"goal\": \"accuracy_max\", \"run_name\": \"SparseNormalizer, XGBoostClassifier\", \"run_properties\": \"<azureml.automl.runtime.shared.model_wrappers.SparseNormalizer object at 0x7f8d495ff438\", \"primary_metric\": 0.71886088, \"best_metric\": 0.76563959}, {\"run_id\": \"AutoML_0c1155d7-c4c9-4662-abe0-5a612296c3c0_5\", \"run_number\": 11, \"metric\": null, \"status\": \"Completed\", \"run_type\": \"azureml.scriptrun\", \"training_percent\": \"100\", \"start_time\": \"2021-02-14T11:11:12.54929Z\", \"end_time\": \"2021-02-14T11:12:20.322722Z\", \"created_time\": \"2021-02-14T11:10:59.292856Z\", \"created_time_dt\": \"2021-02-14T11:10:59.292856Z\", \"duration\": \"0:01:21\", \"iteration\": \"5\", \"goal\": \"accuracy_max\", \"run_name\": \"MaxAbsScaler, RandomForest\", \"run_properties\": \"copy=True\", \"primary_metric\": 0.73054919, \"best_metric\": 0.76563959}, {\"run_id\": \"AutoML_0c1155d7-c4c9-4662-abe0-5a612296c3c0_7\", \"run_number\": 12, \"metric\": null, \"status\": \"Completed\", \"run_type\": \"azureml.scriptrun\", \"training_percent\": \"100\", \"start_time\": \"2021-02-14T11:11:17.227765Z\", \"end_time\": \"2021-02-14T11:12:32.058706Z\", \"created_time\": \"2021-02-14T11:11:04.72346Z\", \"created_time_dt\": \"2021-02-14T11:11:04.72346Z\", \"duration\": \"0:01:27\", \"iteration\": \"7\", \"goal\": \"accuracy_max\", \"run_name\": \"SparseNormalizer, XGBoostClassifier\", \"run_properties\": \"<azureml.automl.runtime.shared.model_wrappers.SparseNormalizer object at 0x7fcb994520f0\", \"primary_metric\": 0.71102623, \"best_metric\": 0.76563959}, {\"run_id\": \"AutoML_0c1155d7-c4c9-4662-abe0-5a612296c3c0_8\", \"run_number\": 13, \"metric\": null, \"status\": \"Completed\", \"run_type\": \"azureml.scriptrun\", \"training_percent\": \"100\", \"start_time\": \"2021-02-14T11:12:31.364428Z\", \"end_time\": \"2021-02-14T11:13:43.174792Z\", \"created_time\": \"2021-02-14T11:12:19.761621Z\", \"created_time_dt\": \"2021-02-14T11:12:19.761621Z\", \"duration\": \"0:01:23\", \"iteration\": \"8\", \"goal\": \"accuracy_max\", \"run_name\": \"SparseNormalizer, XGBoostClassifier\", \"run_properties\": \"<azureml.automl.runtime.shared.model_wrappers.SparseNormalizer object at 0x7fe84507e1d0\", \"primary_metric\": 0.70453272, \"best_metric\": 0.76563959}, {\"run_id\": \"AutoML_0c1155d7-c4c9-4662-abe0-5a612296c3c0_9\", \"run_number\": 14, \"metric\": null, \"status\": \"Completed\", \"run_type\": \"azureml.scriptrun\", \"training_percent\": \"100\", \"start_time\": \"2021-02-14T11:12:36.950959Z\", \"end_time\": \"2021-02-14T11:13:44.663017Z\", \"created_time\": \"2021-02-14T11:12:24.225456Z\", \"created_time_dt\": \"2021-02-14T11:12:24.225456Z\", \"duration\": \"0:01:20\", \"iteration\": \"9\", \"goal\": \"accuracy_max\", \"run_name\": \"SparseNormalizer, XGBoostClassifier\", \"run_properties\": \"<azureml.automl.runtime.shared.model_wrappers.SparseNormalizer object at 0x7f36dc3bb4e0\", \"primary_metric\": 0.70971055, \"best_metric\": 0.76563959}, {\"run_id\": \"AutoML_0c1155d7-c4c9-4662-abe0-5a612296c3c0_10\", \"run_number\": 15, \"metric\": null, \"status\": \"Completed\", \"run_type\": \"azureml.scriptrun\", \"training_percent\": \"100\", \"start_time\": \"2021-02-14T11:12:42.061338Z\", \"end_time\": \"2021-02-14T11:13:46.488155Z\", \"created_time\": \"2021-02-14T11:12:31.085596Z\", \"created_time_dt\": \"2021-02-14T11:12:31.085596Z\", \"duration\": \"0:01:15\", \"iteration\": \"10\", \"goal\": \"accuracy_max\", \"run_name\": \"SparseNormalizer, XGBoostClassifier\", \"run_properties\": \"<azureml.automl.runtime.shared.model_wrappers.SparseNormalizer object at 0x7fe61d170550\", \"primary_metric\": 0.64846787, \"best_metric\": 0.76563959}, {\"run_id\": \"AutoML_0c1155d7-c4c9-4662-abe0-5a612296c3c0_11\", \"run_number\": 16, \"metric\": null, \"status\": \"Completed\", \"run_type\": \"azureml.scriptrun\", \"training_percent\": \"100\", \"start_time\": \"2021-02-14T11:12:47.854884Z\", \"end_time\": \"2021-02-14T11:13:55.234181Z\", \"created_time\": \"2021-02-14T11:12:35.70054Z\", \"created_time_dt\": \"2021-02-14T11:12:35.70054Z\", \"duration\": \"0:01:19\", \"iteration\": \"11\", \"goal\": \"accuracy_max\", \"run_name\": \"MaxAbsScaler, RandomForest\", \"run_properties\": \"copy=True\", \"primary_metric\": 0.76958662, \"best_metric\": 0.76958662}, {\"run_id\": \"AutoML_0c1155d7-c4c9-4662-abe0-5a612296c3c0_12\", \"run_number\": 17, \"metric\": null, \"status\": \"Completed\", \"run_type\": \"azureml.scriptrun\", \"training_percent\": \"100\", \"start_time\": \"2021-02-14T11:14:01.300231Z\", \"end_time\": \"2021-02-14T11:15:06.588976Z\", \"created_time\": \"2021-02-14T11:13:45.719174Z\", \"created_time_dt\": \"2021-02-14T11:13:45.719174Z\", \"duration\": \"0:01:20\", \"iteration\": \"12\", \"goal\": \"accuracy_max\", \"run_name\": \"StandardScalerWrapper, RandomForest\", \"run_properties\": \"<azureml.automl.runtime.shared.model_wrappers.StandardScalerWrapper object at 0x7efbf8a1ef98\", \"primary_metric\": 0.76046176, \"best_metric\": 0.76958662}, {\"run_id\": \"AutoML_0c1155d7-c4c9-4662-abe0-5a612296c3c0_13\", \"run_number\": 18, \"metric\": null, \"status\": \"Completed\", \"run_type\": \"azureml.scriptrun\", \"training_percent\": \"100\", \"start_time\": \"2021-02-14T11:14:05.660698Z\", \"end_time\": \"2021-02-14T11:15:12.546966Z\", \"created_time\": \"2021-02-14T11:13:52.580495Z\", \"created_time_dt\": \"2021-02-14T11:13:52.580495Z\", \"duration\": \"0:01:19\", \"iteration\": \"13\", \"goal\": \"accuracy_max\", \"run_name\": \"MaxAbsScaler, LightGBM\", \"run_properties\": \"copy=True\", \"primary_metric\": 0.74740684, \"best_metric\": 0.76958662}, {\"run_id\": \"AutoML_0c1155d7-c4c9-4662-abe0-5a612296c3c0_14\", \"run_number\": 19, \"metric\": null, \"status\": \"Completed\", \"run_type\": \"azureml.scriptrun\", \"training_percent\": \"100\", \"start_time\": \"2021-02-14T11:14:09.603237Z\", \"end_time\": \"2021-02-14T11:15:15.248627Z\", \"created_time\": \"2021-02-14T11:13:52.60564Z\", \"created_time_dt\": \"2021-02-14T11:13:52.60564Z\", \"duration\": \"0:01:22\", \"iteration\": \"14\", \"goal\": \"accuracy_max\", \"run_name\": \"MaxAbsScaler, LogisticRegression\", \"run_properties\": \"copy=True\", \"primary_metric\": 0.76826246, \"best_metric\": 0.76958662}, {\"run_id\": \"AutoML_0c1155d7-c4c9-4662-abe0-5a612296c3c0_15\", \"run_number\": 20, \"metric\": null, \"status\": \"Completed\", \"run_type\": \"azureml.scriptrun\", \"training_percent\": \"100\", \"start_time\": \"2021-02-14T11:14:14.123431Z\", \"end_time\": \"2021-02-14T11:15:17.494915Z\", \"created_time\": \"2021-02-14T11:14:01.099463Z\", \"created_time_dt\": \"2021-02-14T11:14:01.099463Z\", \"duration\": \"0:01:16\", \"iteration\": \"15\", \"goal\": \"accuracy_max\", \"run_name\": \"MaxAbsScaler, LightGBM\", \"run_properties\": \"copy=True\", \"primary_metric\": 0.75265258, \"best_metric\": 0.76958662}, {\"run_id\": \"AutoML_0c1155d7-c4c9-4662-abe0-5a612296c3c0_16\", \"run_number\": 21, \"metric\": null, \"status\": \"Completed\", \"run_type\": \"azureml.scriptrun\", \"training_percent\": \"100\", \"start_time\": \"2021-02-14T11:15:22.338503Z\", \"end_time\": \"2021-02-14T11:16:30.99898Z\", \"created_time\": \"2021-02-14T11:15:10.481093Z\", \"created_time_dt\": \"2021-02-14T11:15:10.481093Z\", \"duration\": \"0:01:20\", \"iteration\": \"16\", \"goal\": \"accuracy_max\", \"run_name\": \"StandardScalerWrapper, LogisticRegression\", \"run_properties\": \"<azureml.automl.runtime.shared.model_wrappers.StandardScalerWrapper object at 0x7ff0d2432400\", \"primary_metric\": 0.76174349, \"best_metric\": 0.76958662}, {\"run_id\": \"AutoML_0c1155d7-c4c9-4662-abe0-5a612296c3c0_17\", \"run_number\": 22, \"metric\": null, \"status\": \"Completed\", \"run_type\": \"azureml.scriptrun\", \"training_percent\": \"100\", \"start_time\": \"2021-02-14T11:15:29.192264Z\", \"end_time\": \"2021-02-14T11:16:34.767069Z\", \"created_time\": \"2021-02-14T11:15:17.028528Z\", \"created_time_dt\": \"2021-02-14T11:15:17.028528Z\", \"duration\": \"0:01:17\", \"iteration\": \"17\", \"goal\": \"accuracy_max\", \"run_name\": \"MaxAbsScaler, LightGBM\", \"run_properties\": \"copy=True\", \"primary_metric\": 0.76696376, \"best_metric\": 0.76958662}, {\"run_id\": \"AutoML_0c1155d7-c4c9-4662-abe0-5a612296c3c0_18\", \"run_number\": 23, \"metric\": null, \"status\": \"Completed\", \"run_type\": \"azureml.scriptrun\", \"training_percent\": \"100\", \"start_time\": \"2021-02-14T11:15:35.518243Z\", \"end_time\": \"2021-02-14T11:17:19.070861Z\", \"created_time\": \"2021-02-14T11:15:22.658241Z\", \"created_time_dt\": \"2021-02-14T11:15:22.658241Z\", \"duration\": \"0:01:56\", \"iteration\": \"18\", \"goal\": \"accuracy_max\", \"run_name\": \"SparseNormalizer, LightGBM\", \"run_properties\": \"<azureml.automl.runtime.shared.model_wrappers.SparseNormalizer object at 0x7f6c6dbf7e10\", \"primary_metric\": 0.67585095, \"best_metric\": 0.76958662}, {\"run_id\": \"AutoML_0c1155d7-c4c9-4662-abe0-5a612296c3c0_19\", \"run_number\": 24, \"metric\": null, \"status\": \"Completed\", \"run_type\": \"azureml.scriptrun\", \"training_percent\": \"100\", \"start_time\": \"2021-02-14T11:15:35.486271Z\", \"end_time\": \"2021-02-14T11:16:39.849077Z\", \"created_time\": \"2021-02-14T11:15:22.788639Z\", \"created_time_dt\": \"2021-02-14T11:15:22.788639Z\", \"duration\": \"0:01:17\", \"iteration\": \"19\", \"goal\": \"accuracy_max\", \"run_name\": \"MaxAbsScaler, LogisticRegression\", \"run_properties\": \"copy=True\", \"primary_metric\": 0.77087684, \"best_metric\": 0.77087684}, {\"run_id\": \"AutoML_0c1155d7-c4c9-4662-abe0-5a612296c3c0_20\", \"run_number\": 25, \"metric\": null, \"status\": \"Completed\", \"run_type\": \"azureml.scriptrun\", \"training_percent\": \"100\", \"start_time\": \"2021-02-14T11:16:44.068812Z\", \"end_time\": \"2021-02-14T11:17:49.485805Z\", \"created_time\": \"2021-02-14T11:16:34.154059Z\", \"created_time_dt\": \"2021-02-14T11:16:34.154059Z\", \"duration\": \"0:01:15\", \"iteration\": \"20\", \"goal\": \"accuracy_max\", \"run_name\": \"SparseNormalizer, LightGBM\", \"run_properties\": \"<azureml.automl.runtime.shared.model_wrappers.SparseNormalizer object at 0x7f04e12b9e10\", \"primary_metric\": 0.68105424, \"best_metric\": 0.77087684}, {\"run_id\": \"AutoML_0c1155d7-c4c9-4662-abe0-5a612296c3c0_21\", \"run_number\": 26, \"metric\": null, \"status\": \"Completed\", \"run_type\": \"azureml.scriptrun\", \"training_percent\": \"100\", \"start_time\": \"2021-02-14T11:16:50.429519Z\", \"end_time\": \"2021-02-14T11:18:01.801665Z\", \"created_time\": \"2021-02-14T11:16:38.355326Z\", \"created_time_dt\": \"2021-02-14T11:16:38.355326Z\", \"duration\": \"0:01:23\", \"iteration\": \"21\", \"goal\": \"accuracy_max\", \"run_name\": \"MaxAbsScaler, LightGBM\", \"run_properties\": \"copy=True\", \"primary_metric\": 0.7643324, \"best_metric\": 0.77087684}, {\"run_id\": \"AutoML_0c1155d7-c4c9-4662-abe0-5a612296c3c0_22\", \"run_number\": 27, \"metric\": null, \"status\": \"Completed\", \"run_type\": \"azureml.scriptrun\", \"training_percent\": \"100\", \"start_time\": \"2021-02-14T11:18:18.189377Z\", \"end_time\": \"2021-02-14T11:19:55.308796Z\", \"created_time\": \"2021-02-14T11:18:03.112653Z\", \"created_time_dt\": \"2021-02-14T11:18:03.112653Z\", \"duration\": \"0:01:52\", \"iteration\": \"22\", \"goal\": \"accuracy_max\", \"run_name\": \"VotingEnsemble\", \"run_properties\": \"classification_labels=None,\\n                              estimators=[('19',\\n                                           Pipeline(memory=None,\\n                                                    steps=[('maxabsscaler',\\n                                                            MaxAbsScaler(copy=True\", \"primary_metric\": 0.78521348, \"best_metric\": 0.78521348}, {\"run_id\": \"AutoML_0c1155d7-c4c9-4662-abe0-5a612296c3c0_23\", \"run_number\": 28, \"metric\": null, \"status\": \"Completed\", \"run_type\": \"azureml.scriptrun\", \"training_percent\": \"100\", \"start_time\": \"2021-02-14T11:18:18.664952Z\", \"end_time\": \"2021-02-14T11:19:54.858631Z\", \"created_time\": \"2021-02-14T11:18:03.2335Z\", \"created_time_dt\": \"2021-02-14T11:18:03.2335Z\", \"duration\": \"0:01:51\", \"iteration\": \"23\", \"goal\": \"accuracy_max\", \"run_name\": \"StackEnsemble\", \"run_properties\": \"base_learners=[('19',\\n                                        Pipeline(memory=None,\\n                                                 steps=[('maxabsscaler',\\n                                                         MaxAbsScaler(copy=True\", \"primary_metric\": 0.77218403, \"best_metric\": 0.78521348}], \"children_metrics\": {\"categories\": [0], \"series\": {\"weighted_accuracy\": [{\"categories\": [\"0\", \"1\", \"2\", \"3\", \"4\", \"5\", \"6\", \"7\", \"8\", \"9\", \"10\", \"11\", \"12\", \"13\", \"14\", \"15\", \"16\", \"17\", \"18\", \"19\", \"20\", \"21\", \"22\", \"23\"], \"mode\": \"markers\", \"name\": \"weighted_accuracy\", \"stepped\": false, \"type\": \"scatter\", \"data\": [0.7692349431628938, 0.7906595742312594, 0.7994265624164802, 0.799144430351648, 0.7599104838158898, 0.7267347189836186, 0.7611297202652938, 0.7579924122975384, 0.7464178984592997, 0.7559162796835173, 0.7347270245101865, 0.8091705540240491, 0.8075813944205571, 0.807476535700738, 0.8117980132034847, 0.804981866892515, 0.808013939868397, 0.8177202853261388, 0.7364737354087816, 0.8088124798832531, 0.7396015693582725, 0.7908689137073759, 0.8262473488380311, 0.8133595602010353]}, {\"categories\": [\"0\", \"1\", \"2\", \"3\", \"4\", \"5\", \"6\", \"7\", \"8\", \"9\", \"10\", \"11\", \"12\", \"13\", \"14\", \"15\", \"16\", \"17\", \"18\", \"19\", \"20\", \"21\", \"22\", \"23\"], \"mode\": \"lines\", \"name\": \"weighted_accuracy_max\", \"stepped\": true, \"type\": \"scatter\", \"data\": [0.7692349431628938, 0.7906595742312594, 0.7994265624164802, 0.7994265624164802, 0.7994265624164802, 0.7994265624164802, 0.7994265624164802, 0.7994265624164802, 0.7994265624164802, 0.7994265624164802, 0.7994265624164802, 0.8091705540240491, 0.8091705540240491, 0.8091705540240491, 0.8117980132034847, 0.8117980132034847, 0.8117980132034847, 0.8177202853261388, 0.8177202853261388, 0.8177202853261388, 0.8177202853261388, 0.8177202853261388, 0.8262473488380311, 0.8262473488380311]}], \"f1_score_weighted\": [{\"categories\": [\"0\", \"1\", \"2\", \"3\", \"4\", \"5\", \"6\", \"7\", \"8\", \"9\", \"10\", \"11\", \"12\", \"13\", \"14\", \"15\", \"16\", \"17\", \"18\", \"19\", \"20\", \"21\", \"22\", \"23\"], \"mode\": \"markers\", \"name\": \"f1_score_weighted\", \"stepped\": false, \"type\": \"scatter\", \"data\": [0.7417695202219394, 0.7642691151373454, 0.7420998536124342, 0.7217665787817806, 0.7593190298864629, 0.7359998684442766, 0.7084351228263952, 0.6983345257108604, 0.695684379849759, 0.6983875028795248, 0.57560877087662, 0.7617260347292736, 0.7480559879020745, 0.7263033197713257, 0.7581895994889724, 0.7372010234198063, 0.7502450159228491, 0.7528842329948295, 0.6527275702816946, 0.7640387902812307, 0.6575396867542984, 0.7620691022055206, 0.7766322988089153, 0.7634010244494404]}, {\"categories\": [\"0\", \"1\", \"2\", \"3\", \"4\", \"5\", \"6\", \"7\", \"8\", \"9\", \"10\", \"11\", \"12\", \"13\", \"14\", \"15\", \"16\", \"17\", \"18\", \"19\", \"20\", \"21\", \"22\", \"23\"], \"mode\": \"lines\", \"name\": \"f1_score_weighted_max\", \"stepped\": true, \"type\": \"scatter\", \"data\": [0.7417695202219394, 0.7642691151373454, 0.7642691151373454, 0.7642691151373454, 0.7642691151373454, 0.7642691151373454, 0.7642691151373454, 0.7642691151373454, 0.7642691151373454, 0.7642691151373454, 0.7642691151373454, 0.7642691151373454, 0.7642691151373454, 0.7642691151373454, 0.7642691151373454, 0.7642691151373454, 0.7642691151373454, 0.7642691151373454, 0.7642691151373454, 0.7642691151373454, 0.7642691151373454, 0.7642691151373454, 0.7766322988089153, 0.7766322988089153]}], \"accuracy\": [{\"categories\": [\"0\", \"1\", \"2\", \"3\", \"4\", \"5\", \"6\", \"7\", \"8\", \"9\", \"10\", \"11\", \"12\", \"13\", \"14\", \"15\", \"16\", \"17\", \"18\", \"19\", \"20\", \"21\", \"22\", \"23\"], \"mode\": \"markers\", \"name\": \"accuracy\", \"stepped\": false, \"type\": \"scatter\", \"data\": [0.7435277141159494, 0.7656395891690009, 0.7540022069433834, 0.7422884305237247, 0.7552754435107376, 0.7305491893727187, 0.718860877684407, 0.7110262286732875, 0.704532722179781, 0.7097105508870214, 0.6484678719972838, 0.7695866225277991, 0.7604617604617605, 0.7474068415244887, 0.7682624564977505, 0.752652576181988, 0.761743485272897, 0.7669637551990492, 0.6758509464391818, 0.7708768355827178, 0.6810542398777694, 0.7643323996265172, 0.7852134793311263, 0.7721840251252015]}, {\"categories\": [\"0\", \"1\", \"2\", \"3\", \"4\", \"5\", \"6\", \"7\", \"8\", \"9\", \"10\", \"11\", \"12\", \"13\", \"14\", \"15\", \"16\", \"17\", \"18\", \"19\", \"20\", \"21\", \"22\", \"23\"], \"mode\": \"lines\", \"name\": \"accuracy_max\", \"stepped\": true, \"type\": \"scatter\", \"data\": [0.7435277141159494, 0.7656395891690009, 0.7656395891690009, 0.7656395891690009, 0.7656395891690009, 0.7656395891690009, 0.7656395891690009, 0.7656395891690009, 0.7656395891690009, 0.7656395891690009, 0.7656395891690009, 0.7695866225277991, 0.7695866225277991, 0.7695866225277991, 0.7695866225277991, 0.7695866225277991, 0.7695866225277991, 0.7695866225277991, 0.7695866225277991, 0.7708768355827178, 0.7708768355827178, 0.7708768355827178, 0.7852134793311263, 0.7852134793311263]}], \"AUC_weighted\": [{\"categories\": [\"0\", \"1\", \"2\", \"3\", \"4\", \"5\", \"6\", \"7\", \"8\", \"9\", \"10\", \"11\", \"12\", \"13\", \"14\", \"15\", \"16\", \"17\", \"18\", \"19\", \"20\", \"21\", \"22\", \"23\"], \"mode\": \"markers\", \"name\": \"AUC_weighted\", \"stepped\": false, \"type\": \"scatter\", \"data\": [0.8062007971845107, 0.8324149004567104, 0.8161060821496238, 0.8153019719734462, 0.8353431769758167, 0.8050639155711512, 0.7660757757340357, 0.750158214052964, 0.7428467468941343, 0.7540367688557454, 0.6971397124948764, 0.827144242937029, 0.8246839776898487, 0.8293667821011453, 0.8101436454486082, 0.8298858118028015, 0.8002750297806184, 0.8310934715238215, 0.6970107504920684, 0.8189220988817668, 0.7209537327860944, 0.8201993458688863, 0.8378940028926378, 0.8398297818997232]}, {\"categories\": [\"0\", \"1\", \"2\", \"3\", \"4\", \"5\", \"6\", \"7\", \"8\", \"9\", \"10\", \"11\", \"12\", \"13\", \"14\", \"15\", \"16\", \"17\", \"18\", \"19\", \"20\", \"21\", \"22\", \"23\"], \"mode\": \"lines\", \"name\": \"AUC_weighted_max\", \"stepped\": true, \"type\": \"scatter\", \"data\": [0.8062007971845107, 0.8324149004567104, 0.8324149004567104, 0.8324149004567104, 0.8353431769758167, 0.8353431769758167, 0.8353431769758167, 0.8353431769758167, 0.8353431769758167, 0.8353431769758167, 0.8353431769758167, 0.8353431769758167, 0.8353431769758167, 0.8353431769758167, 0.8353431769758167, 0.8353431769758167, 0.8353431769758167, 0.8353431769758167, 0.8353431769758167, 0.8353431769758167, 0.8353431769758167, 0.8353431769758167, 0.8378940028926378, 0.8398297818997232]}], \"precision_score_weighted\": [{\"categories\": [\"0\", \"1\", \"2\", \"3\", \"4\", \"5\", \"6\", \"7\", \"8\", \"9\", \"10\", \"11\", \"12\", \"13\", \"14\", \"15\", \"16\", \"17\", \"18\", \"19\", \"20\", \"21\", \"22\", \"23\"], \"mode\": \"markers\", \"name\": \"precision_score_weighted\", \"stepped\": false, \"type\": \"scatter\", \"data\": [0.7422913189086859, 0.7669645066030578, 0.7489180707810804, 0.7402092421772359, 0.771179634404567, 0.757873478956727, 0.7115161895977773, 0.7024304162613891, 0.6966268353120794, 0.7032056139869061, 0.5918911276357762, 0.765625831229066, 0.757084640367632, 0.7462394955403763, 0.7686820578442385, 0.7495722445531372, 0.7616663422329294, 0.7656161873542571, 0.6619696053850144, 0.770199489263854, 0.6725532849157394, 0.7626436842205784, 0.7831352662228024, 0.7717074144078222]}, {\"categories\": [\"0\", \"1\", \"2\", \"3\", \"4\", \"5\", \"6\", \"7\", \"8\", \"9\", \"10\", \"11\", \"12\", \"13\", \"14\", \"15\", \"16\", \"17\", \"18\", \"19\", \"20\", \"21\", \"22\", \"23\"], \"mode\": \"lines\", \"name\": \"precision_score_weighted_max\", \"stepped\": true, \"type\": \"scatter\", \"data\": [0.7422913189086859, 0.7669645066030578, 0.7669645066030578, 0.7669645066030578, 0.771179634404567, 0.771179634404567, 0.771179634404567, 0.771179634404567, 0.771179634404567, 0.771179634404567, 0.771179634404567, 0.771179634404567, 0.771179634404567, 0.771179634404567, 0.771179634404567, 0.771179634404567, 0.771179634404567, 0.771179634404567, 0.771179634404567, 0.771179634404567, 0.771179634404567, 0.771179634404567, 0.7831352662228024, 0.7831352662228024]}], \"AUC_macro\": [{\"categories\": [\"0\", \"1\", \"2\", \"3\", \"4\", \"5\", \"6\", \"7\", \"8\", \"9\", \"10\", \"11\", \"12\", \"13\", \"14\", \"15\", \"16\", \"17\", \"18\", \"19\", \"20\", \"21\", \"22\", \"23\"], \"mode\": \"markers\", \"name\": \"AUC_macro\", \"stepped\": false, \"type\": \"scatter\", \"data\": [0.8062007971845107, 0.8324149004567104, 0.8161060821496238, 0.8153019719734462, 0.8353431769758167, 0.805063915571151, 0.7660757757340357, 0.750158214052964, 0.7428467468941343, 0.7540367688557454, 0.6971397124948764, 0.827144242937029, 0.8246839776898487, 0.8293667821011453, 0.8101436454486082, 0.8298858118028015, 0.8002750297806184, 0.8310934715238215, 0.6970107504920684, 0.8189220988817668, 0.7209537327860944, 0.8201993458688863, 0.8378940028926378, 0.8398297818997232]}, {\"categories\": [\"0\", \"1\", \"2\", \"3\", \"4\", \"5\", \"6\", \"7\", \"8\", \"9\", \"10\", \"11\", \"12\", \"13\", \"14\", \"15\", \"16\", \"17\", \"18\", \"19\", \"20\", \"21\", \"22\", \"23\"], \"mode\": \"lines\", \"name\": \"AUC_macro_max\", \"stepped\": true, \"type\": \"scatter\", \"data\": [0.8062007971845107, 0.8324149004567104, 0.8324149004567104, 0.8324149004567104, 0.8353431769758167, 0.8353431769758167, 0.8353431769758167, 0.8353431769758167, 0.8353431769758167, 0.8353431769758167, 0.8353431769758167, 0.8353431769758167, 0.8353431769758167, 0.8353431769758167, 0.8353431769758167, 0.8353431769758167, 0.8353431769758167, 0.8353431769758167, 0.8353431769758167, 0.8353431769758167, 0.8353431769758167, 0.8353431769758167, 0.8378940028926378, 0.8398297818997232]}], \"f1_score_macro\": [{\"categories\": [\"0\", \"1\", \"2\", \"3\", \"4\", \"5\", \"6\", \"7\", \"8\", \"9\", \"10\", \"11\", \"12\", \"13\", \"14\", \"15\", \"16\", \"17\", \"18\", \"19\", \"20\", \"21\", \"22\", \"23\"], \"mode\": \"markers\", \"name\": \"f1_score_macro\", \"stepped\": false, \"type\": \"scatter\", \"data\": [0.7110567297826602, 0.7345738794182582, 0.7039361303312688, 0.6778523825202735, 0.7359145591569246, 0.7155958385912663, 0.6695423199560285, 0.6557501423243692, 0.6549949367736009, 0.655278488435776, 0.4955795022259055, 0.727673799253318, 0.7102362503107541, 0.6773310328489138, 0.7222107295619971, 0.6947975033204765, 0.7119955929120995, 0.7125375610339998, 0.5974676748715888, 0.7302600173894771, 0.604278003131429, 0.7319018577756312, 0.7429113900436672, 0.728578535557596]}, {\"categories\": [\"0\", \"1\", \"2\", \"3\", \"4\", \"5\", \"6\", \"7\", \"8\", \"9\", \"10\", \"11\", \"12\", \"13\", \"14\", \"15\", \"16\", \"17\", \"18\", \"19\", \"20\", \"21\", \"22\", \"23\"], \"mode\": \"lines\", \"name\": \"f1_score_macro_max\", \"stepped\": true, \"type\": \"scatter\", \"data\": [0.7110567297826602, 0.7345738794182582, 0.7345738794182582, 0.7345738794182582, 0.7359145591569246, 0.7359145591569246, 0.7359145591569246, 0.7359145591569246, 0.7359145591569246, 0.7359145591569246, 0.7359145591569246, 0.7359145591569246, 0.7359145591569246, 0.7359145591569246, 0.7359145591569246, 0.7359145591569246, 0.7359145591569246, 0.7359145591569246, 0.7359145591569246, 0.7359145591569246, 0.7359145591569246, 0.7359145591569246, 0.7429113900436672, 0.7429113900436672]}], \"recall_score_weighted\": [{\"categories\": [\"0\", \"1\", \"2\", \"3\", \"4\", \"5\", \"6\", \"7\", \"8\", \"9\", \"10\", \"11\", \"12\", \"13\", \"14\", \"15\", \"16\", \"17\", \"18\", \"19\", \"20\", \"21\", \"22\", \"23\"], \"mode\": \"markers\", \"name\": \"recall_score_weighted\", \"stepped\": false, \"type\": \"scatter\", \"data\": [0.7435277141159494, 0.7656395891690009, 0.7540022069433834, 0.7422884305237247, 0.7552754435107376, 0.7305491893727187, 0.718860877684407, 0.7110262286732875, 0.704532722179781, 0.7097105508870214, 0.6484678719972838, 0.7695866225277991, 0.7604617604617605, 0.7474068415244887, 0.7682624564977505, 0.752652576181988, 0.761743485272897, 0.7669637551990492, 0.6758509464391818, 0.7708768355827178, 0.6810542398777694, 0.7643323996265172, 0.7852134793311263, 0.7721840251252015]}, {\"categories\": [\"0\", \"1\", \"2\", \"3\", \"4\", \"5\", \"6\", \"7\", \"8\", \"9\", \"10\", \"11\", \"12\", \"13\", \"14\", \"15\", \"16\", \"17\", \"18\", \"19\", \"20\", \"21\", \"22\", \"23\"], \"mode\": \"lines\", \"name\": \"recall_score_weighted_max\", \"stepped\": true, \"type\": \"scatter\", \"data\": [0.7435277141159494, 0.7656395891690009, 0.7656395891690009, 0.7656395891690009, 0.7656395891690009, 0.7656395891690009, 0.7656395891690009, 0.7656395891690009, 0.7656395891690009, 0.7656395891690009, 0.7656395891690009, 0.7695866225277991, 0.7695866225277991, 0.7695866225277991, 0.7695866225277991, 0.7695866225277991, 0.7695866225277991, 0.7695866225277991, 0.7695866225277991, 0.7708768355827178, 0.7708768355827178, 0.7708768355827178, 0.7852134793311263, 0.7852134793311263]}], \"AUC_micro\": [{\"categories\": [\"0\", \"1\", \"2\", \"3\", \"4\", \"5\", \"6\", \"7\", \"8\", \"9\", \"10\", \"11\", \"12\", \"13\", \"14\", \"15\", \"16\", \"17\", \"18\", \"19\", \"20\", \"21\", \"22\", \"23\"], \"mode\": \"markers\", \"name\": \"AUC_micro\", \"stepped\": false, \"type\": \"scatter\", \"data\": [0.8308010717565983, 0.8534052480172104, 0.835815877333126, 0.8297397422751308, 0.8431465310155823, 0.8053526659227763, 0.8008986208502378, 0.7864944562603305, 0.7854547487083925, 0.7937494877675227, 0.7397627788399069, 0.8474016362518288, 0.8436761312133921, 0.8378389156126989, 0.8374076928706267, 0.8450741217641561, 0.8327949948772609, 0.8449662884293421, 0.7466221721588038, 0.844203353751879, 0.7562143674877538, 0.8441016313617761, 0.8564310803274837, 0.8548775605958907]}, {\"categories\": [\"0\", \"1\", \"2\", \"3\", \"4\", \"5\", \"6\", \"7\", \"8\", \"9\", \"10\", \"11\", \"12\", \"13\", \"14\", \"15\", \"16\", \"17\", \"18\", \"19\", \"20\", \"21\", \"22\", \"23\"], \"mode\": \"lines\", \"name\": \"AUC_micro_max\", \"stepped\": true, \"type\": \"scatter\", \"data\": [0.8308010717565983, 0.8534052480172104, 0.8534052480172104, 0.8534052480172104, 0.8534052480172104, 0.8534052480172104, 0.8534052480172104, 0.8534052480172104, 0.8534052480172104, 0.8534052480172104, 0.8534052480172104, 0.8534052480172104, 0.8534052480172104, 0.8534052480172104, 0.8534052480172104, 0.8534052480172104, 0.8534052480172104, 0.8534052480172104, 0.8534052480172104, 0.8534052480172104, 0.8534052480172104, 0.8534052480172104, 0.8564310803274837, 0.8564310803274837]}], \"precision_score_macro\": [{\"categories\": [\"0\", \"1\", \"2\", \"3\", \"4\", \"5\", \"6\", \"7\", \"8\", \"9\", \"10\", \"11\", \"12\", \"13\", \"14\", \"15\", \"16\", \"17\", \"18\", \"19\", \"20\", \"21\", \"22\", \"23\"], \"mode\": \"markers\", \"name\": \"precision_score_macro\", \"stepped\": false, \"type\": \"scatter\", \"data\": [0.7143475727069413, 0.7406688342517045, 0.734667941473093, 0.7318931953636135, 0.7329432637047326, 0.715717154321083, 0.6888042471539706, 0.6796406069772238, 0.6702000007192261, 0.6778766492187798, 0.5497013636174286, 0.7506781729813311, 0.7461817863536276, 0.7357082751165097, 0.7555216454114074, 0.7400679466871797, 0.7487561953776559, 0.756642841461207, 0.634682775104627, 0.7535725540680784, 0.6461330859356795, 0.7378952818660292, 0.772069750443044, 0.758785440143798]}, {\"categories\": [\"0\", \"1\", \"2\", \"3\", \"4\", \"5\", \"6\", \"7\", \"8\", \"9\", \"10\", \"11\", \"12\", \"13\", \"14\", \"15\", \"16\", \"17\", \"18\", \"19\", \"20\", \"21\", \"22\", \"23\"], \"mode\": \"lines\", \"name\": \"precision_score_macro_max\", \"stepped\": true, \"type\": \"scatter\", \"data\": [0.7143475727069413, 0.7406688342517045, 0.7406688342517045, 0.7406688342517045, 0.7406688342517045, 0.7406688342517045, 0.7406688342517045, 0.7406688342517045, 0.7406688342517045, 0.7406688342517045, 0.7406688342517045, 0.7506781729813311, 0.7506781729813311, 0.7506781729813311, 0.7555216454114074, 0.7555216454114074, 0.7555216454114074, 0.756642841461207, 0.756642841461207, 0.756642841461207, 0.756642841461207, 0.756642841461207, 0.772069750443044, 0.772069750443044]}], \"norm_macro_recall\": [{\"categories\": [\"0\", \"1\", \"2\", \"3\", \"4\", \"5\", \"6\", \"7\", \"8\", \"9\", \"10\", \"11\", \"12\", \"13\", \"14\", \"15\", \"16\", \"17\", \"18\", \"19\", \"20\", \"21\", \"22\", \"23\"], \"mode\": \"markers\", \"name\": \"norm_macro_recall\", \"stepped\": false, \"type\": \"scatter\", \"data\": [0.420946354852849, 0.4667111240616652, 0.3913753314908021, 0.34148498177361825, 0.49625756988970793, 0.46787619465358804, 0.33191911840507854, 0.3030262927030176, 0.30223876786824594, 0.3027961546839499, 0.08972431522364399, 0.43709884483880873, 0.40023251693620143, 0.33889906693779404, 0.4263174121899708, 0.36881125626039857, 0.40508255718942754, 0.4024034115790872, 0.19706308345217516, 0.44448743590255885, 0.2160033203873586, 0.4583933411282306, 0.4638465404056332, 0.4377664566649845]}, {\"categories\": [\"0\", \"1\", \"2\", \"3\", \"4\", \"5\", \"6\", \"7\", \"8\", \"9\", \"10\", \"11\", \"12\", \"13\", \"14\", \"15\", \"16\", \"17\", \"18\", \"19\", \"20\", \"21\", \"22\", \"23\"], \"mode\": \"lines\", \"name\": \"norm_macro_recall_max\", \"stepped\": true, \"type\": \"scatter\", \"data\": [0.420946354852849, 0.4667111240616652, 0.4667111240616652, 0.4667111240616652, 0.49625756988970793, 0.49625756988970793, 0.49625756988970793, 0.49625756988970793, 0.49625756988970793, 0.49625756988970793, 0.49625756988970793, 0.49625756988970793, 0.49625756988970793, 0.49625756988970793, 0.49625756988970793, 0.49625756988970793, 0.49625756988970793, 0.49625756988970793, 0.49625756988970793, 0.49625756988970793, 0.49625756988970793, 0.49625756988970793, 0.49625756988970793, 0.49625756988970793]}], \"matthews_correlation\": [{\"categories\": [\"0\", \"1\", \"2\", \"3\", \"4\", \"5\", \"6\", \"7\", \"8\", \"9\", \"10\", \"11\", \"12\", \"13\", \"14\", \"15\", \"16\", \"17\", \"18\", \"19\", \"20\", \"21\", \"22\", \"23\"], \"mode\": \"markers\", \"name\": \"matthews_correlation\", \"stepped\": false, \"type\": \"scatter\", \"data\": [0.4246377532584085, 0.4736437134256053, 0.4282496503365822, 0.3976912768267814, 0.48063632277567836, 0.4490809187140711, 0.3536736003429463, 0.3296689207197475, 0.32056869029928875, 0.3278983102226679, 0.10804772018981312, 0.46807729554838884, 0.44377640400315277, 0.3992591464532271, 0.4663102387993311, 0.42035140006271804, 0.44845078179020614, 0.4543161724782239, 0.2298762760885052, 0.4743821105328502, 0.2497417707013987, 0.4668655284172586, 0.502228375402165, 0.4755167261224612]}, {\"categories\": [\"0\", \"1\", \"2\", \"3\", \"4\", \"5\", \"6\", \"7\", \"8\", \"9\", \"10\", \"11\", \"12\", \"13\", \"14\", \"15\", \"16\", \"17\", \"18\", \"19\", \"20\", \"21\", \"22\", \"23\"], \"mode\": \"lines\", \"name\": \"matthews_correlation_max\", \"stepped\": true, \"type\": \"scatter\", \"data\": [0.4246377532584085, 0.4736437134256053, 0.4736437134256053, 0.4736437134256053, 0.48063632277567836, 0.48063632277567836, 0.48063632277567836, 0.48063632277567836, 0.48063632277567836, 0.48063632277567836, 0.48063632277567836, 0.48063632277567836, 0.48063632277567836, 0.48063632277567836, 0.48063632277567836, 0.48063632277567836, 0.48063632277567836, 0.48063632277567836, 0.48063632277567836, 0.48063632277567836, 0.48063632277567836, 0.48063632277567836, 0.502228375402165, 0.502228375402165]}], \"precision_score_micro\": [{\"categories\": [\"0\", \"1\", \"2\", \"3\", \"4\", \"5\", \"6\", \"7\", \"8\", \"9\", \"10\", \"11\", \"12\", \"13\", \"14\", \"15\", \"16\", \"17\", \"18\", \"19\", \"20\", \"21\", \"22\", \"23\"], \"mode\": \"markers\", \"name\": \"precision_score_micro\", \"stepped\": false, \"type\": \"scatter\", \"data\": [0.7435277141159494, 0.7656395891690009, 0.7540022069433834, 0.7422884305237247, 0.7552754435107376, 0.7305491893727187, 0.718860877684407, 0.7110262286732875, 0.704532722179781, 0.7097105508870214, 0.6484678719972838, 0.7695866225277991, 0.7604617604617605, 0.7474068415244887, 0.7682624564977505, 0.752652576181988, 0.761743485272897, 0.7669637551990492, 0.6758509464391818, 0.7708768355827178, 0.6810542398777694, 0.7643323996265172, 0.7852134793311263, 0.7721840251252015]}, {\"categories\": [\"0\", \"1\", \"2\", \"3\", \"4\", \"5\", \"6\", \"7\", \"8\", \"9\", \"10\", \"11\", \"12\", \"13\", \"14\", \"15\", \"16\", \"17\", \"18\", \"19\", \"20\", \"21\", \"22\", \"23\"], \"mode\": \"lines\", \"name\": \"precision_score_micro_max\", \"stepped\": true, \"type\": \"scatter\", \"data\": [0.7435277141159494, 0.7656395891690009, 0.7656395891690009, 0.7656395891690009, 0.7656395891690009, 0.7656395891690009, 0.7656395891690009, 0.7656395891690009, 0.7656395891690009, 0.7656395891690009, 0.7656395891690009, 0.7695866225277991, 0.7695866225277991, 0.7695866225277991, 0.7695866225277991, 0.7695866225277991, 0.7695866225277991, 0.7695866225277991, 0.7695866225277991, 0.7708768355827178, 0.7708768355827178, 0.7708768355827178, 0.7852134793311263, 0.7852134793311263]}], \"average_precision_score_macro\": [{\"categories\": [\"0\", \"1\", \"2\", \"3\", \"4\", \"5\", \"6\", \"7\", \"8\", \"9\", \"10\", \"11\", \"12\", \"13\", \"14\", \"15\", \"16\", \"17\", \"18\", \"19\", \"20\", \"21\", \"22\", \"23\"], \"mode\": \"markers\", \"name\": \"average_precision_score_macro\", \"stepped\": false, \"type\": \"scatter\", \"data\": [0.7848257443237637, 0.8102231075585553, 0.7932175463960702, 0.7926196281727043, 0.8075718954126019, 0.7765856701984631, 0.7543822265332896, 0.7317267872368305, 0.7242857680378055, 0.7418012484920434, 0.657615829876303, 0.808417784491802, 0.8041521958858056, 0.8055460327710318, 0.7934162194797885, 0.8077254240399853, 0.7870831777783748, 0.8091934371674412, 0.6729409421472916, 0.8037082479235746, 0.6923235969893108, 0.7986978330210202, 0.8208269993617707, 0.821068342561931]}, {\"categories\": [\"0\", \"1\", \"2\", \"3\", \"4\", \"5\", \"6\", \"7\", \"8\", \"9\", \"10\", \"11\", \"12\", \"13\", \"14\", \"15\", \"16\", \"17\", \"18\", \"19\", \"20\", \"21\", \"22\", \"23\"], \"mode\": \"lines\", \"name\": \"average_precision_score_macro_max\", \"stepped\": true, \"type\": \"scatter\", \"data\": [0.7848257443237637, 0.8102231075585553, 0.8102231075585553, 0.8102231075585553, 0.8102231075585553, 0.8102231075585553, 0.8102231075585553, 0.8102231075585553, 0.8102231075585553, 0.8102231075585553, 0.8102231075585553, 0.8102231075585553, 0.8102231075585553, 0.8102231075585553, 0.8102231075585553, 0.8102231075585553, 0.8102231075585553, 0.8102231075585553, 0.8102231075585553, 0.8102231075585553, 0.8102231075585553, 0.8102231075585553, 0.8208269993617707, 0.821068342561931]}], \"average_precision_score_micro\": [{\"categories\": [\"0\", \"1\", \"2\", \"3\", \"4\", \"5\", \"6\", \"7\", \"8\", \"9\", \"10\", \"11\", \"12\", \"13\", \"14\", \"15\", \"16\", \"17\", \"18\", \"19\", \"20\", \"21\", \"22\", \"23\"], \"mode\": \"markers\", \"name\": \"average_precision_score_micro\", \"stepped\": false, \"type\": \"scatter\", \"data\": [0.8327853787564277, 0.8532463783590838, 0.8373032777128481, 0.8319831534049851, 0.8437422129151759, 0.8078894493536559, 0.8035091285138671, 0.7841739193583097, 0.7746861330663863, 0.7871516893929058, 0.727791529370266, 0.8474189177375017, 0.8455742409339241, 0.8442146391925178, 0.8308620400268787, 0.847088076380756, 0.8250725740192616, 0.8466780027274581, 0.7429785054709046, 0.8383151045385008, 0.7546868734325454, 0.845195688613488, 0.8570599521513665, 0.8552679028249088]}, {\"categories\": [\"0\", \"1\", \"2\", \"3\", \"4\", \"5\", \"6\", \"7\", \"8\", \"9\", \"10\", \"11\", \"12\", \"13\", \"14\", \"15\", \"16\", \"17\", \"18\", \"19\", \"20\", \"21\", \"22\", \"23\"], \"mode\": \"lines\", \"name\": \"average_precision_score_micro_max\", \"stepped\": true, \"type\": \"scatter\", \"data\": [0.8327853787564277, 0.8532463783590838, 0.8532463783590838, 0.8532463783590838, 0.8532463783590838, 0.8532463783590838, 0.8532463783590838, 0.8532463783590838, 0.8532463783590838, 0.8532463783590838, 0.8532463783590838, 0.8532463783590838, 0.8532463783590838, 0.8532463783590838, 0.8532463783590838, 0.8532463783590838, 0.8532463783590838, 0.8532463783590838, 0.8532463783590838, 0.8532463783590838, 0.8532463783590838, 0.8532463783590838, 0.8570599521513665, 0.8570599521513665]}], \"balanced_accuracy\": [{\"categories\": [\"0\", \"1\", \"2\", \"3\", \"4\", \"5\", \"6\", \"7\", \"8\", \"9\", \"10\", \"11\", \"12\", \"13\", \"14\", \"15\", \"16\", \"17\", \"18\", \"19\", \"20\", \"21\", \"22\", \"23\"], \"mode\": \"markers\", \"name\": \"balanced_accuracy\", \"stepped\": false, \"type\": \"scatter\", \"data\": [0.7104731774264245, 0.7333555620308326, 0.6956876657454011, 0.6707424908868092, 0.7481287849448539, 0.733938097326794, 0.6659595592025392, 0.6515131463515089, 0.6511193839341229, 0.6513980773419749, 0.5438204909451553, 0.7185494224194043, 0.7001162584681008, 0.669449533468897, 0.7131587060949854, 0.6844056281301993, 0.7025412785947138, 0.7012017057895437, 0.5985315417260876, 0.7222437179512794, 0.6080016601936793, 0.7291966705641153, 0.7319232702028167, 0.7188832283324922]}, {\"categories\": [\"0\", \"1\", \"2\", \"3\", \"4\", \"5\", \"6\", \"7\", \"8\", \"9\", \"10\", \"11\", \"12\", \"13\", \"14\", \"15\", \"16\", \"17\", \"18\", \"19\", \"20\", \"21\", \"22\", \"23\"], \"mode\": \"lines\", \"name\": \"balanced_accuracy_max\", \"stepped\": true, \"type\": \"scatter\", \"data\": [0.7104731774264245, 0.7333555620308326, 0.7333555620308326, 0.7333555620308326, 0.7481287849448539, 0.7481287849448539, 0.7481287849448539, 0.7481287849448539, 0.7481287849448539, 0.7481287849448539, 0.7481287849448539, 0.7481287849448539, 0.7481287849448539, 0.7481287849448539, 0.7481287849448539, 0.7481287849448539, 0.7481287849448539, 0.7481287849448539, 0.7481287849448539, 0.7481287849448539, 0.7481287849448539, 0.7481287849448539, 0.7481287849448539, 0.7481287849448539]}], \"log_loss\": [{\"categories\": [\"0\", \"1\", \"2\", \"3\", \"4\", \"5\", \"6\", \"7\", \"8\", \"9\", \"10\", \"11\", \"12\", \"13\", \"14\", \"15\", \"16\", \"17\", \"18\", \"19\", \"20\", \"21\", \"22\", \"23\"], \"mode\": \"markers\", \"name\": \"log_loss\", \"stepped\": false, \"type\": \"scatter\", \"data\": [0.62702930996628, 0.48040462908306597, 0.5042999511008699, 0.5185904715107659, 0.5010848048831161, 0.565181886579331, 0.5429842329358994, 0.554407651698379, 0.5815167335513968, 0.5531128514500263, 0.6129305394703799, 0.4862867334396565, 0.4958384826868275, 0.5170969785506008, 0.502026115821482, 0.509182188517032, 0.5066609402091881, 0.5043325523195585, 0.5913597754508959, 0.48987092286676936, 0.5817832494521593, 0.4923962220483351, 0.4852227008388537, 0.49037692294487734]}, {\"categories\": [\"0\", \"1\", \"2\", \"3\", \"4\", \"5\", \"6\", \"7\", \"8\", \"9\", \"10\", \"11\", \"12\", \"13\", \"14\", \"15\", \"16\", \"17\", \"18\", \"19\", \"20\", \"21\", \"22\", \"23\"], \"mode\": \"lines\", \"name\": \"log_loss_min\", \"stepped\": true, \"type\": \"scatter\", \"data\": [0.62702930996628, 0.48040462908306597, 0.48040462908306597, 0.48040462908306597, 0.48040462908306597, 0.48040462908306597, 0.48040462908306597, 0.48040462908306597, 0.48040462908306597, 0.48040462908306597, 0.48040462908306597, 0.48040462908306597, 0.48040462908306597, 0.48040462908306597, 0.48040462908306597, 0.48040462908306597, 0.48040462908306597, 0.48040462908306597, 0.48040462908306597, 0.48040462908306597, 0.48040462908306597, 0.48040462908306597, 0.48040462908306597, 0.48040462908306597]}], \"f1_score_micro\": [{\"categories\": [\"0\", \"1\", \"2\", \"3\", \"4\", \"5\", \"6\", \"7\", \"8\", \"9\", \"10\", \"11\", \"12\", \"13\", \"14\", \"15\", \"16\", \"17\", \"18\", \"19\", \"20\", \"21\", \"22\", \"23\"], \"mode\": \"markers\", \"name\": \"f1_score_micro\", \"stepped\": false, \"type\": \"scatter\", \"data\": [0.7435277141159494, 0.7656395891690009, 0.7540022069433834, 0.7422884305237247, 0.7552754435107376, 0.7305491893727187, 0.718860877684407, 0.7110262286732875, 0.704532722179781, 0.7097105508870214, 0.6484678719972838, 0.769586622527799, 0.7604617604617605, 0.7474068415244886, 0.7682624564977505, 0.752652576181988, 0.761743485272897, 0.7669637551990492, 0.6758509464391818, 0.7708768355827178, 0.6810542398777694, 0.7643323996265172, 0.7852134793311263, 0.7721840251252015]}, {\"categories\": [\"0\", \"1\", \"2\", \"3\", \"4\", \"5\", \"6\", \"7\", \"8\", \"9\", \"10\", \"11\", \"12\", \"13\", \"14\", \"15\", \"16\", \"17\", \"18\", \"19\", \"20\", \"21\", \"22\", \"23\"], \"mode\": \"lines\", \"name\": \"f1_score_micro_max\", \"stepped\": true, \"type\": \"scatter\", \"data\": [0.7435277141159494, 0.7656395891690009, 0.7656395891690009, 0.7656395891690009, 0.7656395891690009, 0.7656395891690009, 0.7656395891690009, 0.7656395891690009, 0.7656395891690009, 0.7656395891690009, 0.7656395891690009, 0.769586622527799, 0.769586622527799, 0.769586622527799, 0.769586622527799, 0.769586622527799, 0.769586622527799, 0.769586622527799, 0.769586622527799, 0.7708768355827178, 0.7708768355827178, 0.7708768355827178, 0.7852134793311263, 0.7852134793311263]}], \"recall_score_micro\": [{\"categories\": [\"0\", \"1\", \"2\", \"3\", \"4\", \"5\", \"6\", \"7\", \"8\", \"9\", \"10\", \"11\", \"12\", \"13\", \"14\", \"15\", \"16\", \"17\", \"18\", \"19\", \"20\", \"21\", \"22\", \"23\"], \"mode\": \"markers\", \"name\": \"recall_score_micro\", \"stepped\": false, \"type\": \"scatter\", \"data\": [0.7435277141159494, 0.7656395891690009, 0.7540022069433834, 0.7422884305237247, 0.7552754435107376, 0.7305491893727187, 0.718860877684407, 0.7110262286732875, 0.704532722179781, 0.7097105508870214, 0.6484678719972838, 0.7695866225277991, 0.7604617604617605, 0.7474068415244887, 0.7682624564977505, 0.752652576181988, 0.761743485272897, 0.7669637551990492, 0.6758509464391818, 0.7708768355827178, 0.6810542398777694, 0.7643323996265172, 0.7852134793311263, 0.7721840251252015]}, {\"categories\": [\"0\", \"1\", \"2\", \"3\", \"4\", \"5\", \"6\", \"7\", \"8\", \"9\", \"10\", \"11\", \"12\", \"13\", \"14\", \"15\", \"16\", \"17\", \"18\", \"19\", \"20\", \"21\", \"22\", \"23\"], \"mode\": \"lines\", \"name\": \"recall_score_micro_max\", \"stepped\": true, \"type\": \"scatter\", \"data\": [0.7435277141159494, 0.7656395891690009, 0.7656395891690009, 0.7656395891690009, 0.7656395891690009, 0.7656395891690009, 0.7656395891690009, 0.7656395891690009, 0.7656395891690009, 0.7656395891690009, 0.7656395891690009, 0.7695866225277991, 0.7695866225277991, 0.7695866225277991, 0.7695866225277991, 0.7695866225277991, 0.7695866225277991, 0.7695866225277991, 0.7695866225277991, 0.7708768355827178, 0.7708768355827178, 0.7708768355827178, 0.7852134793311263, 0.7852134793311263]}], \"recall_score_macro\": [{\"categories\": [\"0\", \"1\", \"2\", \"3\", \"4\", \"5\", \"6\", \"7\", \"8\", \"9\", \"10\", \"11\", \"12\", \"13\", \"14\", \"15\", \"16\", \"17\", \"18\", \"19\", \"20\", \"21\", \"22\", \"23\"], \"mode\": \"markers\", \"name\": \"recall_score_macro\", \"stepped\": false, \"type\": \"scatter\", \"data\": [0.7104731774264245, 0.7333555620308326, 0.6956876657454011, 0.6707424908868092, 0.7481287849448539, 0.733938097326794, 0.6659595592025392, 0.6515131463515089, 0.6511193839341229, 0.6513980773419749, 0.5438204909451553, 0.7185494224194043, 0.7001162584681008, 0.669449533468897, 0.7131587060949854, 0.6844056281301993, 0.7025412785947138, 0.7012017057895437, 0.5985315417260876, 0.7222437179512794, 0.6080016601936793, 0.7291966705641153, 0.7319232702028167, 0.7188832283324922]}, {\"categories\": [\"0\", \"1\", \"2\", \"3\", \"4\", \"5\", \"6\", \"7\", \"8\", \"9\", \"10\", \"11\", \"12\", \"13\", \"14\", \"15\", \"16\", \"17\", \"18\", \"19\", \"20\", \"21\", \"22\", \"23\"], \"mode\": \"lines\", \"name\": \"recall_score_macro_max\", \"stepped\": true, \"type\": \"scatter\", \"data\": [0.7104731774264245, 0.7333555620308326, 0.7333555620308326, 0.7333555620308326, 0.7481287849448539, 0.7481287849448539, 0.7481287849448539, 0.7481287849448539, 0.7481287849448539, 0.7481287849448539, 0.7481287849448539, 0.7481287849448539, 0.7481287849448539, 0.7481287849448539, 0.7481287849448539, 0.7481287849448539, 0.7481287849448539, 0.7481287849448539, 0.7481287849448539, 0.7481287849448539, 0.7481287849448539, 0.7481287849448539, 0.7481287849448539, 0.7481287849448539]}], \"average_precision_score_weighted\": [{\"categories\": [\"0\", \"1\", \"2\", \"3\", \"4\", \"5\", \"6\", \"7\", \"8\", \"9\", \"10\", \"11\", \"12\", \"13\", \"14\", \"15\", \"16\", \"17\", \"18\", \"19\", \"20\", \"21\", \"22\", \"23\"], \"mode\": \"markers\", \"name\": \"average_precision_score_weighted\", \"stepped\": false, \"type\": \"scatter\", \"data\": [0.8183229088104544, 0.8410481501195661, 0.8248955438183708, 0.8245515680913348, 0.8405777191123196, 0.812641920401752, 0.7880625636552105, 0.767257478177501, 0.7570791904749641, 0.7744749800399326, 0.7026049990417864, 0.8369033849715771, 0.835741009329612, 0.8390655714193421, 0.8224185646918638, 0.8389536203467177, 0.8146498600446517, 0.8400345221471313, 0.7171240765757025, 0.8316019631203234, 0.7354874110593839, 0.8314150782977627, 0.8487892206382048, 0.8493587362825415]}, {\"categories\": [\"0\", \"1\", \"2\", \"3\", \"4\", \"5\", \"6\", \"7\", \"8\", \"9\", \"10\", \"11\", \"12\", \"13\", \"14\", \"15\", \"16\", \"17\", \"18\", \"19\", \"20\", \"21\", \"22\", \"23\"], \"mode\": \"lines\", \"name\": \"average_precision_score_weighted_max\", \"stepped\": true, \"type\": \"scatter\", \"data\": [0.8183229088104544, 0.8410481501195661, 0.8410481501195661, 0.8410481501195661, 0.8410481501195661, 0.8410481501195661, 0.8410481501195661, 0.8410481501195661, 0.8410481501195661, 0.8410481501195661, 0.8410481501195661, 0.8410481501195661, 0.8410481501195661, 0.8410481501195661, 0.8410481501195661, 0.8410481501195661, 0.8410481501195661, 0.8410481501195661, 0.8410481501195661, 0.8410481501195661, 0.8410481501195661, 0.8410481501195661, 0.8487892206382048, 0.8493587362825415]}]}, \"metricName\": null, \"primaryMetricName\": \"accuracy\", \"showLegend\": false}, \"run_metrics\": [{\"name\": \"experiment_status\", \"run_id\": \"AutoML_0c1155d7-c4c9-4662-abe0-5a612296c3c0\", \"categories\": [0, 1, 2, 3, 4, 5, 6, 7, 8, 9, 10, 11, 12, 13], \"series\": [{\"data\": [\"DatasetEvaluation\", \"FeaturesGeneration\", \"DatasetFeaturization\", \"DatasetFeaturizationCompleted\", \"DatasetCrossValidationSplit\", \"ModelSelection\", \"BestRunExplainModel\", \"ModelExplanationDataSetSetup\", \"PickSurrogateModel\", \"EngineeredFeatureExplanations\", \"EngineeredFeatureExplanations\", \"RawFeaturesExplanations\", \"RawFeaturesExplanations\", \"BestRunExplainModel\"]}]}, {\"name\": \"experiment_status_description\", \"run_id\": \"AutoML_0c1155d7-c4c9-4662-abe0-5a612296c3c0\", \"categories\": [0, 1, 2, 3, 4, 5, 6, 7, 8, 9, 10, 11, 12, 13], \"series\": [{\"data\": [\"Gathering dataset statistics.\", \"Generating features for the dataset.\", \"Beginning to fit featurizers and featurize the dataset.\", \"Completed fit featurizers and featurizing the dataset.\", \"Generating individually featurized CV splits.\", \"Beginning model selection.\", \"Best run model explanations started\", \"Model explanations data setup completed\", \"Choosing LightGBM as the surrogate model for explanations\", \"Computation of engineered features started\", \"Computation of engineered features completed\", \"Computation of raw features started\", \"Computation of raw features completed\", \"Best run model explanations completed\"]}]}, {\"name\": \"f1_score_macro\", \"run_id\": \"AutoML_0c1155d7-c4c9-4662-abe0-5a612296c3c0\", \"categories\": [0], \"series\": [{\"data\": [0.7429113900436672]}]}, {\"name\": \"recall_score_micro\", \"run_id\": \"AutoML_0c1155d7-c4c9-4662-abe0-5a612296c3c0\", \"categories\": [0], \"series\": [{\"data\": [0.7852134793311263]}]}, {\"name\": \"precision_score_weighted\", \"run_id\": \"AutoML_0c1155d7-c4c9-4662-abe0-5a612296c3c0\", \"categories\": [0], \"series\": [{\"data\": [0.7831352662228024]}]}, {\"name\": \"AUC_macro\", \"run_id\": \"AutoML_0c1155d7-c4c9-4662-abe0-5a612296c3c0\", \"categories\": [0], \"series\": [{\"data\": [0.8378940028926378]}]}, {\"name\": \"average_precision_score_micro\", \"run_id\": \"AutoML_0c1155d7-c4c9-4662-abe0-5a612296c3c0\", \"categories\": [0], \"series\": [{\"data\": [0.8570599521513665]}]}, {\"name\": \"accuracy\", \"run_id\": \"AutoML_0c1155d7-c4c9-4662-abe0-5a612296c3c0\", \"categories\": [0], \"series\": [{\"data\": [0.7852134793311263]}]}, {\"name\": \"average_precision_score_weighted\", \"run_id\": \"AutoML_0c1155d7-c4c9-4662-abe0-5a612296c3c0\", \"categories\": [0], \"series\": [{\"data\": [0.8487892206382048]}]}, {\"name\": \"average_precision_score_macro\", \"run_id\": \"AutoML_0c1155d7-c4c9-4662-abe0-5a612296c3c0\", \"categories\": [0], \"series\": [{\"data\": [0.8208269993617707]}]}, {\"name\": \"AUC_weighted\", \"run_id\": \"AutoML_0c1155d7-c4c9-4662-abe0-5a612296c3c0\", \"categories\": [0], \"series\": [{\"data\": [0.8378940028926378]}]}, {\"name\": \"f1_score_micro\", \"run_id\": \"AutoML_0c1155d7-c4c9-4662-abe0-5a612296c3c0\", \"categories\": [0], \"series\": [{\"data\": [0.7852134793311263]}]}, {\"name\": \"weighted_accuracy\", \"run_id\": \"AutoML_0c1155d7-c4c9-4662-abe0-5a612296c3c0\", \"categories\": [0], \"series\": [{\"data\": [0.8262473488380311]}]}, {\"name\": \"precision_score_micro\", \"run_id\": \"AutoML_0c1155d7-c4c9-4662-abe0-5a612296c3c0\", \"categories\": [0], \"series\": [{\"data\": [0.7852134793311263]}]}, {\"name\": \"recall_score_macro\", \"run_id\": \"AutoML_0c1155d7-c4c9-4662-abe0-5a612296c3c0\", \"categories\": [0], \"series\": [{\"data\": [0.7319232702028167]}]}, {\"name\": \"f1_score_weighted\", \"run_id\": \"AutoML_0c1155d7-c4c9-4662-abe0-5a612296c3c0\", \"categories\": [0], \"series\": [{\"data\": [0.7766322988089153]}]}, {\"name\": \"recall_score_weighted\", \"run_id\": \"AutoML_0c1155d7-c4c9-4662-abe0-5a612296c3c0\", \"categories\": [0], \"series\": [{\"data\": [0.7852134793311263]}]}, {\"name\": \"balanced_accuracy\", \"run_id\": \"AutoML_0c1155d7-c4c9-4662-abe0-5a612296c3c0\", \"categories\": [0], \"series\": [{\"data\": [0.7319232702028167]}]}, {\"name\": \"log_loss\", \"run_id\": \"AutoML_0c1155d7-c4c9-4662-abe0-5a612296c3c0\", \"categories\": [0], \"series\": [{\"data\": [0.4852227008388537]}]}, {\"name\": \"AUC_micro\", \"run_id\": \"AutoML_0c1155d7-c4c9-4662-abe0-5a612296c3c0\", \"categories\": [0], \"series\": [{\"data\": [0.8564310803274837]}]}, {\"name\": \"matthews_correlation\", \"run_id\": \"AutoML_0c1155d7-c4c9-4662-abe0-5a612296c3c0\", \"categories\": [0], \"series\": [{\"data\": [0.502228375402165]}]}, {\"name\": \"precision_score_macro\", \"run_id\": \"AutoML_0c1155d7-c4c9-4662-abe0-5a612296c3c0\", \"categories\": [0], \"series\": [{\"data\": [0.772069750443044]}]}, {\"name\": \"norm_macro_recall\", \"run_id\": \"AutoML_0c1155d7-c4c9-4662-abe0-5a612296c3c0\", \"categories\": [0], \"series\": [{\"data\": [0.4638465404056332]}]}], \"run_logs\": \"\\nRun is completed.\", \"graph\": {}, \"widget_settings\": {\"childWidgetDisplay\": \"popup\", \"send_telemetry\": false, \"log_level\": \"INFO\", \"sdk_version\": \"1.20.0\"}, \"loading\": false}"
     },
     "metadata": {},
     "output_type": "display_data"
    }
   ],
   "source": [
    "RunDetails(remote_run).show()"
   ]
  },
  {
   "cell_type": "code",
   "execution_count": 11,
   "metadata": {},
   "outputs": [
    {
     "name": "stdout",
     "output_type": "stream",
     "text": [
      "\n",
      "\n",
      "****************************************************************************************************\n",
      "DATA GUARDRAILS: \n",
      "\n",
      "TYPE:         Class balancing detection\n",
      "STATUS:       PASSED\n",
      "DESCRIPTION:  Your inputs were analyzed, and all classes are balanced in your training data.\n",
      "              Learn more about imbalanced data: https://aka.ms/AutomatedMLImbalancedData\n",
      "\n",
      "****************************************************************************************************\n",
      "\n",
      "TYPE:         Missing feature values imputation\n",
      "STATUS:       PASSED\n",
      "DESCRIPTION:  No feature missing values were detected in the training data.\n",
      "              Learn more about missing value imputation: https://aka.ms/AutomatedMLFeaturization\n",
      "\n",
      "****************************************************************************************************\n",
      "\n",
      "TYPE:         High cardinality feature detection\n",
      "STATUS:       PASSED\n",
      "DESCRIPTION:  Your inputs were analyzed, and no high cardinality features were detected.\n",
      "              Learn more about high cardinality feature handling: https://aka.ms/AutomatedMLFeaturization\n",
      "\n",
      "****************************************************************************************************\n",
      "\n",
      "****************************************************************************************************\n",
      "ITERATION: The iteration being evaluated.\n",
      "PIPELINE: A summary description of the pipeline being evaluated.\n",
      "DURATION: Time taken for the current iteration.\n",
      "METRIC: The result of computing score on the fitted pipeline.\n",
      "BEST: The best observed score thus far.\n",
      "****************************************************************************************************\n",
      "\n",
      " ITERATION   PIPELINE                                       DURATION      METRIC      BEST\n",
      "         0   MaxAbsScaler LightGBM                          0:01:05       0.7435    0.7435\n",
      "         1   MaxAbsScaler XGBoostClassifier                 0:01:14       0.7656    0.7656\n",
      "         2   MaxAbsScaler RandomForest                      0:01:10       0.7540    0.7656\n",
      "         3   MaxAbsScaler RandomForest                      0:01:07       0.7423    0.7656\n",
      "         4   MaxAbsScaler RandomForest                      0:01:13       0.7553    0.7656\n",
      "         5   MaxAbsScaler RandomForest                      0:01:08       0.7305    0.7656\n",
      "         6   SparseNormalizer XGBoostClassifier             0:01:18       0.7189    0.7656\n",
      "         7   SparseNormalizer XGBoostClassifier             0:01:15       0.7110    0.7656\n",
      "        10   SparseNormalizer XGBoostClassifier             0:01:04       0.6485    0.7656\n",
      "        11   MaxAbsScaler RandomForest                      0:01:07       0.7696    0.7696\n",
      "         8   SparseNormalizer XGBoostClassifier             0:01:12       0.7045    0.7696\n",
      "         9   SparseNormalizer XGBoostClassifier             0:01:08       0.7097    0.7696\n",
      "        12   StandardScalerWrapper RandomForest             0:01:05       0.7605    0.7696\n",
      "        13   MaxAbsScaler LightGBM                          0:01:07       0.7474    0.7696\n",
      "        14   MaxAbsScaler LogisticRegression                0:01:06       0.7683    0.7696\n",
      "        15   MaxAbsScaler LightGBM                          0:01:03       0.7527    0.7696\n",
      "        16   StandardScalerWrapper LogisticRegression       0:01:09       0.7617    0.7696\n",
      "        17   MaxAbsScaler LightGBM                          0:01:06       0.7670    0.7696\n",
      "        18   SparseNormalizer LightGBM                      0:01:44       0.6759    0.7696\n",
      "        19   MaxAbsScaler LogisticRegression                0:01:04       0.7709    0.7709\n",
      "        20   SparseNormalizer LightGBM                      0:01:05       0.6811    0.7709\n",
      "        21   MaxAbsScaler LightGBM                          0:01:11       0.7643    0.7709\n",
      "        22    VotingEnsemble                                0:01:37       0.7852    0.7852\n",
      "        23    StackEnsemble                                 0:01:36       0.7722    0.7852\n"
     ]
    },
    {
     "data": {
      "text/plain": [
       "{'runId': 'AutoML_0c1155d7-c4c9-4662-abe0-5a612296c3c0',\n",
       " 'target': 'notebook138879',\n",
       " 'status': 'Completed',\n",
       " 'startTimeUtc': '2021-02-14T11:04:58.448241Z',\n",
       " 'endTimeUtc': '2021-02-14T11:20:03.389021Z',\n",
       " 'properties': {'num_iterations': '24',\n",
       "  'training_type': 'TrainFull',\n",
       "  'acquisition_function': 'EI',\n",
       "  'primary_metric': 'accuracy',\n",
       "  'train_split': '0',\n",
       "  'acquisition_parameter': '0',\n",
       "  'num_cross_validation': '5',\n",
       "  'target': 'notebook138879',\n",
       "  'AMLSettingsJsonString': '{\"path\":null,\"name\":\"automl\",\"subscription_id\":\"610d6e37-4747-4a20-80eb-3aad70a55f43\",\"resource_group\":\"aml-quickstarts-138879\",\"workspace_name\":\"quick-starts-ws-138879\",\"region\":\"southcentralus\",\"compute_target\":\"notebook138879\",\"spark_service\":null,\"azure_service\":\"remote\",\"many_models\":false,\"pipeline_fetch_max_batch_size\":1,\"iterations\":24,\"primary_metric\":\"accuracy\",\"task_type\":\"classification\",\"data_script\":null,\"validation_size\":0.0,\"n_cross_validations\":5,\"y_min\":null,\"y_max\":null,\"num_classes\":null,\"featurization\":\"auto\",\"_ignore_package_version_incompatibilities\":false,\"is_timeseries\":false,\"max_cores_per_iteration\":1,\"max_concurrent_iterations\":4,\"iteration_timeout_minutes\":null,\"mem_in_mb\":null,\"enforce_time_on_windows\":false,\"experiment_timeout_minutes\":30,\"experiment_exit_score\":null,\"whitelist_models\":null,\"blacklist_algos\":[\"TensorFlowLinearClassifier\",\"TensorFlowDNN\"],\"supported_models\":[\"SGD\",\"LinearSVM\",\"RandomForest\",\"LogisticRegression\",\"MultinomialNaiveBayes\",\"KNN\",\"ExtremeRandomTrees\",\"AveragedPerceptronClassifier\",\"TensorFlowLinearClassifier\",\"LightGBM\",\"XGBoostClassifier\",\"TensorFlowDNN\",\"GradientBoosting\",\"SVM\",\"BernoulliNaiveBayes\",\"DecisionTree\"],\"auto_blacklist\":true,\"blacklist_samples_reached\":false,\"exclude_nan_labels\":true,\"verbosity\":20,\"_debug_log\":\"azureml_automl.log\",\"show_warnings\":false,\"model_explainability\":true,\"service_url\":null,\"sdk_url\":null,\"sdk_packages\":null,\"enable_onnx_compatible_models\":false,\"enable_split_onnx_featurizer_estimator_models\":false,\"vm_type\":\"STANDARD_DS3_V2\",\"telemetry_verbosity\":20,\"send_telemetry\":true,\"enable_dnn\":false,\"scenario\":\"SDK-1.13.0\",\"environment_label\":null,\"force_text_dnn\":false,\"enable_feature_sweeping\":true,\"enable_early_stopping\":true,\"early_stopping_n_iters\":10,\"metrics\":null,\"enable_ensembling\":true,\"enable_stack_ensembling\":true,\"ensemble_iterations\":15,\"enable_tf\":false,\"enable_subsampling\":false,\"subsample_seed\":null,\"enable_nimbusml\":false,\"enable_streaming\":false,\"force_streaming\":false,\"track_child_runs\":true,\"allowed_private_models\":[],\"label_column_name\":\"Outcome\",\"weight_column_name\":null,\"cv_split_column_names\":null,\"enable_local_managed\":false,\"_local_managed_run_id\":null,\"cost_mode\":1,\"lag_length\":0,\"metric_operation\":\"maximize\",\"preprocess\":true}',\n",
       "  'DataPrepJsonString': '{\\\\\"training_data\\\\\": \\\\\"{\\\\\\\\\\\\\"blocks\\\\\\\\\\\\\": [{\\\\\\\\\\\\\"id\\\\\\\\\\\\\": \\\\\\\\\\\\\"081984ef-900c-460f-9150-8ae517c12665\\\\\\\\\\\\\", \\\\\\\\\\\\\"type\\\\\\\\\\\\\": \\\\\\\\\\\\\"Microsoft.DPrep.GetDatastoreFilesBlock\\\\\\\\\\\\\", \\\\\\\\\\\\\"arguments\\\\\\\\\\\\\": {\\\\\\\\\\\\\"datastores\\\\\\\\\\\\\": [{\\\\\\\\\\\\\"datastoreName\\\\\\\\\\\\\": \\\\\\\\\\\\\"workspaceblobstore\\\\\\\\\\\\\", \\\\\\\\\\\\\"path\\\\\\\\\\\\\": \\\\\\\\\\\\\"UI/02-14-2021_105647_UTC/diabetes.csv\\\\\\\\\\\\\", \\\\\\\\\\\\\"resourceGroup\\\\\\\\\\\\\": \\\\\\\\\\\\\"aml-quickstarts-138879\\\\\\\\\\\\\", \\\\\\\\\\\\\"subscription\\\\\\\\\\\\\": \\\\\\\\\\\\\"610d6e37-4747-4a20-80eb-3aad70a55f43\\\\\\\\\\\\\", \\\\\\\\\\\\\"workspaceName\\\\\\\\\\\\\": \\\\\\\\\\\\\"quick-starts-ws-138879\\\\\\\\\\\\\"}]}, \\\\\\\\\\\\\"localData\\\\\\\\\\\\\": {}, \\\\\\\\\\\\\"isEnabled\\\\\\\\\\\\\": true, \\\\\\\\\\\\\"name\\\\\\\\\\\\\": null, \\\\\\\\\\\\\"annotation\\\\\\\\\\\\\": null}, {\\\\\\\\\\\\\"id\\\\\\\\\\\\\": \\\\\\\\\\\\\"dc127ae0-6d19-4688-a01c-601e33aa4ab5\\\\\\\\\\\\\", \\\\\\\\\\\\\"type\\\\\\\\\\\\\": \\\\\\\\\\\\\"Microsoft.DPrep.ParseDelimitedBlock\\\\\\\\\\\\\", \\\\\\\\\\\\\"arguments\\\\\\\\\\\\\": {\\\\\\\\\\\\\"columnHeadersMode\\\\\\\\\\\\\": 3, \\\\\\\\\\\\\"fileEncoding\\\\\\\\\\\\\": 0, \\\\\\\\\\\\\"handleQuotedLineBreaks\\\\\\\\\\\\\": false, \\\\\\\\\\\\\"preview\\\\\\\\\\\\\": false, \\\\\\\\\\\\\"separator\\\\\\\\\\\\\": \\\\\\\\\\\\\",\\\\\\\\\\\\\", \\\\\\\\\\\\\"skipRows\\\\\\\\\\\\\": 0, \\\\\\\\\\\\\"skipRowsMode\\\\\\\\\\\\\": 0}, \\\\\\\\\\\\\"localData\\\\\\\\\\\\\": {}, \\\\\\\\\\\\\"isEnabled\\\\\\\\\\\\\": true, \\\\\\\\\\\\\"name\\\\\\\\\\\\\": null, \\\\\\\\\\\\\"annotation\\\\\\\\\\\\\": null}, {\\\\\\\\\\\\\"id\\\\\\\\\\\\\": \\\\\\\\\\\\\"e1dac204-3e6b-49d2-a98a-1c474ec09d20\\\\\\\\\\\\\", \\\\\\\\\\\\\"type\\\\\\\\\\\\\": \\\\\\\\\\\\\"Microsoft.DPrep.DropColumnsBlock\\\\\\\\\\\\\", \\\\\\\\\\\\\"arguments\\\\\\\\\\\\\": {\\\\\\\\\\\\\"columns\\\\\\\\\\\\\": {\\\\\\\\\\\\\"type\\\\\\\\\\\\\": 0, \\\\\\\\\\\\\"details\\\\\\\\\\\\\": {\\\\\\\\\\\\\"selectedColumns\\\\\\\\\\\\\": [\\\\\\\\\\\\\"Path\\\\\\\\\\\\\"]}}}, \\\\\\\\\\\\\"localData\\\\\\\\\\\\\": {}, \\\\\\\\\\\\\"isEnabled\\\\\\\\\\\\\": true, \\\\\\\\\\\\\"name\\\\\\\\\\\\\": null, \\\\\\\\\\\\\"annotation\\\\\\\\\\\\\": null}, {\\\\\\\\\\\\\"id\\\\\\\\\\\\\": \\\\\\\\\\\\\"3b84e1de-a54a-4405-add0-e910cb94e669\\\\\\\\\\\\\", \\\\\\\\\\\\\"type\\\\\\\\\\\\\": \\\\\\\\\\\\\"Microsoft.DPrep.SetColumnTypesBlock\\\\\\\\\\\\\", \\\\\\\\\\\\\"arguments\\\\\\\\\\\\\": {\\\\\\\\\\\\\"columnConversion\\\\\\\\\\\\\": [{\\\\\\\\\\\\\"column\\\\\\\\\\\\\": {\\\\\\\\\\\\\"type\\\\\\\\\\\\\": 2, \\\\\\\\\\\\\"details\\\\\\\\\\\\\": {\\\\\\\\\\\\\"selectedColumn\\\\\\\\\\\\\": \\\\\\\\\\\\\"Path\\\\\\\\\\\\\"}}, \\\\\\\\\\\\\"typeProperty\\\\\\\\\\\\\": 0}, {\\\\\\\\\\\\\"column\\\\\\\\\\\\\": {\\\\\\\\\\\\\"type\\\\\\\\\\\\\": 2, \\\\\\\\\\\\\"details\\\\\\\\\\\\\": {\\\\\\\\\\\\\"selectedColumn\\\\\\\\\\\\\": \\\\\\\\\\\\\"Pregnancies\\\\\\\\\\\\\"}}, \\\\\\\\\\\\\"typeProperty\\\\\\\\\\\\\": 2}, {\\\\\\\\\\\\\"column\\\\\\\\\\\\\": {\\\\\\\\\\\\\"type\\\\\\\\\\\\\": 2, \\\\\\\\\\\\\"details\\\\\\\\\\\\\": {\\\\\\\\\\\\\"selectedColumn\\\\\\\\\\\\\": \\\\\\\\\\\\\"Glucose\\\\\\\\\\\\\"}}, \\\\\\\\\\\\\"typeProperty\\\\\\\\\\\\\": 2}, {\\\\\\\\\\\\\"column\\\\\\\\\\\\\": {\\\\\\\\\\\\\"type\\\\\\\\\\\\\": 2, \\\\\\\\\\\\\"details\\\\\\\\\\\\\": {\\\\\\\\\\\\\"selectedColumn\\\\\\\\\\\\\": \\\\\\\\\\\\\"BloodPressure\\\\\\\\\\\\\"}}, \\\\\\\\\\\\\"typeProperty\\\\\\\\\\\\\": 2}, {\\\\\\\\\\\\\"column\\\\\\\\\\\\\": {\\\\\\\\\\\\\"type\\\\\\\\\\\\\": 2, \\\\\\\\\\\\\"details\\\\\\\\\\\\\": {\\\\\\\\\\\\\"selectedColumn\\\\\\\\\\\\\": \\\\\\\\\\\\\"SkinThickness\\\\\\\\\\\\\"}}, \\\\\\\\\\\\\"typeProperty\\\\\\\\\\\\\": 2}, {\\\\\\\\\\\\\"column\\\\\\\\\\\\\": {\\\\\\\\\\\\\"type\\\\\\\\\\\\\": 2, \\\\\\\\\\\\\"details\\\\\\\\\\\\\": {\\\\\\\\\\\\\"selectedColumn\\\\\\\\\\\\\": \\\\\\\\\\\\\"Insulin\\\\\\\\\\\\\"}}, \\\\\\\\\\\\\"typeProperty\\\\\\\\\\\\\": 2}, {\\\\\\\\\\\\\"column\\\\\\\\\\\\\": {\\\\\\\\\\\\\"type\\\\\\\\\\\\\": 2, \\\\\\\\\\\\\"details\\\\\\\\\\\\\": {\\\\\\\\\\\\\"selectedColumn\\\\\\\\\\\\\": \\\\\\\\\\\\\"BMI\\\\\\\\\\\\\"}}, \\\\\\\\\\\\\"typeProperty\\\\\\\\\\\\\": 3}, {\\\\\\\\\\\\\"column\\\\\\\\\\\\\": {\\\\\\\\\\\\\"type\\\\\\\\\\\\\": 2, \\\\\\\\\\\\\"details\\\\\\\\\\\\\": {\\\\\\\\\\\\\"selectedColumn\\\\\\\\\\\\\": \\\\\\\\\\\\\"DiabetesPedigreeFunction\\\\\\\\\\\\\"}}, \\\\\\\\\\\\\"typeProperty\\\\\\\\\\\\\": 3}, {\\\\\\\\\\\\\"column\\\\\\\\\\\\\": {\\\\\\\\\\\\\"type\\\\\\\\\\\\\": 2, \\\\\\\\\\\\\"details\\\\\\\\\\\\\": {\\\\\\\\\\\\\"selectedColumn\\\\\\\\\\\\\": \\\\\\\\\\\\\"Age\\\\\\\\\\\\\"}}, \\\\\\\\\\\\\"typeProperty\\\\\\\\\\\\\": 2}, {\\\\\\\\\\\\\"column\\\\\\\\\\\\\": {\\\\\\\\\\\\\"type\\\\\\\\\\\\\": 2, \\\\\\\\\\\\\"details\\\\\\\\\\\\\": {\\\\\\\\\\\\\"selectedColumn\\\\\\\\\\\\\": \\\\\\\\\\\\\"Outcome\\\\\\\\\\\\\"}}, \\\\\\\\\\\\\"typeProperty\\\\\\\\\\\\\": 2}]}, \\\\\\\\\\\\\"localData\\\\\\\\\\\\\": {}, \\\\\\\\\\\\\"isEnabled\\\\\\\\\\\\\": true, \\\\\\\\\\\\\"name\\\\\\\\\\\\\": null, \\\\\\\\\\\\\"annotation\\\\\\\\\\\\\": null}], \\\\\\\\\\\\\"inspectors\\\\\\\\\\\\\": [], \\\\\\\\\\\\\"meta\\\\\\\\\\\\\": {\\\\\\\\\\\\\"savedDatasetId\\\\\\\\\\\\\": \\\\\\\\\\\\\"2405eb8a-8e3c-4b76-8bf5-e37c9290f597\\\\\\\\\\\\\", \\\\\\\\\\\\\"datasetType\\\\\\\\\\\\\": \\\\\\\\\\\\\"tabular\\\\\\\\\\\\\", \\\\\\\\\\\\\"subscriptionId\\\\\\\\\\\\\": \\\\\\\\\\\\\"610d6e37-4747-4a20-80eb-3aad70a55f43\\\\\\\\\\\\\", \\\\\\\\\\\\\"workspaceId\\\\\\\\\\\\\": \\\\\\\\\\\\\"7496996b-164b-47f2-b860-71e73a53e44d\\\\\\\\\\\\\", \\\\\\\\\\\\\"workspaceLocation\\\\\\\\\\\\\": \\\\\\\\\\\\\"southcentralus\\\\\\\\\\\\\"}}\\\\\", \\\\\"activities\\\\\": 0}',\n",
       "  'EnableSubsampling': 'False',\n",
       "  'runTemplate': 'AutoML',\n",
       "  'azureml.runsource': 'automl',\n",
       "  'display_task_type': 'classification',\n",
       "  'dependencies_versions': '{\"azureml-widgets\": \"1.20.0\", \"azureml-train\": \"1.20.0\", \"azureml-train-restclients-hyperdrive\": \"1.20.0\", \"azureml-train-core\": \"1.20.0\", \"azureml-train-automl\": \"1.20.0\", \"azureml-train-automl-runtime\": \"1.20.0\", \"azureml-train-automl-client\": \"1.20.0\", \"azureml-tensorboard\": \"1.20.0\", \"azureml-telemetry\": \"1.20.0\", \"azureml-sdk\": \"1.20.0\", \"azureml-samples\": \"0+unknown\", \"azureml-pipeline\": \"1.20.0\", \"azureml-pipeline-steps\": \"1.20.0\", \"azureml-pipeline-core\": \"1.20.0\", \"azureml-opendatasets\": \"1.20.0\", \"azureml-model-management-sdk\": \"1.0.1b6.post1\", \"azureml-mlflow\": \"1.20.0.post1\", \"azureml-interpret\": \"1.20.0\", \"azureml-explain-model\": \"1.20.0\", \"azureml-defaults\": \"1.20.0\", \"azureml-dataset-runtime\": \"1.20.0\", \"azureml-dataprep\": \"2.7.3\", \"azureml-dataprep-rslex\": \"1.5.0\", \"azureml-dataprep-native\": \"27.0.0\", \"azureml-datadrift\": \"1.20.0\", \"azureml-core\": \"1.20.0\", \"azureml-contrib-services\": \"1.20.0\", \"azureml-contrib-server\": \"1.20.0\", \"azureml-contrib-reinforcementlearning\": \"1.20.0\", \"azureml-contrib-pipeline-steps\": \"1.20.0\", \"azureml-contrib-notebook\": \"1.20.0\", \"azureml-contrib-interpret\": \"1.20.0\", \"azureml-contrib-gbdt\": \"1.20.0\", \"azureml-contrib-fairness\": \"1.20.0\", \"azureml-contrib-dataset\": \"1.20.0\", \"azureml-cli-common\": \"1.20.0\", \"azureml-automl-runtime\": \"1.20.0\", \"azureml-automl-core\": \"1.20.0\", \"azureml-accel-models\": \"1.20.0\"}',\n",
       "  '_aml_system_scenario_identification': 'Remote.Parent',\n",
       "  'ClientType': 'SDK',\n",
       "  'environment_cpu_name': 'AzureML-AutoML',\n",
       "  'environment_cpu_label': 'prod',\n",
       "  'environment_gpu_name': 'AzureML-AutoML-GPU',\n",
       "  'environment_gpu_label': 'prod',\n",
       "  'root_attribution': 'automl',\n",
       "  'attribution': 'AutoML',\n",
       "  'Orchestrator': 'AutoML',\n",
       "  'CancelUri': 'https://southcentralus.experiments.azureml.net/jasmine/v1.0/subscriptions/610d6e37-4747-4a20-80eb-3aad70a55f43/resourceGroups/aml-quickstarts-138879/providers/Microsoft.MachineLearningServices/workspaces/quick-starts-ws-138879/experimentids/a811a5e1-b8fb-46be-936b-a6195c9daf58/cancel/AutoML_0c1155d7-c4c9-4662-abe0-5a612296c3c0',\n",
       "  'ClientSdkVersion': '1.21.0',\n",
       "  'snapshotId': '00000000-0000-0000-0000-000000000000',\n",
       "  'SetupRunId': 'AutoML_0c1155d7-c4c9-4662-abe0-5a612296c3c0_setup',\n",
       "  'SetupRunContainerId': 'dcid.AutoML_0c1155d7-c4c9-4662-abe0-5a612296c3c0_setup',\n",
       "  'FeaturizationRunJsonPath': 'featurizer_container.json',\n",
       "  'FeaturizationRunId': 'AutoML_0c1155d7-c4c9-4662-abe0-5a612296c3c0_featurize',\n",
       "  'ProblemInfoJsonString': '{\"dataset_num_categorical\": 0, \"is_sparse\": true, \"subsampling\": false, \"dataset_classes\": 2, \"dataset_features\": 24, \"dataset_samples\": 768, \"single_frequency_class_detected\": false}',\n",
       "  'ModelExplainRunId': 'AutoML_0c1155d7-c4c9-4662-abe0-5a612296c3c0_ModelExplain'},\n",
       " 'inputDatasets': [{'dataset': {'id': '2405eb8a-8e3c-4b76-8bf5-e37c9290f597'}, 'consumptionDetails': {'type': 'RunInput', 'inputName': 'training_data', 'mechanism': 'Direct'}}],\n",
       " 'outputDatasets': [],\n",
       " 'logFiles': {},\n",
       " 'submittedBy': 'ODL_User 138879'}"
      ]
     },
     "execution_count": 11,
     "metadata": {},
     "output_type": "execute_result"
    }
   ],
   "source": [
    "remote_run.wait_for_completion(show_output=True)"
   ]
  },
  {
   "cell_type": "code",
   "execution_count": 12,
   "metadata": {},
   "outputs": [
    {
     "data": {
      "text/html": [
       "<table style=\"width:100%\"><tr><th>Experiment</th><th>Id</th><th>Type</th><th>Status</th><th>Details Page</th><th>Docs Page</th></tr><tr><td>automl</td><td>AutoML_0c1155d7-c4c9-4662-abe0-5a612296c3c0</td><td>automl</td><td>Completed</td><td><a href=\"https://ml.azure.com/experiments/automl/runs/AutoML_0c1155d7-c4c9-4662-abe0-5a612296c3c0?wsid=/subscriptions/610d6e37-4747-4a20-80eb-3aad70a55f43/resourcegroups/aml-quickstarts-138879/workspaces/quick-starts-ws-138879\" target=\"_blank\" rel=\"noopener\">Link to Azure Machine Learning studio</a></td><td><a href=\"https://docs.microsoft.com/en-us/python/api/overview/azure/ml/intro?view=azure-ml-py\" target=\"_blank\" rel=\"noopener\">Link to Documentation</a></td></tr></table>"
      ],
      "text/plain": [
       "Run(Experiment: automl,\n",
       "Id: AutoML_0c1155d7-c4c9-4662-abe0-5a612296c3c0,\n",
       "Type: automl,\n",
       "Status: Completed)"
      ]
     },
     "execution_count": 12,
     "metadata": {},
     "output_type": "execute_result"
    }
   ],
   "source": [
    "remote_run"
   ]
  },
  {
   "cell_type": "markdown",
   "metadata": {},
   "source": [
    "## Best Model\n",
    "\n",
    "The cell below shows the best model from the automl experiments and display all the properties of the model.\n",
    "\n"
   ]
  },
  {
   "cell_type": "code",
   "execution_count": 13,
   "metadata": {
    "gather": {
     "logged": 1598431425670
    },
    "jupyter": {
     "outputs_hidden": false,
     "source_hidden": false
    },
    "nteract": {
     "transient": {
      "deleting": false
     }
    }
   },
   "outputs": [
    {
     "name": "stderr",
     "output_type": "stream",
     "text": [
      "WARNING:root:The version of the SDK does not match the version the model was trained on.\n",
      "WARNING:root:The consistency in the result may not be guaranteed.\n",
      "WARNING:root:Package:azureml-automl-core, training version:1.21.0, current version:1.20.0\n",
      "Package:azureml-automl-runtime, training version:1.21.0, current version:1.20.0\n",
      "Package:azureml-core, training version:1.21.0.post1, current version:1.20.0\n",
      "Package:azureml-dataprep, training version:2.8.2, current version:2.7.3\n",
      "Package:azureml-dataprep-native, training version:28.0.0, current version:27.0.0\n",
      "Package:azureml-dataprep-rslex, training version:1.6.0, current version:1.5.0\n",
      "Package:azureml-dataset-runtime, training version:1.21.0, current version:1.20.0\n",
      "Package:azureml-defaults, training version:1.21.0, current version:1.20.0\n",
      "Package:azureml-interpret, training version:1.21.0, current version:1.20.0\n",
      "Package:azureml-pipeline-core, training version:1.21.0, current version:1.20.0\n",
      "Package:azureml-telemetry, training version:1.21.0, current version:1.20.0\n",
      "Package:azureml-train-automl-client, training version:1.21.0, current version:1.20.0\n",
      "Package:azureml-train-automl-runtime, training version:1.21.0, current version:1.20.0\n",
      "WARNING:root:Please ensure the version of your local conda dependencies match the version on which your model was trained in order to properly retrieve your model.\n"
     ]
    },
    {
     "name": "stdout",
     "output_type": "stream",
     "text": [
      "Run(Experiment: automl,\n",
      "Id: AutoML_0c1155d7-c4c9-4662-abe0-5a612296c3c0_22,\n",
      "Type: azureml.scriptrun,\n",
      "Status: Completed)\n",
      "[('datatransformer', DataTransformer(enable_dnn=None, enable_feature_sweeping=None,\n",
      "                feature_sweeping_config=None, feature_sweeping_timeout=None,\n",
      "                featurization_config=None, force_text_dnn=None,\n",
      "                is_cross_validation=None, is_onnx_compatible=None, logger=None,\n",
      "                observer=None, task=None, working_dir=None)), ('prefittedsoftvotingclassifier', PreFittedSoftVotingClassifier(classification_labels=None,\n",
      "                              estimators=[('19',\n",
      "                                           Pipeline(memory=None,\n",
      "                                                    steps=[('maxabsscaler',\n",
      "                                                            MaxAbsScaler(copy=True)),\n",
      "                                                           ('logisticregression',\n",
      "                                                            LogisticRegression(C=24.420530945486497,\n",
      "                                                                               class_weight=None,\n",
      "                                                                               dual=False,\n",
      "                                                                               fit_intercept=True,\n",
      "                                                                               intercept_scaling=1,\n",
      "                                                                               l1_ratio=None,\n",
      "                                                                               max_iter=100,\n",
      "                                                                               multi_class='ovr',\n",
      "                                                                               n_jobs=1,\n",
      "                                                                               penalty='l2',\n",
      "                                                                               random_st...\n",
      "                                                                              scale_pos_weight=1,\n",
      "                                                                              seed=None,\n",
      "                                                                              silent=None,\n",
      "                                                                              subsample=0.8,\n",
      "                                                                              tree_method='auto',\n",
      "                                                                              verbose=-10,\n",
      "                                                                              verbosity=0))],\n",
      "                                                    verbose=False))],\n",
      "                              flatten_transform=None,\n",
      "                              weights=[0.18181818181818182, 0.09090909090909091,\n",
      "                                       0.09090909090909091, 0.09090909090909091,\n",
      "                                       0.09090909090909091, 0.09090909090909091,\n",
      "                                       0.09090909090909091, 0.09090909090909091,\n",
      "                                       0.09090909090909091,\n",
      "                                       0.09090909090909091]))]\n"
     ]
    }
   ],
   "source": [
    "# Retrieve and save best automl model\n",
    "best_model, model = remote_run.get_output()\n",
    "print(best_model)\n",
    "print(model.steps)"
   ]
  },
  {
   "cell_type": "code",
   "execution_count": 14,
   "metadata": {},
   "outputs": [
    {
     "name": "stdout",
     "output_type": "stream",
     "text": [
      "Pipeline(memory=None,\n",
      "         steps=[('datatransformer',\n",
      "                 DataTransformer(enable_dnn=None, enable_feature_sweeping=None,\n",
      "                                 feature_sweeping_config=None,\n",
      "                                 feature_sweeping_timeout=None,\n",
      "                                 featurization_config=None, force_text_dnn=None,\n",
      "                                 is_cross_validation=None,\n",
      "                                 is_onnx_compatible=None, logger=None,\n",
      "                                 observer=None, task=None, working_dir=None)),\n",
      "                ('prefittedsoftvotingclassifier',...\n",
      "                                                                                               scale_pos_weight=1,\n",
      "                                                                                               seed=None,\n",
      "                                                                                               silent=None,\n",
      "                                                                                               subsample=0.8,\n",
      "                                                                                               tree_method='auto',\n",
      "                                                                                               verbose=-10,\n",
      "                                                                                               verbosity=0))],\n",
      "                                                                     verbose=False))],\n",
      "                                               flatten_transform=None,\n",
      "                                               weights=[0.18181818181818182,\n",
      "                                                        0.09090909090909091,\n",
      "                                                        0.09090909090909091,\n",
      "                                                        0.09090909090909091,\n",
      "                                                        0.09090909090909091,\n",
      "                                                        0.09090909090909091,\n",
      "                                                        0.09090909090909091,\n",
      "                                                        0.09090909090909091,\n",
      "                                                        0.09090909090909091,\n",
      "                                                        0.09090909090909091]))],\n",
      "         verbose=False)\n"
     ]
    }
   ],
   "source": [
    "print(model)"
   ]
  },
  {
   "cell_type": "code",
   "execution_count": 15,
   "metadata": {},
   "outputs": [
    {
     "name": "stdout",
     "output_type": "stream",
     "text": [
      "Run(Experiment: automl,\n",
      "Id: AutoML_0c1155d7-c4c9-4662-abe0-5a612296c3c0_22,\n",
      "Type: azureml.scriptrun,\n",
      "Status: Completed)\n"
     ]
    }
   ],
   "source": [
    "print(best_model)"
   ]
  },
  {
   "cell_type": "code",
   "execution_count": 16,
   "metadata": {},
   "outputs": [
    {
     "data": {
      "text/plain": [
       "{'experiment_status': ['DatasetEvaluation',\n",
       "  'FeaturesGeneration',\n",
       "  'DatasetFeaturization',\n",
       "  'DatasetFeaturizationCompleted',\n",
       "  'DatasetCrossValidationSplit',\n",
       "  'ModelSelection'],\n",
       " 'experiment_status_description': ['Gathering dataset statistics.',\n",
       "  'Generating features for the dataset.',\n",
       "  'Beginning to fit featurizers and featurize the dataset.',\n",
       "  'Completed fit featurizers and featurizing the dataset.',\n",
       "  'Generating individually featurized CV splits.',\n",
       "  'Beginning model selection.'],\n",
       " 'f1_score_macro': 0.7429113900436672,\n",
       " 'recall_score_micro': 0.7852134793311263,\n",
       " 'precision_score_weighted': 0.7831352662228024,\n",
       " 'AUC_macro': 0.8378940028926378,\n",
       " 'average_precision_score_micro': 0.8570599521513665,\n",
       " 'accuracy': 0.7852134793311263,\n",
       " 'average_precision_score_weighted': 0.8487892206382048,\n",
       " 'average_precision_score_macro': 0.8208269993617707,\n",
       " 'AUC_weighted': 0.8378940028926378,\n",
       " 'f1_score_micro': 0.7852134793311263,\n",
       " 'weighted_accuracy': 0.8262473488380311,\n",
       " 'precision_score_micro': 0.7852134793311263,\n",
       " 'recall_score_macro': 0.7319232702028167,\n",
       " 'f1_score_weighted': 0.7766322988089153,\n",
       " 'recall_score_weighted': 0.7852134793311263,\n",
       " 'balanced_accuracy': 0.7319232702028167,\n",
       " 'log_loss': 0.4852227008388537,\n",
       " 'AUC_micro': 0.8564310803274837,\n",
       " 'matthews_correlation': 0.502228375402165,\n",
       " 'precision_score_macro': 0.772069750443044,\n",
       " 'norm_macro_recall': 0.4638465404056332}"
      ]
     },
     "execution_count": 16,
     "metadata": {},
     "output_type": "execute_result"
    }
   ],
   "source": [
    "remote_run.get_metrics()"
   ]
  },
  {
   "cell_type": "markdown",
   "metadata": {},
   "source": [
    "## Model Deployment\n",
    "\n",
    "Remember you have to deploy only one of the two models you trained.. Perform the steps in the rest of this notebook only if you wish to deploy this model.\n",
    "\n",
    "In the cell below, we have registered the model, created an inference config and deployed the model as a web service."
   ]
  },
  {
   "cell_type": "code",
   "execution_count": 17,
   "metadata": {
    "gather": {
     "logged": 1598431435189
    },
    "jupyter": {
     "outputs_hidden": false,
     "source_hidden": false
    },
    "nteract": {
     "transient": {
      "deleting": false
     }
    }
   },
   "outputs": [],
   "source": [
    "# Registring the best model\n",
    "model = best_model.register_model(model_name='automl-best-model',model_path='outputs/model.pkl')\n"
   ]
  },
  {
   "cell_type": "code",
   "execution_count": 18,
   "metadata": {},
   "outputs": [],
   "source": [
    "# Get automl environment with its dependencies\n",
    "environment = Environment.get(ws, \"AzureML-AutoML\")"
   ]
  },
  {
   "cell_type": "code",
   "execution_count": 19,
   "metadata": {},
   "outputs": [
    {
     "name": "stdout",
     "output_type": "stream",
     "text": [
      "Tips: You can try get_logs(): https://aka.ms/debugimage#dockerlog or local deployment: https://aka.ms/debugimage#debug-locally to debug if deployment takes longer than 10 minutes.\n",
      "Running..........................................\n",
      "Succeeded\n",
      "ACI service creation operation finished, operation \"Succeeded\"\n",
      "http://a9cd425f-d86f-45a2-8f91-d937c864c52c.southcentralus.azurecontainer.io/score\n"
     ]
    }
   ],
   "source": [
    "inference_config = InferenceConfig(entry_script='scoring.py',\n",
    "                                   environment=environment)\n",
    "service_name = 'automl-deploy'\n",
    "deployment_config = AciWebservice.deploy_configuration(cpu_cores=1, memory_gb=1)\n",
    "\n",
    "service = Model.deploy(workspace=ws,\n",
    "                       name=service_name,\n",
    "                       models=[model],\n",
    "                       inference_config=inference_config,\n",
    "                       deployment_config=deployment_config,\n",
    "                       overwrite=True\n",
    "                      )\n",
    "service.wait_for_deployment(show_output=True)\n",
    "\n",
    "scoring_uri = service.scoring_uri\n",
    "print(scoring_uri)"
   ]
  },
  {
   "cell_type": "code",
   "execution_count": 20,
   "metadata": {},
   "outputs": [],
   "source": [
    "# Enable app insights\n",
    "service.update(enable_app_insights=True)"
   ]
  },
  {
   "cell_type": "markdown",
   "metadata": {
    "gather": {
     "logged": 1598431657736
    },
    "jupyter": {
     "outputs_hidden": false,
     "source_hidden": false
    },
    "nteract": {
     "transient": {
      "deleting": false
     }
    }
   },
   "source": [
    "In the cell below, we have sent a request to the web service to test it."
   ]
  },
  {
   "cell_type": "code",
   "execution_count": 21,
   "metadata": {},
   "outputs": [
    {
     "name": "stdout",
     "output_type": "stream",
     "text": [
      "{\"result\": [1, 0]}\n",
      "Case 0: Not Diabetes, Case 1: Diabetes.\n"
     ]
    }
   ],
   "source": [
    "import requests\n",
    "import json\n",
    "\n",
    "#two set of data to score, so we get two results back\n",
    "data = {\"data\": [{\"Pregnancies\": 5, \n",
    "     \"Glucose\": 150, \n",
    "     \"BloodPressure\": 70, \n",
    "     \"SkinThickness\": 40, \n",
    "     \"Insulin\": 10, \n",
    "     \"BMI\": 36.5, \n",
    "     \"DiabetesPedigreeFunction\": 0.627, \n",
    "     \"Age\": 30},\n",
    "\n",
    "    {\"Pregnancies\": 5, \n",
    "     \"Glucose\": 90, \n",
    "     \"BloodPressure\": 70, \n",
    "     \"SkinThickness\": 34, \n",
    "     \"Insulin\": 20, \n",
    "     \"BMI\": 26.5, \n",
    "     \"DiabetesPedigreeFunction\": 0.351, \n",
    "     \"Age\": 28},\n",
    "      ]}\n",
    "    \n",
    "# Convert to JSON string\n",
    "input_data = json.dumps(data)\n",
    "with open(\"data.json\", \"w\") as _f:\n",
    "    _f.write(input_data)\n",
    "\n",
    "# Set the content type\n",
    "headers = {'Content-Type': 'application/json'}\n",
    "# If authentication is enabled, set the authorization header\n",
    "#headers['Authorization'] = f'Bearer {key}'\n",
    "\n",
    "# Make the request and display the response\n",
    "resp = requests.post(scoring_uri, input_data, headers=headers)\n",
    "print(resp.json())\n",
    "print(\"Case 0: Not Diabetes, Case 1: Diabetes.\")"
   ]
  },
  {
   "cell_type": "code",
   "execution_count": 22,
   "metadata": {},
   "outputs": [
    {
     "name": "stdout",
     "output_type": "stream",
     "text": [
      "[{'Pregnancies': 5, 'Glucose': 150, 'BloodPressure': 70, 'SkinThickness': 40, 'Insulin': 10, 'BMI': 36.5, 'DiabetesPedigreeFunction': 0.627, 'Age': 30}, {'Pregnancies': 5, 'Glucose': 90, 'BloodPressure': 70, 'SkinThickness': 34, 'Insulin': 20, 'BMI': 26.5, 'DiabetesPedigreeFunction': 0.351, 'Age': 28}]\n"
     ]
    }
   ],
   "source": [
    "data = [{\"Pregnancies\": 5, \n",
    "     \"Glucose\": 150, \n",
    "     \"BloodPressure\": 70, \n",
    "     \"SkinThickness\": 40, \n",
    "     \"Insulin\": 10, \n",
    "     \"BMI\": 36.5, \n",
    "     \"DiabetesPedigreeFunction\": 0.627, \n",
    "     \"Age\": 30},\n",
    "\n",
    "    {\"Pregnancies\": 5, \n",
    "     \"Glucose\": 90, \n",
    "     \"BloodPressure\": 70, \n",
    "     \"SkinThickness\": 34, \n",
    "     \"Insulin\": 20, \n",
    "     \"BMI\": 26.5, \n",
    "     \"DiabetesPedigreeFunction\": 0.351, \n",
    "     \"Age\": 28},\n",
    "      ]\n",
    "\n",
    "print(data)"
   ]
  },
  {
   "cell_type": "code",
   "execution_count": 23,
   "metadata": {},
   "outputs": [
    {
     "data": {
      "text/plain": [
       "'{\"result\": [1, 0]}'"
      ]
     },
     "execution_count": 23,
     "metadata": {},
     "output_type": "execute_result"
    }
   ],
   "source": [
    "# test using service instance\n",
    "input_data = json.dumps({\n",
    "    'data': data\n",
    "})\n",
    "\n",
    "output = service.run(input_data)\n",
    "output"
   ]
  },
  {
   "cell_type": "markdown",
   "metadata": {
    "gather": {
     "logged": 1598432765711
    },
    "jupyter": {
     "outputs_hidden": false,
     "source_hidden": false
    },
    "nteract": {
     "transient": {
      "deleting": false
     }
    }
   },
   "source": [
    "Print the logs of the web service and delete the service"
   ]
  },
  {
   "cell_type": "code",
   "execution_count": 24,
   "metadata": {
    "jupyter": {
     "outputs_hidden": false,
     "source_hidden": false
    },
    "nteract": {
     "transient": {
      "deleting": false
     }
    }
   },
   "outputs": [
    {
     "data": {
      "text/plain": [
       "'2021-02-14T11:29:21,485902951+00:00 - rsyslog/run \\n2021-02-14T11:29:21,486958915+00:00 - gunicorn/run \\n2021-02-14T11:29:21,486956415+00:00 - iot-server/run \\n2021-02-14T11:29:21,492850773+00:00 - nginx/run \\nrsyslogd: /azureml-envs/azureml_09ff55f546b313bb1ab136a466214499/lib/libuuid.so.1: no version information available (required by rsyslogd)\\n/usr/sbin/nginx: /azureml-envs/azureml_09ff55f546b313bb1ab136a466214499/lib/libcrypto.so.1.0.0: no version information available (required by /usr/sbin/nginx)\\n/usr/sbin/nginx: /azureml-envs/azureml_09ff55f546b313bb1ab136a466214499/lib/libcrypto.so.1.0.0: no version information available (required by /usr/sbin/nginx)\\n/usr/sbin/nginx: /azureml-envs/azureml_09ff55f546b313bb1ab136a466214499/lib/libssl.so.1.0.0: no version information available (required by /usr/sbin/nginx)\\n/usr/sbin/nginx: /azureml-envs/azureml_09ff55f546b313bb1ab136a466214499/lib/libssl.so.1.0.0: no version information available (required by /usr/sbin/nginx)\\n/usr/sbin/nginx: /azureml-envs/azureml_09ff55f546b313bb1ab136a466214499/lib/libssl.so.1.0.0: no version information available (required by /usr/sbin/nginx)\\nEdgeHubConnectionString and IOTEDGE_IOTHUBHOSTNAME are not set. Exiting...\\n2021-02-14T11:29:21,685996784+00:00 - iot-server/finish 1 0\\n2021-02-14T11:29:21,688085510+00:00 - Exit code 1 is normal. Not restarting iot-server.\\nStarting gunicorn 19.9.0\\nListening at: http://127.0.0.1:31311 (14)\\nUsing worker: sync\\nworker timeout is set to 300\\nBooting worker with pid: 42\\nSPARK_HOME not set. Skipping PySpark Initialization.\\nGenerating new fontManager, this may take some time...\\nInitializing logger\\n2021-02-14 11:29:23,035 | root | INFO | Starting up app insights client\\n2021-02-14 11:29:23,035 | root | INFO | Starting up request id generator\\n2021-02-14 11:29:23,035 | root | INFO | Starting up app insight hooks\\n2021-02-14 11:29:23,035 | root | INFO | Invoking user\\'s init function\\n2021-02-14 11:29:25,790 | root | INFO | Users\\'s init has completed successfully\\n2021-02-14 11:29:25,795 | root | INFO | Skipping middleware: dbg_model_info as it\\'s not enabled.\\n2021-02-14 11:29:25,795 | root | INFO | Skipping middleware: dbg_resource_usage as it\\'s not enabled.\\n2021-02-14 11:29:25,797 | root | INFO | Scoring timeout is found from os.environ: 60000 ms\\n2021-02-14 11:29:33,713 | root | INFO | 200\\n127.0.0.1 - - [14/Feb/2021:11:29:33 +0000] \"GET /swagger.json HTTP/1.0\" 200 2536 \"-\" \"Go-http-client/1.1\"\\n2021-02-14 11:29:38,885 | root | INFO | 200\\n127.0.0.1 - - [14/Feb/2021:11:29:38 +0000] \"GET /swagger.json HTTP/1.0\" 200 2536 \"-\" \"Go-http-client/1.1\"\\n2021-02-14 11:29:41,561 | root | INFO | 200\\n127.0.0.1 - - [14/Feb/2021:11:29:41 +0000] \"GET /swagger.json HTTP/1.0\" 200 2536 \"-\" \"Go-http-client/1.1\"\\n2021-02-14 11:29:42,029 | root | INFO | Validation Request Content-Type\\n2021-02-14 11:29:42,030 | root | INFO | Scoring Timer is set to 60.0 seconds\\n2021-02-14 11:29:42,086 | root | INFO | 200\\n127.0.0.1 - - [14/Feb/2021:11:29:42 +0000] \"POST /score HTTP/1.0\" 200 22 \"-\" \"python-requests/2.25.1\"\\n2021-02-14 11:29:42,179 | root | INFO | Validation Request Content-Type\\n2021-02-14 11:29:42,180 | root | INFO | Scoring Timer is set to 60.0 seconds\\n2021-02-14 11:29:42,300 | root | INFO | 200\\n127.0.0.1 - - [14/Feb/2021:11:29:42 +0000] \"POST /score HTTP/1.0\" 200 22 \"-\" \"python-requests/2.25.1\"\\n'"
      ]
     },
     "execution_count": 24,
     "metadata": {},
     "output_type": "execute_result"
    }
   ],
   "source": [
    "logs = service.get_logs()\n",
    "logs"
   ]
  },
  {
   "cell_type": "code",
   "execution_count": 26,
   "metadata": {},
   "outputs": [],
   "source": [
    "service.delete()"
   ]
  },
  {
   "cell_type": "code",
   "execution_count": null,
   "metadata": {},
   "outputs": [],
   "source": []
  },
  {
   "cell_type": "code",
   "execution_count": null,
   "metadata": {},
   "outputs": [],
   "source": []
  }
 ],
 "metadata": {
  "kernel_info": {
   "name": "python3"
  },
  "kernelspec": {
   "display_name": "Python 3",
   "language": "python",
   "name": "python3"
  },
  "language_info": {
   "codemirror_mode": {
    "name": "ipython",
    "version": 3
   },
   "file_extension": ".py",
   "mimetype": "text/x-python",
   "name": "python",
   "nbconvert_exporter": "python",
   "pygments_lexer": "ipython3",
   "version": "3.6.9"
  },
  "nteract": {
   "version": "nteract-front-end@1.0.0"
  }
 },
 "nbformat": 4,
 "nbformat_minor": 4
}
