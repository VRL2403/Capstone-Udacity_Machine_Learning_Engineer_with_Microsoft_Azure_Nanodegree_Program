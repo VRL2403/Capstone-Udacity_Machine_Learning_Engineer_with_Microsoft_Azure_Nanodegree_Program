{
 "cells": [
  {
   "cell_type": "markdown",
   "metadata": {},
   "source": [
    "# Automated ML\n",
    "\n",
    "Importing all needed dependencies to complete the project."
   ]
  },
  {
   "cell_type": "code",
   "execution_count": 1,
   "metadata": {
    "collapsed": false,
    "gather": {
     "logged": 1612018493821
    },
    "jupyter": {
     "outputs_hidden": false,
     "source_hidden": false
    },
    "nteract": {
     "transient": {
      "deleting": false
     }
    }
   },
   "outputs": [
    {
     "name": "stdout",
     "output_type": "stream",
     "text": [
      "SDK version: 1.20.0\n"
     ]
    }
   ],
   "source": [
    "import logging\n",
    "import os\n",
    "import json\n",
    "import csv\n",
    "import numpy as np\n",
    "import pandas as pd\n",
    "import pkg_resources\n",
    "import joblib\n",
    "\n",
    "import azureml.core\n",
    "from azureml.core.experiment import Experiment\n",
    "from azureml.core.workspace import Workspace\n",
    "from azureml.train.automl import AutoMLConfig\n",
    "from azureml.core.dataset import Dataset\n",
    "from azureml.core.compute import AmlCompute\n",
    "from azureml.core.compute import ComputeTarget\n",
    "from azureml.core.compute_target import ComputeTargetException\n",
    "from azureml.pipeline.steps import AutoMLStep\n",
    "from azureml.widgets import RunDetails\n",
    "from azureml.core import Model, Environment\n",
    "from azureml.core.model import InferenceConfig\n",
    "from azureml.core.webservice import AciWebservice\n",
    "\n",
    "# Check core SDK version number\n",
    "print(\"SDK version:\", azureml.core.VERSION)"
   ]
  },
  {
   "cell_type": "markdown",
   "metadata": {},
   "source": [
    "## Dataset\n",
    "\n",
    "### Overview\n",
    "This dataset comes from the Diabetes and Digestive and Kidney Disease National Institutes. The purpose of this dataset is to diagnose whether or not a patient is diabetic, on the basis of certain diagnostic measures in the dataset. The selection of these instances from a larger database was subject to several restrictions. All patients are women from the Indian heritage of Pima, at least 21 years old. \n",
    "https://www.kaggle.com/uciml/pima-indians-diabetes-database\n",
    "\n",
    "Task\n",
    "Predict the \"Outcome\" column based on the input features, either the patient has diabetes or not.\n",
    "\n",
    "Reference: http://www.arogyaworld.org/wp-content/uploads/2010/10/ArogyaWorld_IndiaDiabetes_FactSheets_CGI2013_web.pdf\n",
    "\n",
    "The dataset has nine features as follow:\n",
    "- Pregnancies: Number pregnancy times (int).\n",
    "- Glucose: Plasma glucose concentration level (int).\n",
    "- BloodPressure: Diastolic blood pressure level in mm Hg(int).\n",
    "- SkinThickness: skinfold thickness in mm(int).\n",
    "- Insulin: two-hour serum insulin measured by mu U/ml(int).\n",
    "- BMI: Body mass index (float).\n",
    "- DiabetesPedigreeFunction: Diabetes pedigree function(float).\n",
    "- Age: age in years 21 and above(int).\n",
    "- Outcome: Target column 0 or 1, 0 = Not diabetes, 1 = diabetes(int)."
   ]
  },
  {
   "cell_type": "code",
   "execution_count": 2,
   "metadata": {
    "collapsed": false,
    "gather": {
     "logged": 1598423890461
    },
    "jupyter": {
     "outputs_hidden": false,
     "source_hidden": false
    },
    "nteract": {
     "transient": {
      "deleting": false
     }
    }
   },
   "outputs": [],
   "source": [
    "ws = Workspace.from_config()\n",
    "\n",
    "# choose a name for experiment\n",
    "experiment_name = 'automl'\n",
    "\n",
    "experiment=Experiment(ws, experiment_name)"
   ]
  },
  {
   "cell_type": "code",
   "execution_count": 3,
   "metadata": {},
   "outputs": [
    {
     "name": "stdout",
     "output_type": "stream",
     "text": [
      "<class 'pandas.core.frame.DataFrame'>\n",
      "RangeIndex: 768 entries, 0 to 767\n",
      "Data columns (total 9 columns):\n",
      "Pregnancies                 768 non-null int64\n",
      "Glucose                     768 non-null int64\n",
      "BloodPressure               768 non-null int64\n",
      "SkinThickness               768 non-null int64\n",
      "Insulin                     768 non-null int64\n",
      "BMI                         768 non-null float64\n",
      "DiabetesPedigreeFunction    768 non-null float64\n",
      "Age                         768 non-null int64\n",
      "Outcome                     768 non-null int64\n",
      "dtypes: float64(2), int64(7)\n",
      "memory usage: 54.1 KB\n"
     ]
    }
   ],
   "source": [
    "# Load the registered dataset from workspace\n",
    "dataset = Dataset.get_by_name(ws, name='diabetes')\n",
    "\n",
    "# Convert the dataset to dataframe\n",
    "df = dataset.to_pandas_dataframe()\n",
    "df.info()"
   ]
  },
  {
   "cell_type": "code",
   "execution_count": 4,
   "metadata": {},
   "outputs": [
    {
     "data": {
      "text/html": [
       "<div>\n",
       "<style scoped>\n",
       "    .dataframe tbody tr th:only-of-type {\n",
       "        vertical-align: middle;\n",
       "    }\n",
       "\n",
       "    .dataframe tbody tr th {\n",
       "        vertical-align: top;\n",
       "    }\n",
       "\n",
       "    .dataframe thead th {\n",
       "        text-align: right;\n",
       "    }\n",
       "</style>\n",
       "<table border=\"1\" class=\"dataframe\">\n",
       "  <thead>\n",
       "    <tr style=\"text-align: right;\">\n",
       "      <th></th>\n",
       "      <th>Pregnancies</th>\n",
       "      <th>Glucose</th>\n",
       "      <th>BloodPressure</th>\n",
       "      <th>SkinThickness</th>\n",
       "      <th>Insulin</th>\n",
       "      <th>BMI</th>\n",
       "      <th>DiabetesPedigreeFunction</th>\n",
       "      <th>Age</th>\n",
       "      <th>Outcome</th>\n",
       "    </tr>\n",
       "  </thead>\n",
       "  <tbody>\n",
       "    <tr>\n",
       "      <th>count</th>\n",
       "      <td>768.000000</td>\n",
       "      <td>768.000000</td>\n",
       "      <td>768.000000</td>\n",
       "      <td>768.000000</td>\n",
       "      <td>768.000000</td>\n",
       "      <td>768.000000</td>\n",
       "      <td>768.000000</td>\n",
       "      <td>768.000000</td>\n",
       "      <td>768.000000</td>\n",
       "    </tr>\n",
       "    <tr>\n",
       "      <th>mean</th>\n",
       "      <td>3.845052</td>\n",
       "      <td>120.894531</td>\n",
       "      <td>69.105469</td>\n",
       "      <td>20.536458</td>\n",
       "      <td>79.799479</td>\n",
       "      <td>31.992578</td>\n",
       "      <td>0.471876</td>\n",
       "      <td>33.240885</td>\n",
       "      <td>0.348958</td>\n",
       "    </tr>\n",
       "    <tr>\n",
       "      <th>std</th>\n",
       "      <td>3.369578</td>\n",
       "      <td>31.972618</td>\n",
       "      <td>19.355807</td>\n",
       "      <td>15.952218</td>\n",
       "      <td>115.244002</td>\n",
       "      <td>7.884160</td>\n",
       "      <td>0.331329</td>\n",
       "      <td>11.760232</td>\n",
       "      <td>0.476951</td>\n",
       "    </tr>\n",
       "    <tr>\n",
       "      <th>min</th>\n",
       "      <td>0.000000</td>\n",
       "      <td>0.000000</td>\n",
       "      <td>0.000000</td>\n",
       "      <td>0.000000</td>\n",
       "      <td>0.000000</td>\n",
       "      <td>0.000000</td>\n",
       "      <td>0.078000</td>\n",
       "      <td>21.000000</td>\n",
       "      <td>0.000000</td>\n",
       "    </tr>\n",
       "    <tr>\n",
       "      <th>25%</th>\n",
       "      <td>1.000000</td>\n",
       "      <td>99.000000</td>\n",
       "      <td>62.000000</td>\n",
       "      <td>0.000000</td>\n",
       "      <td>0.000000</td>\n",
       "      <td>27.300000</td>\n",
       "      <td>0.243750</td>\n",
       "      <td>24.000000</td>\n",
       "      <td>0.000000</td>\n",
       "    </tr>\n",
       "    <tr>\n",
       "      <th>50%</th>\n",
       "      <td>3.000000</td>\n",
       "      <td>117.000000</td>\n",
       "      <td>72.000000</td>\n",
       "      <td>23.000000</td>\n",
       "      <td>30.500000</td>\n",
       "      <td>32.000000</td>\n",
       "      <td>0.372500</td>\n",
       "      <td>29.000000</td>\n",
       "      <td>0.000000</td>\n",
       "    </tr>\n",
       "    <tr>\n",
       "      <th>75%</th>\n",
       "      <td>6.000000</td>\n",
       "      <td>140.250000</td>\n",
       "      <td>80.000000</td>\n",
       "      <td>32.000000</td>\n",
       "      <td>127.250000</td>\n",
       "      <td>36.600000</td>\n",
       "      <td>0.626250</td>\n",
       "      <td>41.000000</td>\n",
       "      <td>1.000000</td>\n",
       "    </tr>\n",
       "    <tr>\n",
       "      <th>max</th>\n",
       "      <td>17.000000</td>\n",
       "      <td>199.000000</td>\n",
       "      <td>122.000000</td>\n",
       "      <td>99.000000</td>\n",
       "      <td>846.000000</td>\n",
       "      <td>67.100000</td>\n",
       "      <td>2.420000</td>\n",
       "      <td>81.000000</td>\n",
       "      <td>1.000000</td>\n",
       "    </tr>\n",
       "  </tbody>\n",
       "</table>\n",
       "</div>"
      ],
      "text/plain": [
       "       Pregnancies     Glucose  BloodPressure  SkinThickness     Insulin  \\\n",
       "count   768.000000  768.000000     768.000000     768.000000  768.000000   \n",
       "mean      3.845052  120.894531      69.105469      20.536458   79.799479   \n",
       "std       3.369578   31.972618      19.355807      15.952218  115.244002   \n",
       "min       0.000000    0.000000       0.000000       0.000000    0.000000   \n",
       "25%       1.000000   99.000000      62.000000       0.000000    0.000000   \n",
       "50%       3.000000  117.000000      72.000000      23.000000   30.500000   \n",
       "75%       6.000000  140.250000      80.000000      32.000000  127.250000   \n",
       "max      17.000000  199.000000     122.000000      99.000000  846.000000   \n",
       "\n",
       "              BMI  DiabetesPedigreeFunction         Age     Outcome  \n",
       "count  768.000000                768.000000  768.000000  768.000000  \n",
       "mean    31.992578                  0.471876   33.240885    0.348958  \n",
       "std      7.884160                  0.331329   11.760232    0.476951  \n",
       "min      0.000000                  0.078000   21.000000    0.000000  \n",
       "25%     27.300000                  0.243750   24.000000    0.000000  \n",
       "50%     32.000000                  0.372500   29.000000    0.000000  \n",
       "75%     36.600000                  0.626250   41.000000    1.000000  \n",
       "max     67.100000                  2.420000   81.000000    1.000000  "
      ]
     },
     "execution_count": 4,
     "metadata": {},
     "output_type": "execute_result"
    }
   ],
   "source": [
    "df.describe()"
   ]
  },
  {
   "cell_type": "code",
   "execution_count": 5,
   "metadata": {},
   "outputs": [
    {
     "data": {
      "text/html": [
       "<div>\n",
       "<style scoped>\n",
       "    .dataframe tbody tr th:only-of-type {\n",
       "        vertical-align: middle;\n",
       "    }\n",
       "\n",
       "    .dataframe tbody tr th {\n",
       "        vertical-align: top;\n",
       "    }\n",
       "\n",
       "    .dataframe thead th {\n",
       "        text-align: right;\n",
       "    }\n",
       "</style>\n",
       "<table border=\"1\" class=\"dataframe\">\n",
       "  <thead>\n",
       "    <tr style=\"text-align: right;\">\n",
       "      <th></th>\n",
       "      <th>Pregnancies</th>\n",
       "      <th>Glucose</th>\n",
       "      <th>BloodPressure</th>\n",
       "      <th>SkinThickness</th>\n",
       "      <th>Insulin</th>\n",
       "      <th>BMI</th>\n",
       "      <th>DiabetesPedigreeFunction</th>\n",
       "      <th>Age</th>\n",
       "      <th>Outcome</th>\n",
       "    </tr>\n",
       "  </thead>\n",
       "  <tbody>\n",
       "    <tr>\n",
       "      <th>0</th>\n",
       "      <td>6</td>\n",
       "      <td>148</td>\n",
       "      <td>72</td>\n",
       "      <td>35</td>\n",
       "      <td>0</td>\n",
       "      <td>33.6</td>\n",
       "      <td>0.627</td>\n",
       "      <td>50</td>\n",
       "      <td>1</td>\n",
       "    </tr>\n",
       "    <tr>\n",
       "      <th>1</th>\n",
       "      <td>1</td>\n",
       "      <td>85</td>\n",
       "      <td>66</td>\n",
       "      <td>29</td>\n",
       "      <td>0</td>\n",
       "      <td>26.6</td>\n",
       "      <td>0.351</td>\n",
       "      <td>31</td>\n",
       "      <td>0</td>\n",
       "    </tr>\n",
       "    <tr>\n",
       "      <th>2</th>\n",
       "      <td>8</td>\n",
       "      <td>183</td>\n",
       "      <td>64</td>\n",
       "      <td>0</td>\n",
       "      <td>0</td>\n",
       "      <td>23.3</td>\n",
       "      <td>0.672</td>\n",
       "      <td>32</td>\n",
       "      <td>1</td>\n",
       "    </tr>\n",
       "    <tr>\n",
       "      <th>3</th>\n",
       "      <td>1</td>\n",
       "      <td>89</td>\n",
       "      <td>66</td>\n",
       "      <td>23</td>\n",
       "      <td>94</td>\n",
       "      <td>28.1</td>\n",
       "      <td>0.167</td>\n",
       "      <td>21</td>\n",
       "      <td>0</td>\n",
       "    </tr>\n",
       "    <tr>\n",
       "      <th>4</th>\n",
       "      <td>0</td>\n",
       "      <td>137</td>\n",
       "      <td>40</td>\n",
       "      <td>35</td>\n",
       "      <td>168</td>\n",
       "      <td>43.1</td>\n",
       "      <td>2.288</td>\n",
       "      <td>33</td>\n",
       "      <td>1</td>\n",
       "    </tr>\n",
       "  </tbody>\n",
       "</table>\n",
       "</div>"
      ],
      "text/plain": [
       "   Pregnancies  Glucose  BloodPressure  SkinThickness  Insulin   BMI  \\\n",
       "0            6      148             72             35        0  33.6   \n",
       "1            1       85             66             29        0  26.6   \n",
       "2            8      183             64              0        0  23.3   \n",
       "3            1       89             66             23       94  28.1   \n",
       "4            0      137             40             35      168  43.1   \n",
       "\n",
       "   DiabetesPedigreeFunction  Age  Outcome  \n",
       "0                     0.627   50        1  \n",
       "1                     0.351   31        0  \n",
       "2                     0.672   32        1  \n",
       "3                     0.167   21        0  \n",
       "4                     2.288   33        1  "
      ]
     },
     "execution_count": 5,
     "metadata": {},
     "output_type": "execute_result"
    }
   ],
   "source": [
    "#Display the first five records of the dataset\n",
    "df.head()"
   ]
  },
  {
   "cell_type": "code",
   "execution_count": 6,
   "metadata": {},
   "outputs": [
    {
     "name": "stdout",
     "output_type": "stream",
     "text": [
      "Found existing cluster, use it.\n",
      "\n",
      "Jobrunning...........\n",
      "Running\n"
     ]
    }
   ],
   "source": [
    "# Create CPU cluster\n",
    "amlcompute_cluster_name = \"project-cluster\"\n",
    "\n",
    "# Verify if cluster does not exist otherwise use the existing one\n",
    "try:\n",
    "    compute_target = ComputeTarget(workspace=ws, name=amlcompute_cluster_name)\n",
    "    print('Found existing cluster, use it.')\n",
    "except ComputeTargetException:\n",
    "    compute_config = AmlCompute.provisioning_configuration(vm_size='Standard_DS12_V2',\n",
    "                                                           vm_priority = 'lowpriority', \n",
    "                                                           max_nodes=4)\n",
    "    compute_target = ComputeTarget.create(ws, amlcompute_cluster_name, compute_config)\n",
    "\n",
    "compute_target.wait_for_completion(show_output=True)\n"
   ]
  },
  {
   "cell_type": "markdown",
   "metadata": {},
   "source": [
    "## AutoML Configuration\n",
    "\n",
    "Overview of the automl settings and configuration used for this experiment:\n",
    "\n",
    "- \"experiment_timeout_minutes\": set to 30 minutes. The experiment will timeout after that period to avoid wasting resources.\n",
    "- \"max_concurrent_iterations\": is set to 4. The max number of concurrent iterations to be run in parallel at the same time.\n",
    "- \"primary_metric\" : is set to 'accuracy', which is a sutible metric for classification problems.\n",
    "- \"n_cross_validations\": is set to 5, therefore the training and validation sets will be divided into five equal sets.\n",
    "- \"iterations\": the number of iterations for the experiment is set to 20. It's a reasonable number and would provide the intendable result for the given dataset.\n",
    "- compute_target: set to the project cluster to run the experiment.\n",
    "- task: set to 'classification' since our target to predict whether the patient has diabetes or not.\n",
    "- training_data: the loaded dataset for the project.\n",
    "- label_column_name: set to the result/target colunm in the dataset 'Outcome' (0 or 1).\n",
    "- enable_early_stopping: is enabled to terminate the experiment if the accuracy score is not showing improvement over time.\n",
    "- featurization = is set to 'auto', it's an indicator of whether implementing a featurization step to preprocess/clean the dataset automatically or not. In our case, the preprocessing was applied for the numerical columns which normally involve treating missing values, cluster distance, the weight of evidence...etc.\n",
    "- debug_log: errors will be logged into 'automl_errors.log'.\n"
   ]
  },
  {
   "cell_type": "code",
   "execution_count": 7,
   "metadata": {
    "collapsed": false,
    "gather": {
     "logged": 1598429217746
    },
    "jupyter": {
     "outputs_hidden": false,
     "source_hidden": false
    },
    "nteract": {
     "transient": {
      "deleting": false
     }
    }
   },
   "outputs": [],
   "source": [
    "# Automl settings \n",
    "automl_settings = {\n",
    "    \"experiment_timeout_minutes\": 30,\n",
    "    \"max_concurrent_iterations\": 4,\n",
    "    \"primary_metric\" : 'accuracy',\n",
    "    \"n_cross_validations\": 5,\n",
    "    \"iterations\": 20\n",
    "    \n",
    "}\n",
    "\n",
    "# Automl config \n",
    "automl_config = AutoMLConfig(compute_target=compute_target,\n",
    "                             task = 'classification',\n",
    "                             training_data=dataset,\n",
    "                             label_column_name='Outcome',\n",
    "                             enable_early_stopping= True,\n",
    "                             featurization = 'auto',\n",
    "                             debug_log = 'automl_errors.log',\n",
    "                             **automl_settings\n",
    "                            )\n",
    "\n"
   ]
  },
  {
   "cell_type": "code",
   "execution_count": 8,
   "metadata": {
    "collapsed": false,
    "gather": {
     "logged": 1598431107951
    },
    "jupyter": {
     "outputs_hidden": false,
     "source_hidden": false
    },
    "nteract": {
     "transient": {
      "deleting": false
     }
    }
   },
   "outputs": [
    {
     "name": "stdout",
     "output_type": "stream",
     "text": [
      "Running on remote.\n",
      "No run_configuration provided, running on project-cluster with default configuration\n",
      "Running on remote compute: project-cluster\n",
      "Parent Run ID: AutoML_14e37013-364c-45f3-9f14-5eae7d2efdbd\n",
      "\n",
      "Current status: FeaturesGeneration. Generating features for the dataset.\n",
      "Current status: ModelSelection. Beginning model selection.\n",
      "\n",
      "****************************************************************************************************\n",
      "DATA GUARDRAILS: \n",
      "\n",
      "TYPE:         Class balancing detection\n",
      "STATUS:       PASSED\n",
      "DESCRIPTION:  Your inputs were analyzed, and all classes are balanced in your training data.\n",
      "              Learn more about imbalanced data: https://aka.ms/AutomatedMLImbalancedData\n",
      "\n",
      "****************************************************************************************************\n",
      "\n",
      "TYPE:         Missing feature values imputation\n",
      "STATUS:       PASSED\n",
      "DESCRIPTION:  No feature missing values were detected in the training data.\n",
      "              Learn more about missing value imputation: https://aka.ms/AutomatedMLFeaturization\n",
      "\n",
      "****************************************************************************************************\n",
      "\n",
      "TYPE:         High cardinality feature detection\n",
      "STATUS:       PASSED\n",
      "DESCRIPTION:  Your inputs were analyzed, and no high cardinality features were detected.\n",
      "              Learn more about high cardinality feature handling: https://aka.ms/AutomatedMLFeaturization\n",
      "\n",
      "****************************************************************************************************\n",
      "\n",
      "****************************************************************************************************\n",
      "ITERATION: The iteration being evaluated.\n",
      "PIPELINE: A summary description of the pipeline being evaluated.\n",
      "DURATION: Time taken for the current iteration.\n",
      "METRIC: The result of computing score on the fitted pipeline.\n",
      "BEST: The best observed score thus far.\n",
      "****************************************************************************************************\n",
      "\n",
      " ITERATION   PIPELINE                                       DURATION      METRIC      BEST\n",
      "         1   MaxAbsScaler XGBoostClassifier                 0:00:56       0.7656    0.7656\n",
      "         3   MaxAbsScaler RandomForest                      0:00:57       0.7566    0.7656\n",
      "         0   MaxAbsScaler LightGBM                          0:00:59       0.7435    0.7656\n",
      "         2   MaxAbsScaler RandomForest                      0:00:59       0.7397    0.7656\n",
      "         4   MaxAbsScaler RandomForest                      0:01:00       0.7448    0.7656\n",
      "         5   MaxAbsScaler RandomForest                      0:00:55       0.7292    0.7656\n",
      "         7   SparseNormalizer XGBoostClassifier             0:00:47       0.7110    0.7656\n",
      "         6   SparseNormalizer XGBoostClassifier             0:01:01       0.7189    0.7656\n",
      "        10   MaxAbsScaler RandomForest                      0:00:44       0.7591    0.7656\n",
      "         8   SparseNormalizer XGBoostClassifier             0:00:49       0.7045    0.7656\n",
      "        11   SparseNormalizer XGBoostClassifier             0:00:52       0.6485    0.7656\n",
      "         9   MaxAbsScaler RandomForest                      0:00:56       0.6746    0.7656\n",
      "        13   MaxAbsScaler LogisticRegression                0:00:49       0.7683    0.7683\n",
      "        12   MaxAbsScaler ExtremeRandomTrees                0:00:54       0.7396    0.7683\n",
      "        14   SparseNormalizer LightGBM                      0:00:46       0.6759    0.7683\n",
      "        15   MaxAbsScaler LightGBM                          0:00:53       0.7474    0.7683\n",
      "        16   MaxAbsScaler LightGBM                          0:00:51       0.7409    0.7683\n",
      "        17   MaxAbsScaler LightGBM                          0:00:52       0.7657    0.7683\n",
      "        18    VotingEnsemble                                0:01:14       0.7865    0.7865\n",
      "        19    StackEnsemble                                 0:01:14       0.7774    0.7865\n"
     ]
    }
   ],
   "source": [
    "# Submit experiment\n",
    "remote_run = experiment.submit(automl_config, show_output=True)"
   ]
  },
  {
   "cell_type": "markdown",
   "metadata": {},
   "source": [
    "## Run Details\n",
    "\n",
    "The best model has resulted from the AutoML experiment from VotingEnsemble model. The Voting Ensemble model takes a majority vote of several algorithms which makes it surpass individual algorithms and minimize the bias. \n",
    "\n",
    "Use the `RunDetails` widget to show the different experiments."
   ]
  },
  {
   "cell_type": "code",
   "execution_count": 9,
   "metadata": {
    "collapsed": false,
    "gather": {
     "logged": 1598431121770
    },
    "jupyter": {
     "outputs_hidden": false,
     "source_hidden": false
    },
    "nteract": {
     "transient": {
      "deleting": false
     }
    }
   },
   "outputs": [
    {
     "data": {
      "application/vnd.jupyter.widget-view+json": {
       "model_id": "af73538edc534ce69e7d075220232247",
       "version_major": 2,
       "version_minor": 0
      },
      "text/plain": [
       "_AutoMLWidget(widget_settings={'childWidgetDisplay': 'popup', 'send_telemetry': False, 'log_level': 'INFO', 's…"
      ]
     },
     "metadata": {},
     "output_type": "display_data"
    },
    {
     "data": {
      "application/aml.mini.widget.v1": "{\"status\": \"Completed\", \"workbench_run_details_uri\": \"https://ml.azure.com/experiments/automl/runs/AutoML_14e37013-364c-45f3-9f14-5eae7d2efdbd?wsid=/subscriptions/6971f5ac-8af1-446e-8034-05acea24681f/resourcegroups/aml-quickstarts-137829/workspaces/quick-starts-ws-137829\", \"run_id\": \"AutoML_14e37013-364c-45f3-9f14-5eae7d2efdbd\", \"run_properties\": {\"run_id\": \"AutoML_14e37013-364c-45f3-9f14-5eae7d2efdbd\", \"created_utc\": \"2021-02-07T12:08:19.273036Z\", \"properties\": {\"num_iterations\": \"20\", \"training_type\": \"TrainFull\", \"acquisition_function\": \"EI\", \"primary_metric\": \"accuracy\", \"train_split\": \"0\", \"acquisition_parameter\": \"0\", \"num_cross_validation\": \"5\", \"target\": \"project-cluster\", \"AMLSettingsJsonString\": \"{\\\"path\\\":null,\\\"name\\\":\\\"automl\\\",\\\"subscription_id\\\":\\\"6971f5ac-8af1-446e-8034-05acea24681f\\\",\\\"resource_group\\\":\\\"aml-quickstarts-137829\\\",\\\"workspace_name\\\":\\\"quick-starts-ws-137829\\\",\\\"region\\\":\\\"southcentralus\\\",\\\"compute_target\\\":\\\"project-cluster\\\",\\\"spark_service\\\":null,\\\"azure_service\\\":\\\"remote\\\",\\\"many_models\\\":false,\\\"pipeline_fetch_max_batch_size\\\":1,\\\"iterations\\\":20,\\\"primary_metric\\\":\\\"accuracy\\\",\\\"task_type\\\":\\\"classification\\\",\\\"data_script\\\":null,\\\"validation_size\\\":0.0,\\\"n_cross_validations\\\":5,\\\"y_min\\\":null,\\\"y_max\\\":null,\\\"num_classes\\\":null,\\\"featurization\\\":\\\"auto\\\",\\\"_ignore_package_version_incompatibilities\\\":false,\\\"is_timeseries\\\":false,\\\"max_cores_per_iteration\\\":1,\\\"max_concurrent_iterations\\\":4,\\\"iteration_timeout_minutes\\\":null,\\\"mem_in_mb\\\":null,\\\"enforce_time_on_windows\\\":false,\\\"experiment_timeout_minutes\\\":30,\\\"experiment_exit_score\\\":null,\\\"whitelist_models\\\":null,\\\"blacklist_algos\\\":[\\\"TensorFlowLinearClassifier\\\",\\\"TensorFlowDNN\\\"],\\\"supported_models\\\":[\\\"KNN\\\",\\\"TensorFlowDNN\\\",\\\"SVM\\\",\\\"MultinomialNaiveBayes\\\",\\\"DecisionTree\\\",\\\"LogisticRegression\\\",\\\"GradientBoosting\\\",\\\"SGD\\\",\\\"LinearSVM\\\",\\\"ExtremeRandomTrees\\\",\\\"XGBoostClassifier\\\",\\\"TensorFlowLinearClassifier\\\",\\\"BernoulliNaiveBayes\\\",\\\"LightGBM\\\",\\\"RandomForest\\\",\\\"AveragedPerceptronClassifier\\\"],\\\"auto_blacklist\\\":true,\\\"blacklist_samples_reached\\\":false,\\\"exclude_nan_labels\\\":true,\\\"verbosity\\\":20,\\\"_debug_log\\\":\\\"azureml_automl.log\\\",\\\"show_warnings\\\":false,\\\"model_explainability\\\":true,\\\"service_url\\\":null,\\\"sdk_url\\\":null,\\\"sdk_packages\\\":null,\\\"enable_onnx_compatible_models\\\":false,\\\"enable_split_onnx_featurizer_estimator_models\\\":false,\\\"vm_type\\\":\\\"STANDARD_DS12_V2\\\",\\\"telemetry_verbosity\\\":20,\\\"send_telemetry\\\":true,\\\"enable_dnn\\\":false,\\\"scenario\\\":\\\"SDK-1.13.0\\\",\\\"environment_label\\\":null,\\\"force_text_dnn\\\":false,\\\"enable_feature_sweeping\\\":true,\\\"enable_early_stopping\\\":true,\\\"early_stopping_n_iters\\\":10,\\\"metrics\\\":null,\\\"enable_ensembling\\\":true,\\\"enable_stack_ensembling\\\":true,\\\"ensemble_iterations\\\":15,\\\"enable_tf\\\":false,\\\"enable_subsampling\\\":false,\\\"subsample_seed\\\":null,\\\"enable_nimbusml\\\":false,\\\"enable_streaming\\\":false,\\\"force_streaming\\\":false,\\\"track_child_runs\\\":true,\\\"allowed_private_models\\\":[],\\\"label_column_name\\\":\\\"Outcome\\\",\\\"weight_column_name\\\":null,\\\"cv_split_column_names\\\":null,\\\"enable_local_managed\\\":false,\\\"_local_managed_run_id\\\":null,\\\"cost_mode\\\":1,\\\"lag_length\\\":0,\\\"metric_operation\\\":\\\"maximize\\\",\\\"preprocess\\\":true}\", \"DataPrepJsonString\": \"{\\\\\\\"training_data\\\\\\\": \\\\\\\"{\\\\\\\\\\\\\\\"blocks\\\\\\\\\\\\\\\": [{\\\\\\\\\\\\\\\"id\\\\\\\\\\\\\\\": \\\\\\\\\\\\\\\"127fa8b3-2c84-423a-9f09-7d48fbd46fd9\\\\\\\\\\\\\\\", \\\\\\\\\\\\\\\"type\\\\\\\\\\\\\\\": \\\\\\\\\\\\\\\"Microsoft.DPrep.GetDatastoreFilesBlock\\\\\\\\\\\\\\\", \\\\\\\\\\\\\\\"arguments\\\\\\\\\\\\\\\": {\\\\\\\\\\\\\\\"datastores\\\\\\\\\\\\\\\": [{\\\\\\\\\\\\\\\"datastoreName\\\\\\\\\\\\\\\": \\\\\\\\\\\\\\\"workspaceblobstore\\\\\\\\\\\\\\\", \\\\\\\\\\\\\\\"path\\\\\\\\\\\\\\\": \\\\\\\\\\\\\\\"UI/02-07-2021_115118_UTC/diabetes.csv\\\\\\\\\\\\\\\", \\\\\\\\\\\\\\\"resourceGroup\\\\\\\\\\\\\\\": \\\\\\\\\\\\\\\"aml-quickstarts-137829\\\\\\\\\\\\\\\", \\\\\\\\\\\\\\\"subscription\\\\\\\\\\\\\\\": \\\\\\\\\\\\\\\"6971f5ac-8af1-446e-8034-05acea24681f\\\\\\\\\\\\\\\", \\\\\\\\\\\\\\\"workspaceName\\\\\\\\\\\\\\\": \\\\\\\\\\\\\\\"quick-starts-ws-137829\\\\\\\\\\\\\\\"}]}, \\\\\\\\\\\\\\\"localData\\\\\\\\\\\\\\\": {}, \\\\\\\\\\\\\\\"isEnabled\\\\\\\\\\\\\\\": true, \\\\\\\\\\\\\\\"name\\\\\\\\\\\\\\\": null, \\\\\\\\\\\\\\\"annotation\\\\\\\\\\\\\\\": null}, {\\\\\\\\\\\\\\\"id\\\\\\\\\\\\\\\": \\\\\\\\\\\\\\\"c9c5553d-6ac8-46d8-b678-cd0861f5c27e\\\\\\\\\\\\\\\", \\\\\\\\\\\\\\\"type\\\\\\\\\\\\\\\": \\\\\\\\\\\\\\\"Microsoft.DPrep.ParseDelimitedBlock\\\\\\\\\\\\\\\", \\\\\\\\\\\\\\\"arguments\\\\\\\\\\\\\\\": {\\\\\\\\\\\\\\\"columnHeadersMode\\\\\\\\\\\\\\\": 3, \\\\\\\\\\\\\\\"fileEncoding\\\\\\\\\\\\\\\": 0, \\\\\\\\\\\\\\\"handleQuotedLineBreaks\\\\\\\\\\\\\\\": false, \\\\\\\\\\\\\\\"preview\\\\\\\\\\\\\\\": false, \\\\\\\\\\\\\\\"separator\\\\\\\\\\\\\\\": \\\\\\\\\\\\\\\",\\\\\\\\\\\\\\\", \\\\\\\\\\\\\\\"skipRows\\\\\\\\\\\\\\\": 0, \\\\\\\\\\\\\\\"skipRowsMode\\\\\\\\\\\\\\\": 0}, \\\\\\\\\\\\\\\"localData\\\\\\\\\\\\\\\": {}, \\\\\\\\\\\\\\\"isEnabled\\\\\\\\\\\\\\\": true, \\\\\\\\\\\\\\\"name\\\\\\\\\\\\\\\": null, \\\\\\\\\\\\\\\"annotation\\\\\\\\\\\\\\\": null}, {\\\\\\\\\\\\\\\"id\\\\\\\\\\\\\\\": \\\\\\\\\\\\\\\"6f62b44f-b010-4064-9342-89f7ea8f8b52\\\\\\\\\\\\\\\", \\\\\\\\\\\\\\\"type\\\\\\\\\\\\\\\": \\\\\\\\\\\\\\\"Microsoft.DPrep.DropColumnsBlock\\\\\\\\\\\\\\\", \\\\\\\\\\\\\\\"arguments\\\\\\\\\\\\\\\": {\\\\\\\\\\\\\\\"columns\\\\\\\\\\\\\\\": {\\\\\\\\\\\\\\\"type\\\\\\\\\\\\\\\": 0, \\\\\\\\\\\\\\\"details\\\\\\\\\\\\\\\": {\\\\\\\\\\\\\\\"selectedColumns\\\\\\\\\\\\\\\": [\\\\\\\\\\\\\\\"Path\\\\\\\\\\\\\\\"]}}}, \\\\\\\\\\\\\\\"localData\\\\\\\\\\\\\\\": {}, \\\\\\\\\\\\\\\"isEnabled\\\\\\\\\\\\\\\": true, \\\\\\\\\\\\\\\"name\\\\\\\\\\\\\\\": null, \\\\\\\\\\\\\\\"annotation\\\\\\\\\\\\\\\": null}, {\\\\\\\\\\\\\\\"id\\\\\\\\\\\\\\\": \\\\\\\\\\\\\\\"3f211e9f-7846-464b-b01e-ef129e44a192\\\\\\\\\\\\\\\", \\\\\\\\\\\\\\\"type\\\\\\\\\\\\\\\": \\\\\\\\\\\\\\\"Microsoft.DPrep.SetColumnTypesBlock\\\\\\\\\\\\\\\", \\\\\\\\\\\\\\\"arguments\\\\\\\\\\\\\\\": {\\\\\\\\\\\\\\\"columnConversion\\\\\\\\\\\\\\\": [{\\\\\\\\\\\\\\\"column\\\\\\\\\\\\\\\": {\\\\\\\\\\\\\\\"type\\\\\\\\\\\\\\\": 2, \\\\\\\\\\\\\\\"details\\\\\\\\\\\\\\\": {\\\\\\\\\\\\\\\"selectedColumn\\\\\\\\\\\\\\\": \\\\\\\\\\\\\\\"Path\\\\\\\\\\\\\\\"}}, \\\\\\\\\\\\\\\"typeProperty\\\\\\\\\\\\\\\": 0}, {\\\\\\\\\\\\\\\"column\\\\\\\\\\\\\\\": {\\\\\\\\\\\\\\\"type\\\\\\\\\\\\\\\": 2, \\\\\\\\\\\\\\\"details\\\\\\\\\\\\\\\": {\\\\\\\\\\\\\\\"selectedColumn\\\\\\\\\\\\\\\": \\\\\\\\\\\\\\\"Pregnancies\\\\\\\\\\\\\\\"}}, \\\\\\\\\\\\\\\"typeProperty\\\\\\\\\\\\\\\": 2}, {\\\\\\\\\\\\\\\"column\\\\\\\\\\\\\\\": {\\\\\\\\\\\\\\\"type\\\\\\\\\\\\\\\": 2, \\\\\\\\\\\\\\\"details\\\\\\\\\\\\\\\": {\\\\\\\\\\\\\\\"selectedColumn\\\\\\\\\\\\\\\": \\\\\\\\\\\\\\\"Glucose\\\\\\\\\\\\\\\"}}, \\\\\\\\\\\\\\\"typeProperty\\\\\\\\\\\\\\\": 2}, {\\\\\\\\\\\\\\\"column\\\\\\\\\\\\\\\": {\\\\\\\\\\\\\\\"type\\\\\\\\\\\\\\\": 2, \\\\\\\\\\\\\\\"details\\\\\\\\\\\\\\\": {\\\\\\\\\\\\\\\"selectedColumn\\\\\\\\\\\\\\\": \\\\\\\\\\\\\\\"BloodPressure\\\\\\\\\\\\\\\"}}, \\\\\\\\\\\\\\\"typeProperty\\\\\\\\\\\\\\\": 2}, {\\\\\\\\\\\\\\\"column\\\\\\\\\\\\\\\": {\\\\\\\\\\\\\\\"type\\\\\\\\\\\\\\\": 2, \\\\\\\\\\\\\\\"details\\\\\\\\\\\\\\\": {\\\\\\\\\\\\\\\"selectedColumn\\\\\\\\\\\\\\\": \\\\\\\\\\\\\\\"SkinThickness\\\\\\\\\\\\\\\"}}, \\\\\\\\\\\\\\\"typeProperty\\\\\\\\\\\\\\\": 2}, {\\\\\\\\\\\\\\\"column\\\\\\\\\\\\\\\": {\\\\\\\\\\\\\\\"type\\\\\\\\\\\\\\\": 2, \\\\\\\\\\\\\\\"details\\\\\\\\\\\\\\\": {\\\\\\\\\\\\\\\"selectedColumn\\\\\\\\\\\\\\\": \\\\\\\\\\\\\\\"Insulin\\\\\\\\\\\\\\\"}}, \\\\\\\\\\\\\\\"typeProperty\\\\\\\\\\\\\\\": 2}, {\\\\\\\\\\\\\\\"column\\\\\\\\\\\\\\\": {\\\\\\\\\\\\\\\"type\\\\\\\\\\\\\\\": 2, \\\\\\\\\\\\\\\"details\\\\\\\\\\\\\\\": {\\\\\\\\\\\\\\\"selectedColumn\\\\\\\\\\\\\\\": \\\\\\\\\\\\\\\"BMI\\\\\\\\\\\\\\\"}}, \\\\\\\\\\\\\\\"typeProperty\\\\\\\\\\\\\\\": 3}, {\\\\\\\\\\\\\\\"column\\\\\\\\\\\\\\\": {\\\\\\\\\\\\\\\"type\\\\\\\\\\\\\\\": 2, \\\\\\\\\\\\\\\"details\\\\\\\\\\\\\\\": {\\\\\\\\\\\\\\\"selectedColumn\\\\\\\\\\\\\\\": \\\\\\\\\\\\\\\"DiabetesPedigreeFunction\\\\\\\\\\\\\\\"}}, \\\\\\\\\\\\\\\"typeProperty\\\\\\\\\\\\\\\": 3}, {\\\\\\\\\\\\\\\"column\\\\\\\\\\\\\\\": {\\\\\\\\\\\\\\\"type\\\\\\\\\\\\\\\": 2, \\\\\\\\\\\\\\\"details\\\\\\\\\\\\\\\": {\\\\\\\\\\\\\\\"selectedColumn\\\\\\\\\\\\\\\": \\\\\\\\\\\\\\\"Age\\\\\\\\\\\\\\\"}}, \\\\\\\\\\\\\\\"typeProperty\\\\\\\\\\\\\\\": 2}, {\\\\\\\\\\\\\\\"column\\\\\\\\\\\\\\\": {\\\\\\\\\\\\\\\"type\\\\\\\\\\\\\\\": 2, \\\\\\\\\\\\\\\"details\\\\\\\\\\\\\\\": {\\\\\\\\\\\\\\\"selectedColumn\\\\\\\\\\\\\\\": \\\\\\\\\\\\\\\"Outcome\\\\\\\\\\\\\\\"}}, \\\\\\\\\\\\\\\"typeProperty\\\\\\\\\\\\\\\": 2}]}, \\\\\\\\\\\\\\\"localData\\\\\\\\\\\\\\\": {}, \\\\\\\\\\\\\\\"isEnabled\\\\\\\\\\\\\\\": true, \\\\\\\\\\\\\\\"name\\\\\\\\\\\\\\\": null, \\\\\\\\\\\\\\\"annotation\\\\\\\\\\\\\\\": null}], \\\\\\\\\\\\\\\"inspectors\\\\\\\\\\\\\\\": [], \\\\\\\\\\\\\\\"meta\\\\\\\\\\\\\\\": {\\\\\\\\\\\\\\\"savedDatasetId\\\\\\\\\\\\\\\": \\\\\\\\\\\\\\\"aff48089-1f04-40a6-88c3-f2f06107285d\\\\\\\\\\\\\\\", \\\\\\\\\\\\\\\"datasetType\\\\\\\\\\\\\\\": \\\\\\\\\\\\\\\"tabular\\\\\\\\\\\\\\\", \\\\\\\\\\\\\\\"subscriptionId\\\\\\\\\\\\\\\": \\\\\\\\\\\\\\\"6971f5ac-8af1-446e-8034-05acea24681f\\\\\\\\\\\\\\\", \\\\\\\\\\\\\\\"workspaceId\\\\\\\\\\\\\\\": \\\\\\\\\\\\\\\"258ac36d-11d0-41ed-b651-9d4d9976e677\\\\\\\\\\\\\\\", \\\\\\\\\\\\\\\"workspaceLocation\\\\\\\\\\\\\\\": \\\\\\\\\\\\\\\"southcentralus\\\\\\\\\\\\\\\"}}\\\\\\\", \\\\\\\"activities\\\\\\\": 0}\", \"EnableSubsampling\": \"False\", \"runTemplate\": \"AutoML\", \"azureml.runsource\": \"automl\", \"display_task_type\": \"classification\", \"dependencies_versions\": \"{\\\"azureml-widgets\\\": \\\"1.20.0\\\", \\\"azureml-train\\\": \\\"1.20.0\\\", \\\"azureml-train-restclients-hyperdrive\\\": \\\"1.20.0\\\", \\\"azureml-train-core\\\": \\\"1.20.0\\\", \\\"azureml-train-automl\\\": \\\"1.20.0\\\", \\\"azureml-train-automl-runtime\\\": \\\"1.20.0\\\", \\\"azureml-train-automl-client\\\": \\\"1.20.0\\\", \\\"azureml-tensorboard\\\": \\\"1.20.0\\\", \\\"azureml-telemetry\\\": \\\"1.20.0\\\", \\\"azureml-sdk\\\": \\\"1.20.0\\\", \\\"azureml-samples\\\": \\\"0+unknown\\\", \\\"azureml-pipeline\\\": \\\"1.20.0\\\", \\\"azureml-pipeline-steps\\\": \\\"1.20.0\\\", \\\"azureml-pipeline-core\\\": \\\"1.20.0\\\", \\\"azureml-opendatasets\\\": \\\"1.20.0\\\", \\\"azureml-model-management-sdk\\\": \\\"1.0.1b6.post1\\\", \\\"azureml-mlflow\\\": \\\"1.20.0.post1\\\", \\\"azureml-interpret\\\": \\\"1.20.0\\\", \\\"azureml-explain-model\\\": \\\"1.20.0\\\", \\\"azureml-defaults\\\": \\\"1.20.0\\\", \\\"azureml-dataset-runtime\\\": \\\"1.20.0\\\", \\\"azureml-dataprep\\\": \\\"2.7.3\\\", \\\"azureml-dataprep-rslex\\\": \\\"1.5.0\\\", \\\"azureml-dataprep-native\\\": \\\"27.0.0\\\", \\\"azureml-datadrift\\\": \\\"1.20.0\\\", \\\"azureml-core\\\": \\\"1.20.0\\\", \\\"azureml-contrib-services\\\": \\\"1.20.0\\\", \\\"azureml-contrib-server\\\": \\\"1.20.0\\\", \\\"azureml-contrib-reinforcementlearning\\\": \\\"1.20.0\\\", \\\"azureml-contrib-pipeline-steps\\\": \\\"1.20.0\\\", \\\"azureml-contrib-notebook\\\": \\\"1.20.0\\\", \\\"azureml-contrib-interpret\\\": \\\"1.20.0\\\", \\\"azureml-contrib-gbdt\\\": \\\"1.20.0\\\", \\\"azureml-contrib-fairness\\\": \\\"1.20.0\\\", \\\"azureml-contrib-dataset\\\": \\\"1.20.0\\\", \\\"azureml-cli-common\\\": \\\"1.20.0\\\", \\\"azureml-automl-runtime\\\": \\\"1.20.0\\\", \\\"azureml-automl-core\\\": \\\"1.20.0\\\", \\\"azureml-accel-models\\\": \\\"1.20.0\\\"}\", \"_aml_system_scenario_identification\": \"Remote.Parent\", \"ClientType\": \"SDK\", \"environment_cpu_name\": \"AzureML-AutoML\", \"environment_cpu_label\": \"prod\", \"environment_gpu_name\": \"AzureML-AutoML-GPU\", \"environment_gpu_label\": \"prod\", \"root_attribution\": \"automl\", \"attribution\": \"AutoML\", \"Orchestrator\": \"AutoML\", \"CancelUri\": \"https://southcentralus.experiments.azureml.net/jasmine/v1.0/subscriptions/6971f5ac-8af1-446e-8034-05acea24681f/resourceGroups/aml-quickstarts-137829/providers/Microsoft.MachineLearningServices/workspaces/quick-starts-ws-137829/experimentids/5e229304-f2ac-424b-814f-b2d13bccf389/cancel/AutoML_14e37013-364c-45f3-9f14-5eae7d2efdbd\", \"ClientSdkVersion\": \"1.21.0\", \"snapshotId\": \"00000000-0000-0000-0000-000000000000\", \"SetupRunId\": \"AutoML_14e37013-364c-45f3-9f14-5eae7d2efdbd_setup\", \"SetupRunContainerId\": \"dcid.AutoML_14e37013-364c-45f3-9f14-5eae7d2efdbd_setup\", \"FeaturizationRunJsonPath\": \"featurizer_container.json\", \"FeaturizationRunId\": \"AutoML_14e37013-364c-45f3-9f14-5eae7d2efdbd_featurize\", \"ProblemInfoJsonString\": \"{\\\"dataset_num_categorical\\\": 0, \\\"is_sparse\\\": true, \\\"subsampling\\\": false, \\\"dataset_classes\\\": 2, \\\"dataset_features\\\": 24, \\\"dataset_samples\\\": 768, \\\"single_frequency_class_detected\\\": false}\", \"ModelExplainRunId\": \"AutoML_14e37013-364c-45f3-9f14-5eae7d2efdbd_ModelExplain\"}, \"tags\": {\"model_explain_run\": \"best_run\", \"_aml_system_azureml.automlComponent\": \"AutoML\", \"pipeline_id\": \"\", \"score\": \"\", \"predicted_cost\": \"\", \"fit_time\": \"\", \"training_percent\": \"\", \"iteration\": \"\", \"run_preprocessor\": \"\", \"run_algorithm\": \"\", \"automl_best_child_run_id\": \"AutoML_14e37013-364c-45f3-9f14-5eae7d2efdbd_18\", \"model_explain_best_run_child_id\": \"AutoML_14e37013-364c-45f3-9f14-5eae7d2efdbd_18\"}, \"end_time_utc\": \"2021-02-07T12:18:45.672116Z\", \"status\": \"Completed\", \"log_files\": {}, \"log_groups\": [], \"run_duration\": \"0:10:26\"}, \"child_runs\": [{\"run_id\": \"AutoML_14e37013-364c-45f3-9f14-5eae7d2efdbd_3\", \"run_number\": 30, \"metric\": null, \"status\": \"Completed\", \"run_type\": \"azureml.scriptrun\", \"training_percent\": \"100\", \"start_time\": \"2021-02-07T12:11:21.687111Z\", \"end_time\": \"2021-02-07T12:12:18.643535Z\", \"created_time\": \"2021-02-07T12:11:10.017589Z\", \"created_time_dt\": \"2021-02-07T12:11:10.017589Z\", \"duration\": \"0:01:08\", \"iteration\": \"3\", \"goal\": \"accuracy_max\", \"run_name\": \"MaxAbsScaler, RandomForest\", \"run_properties\": \"copy=True\", \"primary_metric\": 0.75659961, \"best_metric\": 0.76563959}, {\"run_id\": \"AutoML_14e37013-364c-45f3-9f14-5eae7d2efdbd_1\", \"run_number\": 31, \"metric\": null, \"status\": \"Completed\", \"run_type\": \"azureml.scriptrun\", \"training_percent\": \"100\", \"start_time\": \"2021-02-07T12:11:23.244755Z\", \"end_time\": \"2021-02-07T12:12:18.934642Z\", \"created_time\": \"2021-02-07T12:11:10.021614Z\", \"created_time_dt\": \"2021-02-07T12:11:10.021614Z\", \"duration\": \"0:01:08\", \"iteration\": \"1\", \"goal\": \"accuracy_max\", \"run_name\": \"MaxAbsScaler, XGBoostClassifier\", \"run_properties\": \"copy=True\", \"primary_metric\": 0.76563959, \"best_metric\": 0.76563959}, {\"run_id\": \"AutoML_14e37013-364c-45f3-9f14-5eae7d2efdbd_2\", \"run_number\": 32, \"metric\": null, \"status\": \"Completed\", \"run_type\": \"azureml.scriptrun\", \"training_percent\": \"100\", \"start_time\": \"2021-02-07T12:11:24.671469Z\", \"end_time\": \"2021-02-07T12:12:23.640696Z\", \"created_time\": \"2021-02-07T12:11:10.17478Z\", \"created_time_dt\": \"2021-02-07T12:11:10.17478Z\", \"duration\": \"0:01:13\", \"iteration\": \"2\", \"goal\": \"accuracy_max\", \"run_name\": \"MaxAbsScaler, RandomForest\", \"run_properties\": \"copy=True\", \"primary_metric\": 0.73968254, \"best_metric\": 0.76563959}, {\"run_id\": \"AutoML_14e37013-364c-45f3-9f14-5eae7d2efdbd_0\", \"run_number\": 33, \"metric\": null, \"status\": \"Completed\", \"run_type\": \"azureml.scriptrun\", \"training_percent\": \"100\", \"start_time\": \"2021-02-07T12:11:22.599056Z\", \"end_time\": \"2021-02-07T12:12:22.097936Z\", \"created_time\": \"2021-02-07T12:11:10.176041Z\", \"created_time_dt\": \"2021-02-07T12:11:10.176041Z\", \"duration\": \"0:01:11\", \"iteration\": \"0\", \"goal\": \"accuracy_max\", \"run_name\": \"MaxAbsScaler, LightGBM\", \"run_properties\": \"copy=True\", \"primary_metric\": 0.74352771, \"best_metric\": 0.74352771}, {\"run_id\": \"AutoML_14e37013-364c-45f3-9f14-5eae7d2efdbd_5\", \"run_number\": 34, \"metric\": null, \"status\": \"Completed\", \"run_type\": \"azureml.scriptrun\", \"training_percent\": \"100\", \"start_time\": \"2021-02-07T12:12:40.552702Z\", \"end_time\": \"2021-02-07T12:13:35.261334Z\", \"created_time\": \"2021-02-07T12:12:24.339412Z\", \"created_time_dt\": \"2021-02-07T12:12:24.339412Z\", \"duration\": \"0:01:10\", \"iteration\": \"5\", \"goal\": \"accuracy_max\", \"run_name\": \"MaxAbsScaler, RandomForest\", \"run_properties\": \"copy=True\", \"primary_metric\": 0.72918258, \"best_metric\": 0.76563959}, {\"run_id\": \"AutoML_14e37013-364c-45f3-9f14-5eae7d2efdbd_4\", \"run_number\": 35, \"metric\": null, \"status\": \"Completed\", \"run_type\": \"azureml.scriptrun\", \"training_percent\": \"100\", \"start_time\": \"2021-02-07T12:12:40.108Z\", \"end_time\": \"2021-02-07T12:13:39.718157Z\", \"created_time\": \"2021-02-07T12:12:24.454228Z\", \"created_time_dt\": \"2021-02-07T12:12:24.454228Z\", \"duration\": \"0:01:15\", \"iteration\": \"4\", \"goal\": \"accuracy_max\", \"run_name\": \"MaxAbsScaler, RandomForest\", \"run_properties\": \"copy=True\", \"primary_metric\": 0.74481793, \"best_metric\": 0.76563959}, {\"run_id\": \"AutoML_14e37013-364c-45f3-9f14-5eae7d2efdbd_7\", \"run_number\": 36, \"metric\": null, \"status\": \"Completed\", \"run_type\": \"azureml.scriptrun\", \"training_percent\": \"100\", \"start_time\": \"2021-02-07T12:12:49.447851Z\", \"end_time\": \"2021-02-07T12:13:36.50694Z\", \"created_time\": \"2021-02-07T12:12:32.987917Z\", \"created_time_dt\": \"2021-02-07T12:12:32.987917Z\", \"duration\": \"0:01:03\", \"iteration\": \"7\", \"goal\": \"accuracy_max\", \"run_name\": \"SparseNormalizer, XGBoostClassifier\", \"run_properties\": \"<azureml.automl.runtime.shared.model_wrappers.SparseNormalizer object at 0x7f8fcde95860\", \"primary_metric\": 0.71102623, \"best_metric\": 0.76563959}, {\"run_id\": \"AutoML_14e37013-364c-45f3-9f14-5eae7d2efdbd_6\", \"run_number\": 37, \"metric\": null, \"status\": \"Completed\", \"run_type\": \"azureml.scriptrun\", \"training_percent\": \"100\", \"start_time\": \"2021-02-07T12:12:47.978935Z\", \"end_time\": \"2021-02-07T12:13:49.30425Z\", \"created_time\": \"2021-02-07T12:12:33.138653Z\", \"created_time_dt\": \"2021-02-07T12:12:33.138653Z\", \"duration\": \"0:01:16\", \"iteration\": \"6\", \"goal\": \"accuracy_max\", \"run_name\": \"SparseNormalizer, XGBoostClassifier\", \"run_properties\": \"<azureml.automl.runtime.shared.model_wrappers.SparseNormalizer object at 0x7f408eb0aa90\", \"primary_metric\": 0.71886088, \"best_metric\": 0.76563959}, {\"run_id\": \"AutoML_14e37013-364c-45f3-9f14-5eae7d2efdbd_8\", \"run_number\": 38, \"metric\": null, \"status\": \"Completed\", \"run_type\": \"azureml.scriptrun\", \"training_percent\": \"100\", \"start_time\": \"2021-02-07T12:13:54.396478Z\", \"end_time\": \"2021-02-07T12:14:43.12209Z\", \"created_time\": \"2021-02-07T12:13:38.39559Z\", \"created_time_dt\": \"2021-02-07T12:13:38.39559Z\", \"duration\": \"0:01:04\", \"iteration\": \"8\", \"goal\": \"accuracy_max\", \"run_name\": \"SparseNormalizer, XGBoostClassifier\", \"run_properties\": \"<azureml.automl.runtime.shared.model_wrappers.SparseNormalizer object at 0x7fd522988e48\", \"primary_metric\": 0.70453272, \"best_metric\": 0.76563959}, {\"run_id\": \"AutoML_14e37013-364c-45f3-9f14-5eae7d2efdbd_9\", \"run_number\": 39, \"metric\": null, \"status\": \"Completed\", \"run_type\": \"azureml.scriptrun\", \"training_percent\": \"100\", \"start_time\": \"2021-02-07T12:13:57.969385Z\", \"end_time\": \"2021-02-07T12:14:53.477137Z\", \"created_time\": \"2021-02-07T12:13:43.544953Z\", \"created_time_dt\": \"2021-02-07T12:13:43.544953Z\", \"duration\": \"0:01:09\", \"iteration\": \"9\", \"goal\": \"accuracy_max\", \"run_name\": \"MaxAbsScaler, RandomForest\", \"run_properties\": \"copy=True\", \"primary_metric\": 0.67460317, \"best_metric\": 0.76563959}, {\"run_id\": \"AutoML_14e37013-364c-45f3-9f14-5eae7d2efdbd_10\", \"run_number\": 40, \"metric\": null, \"status\": \"Completed\", \"run_type\": \"azureml.scriptrun\", \"training_percent\": \"100\", \"start_time\": \"2021-02-07T12:13:58.857731Z\", \"end_time\": \"2021-02-07T12:14:42.402336Z\", \"created_time\": \"2021-02-07T12:13:43.695923Z\", \"created_time_dt\": \"2021-02-07T12:13:43.695923Z\", \"duration\": \"0:00:58\", \"iteration\": \"10\", \"goal\": \"accuracy_max\", \"run_name\": \"MaxAbsScaler, RandomForest\", \"run_properties\": \"copy=True\", \"primary_metric\": 0.75914608, \"best_metric\": 0.76563959}, {\"run_id\": \"AutoML_14e37013-364c-45f3-9f14-5eae7d2efdbd_11\", \"run_number\": 41, \"metric\": null, \"status\": \"Completed\", \"run_type\": \"azureml.scriptrun\", \"training_percent\": \"100\", \"start_time\": \"2021-02-07T12:14:03.900204Z\", \"end_time\": \"2021-02-07T12:14:56.281597Z\", \"created_time\": \"2021-02-07T12:13:51.376456Z\", \"created_time_dt\": \"2021-02-07T12:13:51.376456Z\", \"duration\": \"0:01:04\", \"iteration\": \"11\", \"goal\": \"accuracy_max\", \"run_name\": \"SparseNormalizer, XGBoostClassifier\", \"run_properties\": \"<azureml.automl.runtime.shared.model_wrappers.SparseNormalizer object at 0x7f2cdecf1a58\", \"primary_metric\": 0.64846787, \"best_metric\": 0.76563959}, {\"run_id\": \"AutoML_14e37013-364c-45f3-9f14-5eae7d2efdbd_13\", \"run_number\": 42, \"metric\": null, \"status\": \"Completed\", \"run_type\": \"azureml.scriptrun\", \"training_percent\": \"100\", \"start_time\": \"2021-02-07T12:14:59.520834Z\", \"end_time\": \"2021-02-07T12:15:48.766905Z\", \"created_time\": \"2021-02-07T12:14:45.693496Z\", \"created_time_dt\": \"2021-02-07T12:14:45.693496Z\", \"duration\": \"0:01:03\", \"iteration\": \"13\", \"goal\": \"accuracy_max\", \"run_name\": \"MaxAbsScaler, LogisticRegression\", \"run_properties\": \"copy=True\", \"primary_metric\": 0.76826246, \"best_metric\": 0.76826246}, {\"run_id\": \"AutoML_14e37013-364c-45f3-9f14-5eae7d2efdbd_12\", \"run_number\": 43, \"metric\": null, \"status\": \"Completed\", \"run_type\": \"azureml.scriptrun\", \"training_percent\": \"100\", \"start_time\": \"2021-02-07T12:14:58.934241Z\", \"end_time\": \"2021-02-07T12:15:52.491728Z\", \"created_time\": \"2021-02-07T12:14:45.721959Z\", \"created_time_dt\": \"2021-02-07T12:14:45.721959Z\", \"duration\": \"0:01:06\", \"iteration\": \"12\", \"goal\": \"accuracy_max\", \"run_name\": \"MaxAbsScaler, ExtremeRandomTrees\", \"run_properties\": \"copy=True\", \"primary_metric\": 0.7396401, \"best_metric\": 0.76563959}, {\"run_id\": \"AutoML_14e37013-364c-45f3-9f14-5eae7d2efdbd_14\", \"run_number\": 44, \"metric\": null, \"status\": \"Completed\", \"run_type\": \"azureml.scriptrun\", \"training_percent\": \"100\", \"start_time\": \"2021-02-07T12:15:09.318118Z\", \"end_time\": \"2021-02-07T12:15:55.451294Z\", \"created_time\": \"2021-02-07T12:14:55.639522Z\", \"created_time_dt\": \"2021-02-07T12:14:55.639522Z\", \"duration\": \"0:00:59\", \"iteration\": \"14\", \"goal\": \"accuracy_max\", \"run_name\": \"SparseNormalizer, LightGBM\", \"run_properties\": \"<azureml.automl.runtime.shared.model_wrappers.SparseNormalizer object at 0x7fbee6bbf6d8\", \"primary_metric\": 0.67585095, \"best_metric\": 0.76826246}, {\"run_id\": \"AutoML_14e37013-364c-45f3-9f14-5eae7d2efdbd_15\", \"run_number\": 45, \"metric\": null, \"status\": \"Completed\", \"run_type\": \"azureml.scriptrun\", \"training_percent\": \"100\", \"start_time\": \"2021-02-07T12:15:12.298104Z\", \"end_time\": \"2021-02-07T12:16:05.134685Z\", \"created_time\": \"2021-02-07T12:15:00.982101Z\", \"created_time_dt\": \"2021-02-07T12:15:00.982101Z\", \"duration\": \"0:01:04\", \"iteration\": \"15\", \"goal\": \"accuracy_max\", \"run_name\": \"MaxAbsScaler, LightGBM\", \"run_properties\": \"copy=True\", \"primary_metric\": 0.74740684, \"best_metric\": 0.76826246}, {\"run_id\": \"AutoML_14e37013-364c-45f3-9f14-5eae7d2efdbd_16\", \"run_number\": 46, \"metric\": null, \"status\": \"Completed\", \"run_type\": \"azureml.scriptrun\", \"training_percent\": \"100\", \"start_time\": \"2021-02-07T12:16:08.178156Z\", \"end_time\": \"2021-02-07T12:16:58.953565Z\", \"created_time\": \"2021-02-07T12:15:51.229262Z\", \"created_time_dt\": \"2021-02-07T12:15:51.229262Z\", \"duration\": \"0:01:07\", \"iteration\": \"16\", \"goal\": \"accuracy_max\", \"run_name\": \"MaxAbsScaler, LightGBM\", \"run_properties\": \"copy=True\", \"primary_metric\": 0.74094729, \"best_metric\": 0.76826246}, {\"run_id\": \"AutoML_14e37013-364c-45f3-9f14-5eae7d2efdbd_17\", \"run_number\": 47, \"metric\": null, \"status\": \"Completed\", \"run_type\": \"azureml.scriptrun\", \"training_percent\": \"100\", \"start_time\": \"2021-02-07T12:16:08.283328Z\", \"end_time\": \"2021-02-07T12:17:00.322436Z\", \"created_time\": \"2021-02-07T12:15:55.430711Z\", \"created_time_dt\": \"2021-02-07T12:15:55.430711Z\", \"duration\": \"0:01:04\", \"iteration\": \"17\", \"goal\": \"accuracy_max\", \"run_name\": \"MaxAbsScaler, LightGBM\", \"run_properties\": \"copy=True\", \"primary_metric\": 0.76569052, \"best_metric\": 0.76826246}, {\"run_id\": \"AutoML_14e37013-364c-45f3-9f14-5eae7d2efdbd_19\", \"run_number\": 48, \"metric\": null, \"status\": \"Completed\", \"run_type\": \"azureml.scriptrun\", \"training_percent\": \"100\", \"start_time\": \"2021-02-07T12:17:18.393335Z\", \"end_time\": \"2021-02-07T12:18:32.754116Z\", \"created_time\": \"2021-02-07T12:17:01.77166Z\", \"created_time_dt\": \"2021-02-07T12:17:01.77166Z\", \"duration\": \"0:01:30\", \"iteration\": \"19\", \"goal\": \"accuracy_max\", \"run_name\": \"StackEnsemble\", \"run_properties\": \"base_learners=[('13',\\n                                        Pipeline(memory=None,\\n                                                 steps=[('maxabsscaler',\\n                                                         MaxAbsScaler(copy=True\", \"primary_metric\": 0.77737883, \"best_metric\": 0.78650369}, {\"run_id\": \"AutoML_14e37013-364c-45f3-9f14-5eae7d2efdbd_18\", \"run_number\": 49, \"metric\": null, \"status\": \"Completed\", \"run_type\": \"azureml.scriptrun\", \"training_percent\": \"100\", \"start_time\": \"2021-02-07T12:17:19.35254Z\", \"end_time\": \"2021-02-07T12:18:33.256215Z\", \"created_time\": \"2021-02-07T12:17:01.758323Z\", \"created_time_dt\": \"2021-02-07T12:17:01.758323Z\", \"duration\": \"0:01:31\", \"iteration\": \"18\", \"goal\": \"accuracy_max\", \"run_name\": \"VotingEnsemble\", \"run_properties\": \"classification_labels=None,\\n                              estimators=[('13',\\n                                           Pipeline(memory=None,\\n                                                    steps=[('maxabsscaler',\\n                                                            MaxAbsScaler(copy=True\", \"primary_metric\": 0.78650369, \"best_metric\": 0.78650369}], \"children_metrics\": {\"categories\": [0], \"series\": {\"average_precision_score_macro\": [{\"categories\": [\"0\", \"1\", \"2\", \"3\", \"4\", \"5\", \"6\", \"7\", \"8\", \"9\", \"10\", \"11\", \"12\", \"13\", \"14\", \"15\", \"16\", \"17\", \"18\", \"19\"], \"mode\": \"markers\", \"name\": \"average_precision_score_macro\", \"stepped\": false, \"type\": \"scatter\", \"data\": [0.7848257443237637, 0.8102231075585553, 0.7898597470734858, 0.7989880226353308, 0.8047517762224177, 0.777617276505649, 0.7543822265332896, 0.7317267872368305, 0.7242857680378055, 0.7986045449753932, 0.8042103460737493, 0.657615829876303, 0.8033990963693525, 0.7929430787720959, 0.6729409421472916, 0.8055460327710318, 0.8052552710821775, 0.8135316963093115, 0.8214962213726935, 0.8224637961137414]}, {\"categories\": [\"0\", \"1\", \"2\", \"3\", \"4\", \"5\", \"6\", \"7\", \"8\", \"9\", \"10\", \"11\", \"12\", \"13\", \"14\", \"15\", \"16\", \"17\", \"18\", \"19\"], \"mode\": \"lines\", \"name\": \"average_precision_score_macro_max\", \"stepped\": true, \"type\": \"scatter\", \"data\": [0.7848257443237637, 0.8102231075585553, 0.8102231075585553, 0.8102231075585553, 0.8102231075585553, 0.8102231075585553, 0.8102231075585553, 0.8102231075585553, 0.8102231075585553, 0.8102231075585553, 0.8102231075585553, 0.8102231075585553, 0.8102231075585553, 0.8102231075585553, 0.8102231075585553, 0.8102231075585553, 0.8102231075585553, 0.8135316963093115, 0.8214962213726935, 0.8224637961137414]}], \"weighted_accuracy\": [{\"categories\": [\"0\", \"1\", \"2\", \"3\", \"4\", \"5\", \"6\", \"7\", \"8\", \"9\", \"10\", \"11\", \"12\", \"13\", \"14\", \"15\", \"16\", \"17\", \"18\", \"19\"], \"mode\": \"markers\", \"name\": \"weighted_accuracy\", \"stepped\": false, \"type\": \"scatter\", \"data\": [0.7692349431628938, 0.7906595742312594, 0.7938503859582442, 0.8078065439588485, 0.7501505665901151, 0.7215763100639935, 0.7611297202652938, 0.7579924122975384, 0.7464178984592997, 0.7787999906350346, 0.7935015113874021, 0.7347270245101865, 0.8073884126396489, 0.8117980132034847, 0.7364737354087816, 0.807476535700738, 0.811351714371128, 0.8007629011703562, 0.8283011354561935, 0.8162909779988692]}, {\"categories\": [\"0\", \"1\", \"2\", \"3\", \"4\", \"5\", \"6\", \"7\", \"8\", \"9\", \"10\", \"11\", \"12\", \"13\", \"14\", \"15\", \"16\", \"17\", \"18\", \"19\"], \"mode\": \"lines\", \"name\": \"weighted_accuracy_max\", \"stepped\": true, \"type\": \"scatter\", \"data\": [0.7692349431628938, 0.7906595742312594, 0.7938503859582442, 0.8078065439588485, 0.8078065439588485, 0.8078065439588485, 0.8078065439588485, 0.8078065439588485, 0.8078065439588485, 0.8078065439588485, 0.8078065439588485, 0.8078065439588485, 0.8078065439588485, 0.8117980132034847, 0.8117980132034847, 0.8117980132034847, 0.8117980132034847, 0.8117980132034847, 0.8283011354561935, 0.8283011354561935]}], \"f1_score_micro\": [{\"categories\": [\"0\", \"1\", \"2\", \"3\", \"4\", \"5\", \"6\", \"7\", \"8\", \"9\", \"10\", \"11\", \"12\", \"13\", \"14\", \"15\", \"16\", \"17\", \"18\", \"19\"], \"mode\": \"markers\", \"name\": \"f1_score_micro\", \"stepped\": false, \"type\": \"scatter\", \"data\": [0.7435277141159494, 0.7656395891690009, 0.7396825396825397, 0.756599609540786, 0.7448179271708684, 0.7291825821237585, 0.718860877684407, 0.7110262286732875, 0.704532722179781, 0.6746031746031746, 0.7591460826754944, 0.6484678719972838, 0.7396400984636278, 0.7682624564977505, 0.6758509464391818, 0.7474068415244886, 0.7409472880061114, 0.7656905186316949, 0.7865036923860452, 0.7773788303200068]}, {\"categories\": [\"0\", \"1\", \"2\", \"3\", \"4\", \"5\", \"6\", \"7\", \"8\", \"9\", \"10\", \"11\", \"12\", \"13\", \"14\", \"15\", \"16\", \"17\", \"18\", \"19\"], \"mode\": \"lines\", \"name\": \"f1_score_micro_max\", \"stepped\": true, \"type\": \"scatter\", \"data\": [0.7435277141159494, 0.7656395891690009, 0.7656395891690009, 0.7656395891690009, 0.7656395891690009, 0.7656395891690009, 0.7656395891690009, 0.7656395891690009, 0.7656395891690009, 0.7656395891690009, 0.7656395891690009, 0.7656395891690009, 0.7656395891690009, 0.7682624564977505, 0.7682624564977505, 0.7682624564977505, 0.7682624564977505, 0.7682624564977505, 0.7865036923860452, 0.7865036923860452]}], \"recall_score_micro\": [{\"categories\": [\"0\", \"1\", \"2\", \"3\", \"4\", \"5\", \"6\", \"7\", \"8\", \"9\", \"10\", \"11\", \"12\", \"13\", \"14\", \"15\", \"16\", \"17\", \"18\", \"19\"], \"mode\": \"markers\", \"name\": \"recall_score_micro\", \"stepped\": false, \"type\": \"scatter\", \"data\": [0.7435277141159494, 0.7656395891690009, 0.7396825396825397, 0.756599609540786, 0.7448179271708684, 0.7291825821237585, 0.718860877684407, 0.7110262286732875, 0.704532722179781, 0.6746031746031746, 0.7591460826754944, 0.6484678719972838, 0.7396400984636278, 0.7682624564977505, 0.6758509464391818, 0.7474068415244887, 0.7409472880061115, 0.765690518631695, 0.7865036923860453, 0.7773788303200068]}, {\"categories\": [\"0\", \"1\", \"2\", \"3\", \"4\", \"5\", \"6\", \"7\", \"8\", \"9\", \"10\", \"11\", \"12\", \"13\", \"14\", \"15\", \"16\", \"17\", \"18\", \"19\"], \"mode\": \"lines\", \"name\": \"recall_score_micro_max\", \"stepped\": true, \"type\": \"scatter\", \"data\": [0.7435277141159494, 0.7656395891690009, 0.7656395891690009, 0.7656395891690009, 0.7656395891690009, 0.7656395891690009, 0.7656395891690009, 0.7656395891690009, 0.7656395891690009, 0.7656395891690009, 0.7656395891690009, 0.7656395891690009, 0.7656395891690009, 0.7682624564977505, 0.7682624564977505, 0.7682624564977505, 0.7682624564977505, 0.7682624564977505, 0.7865036923860453, 0.7865036923860453]}], \"precision_score_weighted\": [{\"categories\": [\"0\", \"1\", \"2\", \"3\", \"4\", \"5\", \"6\", \"7\", \"8\", \"9\", \"10\", \"11\", \"12\", \"13\", \"14\", \"15\", \"16\", \"17\", \"18\", \"19\"], \"mode\": \"markers\", \"name\": \"precision_score_weighted\", \"stepped\": false, \"type\": \"scatter\", \"data\": [0.7422913189086859, 0.7669645066030578, 0.732825347035515, 0.7566685588446446, 0.760486302569892, 0.7647566480385787, 0.7115161895977773, 0.7024304162613891, 0.6966268353120794, 0.7063929080595747, 0.7547941010990284, 0.5918911276357762, 0.7512879123109846, 0.7686820578442385, 0.6619696053850144, 0.7462394955403763, 0.7536152165050535, 0.763140791409396, 0.7846535725313328, 0.7733915887113011]}, {\"categories\": [\"0\", \"1\", \"2\", \"3\", \"4\", \"5\", \"6\", \"7\", \"8\", \"9\", \"10\", \"11\", \"12\", \"13\", \"14\", \"15\", \"16\", \"17\", \"18\", \"19\"], \"mode\": \"lines\", \"name\": \"precision_score_weighted_max\", \"stepped\": true, \"type\": \"scatter\", \"data\": [0.7422913189086859, 0.7669645066030578, 0.7669645066030578, 0.7669645066030578, 0.7669645066030578, 0.7669645066030578, 0.7669645066030578, 0.7669645066030578, 0.7669645066030578, 0.7669645066030578, 0.7669645066030578, 0.7669645066030578, 0.7669645066030578, 0.7686820578442385, 0.7686820578442385, 0.7686820578442385, 0.7686820578442385, 0.7686820578442385, 0.7846535725313328, 0.7846535725313328]}], \"AUC_weighted\": [{\"categories\": [\"0\", \"1\", \"2\", \"3\", \"4\", \"5\", \"6\", \"7\", \"8\", \"9\", \"10\", \"11\", \"12\", \"13\", \"14\", \"15\", \"16\", \"17\", \"18\", \"19\"], \"mode\": \"markers\", \"name\": \"AUC_weighted\", \"stepped\": false, \"type\": \"scatter\", \"data\": [0.8062007971845107, 0.8324149004567104, 0.815577131011682, 0.8254746558281265, 0.8291658822056256, 0.7971249183261515, 0.7660757757340357, 0.750158214052964, 0.7428467468941343, 0.8230822445858701, 0.824734093403271, 0.6971397124948764, 0.822875272514303, 0.8096534149206394, 0.6970107504920684, 0.8293667821011453, 0.8254411998706679, 0.8353983570196322, 0.8420359935948438, 0.8417938431590137]}, {\"categories\": [\"0\", \"1\", \"2\", \"3\", \"4\", \"5\", \"6\", \"7\", \"8\", \"9\", \"10\", \"11\", \"12\", \"13\", \"14\", \"15\", \"16\", \"17\", \"18\", \"19\"], \"mode\": \"lines\", \"name\": \"AUC_weighted_max\", \"stepped\": true, \"type\": \"scatter\", \"data\": [0.8062007971845107, 0.8324149004567104, 0.8324149004567104, 0.8324149004567104, 0.8324149004567104, 0.8324149004567104, 0.8324149004567104, 0.8324149004567104, 0.8324149004567104, 0.8324149004567104, 0.8324149004567104, 0.8324149004567104, 0.8324149004567104, 0.8324149004567104, 0.8324149004567104, 0.8324149004567104, 0.8324149004567104, 0.8353983570196322, 0.8420359935948438, 0.8420359935948438]}], \"AUC_micro\": [{\"categories\": [\"0\", \"1\", \"2\", \"3\", \"4\", \"5\", \"6\", \"7\", \"8\", \"9\", \"10\", \"11\", \"12\", \"13\", \"14\", \"15\", \"16\", \"17\", \"18\", \"19\"], \"mode\": \"markers\", \"name\": \"AUC_micro\", \"stepped\": false, \"type\": \"scatter\", \"data\": [0.8308010717565983, 0.8534052480172104, 0.8351943975343069, 0.835436635627621, 0.8382311533879113, 0.7982961041237828, 0.8008986208502378, 0.7864944562603305, 0.7854547487083925, 0.799274815707806, 0.8472185132538044, 0.7397627788399069, 0.8227843221409632, 0.8371553626942413, 0.7466221721588038, 0.8378389156126989, 0.826554703337609, 0.8525468931878555, 0.8576923716785009, 0.8596175296492857]}, {\"categories\": [\"0\", \"1\", \"2\", \"3\", \"4\", \"5\", \"6\", \"7\", \"8\", \"9\", \"10\", \"11\", \"12\", \"13\", \"14\", \"15\", \"16\", \"17\", \"18\", \"19\"], \"mode\": \"lines\", \"name\": \"AUC_micro_max\", \"stepped\": true, \"type\": \"scatter\", \"data\": [0.8308010717565983, 0.8534052480172104, 0.8534052480172104, 0.8534052480172104, 0.8534052480172104, 0.8534052480172104, 0.8534052480172104, 0.8534052480172104, 0.8534052480172104, 0.8534052480172104, 0.8534052480172104, 0.8534052480172104, 0.8534052480172104, 0.8534052480172104, 0.8534052480172104, 0.8534052480172104, 0.8534052480172104, 0.8534052480172104, 0.8576923716785009, 0.8596175296492857]}], \"log_loss\": [{\"categories\": [\"0\", \"1\", \"2\", \"3\", \"4\", \"5\", \"6\", \"7\", \"8\", \"9\", \"10\", \"11\", \"12\", \"13\", \"14\", \"15\", \"16\", \"17\", \"18\", \"19\"], \"mode\": \"markers\", \"name\": \"log_loss\", \"stepped\": false, \"type\": \"scatter\", \"data\": [0.62702930996628, 0.48040462908306597, 0.504224175608777, 0.5135546934845079, 0.5034538372184969, 0.5697182494594225, 0.5429842329358994, 0.554407651698379, 0.5815167335513968, 0.5656938792528484, 0.48649370022817456, 0.6129305394703799, 0.5326278916087629, 0.502324429183733, 0.5913597754508959, 0.5170969785506008, 0.5283368081352527, 0.47923121658083645, 0.4827309271510275, 0.47963444775944464]}, {\"categories\": [\"0\", \"1\", \"2\", \"3\", \"4\", \"5\", \"6\", \"7\", \"8\", \"9\", \"10\", \"11\", \"12\", \"13\", \"14\", \"15\", \"16\", \"17\", \"18\", \"19\"], \"mode\": \"lines\", \"name\": \"log_loss_min\", \"stepped\": true, \"type\": \"scatter\", \"data\": [0.62702930996628, 0.48040462908306597, 0.48040462908306597, 0.48040462908306597, 0.48040462908306597, 0.48040462908306597, 0.48040462908306597, 0.48040462908306597, 0.48040462908306597, 0.48040462908306597, 0.48040462908306597, 0.48040462908306597, 0.48040462908306597, 0.48040462908306597, 0.48040462908306597, 0.48040462908306597, 0.48040462908306597, 0.47923121658083645, 0.47923121658083645, 0.47923121658083645]}], \"AUC_macro\": [{\"categories\": [\"0\", \"1\", \"2\", \"3\", \"4\", \"5\", \"6\", \"7\", \"8\", \"9\", \"10\", \"11\", \"12\", \"13\", \"14\", \"15\", \"16\", \"17\", \"18\", \"19\"], \"mode\": \"markers\", \"name\": \"AUC_macro\", \"stepped\": false, \"type\": \"scatter\", \"data\": [0.8062007971845107, 0.8324149004567104, 0.815577131011682, 0.8254746558281265, 0.8291658822056256, 0.7971249183261515, 0.7660757757340357, 0.750158214052964, 0.7428467468941343, 0.8230822445858701, 0.824734093403271, 0.6971397124948764, 0.822875272514303, 0.8096534149206394, 0.6970107504920684, 0.8293667821011453, 0.8254411998706679, 0.8353983570196322, 0.8420359935948438, 0.8417938431590137]}, {\"categories\": [\"0\", \"1\", \"2\", \"3\", \"4\", \"5\", \"6\", \"7\", \"8\", \"9\", \"10\", \"11\", \"12\", \"13\", \"14\", \"15\", \"16\", \"17\", \"18\", \"19\"], \"mode\": \"lines\", \"name\": \"AUC_macro_max\", \"stepped\": true, \"type\": \"scatter\", \"data\": [0.8062007971845107, 0.8324149004567104, 0.8324149004567104, 0.8324149004567104, 0.8324149004567104, 0.8324149004567104, 0.8324149004567104, 0.8324149004567104, 0.8324149004567104, 0.8324149004567104, 0.8324149004567104, 0.8324149004567104, 0.8324149004567104, 0.8324149004567104, 0.8324149004567104, 0.8324149004567104, 0.8324149004567104, 0.8353983570196322, 0.8420359935948438, 0.8420359935948438]}], \"matthews_correlation\": [{\"categories\": [\"0\", \"1\", \"2\", \"3\", \"4\", \"5\", \"6\", \"7\", \"8\", \"9\", \"10\", \"11\", \"12\", \"13\", \"14\", \"15\", \"16\", \"17\", \"18\", \"19\"], \"mode\": \"markers\", \"name\": \"matthews_correlation\", \"stepped\": false, \"type\": \"scatter\", \"data\": [0.4246377532584085, 0.4736437134256053, 0.38639520899672763, 0.43493976322940175, 0.45905278598900645, 0.4567660396748098, 0.3536736003429463, 0.3296689207197475, 0.32056869029928875, 0.19328877078582837, 0.4481777312048204, 0.10804772018981312, 0.3921110985414402, 0.4663102387993311, 0.2298762760885052, 0.3992591464532271, 0.3895168417318529, 0.4643574109422179, 0.5041214753461325, 0.4836550628552546]}, {\"categories\": [\"0\", \"1\", \"2\", \"3\", \"4\", \"5\", \"6\", \"7\", \"8\", \"9\", \"10\", \"11\", \"12\", \"13\", \"14\", \"15\", \"16\", \"17\", \"18\", \"19\"], \"mode\": \"lines\", \"name\": \"matthews_correlation_max\", \"stepped\": true, \"type\": \"scatter\", \"data\": [0.4246377532584085, 0.4736437134256053, 0.4736437134256053, 0.4736437134256053, 0.4736437134256053, 0.4736437134256053, 0.4736437134256053, 0.4736437134256053, 0.4736437134256053, 0.4736437134256053, 0.4736437134256053, 0.4736437134256053, 0.4736437134256053, 0.4736437134256053, 0.4736437134256053, 0.4736437134256053, 0.4736437134256053, 0.4736437134256053, 0.5041214753461325, 0.5041214753461325]}], \"precision_score_micro\": [{\"categories\": [\"0\", \"1\", \"2\", \"3\", \"4\", \"5\", \"6\", \"7\", \"8\", \"9\", \"10\", \"11\", \"12\", \"13\", \"14\", \"15\", \"16\", \"17\", \"18\", \"19\"], \"mode\": \"markers\", \"name\": \"precision_score_micro\", \"stepped\": false, \"type\": \"scatter\", \"data\": [0.7435277141159494, 0.7656395891690009, 0.7396825396825397, 0.756599609540786, 0.7448179271708684, 0.7291825821237585, 0.718860877684407, 0.7110262286732875, 0.704532722179781, 0.6746031746031746, 0.7591460826754944, 0.6484678719972838, 0.7396400984636278, 0.7682624564977505, 0.6758509464391818, 0.7474068415244887, 0.7409472880061115, 0.765690518631695, 0.7865036923860453, 0.7773788303200068]}, {\"categories\": [\"0\", \"1\", \"2\", \"3\", \"4\", \"5\", \"6\", \"7\", \"8\", \"9\", \"10\", \"11\", \"12\", \"13\", \"14\", \"15\", \"16\", \"17\", \"18\", \"19\"], \"mode\": \"lines\", \"name\": \"precision_score_micro_max\", \"stepped\": true, \"type\": \"scatter\", \"data\": [0.7435277141159494, 0.7656395891690009, 0.7656395891690009, 0.7656395891690009, 0.7656395891690009, 0.7656395891690009, 0.7656395891690009, 0.7656395891690009, 0.7656395891690009, 0.7656395891690009, 0.7656395891690009, 0.7656395891690009, 0.7656395891690009, 0.7682624564977505, 0.7682624564977505, 0.7682624564977505, 0.7682624564977505, 0.7682624564977505, 0.7865036923860453, 0.7865036923860453]}], \"recall_score_macro\": [{\"categories\": [\"0\", \"1\", \"2\", \"3\", \"4\", \"5\", \"6\", \"7\", \"8\", \"9\", \"10\", \"11\", \"12\", \"13\", \"14\", \"15\", \"16\", \"17\", \"18\", \"19\"], \"mode\": \"markers\", \"name\": \"recall_score_macro\", \"stepped\": false, \"type\": \"scatter\", \"data\": [0.7104731774264245, 0.7333555620308326, 0.669837980246846, 0.6921174073104266, 0.7374992209003455, 0.7386184970332289, 0.6659595592025392, 0.6515131463515089, 0.6511193839341229, 0.5434558296026303, 0.7148552035902892, 0.5438204909451553, 0.654041770725171, 0.7131587060949854, 0.5985315417260876, 0.669449533468897, 0.6510264843251516, 0.7211326428497324, 0.7317432190973184, 0.7260385365299017]}, {\"categories\": [\"0\", \"1\", \"2\", \"3\", \"4\", \"5\", \"6\", \"7\", \"8\", \"9\", \"10\", \"11\", \"12\", \"13\", \"14\", \"15\", \"16\", \"17\", \"18\", \"19\"], \"mode\": \"lines\", \"name\": \"recall_score_macro_max\", \"stepped\": true, \"type\": \"scatter\", \"data\": [0.7104731774264245, 0.7333555620308326, 0.7333555620308326, 0.7333555620308326, 0.7374992209003455, 0.7386184970332289, 0.7386184970332289, 0.7386184970332289, 0.7386184970332289, 0.7386184970332289, 0.7386184970332289, 0.7386184970332289, 0.7386184970332289, 0.7386184970332289, 0.7386184970332289, 0.7386184970332289, 0.7386184970332289, 0.7386184970332289, 0.7386184970332289, 0.7386184970332289]}], \"f1_score_macro\": [{\"categories\": [\"0\", \"1\", \"2\", \"3\", \"4\", \"5\", \"6\", \"7\", \"8\", \"9\", \"10\", \"11\", \"12\", \"13\", \"14\", \"15\", \"16\", \"17\", \"18\", \"19\"], \"mode\": \"markers\", \"name\": \"f1_score_macro\", \"stepped\": false, \"type\": \"scatter\", \"data\": [0.7110567297826602, 0.7345738794182582, 0.6775988014096905, 0.7001655126860199, 0.725608014749773, 0.7157731300620842, 0.6695423199560285, 0.6557501423243692, 0.6549949367736009, 0.48600343418807246, 0.7205618278965555, 0.4955795022259055, 0.6587928986300124, 0.7222107295619971, 0.5974676748715888, 0.6773310328489138, 0.6541401691799467, 0.7270794945014348, 0.7430531953949386, 0.7354939447033324]}, {\"categories\": [\"0\", \"1\", \"2\", \"3\", \"4\", \"5\", \"6\", \"7\", \"8\", \"9\", \"10\", \"11\", \"12\", \"13\", \"14\", \"15\", \"16\", \"17\", \"18\", \"19\"], \"mode\": \"lines\", \"name\": \"f1_score_macro_max\", \"stepped\": true, \"type\": \"scatter\", \"data\": [0.7110567297826602, 0.7345738794182582, 0.7345738794182582, 0.7345738794182582, 0.7345738794182582, 0.7345738794182582, 0.7345738794182582, 0.7345738794182582, 0.7345738794182582, 0.7345738794182582, 0.7345738794182582, 0.7345738794182582, 0.7345738794182582, 0.7345738794182582, 0.7345738794182582, 0.7345738794182582, 0.7345738794182582, 0.7345738794182582, 0.7430531953949386, 0.7430531953949386]}], \"precision_score_macro\": [{\"categories\": [\"0\", \"1\", \"2\", \"3\", \"4\", \"5\", \"6\", \"7\", \"8\", \"9\", \"10\", \"11\", \"12\", \"13\", \"14\", \"15\", \"16\", \"17\", \"18\", \"19\"], \"mode\": \"markers\", \"name\": \"precision_score_macro\", \"stepped\": false, \"type\": \"scatter\", \"data\": [0.7143475727069413, 0.7406688342517045, 0.7200997023704365, 0.7470928826407938, 0.7220383845842026, 0.7189452995462912, 0.6888042471539706, 0.6796406069772238, 0.6702000007192261, 0.7208033033033032, 0.7338389422334377, 0.5497013636174286, 0.750095536787587, 0.7555216454114074, 0.634682775104627, 0.7357082751165097, 0.7524575540231203, 0.7441100788888677, 0.7745520208054366, 0.7590229969294469]}, {\"categories\": [\"0\", \"1\", \"2\", \"3\", \"4\", \"5\", \"6\", \"7\", \"8\", \"9\", \"10\", \"11\", \"12\", \"13\", \"14\", \"15\", \"16\", \"17\", \"18\", \"19\"], \"mode\": \"lines\", \"name\": \"precision_score_macro_max\", \"stepped\": true, \"type\": \"scatter\", \"data\": [0.7143475727069413, 0.7406688342517045, 0.7406688342517045, 0.7470928826407938, 0.7470928826407938, 0.7470928826407938, 0.7470928826407938, 0.7470928826407938, 0.7470928826407938, 0.7470928826407938, 0.7470928826407938, 0.7470928826407938, 0.750095536787587, 0.7555216454114074, 0.7555216454114074, 0.7555216454114074, 0.7555216454114074, 0.7555216454114074, 0.7745520208054366, 0.7745520208054366]}], \"norm_macro_recall\": [{\"categories\": [\"0\", \"1\", \"2\", \"3\", \"4\", \"5\", \"6\", \"7\", \"8\", \"9\", \"10\", \"11\", \"12\", \"13\", \"14\", \"15\", \"16\", \"17\", \"18\", \"19\"], \"mode\": \"markers\", \"name\": \"norm_macro_recall\", \"stepped\": false, \"type\": \"scatter\", \"data\": [0.420946354852849, 0.4667111240616652, 0.3396759604936922, 0.3842348146208532, 0.4749984418006911, 0.47723699406645786, 0.33191911840507854, 0.3030262927030176, 0.30223876786824594, 0.08691165920526052, 0.42971040718057835, 0.08972431522364399, 0.30808354145034206, 0.4263174121899708, 0.19706308345217516, 0.33889906693779404, 0.3020529686503032, 0.4422652856994649, 0.46348643819463675, 0.4520770730598035]}, {\"categories\": [\"0\", \"1\", \"2\", \"3\", \"4\", \"5\", \"6\", \"7\", \"8\", \"9\", \"10\", \"11\", \"12\", \"13\", \"14\", \"15\", \"16\", \"17\", \"18\", \"19\"], \"mode\": \"lines\", \"name\": \"norm_macro_recall_max\", \"stepped\": true, \"type\": \"scatter\", \"data\": [0.420946354852849, 0.4667111240616652, 0.4667111240616652, 0.4667111240616652, 0.4749984418006911, 0.47723699406645786, 0.47723699406645786, 0.47723699406645786, 0.47723699406645786, 0.47723699406645786, 0.47723699406645786, 0.47723699406645786, 0.47723699406645786, 0.47723699406645786, 0.47723699406645786, 0.47723699406645786, 0.47723699406645786, 0.47723699406645786, 0.47723699406645786, 0.47723699406645786]}], \"accuracy\": [{\"categories\": [\"0\", \"1\", \"2\", \"3\", \"4\", \"5\", \"6\", \"7\", \"8\", \"9\", \"10\", \"11\", \"12\", \"13\", \"14\", \"15\", \"16\", \"17\", \"18\", \"19\"], \"mode\": \"markers\", \"name\": \"accuracy\", \"stepped\": false, \"type\": \"scatter\", \"data\": [0.7435277141159494, 0.7656395891690009, 0.7396825396825397, 0.756599609540786, 0.7448179271708684, 0.7291825821237585, 0.718860877684407, 0.7110262286732875, 0.704532722179781, 0.6746031746031746, 0.7591460826754944, 0.6484678719972838, 0.7396400984636278, 0.7682624564977505, 0.6758509464391818, 0.7474068415244887, 0.7409472880061115, 0.765690518631695, 0.7865036923860453, 0.7773788303200068]}, {\"categories\": [\"0\", \"1\", \"2\", \"3\", \"4\", \"5\", \"6\", \"7\", \"8\", \"9\", \"10\", \"11\", \"12\", \"13\", \"14\", \"15\", \"16\", \"17\", \"18\", \"19\"], \"mode\": \"lines\", \"name\": \"accuracy_max\", \"stepped\": true, \"type\": \"scatter\", \"data\": [0.7435277141159494, 0.7656395891690009, 0.7656395891690009, 0.7656395891690009, 0.7656395891690009, 0.7656395891690009, 0.7656395891690009, 0.7656395891690009, 0.7656395891690009, 0.7656395891690009, 0.7656395891690009, 0.7656395891690009, 0.7656395891690009, 0.7682624564977505, 0.7682624564977505, 0.7682624564977505, 0.7682624564977505, 0.7682624564977505, 0.7865036923860453, 0.7865036923860453]}], \"f1_score_weighted\": [{\"categories\": [\"0\", \"1\", \"2\", \"3\", \"4\", \"5\", \"6\", \"7\", \"8\", \"9\", \"10\", \"11\", \"12\", \"13\", \"14\", \"15\", \"16\", \"17\", \"18\", \"19\"], \"mode\": \"markers\", \"name\": \"f1_score_weighted\", \"stepped\": false, \"type\": \"scatter\", \"data\": [0.7417695202219394, 0.7642691151373454, 0.7221016023943896, 0.7404232918721598, 0.7492836489657158, 0.7356272007335108, 0.7084351228263952, 0.6983345257108604, 0.695684379849759, 0.5780069922302176, 0.7536923000274488, 0.57560877087662, 0.7101920219885093, 0.7581895994889724, 0.6527275702816946, 0.7263033197713257, 0.7088825852467542, 0.7596671335828268, 0.7773697517924348, 0.7696535731223996]}, {\"categories\": [\"0\", \"1\", \"2\", \"3\", \"4\", \"5\", \"6\", \"7\", \"8\", \"9\", \"10\", \"11\", \"12\", \"13\", \"14\", \"15\", \"16\", \"17\", \"18\", \"19\"], \"mode\": \"lines\", \"name\": \"f1_score_weighted_max\", \"stepped\": true, \"type\": \"scatter\", \"data\": [0.7417695202219394, 0.7642691151373454, 0.7642691151373454, 0.7642691151373454, 0.7642691151373454, 0.7642691151373454, 0.7642691151373454, 0.7642691151373454, 0.7642691151373454, 0.7642691151373454, 0.7642691151373454, 0.7642691151373454, 0.7642691151373454, 0.7642691151373454, 0.7642691151373454, 0.7642691151373454, 0.7642691151373454, 0.7642691151373454, 0.7773697517924348, 0.7773697517924348]}], \"average_precision_score_micro\": [{\"categories\": [\"0\", \"1\", \"2\", \"3\", \"4\", \"5\", \"6\", \"7\", \"8\", \"9\", \"10\", \"11\", \"12\", \"13\", \"14\", \"15\", \"16\", \"17\", \"18\", \"19\"], \"mode\": \"markers\", \"name\": \"average_precision_score_micro\", \"stepped\": false, \"type\": \"scatter\", \"data\": [0.8327853787564277, 0.8532463783590838, 0.8390651126422831, 0.8414142491176182, 0.8415839106907639, 0.7995428474570937, 0.8035091285138671, 0.7841739193583097, 0.7746861330663863, 0.8132109117656571, 0.8456164200202071, 0.727791529370266, 0.8297610578882919, 0.8305911420422737, 0.7429785054709046, 0.8442146391925178, 0.8321332464815644, 0.8547189952754015, 0.8599512092793296, 0.8611241465799278]}, {\"categories\": [\"0\", \"1\", \"2\", \"3\", \"4\", \"5\", \"6\", \"7\", \"8\", \"9\", \"10\", \"11\", \"12\", \"13\", \"14\", \"15\", \"16\", \"17\", \"18\", \"19\"], \"mode\": \"lines\", \"name\": \"average_precision_score_micro_max\", \"stepped\": true, \"type\": \"scatter\", \"data\": [0.8327853787564277, 0.8532463783590838, 0.8532463783590838, 0.8532463783590838, 0.8532463783590838, 0.8532463783590838, 0.8532463783590838, 0.8532463783590838, 0.8532463783590838, 0.8532463783590838, 0.8532463783590838, 0.8532463783590838, 0.8532463783590838, 0.8532463783590838, 0.8532463783590838, 0.8532463783590838, 0.8532463783590838, 0.8547189952754015, 0.8599512092793296, 0.8611241465799278]}], \"recall_score_weighted\": [{\"categories\": [\"0\", \"1\", \"2\", \"3\", \"4\", \"5\", \"6\", \"7\", \"8\", \"9\", \"10\", \"11\", \"12\", \"13\", \"14\", \"15\", \"16\", \"17\", \"18\", \"19\"], \"mode\": \"markers\", \"name\": \"recall_score_weighted\", \"stepped\": false, \"type\": \"scatter\", \"data\": [0.7435277141159494, 0.7656395891690009, 0.7396825396825397, 0.756599609540786, 0.7448179271708684, 0.7291825821237585, 0.718860877684407, 0.7110262286732875, 0.704532722179781, 0.6746031746031746, 0.7591460826754944, 0.6484678719972838, 0.7396400984636278, 0.7682624564977505, 0.6758509464391818, 0.7474068415244887, 0.7409472880061115, 0.765690518631695, 0.7865036923860453, 0.7773788303200068]}, {\"categories\": [\"0\", \"1\", \"2\", \"3\", \"4\", \"5\", \"6\", \"7\", \"8\", \"9\", \"10\", \"11\", \"12\", \"13\", \"14\", \"15\", \"16\", \"17\", \"18\", \"19\"], \"mode\": \"lines\", \"name\": \"recall_score_weighted_max\", \"stepped\": true, \"type\": \"scatter\", \"data\": [0.7435277141159494, 0.7656395891690009, 0.7656395891690009, 0.7656395891690009, 0.7656395891690009, 0.7656395891690009, 0.7656395891690009, 0.7656395891690009, 0.7656395891690009, 0.7656395891690009, 0.7656395891690009, 0.7656395891690009, 0.7656395891690009, 0.7682624564977505, 0.7682624564977505, 0.7682624564977505, 0.7682624564977505, 0.7682624564977505, 0.7865036923860453, 0.7865036923860453]}], \"balanced_accuracy\": [{\"categories\": [\"0\", \"1\", \"2\", \"3\", \"4\", \"5\", \"6\", \"7\", \"8\", \"9\", \"10\", \"11\", \"12\", \"13\", \"14\", \"15\", \"16\", \"17\", \"18\", \"19\"], \"mode\": \"markers\", \"name\": \"balanced_accuracy\", \"stepped\": false, \"type\": \"scatter\", \"data\": [0.7104731774264245, 0.7333555620308326, 0.669837980246846, 0.6921174073104266, 0.7374992209003455, 0.7386184970332289, 0.6659595592025392, 0.6515131463515089, 0.6511193839341229, 0.5434558296026303, 0.7148552035902892, 0.5438204909451553, 0.654041770725171, 0.7131587060949854, 0.5985315417260876, 0.669449533468897, 0.6510264843251516, 0.7211326428497324, 0.7317432190973184, 0.7260385365299017]}, {\"categories\": [\"0\", \"1\", \"2\", \"3\", \"4\", \"5\", \"6\", \"7\", \"8\", \"9\", \"10\", \"11\", \"12\", \"13\", \"14\", \"15\", \"16\", \"17\", \"18\", \"19\"], \"mode\": \"lines\", \"name\": \"balanced_accuracy_max\", \"stepped\": true, \"type\": \"scatter\", \"data\": [0.7104731774264245, 0.7333555620308326, 0.7333555620308326, 0.7333555620308326, 0.7374992209003455, 0.7386184970332289, 0.7386184970332289, 0.7386184970332289, 0.7386184970332289, 0.7386184970332289, 0.7386184970332289, 0.7386184970332289, 0.7386184970332289, 0.7386184970332289, 0.7386184970332289, 0.7386184970332289, 0.7386184970332289, 0.7386184970332289, 0.7386184970332289, 0.7386184970332289]}], \"average_precision_score_weighted\": [{\"categories\": [\"0\", \"1\", \"2\", \"3\", \"4\", \"5\", \"6\", \"7\", \"8\", \"9\", \"10\", \"11\", \"12\", \"13\", \"14\", \"15\", \"16\", \"17\", \"18\", \"19\"], \"mode\": \"markers\", \"name\": \"average_precision_score_weighted\", \"stepped\": false, \"type\": \"scatter\", \"data\": [0.8183229088104544, 0.8410481501195661, 0.8234764401593184, 0.8318253845597028, 0.8378355536962065, 0.811454213005435, 0.7880625636552105, 0.767257478177501, 0.7570791904749641, 0.8316441435046127, 0.8332997088264019, 0.7026049990417864, 0.8356096317337347, 0.8219513145313982, 0.7171240765757025, 0.8390655714193421, 0.8375111188302915, 0.8438213707654096, 0.8509098151939382, 0.851533922367959]}, {\"categories\": [\"0\", \"1\", \"2\", \"3\", \"4\", \"5\", \"6\", \"7\", \"8\", \"9\", \"10\", \"11\", \"12\", \"13\", \"14\", \"15\", \"16\", \"17\", \"18\", \"19\"], \"mode\": \"lines\", \"name\": \"average_precision_score_weighted_max\", \"stepped\": true, \"type\": \"scatter\", \"data\": [0.8183229088104544, 0.8410481501195661, 0.8410481501195661, 0.8410481501195661, 0.8410481501195661, 0.8410481501195661, 0.8410481501195661, 0.8410481501195661, 0.8410481501195661, 0.8410481501195661, 0.8410481501195661, 0.8410481501195661, 0.8410481501195661, 0.8410481501195661, 0.8410481501195661, 0.8410481501195661, 0.8410481501195661, 0.8438213707654096, 0.8509098151939382, 0.851533922367959]}]}, \"metricName\": null, \"primaryMetricName\": \"accuracy\", \"showLegend\": false}, \"run_metrics\": [{\"name\": \"experiment_status\", \"run_id\": \"AutoML_14e37013-364c-45f3-9f14-5eae7d2efdbd\", \"categories\": [0, 1, 2, 3, 4, 5, 6, 7, 8, 9, 10, 11, 12, 13], \"series\": [{\"data\": [\"DatasetEvaluation\", \"FeaturesGeneration\", \"DatasetFeaturization\", \"DatasetFeaturizationCompleted\", \"DatasetCrossValidationSplit\", \"ModelSelection\", \"BestRunExplainModel\", \"ModelExplanationDataSetSetup\", \"PickSurrogateModel\", \"EngineeredFeatureExplanations\", \"EngineeredFeatureExplanations\", \"RawFeaturesExplanations\", \"RawFeaturesExplanations\", \"BestRunExplainModel\"]}]}, {\"name\": \"experiment_status_description\", \"run_id\": \"AutoML_14e37013-364c-45f3-9f14-5eae7d2efdbd\", \"categories\": [0, 1, 2, 3, 4, 5, 6, 7, 8, 9, 10, 11, 12, 13], \"series\": [{\"data\": [\"Gathering dataset statistics.\", \"Generating features for the dataset.\", \"Beginning to fit featurizers and featurize the dataset.\", \"Completed fit featurizers and featurizing the dataset.\", \"Generating individually featurized CV splits.\", \"Beginning model selection.\", \"Best run model explanations started\", \"Model explanations data setup completed\", \"Choosing LightGBM as the surrogate model for explanations\", \"Computation of engineered features started\", \"Computation of engineered features completed\", \"Computation of raw features started\", \"Computation of raw features completed\", \"Best run model explanations completed\"]}]}, {\"name\": \"f1_score_macro\", \"run_id\": \"AutoML_14e37013-364c-45f3-9f14-5eae7d2efdbd\", \"categories\": [0], \"series\": [{\"data\": [0.7430531953949386]}]}, {\"name\": \"AUC_macro\", \"run_id\": \"AutoML_14e37013-364c-45f3-9f14-5eae7d2efdbd\", \"categories\": [0], \"series\": [{\"data\": [0.8420359935948438]}]}, {\"name\": \"matthews_correlation\", \"run_id\": \"AutoML_14e37013-364c-45f3-9f14-5eae7d2efdbd\", \"categories\": [0], \"series\": [{\"data\": [0.5041214753461325]}]}, {\"name\": \"balanced_accuracy\", \"run_id\": \"AutoML_14e37013-364c-45f3-9f14-5eae7d2efdbd\", \"categories\": [0], \"series\": [{\"data\": [0.7317432190973184]}]}, {\"name\": \"recall_score_weighted\", \"run_id\": \"AutoML_14e37013-364c-45f3-9f14-5eae7d2efdbd\", \"categories\": [0], \"series\": [{\"data\": [0.7865036923860453]}]}, {\"name\": \"average_precision_score_macro\", \"run_id\": \"AutoML_14e37013-364c-45f3-9f14-5eae7d2efdbd\", \"categories\": [0], \"series\": [{\"data\": [0.8214962213726935]}]}, {\"name\": \"accuracy\", \"run_id\": \"AutoML_14e37013-364c-45f3-9f14-5eae7d2efdbd\", \"categories\": [0], \"series\": [{\"data\": [0.7865036923860453]}]}, {\"name\": \"norm_macro_recall\", \"run_id\": \"AutoML_14e37013-364c-45f3-9f14-5eae7d2efdbd\", \"categories\": [0], \"series\": [{\"data\": [0.46348643819463675]}]}, {\"name\": \"precision_score_weighted\", \"run_id\": \"AutoML_14e37013-364c-45f3-9f14-5eae7d2efdbd\", \"categories\": [0], \"series\": [{\"data\": [0.7846535725313328]}]}, {\"name\": \"average_precision_score_micro\", \"run_id\": \"AutoML_14e37013-364c-45f3-9f14-5eae7d2efdbd\", \"categories\": [0], \"series\": [{\"data\": [0.8599512092793296]}]}, {\"name\": \"log_loss\", \"run_id\": \"AutoML_14e37013-364c-45f3-9f14-5eae7d2efdbd\", \"categories\": [0], \"series\": [{\"data\": [0.4827309271510275]}]}, {\"name\": \"recall_score_micro\", \"run_id\": \"AutoML_14e37013-364c-45f3-9f14-5eae7d2efdbd\", \"categories\": [0], \"series\": [{\"data\": [0.7865036923860453]}]}, {\"name\": \"AUC_weighted\", \"run_id\": \"AutoML_14e37013-364c-45f3-9f14-5eae7d2efdbd\", \"categories\": [0], \"series\": [{\"data\": [0.8420359935948438]}]}, {\"name\": \"f1_score_micro\", \"run_id\": \"AutoML_14e37013-364c-45f3-9f14-5eae7d2efdbd\", \"categories\": [0], \"series\": [{\"data\": [0.7865036923860452]}]}, {\"name\": \"precision_score_micro\", \"run_id\": \"AutoML_14e37013-364c-45f3-9f14-5eae7d2efdbd\", \"categories\": [0], \"series\": [{\"data\": [0.7865036923860453]}]}, {\"name\": \"recall_score_macro\", \"run_id\": \"AutoML_14e37013-364c-45f3-9f14-5eae7d2efdbd\", \"categories\": [0], \"series\": [{\"data\": [0.7317432190973184]}]}, {\"name\": \"AUC_micro\", \"run_id\": \"AutoML_14e37013-364c-45f3-9f14-5eae7d2efdbd\", \"categories\": [0], \"series\": [{\"data\": [0.8576923716785009]}]}, {\"name\": \"precision_score_macro\", \"run_id\": \"AutoML_14e37013-364c-45f3-9f14-5eae7d2efdbd\", \"categories\": [0], \"series\": [{\"data\": [0.7745520208054366]}]}, {\"name\": \"weighted_accuracy\", \"run_id\": \"AutoML_14e37013-364c-45f3-9f14-5eae7d2efdbd\", \"categories\": [0], \"series\": [{\"data\": [0.8283011354561935]}]}, {\"name\": \"f1_score_weighted\", \"run_id\": \"AutoML_14e37013-364c-45f3-9f14-5eae7d2efdbd\", \"categories\": [0], \"series\": [{\"data\": [0.7773697517924348]}]}, {\"name\": \"average_precision_score_weighted\", \"run_id\": \"AutoML_14e37013-364c-45f3-9f14-5eae7d2efdbd\", \"categories\": [0], \"series\": [{\"data\": [0.8509098151939382]}]}], \"run_logs\": \"\\nRun is completed.\", \"graph\": {}, \"widget_settings\": {\"childWidgetDisplay\": \"popup\", \"send_telemetry\": false, \"log_level\": \"INFO\", \"sdk_version\": \"1.20.0\"}, \"loading\": false}"
     },
     "metadata": {},
     "output_type": "display_data"
    }
   ],
   "source": [
    "RunDetails(remote_run).show()"
   ]
  },
  {
   "cell_type": "code",
   "execution_count": 10,
   "metadata": {},
   "outputs": [
    {
     "name": "stdout",
     "output_type": "stream",
     "text": [
      "\n",
      "\n",
      "****************************************************************************************************\n",
      "DATA GUARDRAILS: \n",
      "\n",
      "TYPE:         Class balancing detection\n",
      "STATUS:       PASSED\n",
      "DESCRIPTION:  Your inputs were analyzed, and all classes are balanced in your training data.\n",
      "              Learn more about imbalanced data: https://aka.ms/AutomatedMLImbalancedData\n",
      "\n",
      "****************************************************************************************************\n",
      "\n",
      "TYPE:         Missing feature values imputation\n",
      "STATUS:       PASSED\n",
      "DESCRIPTION:  No feature missing values were detected in the training data.\n",
      "              Learn more about missing value imputation: https://aka.ms/AutomatedMLFeaturization\n",
      "\n",
      "****************************************************************************************************\n",
      "\n",
      "TYPE:         High cardinality feature detection\n",
      "STATUS:       PASSED\n",
      "DESCRIPTION:  Your inputs were analyzed, and no high cardinality features were detected.\n",
      "              Learn more about high cardinality feature handling: https://aka.ms/AutomatedMLFeaturization\n",
      "\n",
      "****************************************************************************************************\n",
      "\n",
      "****************************************************************************************************\n",
      "ITERATION: The iteration being evaluated.\n",
      "PIPELINE: A summary description of the pipeline being evaluated.\n",
      "DURATION: Time taken for the current iteration.\n",
      "METRIC: The result of computing score on the fitted pipeline.\n",
      "BEST: The best observed score thus far.\n",
      "****************************************************************************************************\n",
      "\n",
      " ITERATION   PIPELINE                                       DURATION      METRIC      BEST\n",
      "         0   MaxAbsScaler LightGBM                          0:00:59       0.7435    0.7435\n",
      "         1   MaxAbsScaler XGBoostClassifier                 0:00:56       0.7656    0.7656\n",
      "         2   MaxAbsScaler RandomForest                      0:00:59       0.7397    0.7656\n",
      "         3   MaxAbsScaler RandomForest                      0:00:57       0.7566    0.7656\n",
      "         4   MaxAbsScaler RandomForest                      0:01:00       0.7448    0.7656\n",
      "         5   MaxAbsScaler RandomForest                      0:00:55       0.7292    0.7656\n",
      "         6   SparseNormalizer XGBoostClassifier             0:01:01       0.7189    0.7656\n",
      "         7   SparseNormalizer XGBoostClassifier             0:00:47       0.7110    0.7656\n",
      "        10   MaxAbsScaler RandomForest                      0:00:44       0.7591    0.7656\n",
      "        11   SparseNormalizer XGBoostClassifier             0:00:52       0.6485    0.7656\n",
      "         8   SparseNormalizer XGBoostClassifier             0:00:49       0.7045    0.7656\n",
      "         9   MaxAbsScaler RandomForest                      0:00:56       0.6746    0.7656\n",
      "        12   MaxAbsScaler ExtremeRandomTrees                0:00:54       0.7396    0.7656\n",
      "        13   MaxAbsScaler LogisticRegression                0:00:49       0.7683    0.7683\n",
      "        14   SparseNormalizer LightGBM                      0:00:46       0.6759    0.7683\n",
      "        15   MaxAbsScaler LightGBM                          0:00:53       0.7474    0.7683\n",
      "        16   MaxAbsScaler LightGBM                          0:00:51       0.7409    0.7683\n",
      "        17   MaxAbsScaler LightGBM                          0:00:52       0.7657    0.7683\n",
      "        18    VotingEnsemble                                0:01:14       0.7865    0.7865\n",
      "        19    StackEnsemble                                 0:01:14       0.7774    0.7865\n"
     ]
    },
    {
     "data": {
      "text/plain": [
       "{'runId': 'AutoML_14e37013-364c-45f3-9f14-5eae7d2efdbd',\n",
       " 'target': 'project-cluster',\n",
       " 'status': 'Completed',\n",
       " 'startTimeUtc': '2021-02-07T12:08:35.055844Z',\n",
       " 'endTimeUtc': '2021-02-07T12:18:45.672116Z',\n",
       " 'properties': {'num_iterations': '20',\n",
       "  'training_type': 'TrainFull',\n",
       "  'acquisition_function': 'EI',\n",
       "  'primary_metric': 'accuracy',\n",
       "  'train_split': '0',\n",
       "  'acquisition_parameter': '0',\n",
       "  'num_cross_validation': '5',\n",
       "  'target': 'project-cluster',\n",
       "  'AMLSettingsJsonString': '{\"path\":null,\"name\":\"automl\",\"subscription_id\":\"6971f5ac-8af1-446e-8034-05acea24681f\",\"resource_group\":\"aml-quickstarts-137829\",\"workspace_name\":\"quick-starts-ws-137829\",\"region\":\"southcentralus\",\"compute_target\":\"project-cluster\",\"spark_service\":null,\"azure_service\":\"remote\",\"many_models\":false,\"pipeline_fetch_max_batch_size\":1,\"iterations\":20,\"primary_metric\":\"accuracy\",\"task_type\":\"classification\",\"data_script\":null,\"validation_size\":0.0,\"n_cross_validations\":5,\"y_min\":null,\"y_max\":null,\"num_classes\":null,\"featurization\":\"auto\",\"_ignore_package_version_incompatibilities\":false,\"is_timeseries\":false,\"max_cores_per_iteration\":1,\"max_concurrent_iterations\":4,\"iteration_timeout_minutes\":null,\"mem_in_mb\":null,\"enforce_time_on_windows\":false,\"experiment_timeout_minutes\":30,\"experiment_exit_score\":null,\"whitelist_models\":null,\"blacklist_algos\":[\"TensorFlowLinearClassifier\",\"TensorFlowDNN\"],\"supported_models\":[\"KNN\",\"TensorFlowDNN\",\"SVM\",\"MultinomialNaiveBayes\",\"DecisionTree\",\"LogisticRegression\",\"GradientBoosting\",\"SGD\",\"LinearSVM\",\"ExtremeRandomTrees\",\"XGBoostClassifier\",\"TensorFlowLinearClassifier\",\"BernoulliNaiveBayes\",\"LightGBM\",\"RandomForest\",\"AveragedPerceptronClassifier\"],\"auto_blacklist\":true,\"blacklist_samples_reached\":false,\"exclude_nan_labels\":true,\"verbosity\":20,\"_debug_log\":\"azureml_automl.log\",\"show_warnings\":false,\"model_explainability\":true,\"service_url\":null,\"sdk_url\":null,\"sdk_packages\":null,\"enable_onnx_compatible_models\":false,\"enable_split_onnx_featurizer_estimator_models\":false,\"vm_type\":\"STANDARD_DS12_V2\",\"telemetry_verbosity\":20,\"send_telemetry\":true,\"enable_dnn\":false,\"scenario\":\"SDK-1.13.0\",\"environment_label\":null,\"force_text_dnn\":false,\"enable_feature_sweeping\":true,\"enable_early_stopping\":true,\"early_stopping_n_iters\":10,\"metrics\":null,\"enable_ensembling\":true,\"enable_stack_ensembling\":true,\"ensemble_iterations\":15,\"enable_tf\":false,\"enable_subsampling\":false,\"subsample_seed\":null,\"enable_nimbusml\":false,\"enable_streaming\":false,\"force_streaming\":false,\"track_child_runs\":true,\"allowed_private_models\":[],\"label_column_name\":\"Outcome\",\"weight_column_name\":null,\"cv_split_column_names\":null,\"enable_local_managed\":false,\"_local_managed_run_id\":null,\"cost_mode\":1,\"lag_length\":0,\"metric_operation\":\"maximize\",\"preprocess\":true}',\n",
       "  'DataPrepJsonString': '{\\\\\"training_data\\\\\": \\\\\"{\\\\\\\\\\\\\"blocks\\\\\\\\\\\\\": [{\\\\\\\\\\\\\"id\\\\\\\\\\\\\": \\\\\\\\\\\\\"127fa8b3-2c84-423a-9f09-7d48fbd46fd9\\\\\\\\\\\\\", \\\\\\\\\\\\\"type\\\\\\\\\\\\\": \\\\\\\\\\\\\"Microsoft.DPrep.GetDatastoreFilesBlock\\\\\\\\\\\\\", \\\\\\\\\\\\\"arguments\\\\\\\\\\\\\": {\\\\\\\\\\\\\"datastores\\\\\\\\\\\\\": [{\\\\\\\\\\\\\"datastoreName\\\\\\\\\\\\\": \\\\\\\\\\\\\"workspaceblobstore\\\\\\\\\\\\\", \\\\\\\\\\\\\"path\\\\\\\\\\\\\": \\\\\\\\\\\\\"UI/02-07-2021_115118_UTC/diabetes.csv\\\\\\\\\\\\\", \\\\\\\\\\\\\"resourceGroup\\\\\\\\\\\\\": \\\\\\\\\\\\\"aml-quickstarts-137829\\\\\\\\\\\\\", \\\\\\\\\\\\\"subscription\\\\\\\\\\\\\": \\\\\\\\\\\\\"6971f5ac-8af1-446e-8034-05acea24681f\\\\\\\\\\\\\", \\\\\\\\\\\\\"workspaceName\\\\\\\\\\\\\": \\\\\\\\\\\\\"quick-starts-ws-137829\\\\\\\\\\\\\"}]}, \\\\\\\\\\\\\"localData\\\\\\\\\\\\\": {}, \\\\\\\\\\\\\"isEnabled\\\\\\\\\\\\\": true, \\\\\\\\\\\\\"name\\\\\\\\\\\\\": null, \\\\\\\\\\\\\"annotation\\\\\\\\\\\\\": null}, {\\\\\\\\\\\\\"id\\\\\\\\\\\\\": \\\\\\\\\\\\\"c9c5553d-6ac8-46d8-b678-cd0861f5c27e\\\\\\\\\\\\\", \\\\\\\\\\\\\"type\\\\\\\\\\\\\": \\\\\\\\\\\\\"Microsoft.DPrep.ParseDelimitedBlock\\\\\\\\\\\\\", \\\\\\\\\\\\\"arguments\\\\\\\\\\\\\": {\\\\\\\\\\\\\"columnHeadersMode\\\\\\\\\\\\\": 3, \\\\\\\\\\\\\"fileEncoding\\\\\\\\\\\\\": 0, \\\\\\\\\\\\\"handleQuotedLineBreaks\\\\\\\\\\\\\": false, \\\\\\\\\\\\\"preview\\\\\\\\\\\\\": false, \\\\\\\\\\\\\"separator\\\\\\\\\\\\\": \\\\\\\\\\\\\",\\\\\\\\\\\\\", \\\\\\\\\\\\\"skipRows\\\\\\\\\\\\\": 0, \\\\\\\\\\\\\"skipRowsMode\\\\\\\\\\\\\": 0}, \\\\\\\\\\\\\"localData\\\\\\\\\\\\\": {}, \\\\\\\\\\\\\"isEnabled\\\\\\\\\\\\\": true, \\\\\\\\\\\\\"name\\\\\\\\\\\\\": null, \\\\\\\\\\\\\"annotation\\\\\\\\\\\\\": null}, {\\\\\\\\\\\\\"id\\\\\\\\\\\\\": \\\\\\\\\\\\\"6f62b44f-b010-4064-9342-89f7ea8f8b52\\\\\\\\\\\\\", \\\\\\\\\\\\\"type\\\\\\\\\\\\\": \\\\\\\\\\\\\"Microsoft.DPrep.DropColumnsBlock\\\\\\\\\\\\\", \\\\\\\\\\\\\"arguments\\\\\\\\\\\\\": {\\\\\\\\\\\\\"columns\\\\\\\\\\\\\": {\\\\\\\\\\\\\"type\\\\\\\\\\\\\": 0, \\\\\\\\\\\\\"details\\\\\\\\\\\\\": {\\\\\\\\\\\\\"selectedColumns\\\\\\\\\\\\\": [\\\\\\\\\\\\\"Path\\\\\\\\\\\\\"]}}}, \\\\\\\\\\\\\"localData\\\\\\\\\\\\\": {}, \\\\\\\\\\\\\"isEnabled\\\\\\\\\\\\\": true, \\\\\\\\\\\\\"name\\\\\\\\\\\\\": null, \\\\\\\\\\\\\"annotation\\\\\\\\\\\\\": null}, {\\\\\\\\\\\\\"id\\\\\\\\\\\\\": \\\\\\\\\\\\\"3f211e9f-7846-464b-b01e-ef129e44a192\\\\\\\\\\\\\", \\\\\\\\\\\\\"type\\\\\\\\\\\\\": \\\\\\\\\\\\\"Microsoft.DPrep.SetColumnTypesBlock\\\\\\\\\\\\\", \\\\\\\\\\\\\"arguments\\\\\\\\\\\\\": {\\\\\\\\\\\\\"columnConversion\\\\\\\\\\\\\": [{\\\\\\\\\\\\\"column\\\\\\\\\\\\\": {\\\\\\\\\\\\\"type\\\\\\\\\\\\\": 2, \\\\\\\\\\\\\"details\\\\\\\\\\\\\": {\\\\\\\\\\\\\"selectedColumn\\\\\\\\\\\\\": \\\\\\\\\\\\\"Path\\\\\\\\\\\\\"}}, \\\\\\\\\\\\\"typeProperty\\\\\\\\\\\\\": 0}, {\\\\\\\\\\\\\"column\\\\\\\\\\\\\": {\\\\\\\\\\\\\"type\\\\\\\\\\\\\": 2, \\\\\\\\\\\\\"details\\\\\\\\\\\\\": {\\\\\\\\\\\\\"selectedColumn\\\\\\\\\\\\\": \\\\\\\\\\\\\"Pregnancies\\\\\\\\\\\\\"}}, \\\\\\\\\\\\\"typeProperty\\\\\\\\\\\\\": 2}, {\\\\\\\\\\\\\"column\\\\\\\\\\\\\": {\\\\\\\\\\\\\"type\\\\\\\\\\\\\": 2, \\\\\\\\\\\\\"details\\\\\\\\\\\\\": {\\\\\\\\\\\\\"selectedColumn\\\\\\\\\\\\\": \\\\\\\\\\\\\"Glucose\\\\\\\\\\\\\"}}, \\\\\\\\\\\\\"typeProperty\\\\\\\\\\\\\": 2}, {\\\\\\\\\\\\\"column\\\\\\\\\\\\\": {\\\\\\\\\\\\\"type\\\\\\\\\\\\\": 2, \\\\\\\\\\\\\"details\\\\\\\\\\\\\": {\\\\\\\\\\\\\"selectedColumn\\\\\\\\\\\\\": \\\\\\\\\\\\\"BloodPressure\\\\\\\\\\\\\"}}, \\\\\\\\\\\\\"typeProperty\\\\\\\\\\\\\": 2}, {\\\\\\\\\\\\\"column\\\\\\\\\\\\\": {\\\\\\\\\\\\\"type\\\\\\\\\\\\\": 2, \\\\\\\\\\\\\"details\\\\\\\\\\\\\": {\\\\\\\\\\\\\"selectedColumn\\\\\\\\\\\\\": \\\\\\\\\\\\\"SkinThickness\\\\\\\\\\\\\"}}, \\\\\\\\\\\\\"typeProperty\\\\\\\\\\\\\": 2}, {\\\\\\\\\\\\\"column\\\\\\\\\\\\\": {\\\\\\\\\\\\\"type\\\\\\\\\\\\\": 2, \\\\\\\\\\\\\"details\\\\\\\\\\\\\": {\\\\\\\\\\\\\"selectedColumn\\\\\\\\\\\\\": \\\\\\\\\\\\\"Insulin\\\\\\\\\\\\\"}}, \\\\\\\\\\\\\"typeProperty\\\\\\\\\\\\\": 2}, {\\\\\\\\\\\\\"column\\\\\\\\\\\\\": {\\\\\\\\\\\\\"type\\\\\\\\\\\\\": 2, \\\\\\\\\\\\\"details\\\\\\\\\\\\\": {\\\\\\\\\\\\\"selectedColumn\\\\\\\\\\\\\": \\\\\\\\\\\\\"BMI\\\\\\\\\\\\\"}}, \\\\\\\\\\\\\"typeProperty\\\\\\\\\\\\\": 3}, {\\\\\\\\\\\\\"column\\\\\\\\\\\\\": {\\\\\\\\\\\\\"type\\\\\\\\\\\\\": 2, \\\\\\\\\\\\\"details\\\\\\\\\\\\\": {\\\\\\\\\\\\\"selectedColumn\\\\\\\\\\\\\": \\\\\\\\\\\\\"DiabetesPedigreeFunction\\\\\\\\\\\\\"}}, \\\\\\\\\\\\\"typeProperty\\\\\\\\\\\\\": 3}, {\\\\\\\\\\\\\"column\\\\\\\\\\\\\": {\\\\\\\\\\\\\"type\\\\\\\\\\\\\": 2, \\\\\\\\\\\\\"details\\\\\\\\\\\\\": {\\\\\\\\\\\\\"selectedColumn\\\\\\\\\\\\\": \\\\\\\\\\\\\"Age\\\\\\\\\\\\\"}}, \\\\\\\\\\\\\"typeProperty\\\\\\\\\\\\\": 2}, {\\\\\\\\\\\\\"column\\\\\\\\\\\\\": {\\\\\\\\\\\\\"type\\\\\\\\\\\\\": 2, \\\\\\\\\\\\\"details\\\\\\\\\\\\\": {\\\\\\\\\\\\\"selectedColumn\\\\\\\\\\\\\": \\\\\\\\\\\\\"Outcome\\\\\\\\\\\\\"}}, \\\\\\\\\\\\\"typeProperty\\\\\\\\\\\\\": 2}]}, \\\\\\\\\\\\\"localData\\\\\\\\\\\\\": {}, \\\\\\\\\\\\\"isEnabled\\\\\\\\\\\\\": true, \\\\\\\\\\\\\"name\\\\\\\\\\\\\": null, \\\\\\\\\\\\\"annotation\\\\\\\\\\\\\": null}], \\\\\\\\\\\\\"inspectors\\\\\\\\\\\\\": [], \\\\\\\\\\\\\"meta\\\\\\\\\\\\\": {\\\\\\\\\\\\\"savedDatasetId\\\\\\\\\\\\\": \\\\\\\\\\\\\"aff48089-1f04-40a6-88c3-f2f06107285d\\\\\\\\\\\\\", \\\\\\\\\\\\\"datasetType\\\\\\\\\\\\\": \\\\\\\\\\\\\"tabular\\\\\\\\\\\\\", \\\\\\\\\\\\\"subscriptionId\\\\\\\\\\\\\": \\\\\\\\\\\\\"6971f5ac-8af1-446e-8034-05acea24681f\\\\\\\\\\\\\", \\\\\\\\\\\\\"workspaceId\\\\\\\\\\\\\": \\\\\\\\\\\\\"258ac36d-11d0-41ed-b651-9d4d9976e677\\\\\\\\\\\\\", \\\\\\\\\\\\\"workspaceLocation\\\\\\\\\\\\\": \\\\\\\\\\\\\"southcentralus\\\\\\\\\\\\\"}}\\\\\", \\\\\"activities\\\\\": 0}',\n",
       "  'EnableSubsampling': 'False',\n",
       "  'runTemplate': 'AutoML',\n",
       "  'azureml.runsource': 'automl',\n",
       "  'display_task_type': 'classification',\n",
       "  'dependencies_versions': '{\"azureml-widgets\": \"1.20.0\", \"azureml-train\": \"1.20.0\", \"azureml-train-restclients-hyperdrive\": \"1.20.0\", \"azureml-train-core\": \"1.20.0\", \"azureml-train-automl\": \"1.20.0\", \"azureml-train-automl-runtime\": \"1.20.0\", \"azureml-train-automl-client\": \"1.20.0\", \"azureml-tensorboard\": \"1.20.0\", \"azureml-telemetry\": \"1.20.0\", \"azureml-sdk\": \"1.20.0\", \"azureml-samples\": \"0+unknown\", \"azureml-pipeline\": \"1.20.0\", \"azureml-pipeline-steps\": \"1.20.0\", \"azureml-pipeline-core\": \"1.20.0\", \"azureml-opendatasets\": \"1.20.0\", \"azureml-model-management-sdk\": \"1.0.1b6.post1\", \"azureml-mlflow\": \"1.20.0.post1\", \"azureml-interpret\": \"1.20.0\", \"azureml-explain-model\": \"1.20.0\", \"azureml-defaults\": \"1.20.0\", \"azureml-dataset-runtime\": \"1.20.0\", \"azureml-dataprep\": \"2.7.3\", \"azureml-dataprep-rslex\": \"1.5.0\", \"azureml-dataprep-native\": \"27.0.0\", \"azureml-datadrift\": \"1.20.0\", \"azureml-core\": \"1.20.0\", \"azureml-contrib-services\": \"1.20.0\", \"azureml-contrib-server\": \"1.20.0\", \"azureml-contrib-reinforcementlearning\": \"1.20.0\", \"azureml-contrib-pipeline-steps\": \"1.20.0\", \"azureml-contrib-notebook\": \"1.20.0\", \"azureml-contrib-interpret\": \"1.20.0\", \"azureml-contrib-gbdt\": \"1.20.0\", \"azureml-contrib-fairness\": \"1.20.0\", \"azureml-contrib-dataset\": \"1.20.0\", \"azureml-cli-common\": \"1.20.0\", \"azureml-automl-runtime\": \"1.20.0\", \"azureml-automl-core\": \"1.20.0\", \"azureml-accel-models\": \"1.20.0\"}',\n",
       "  '_aml_system_scenario_identification': 'Remote.Parent',\n",
       "  'ClientType': 'SDK',\n",
       "  'environment_cpu_name': 'AzureML-AutoML',\n",
       "  'environment_cpu_label': 'prod',\n",
       "  'environment_gpu_name': 'AzureML-AutoML-GPU',\n",
       "  'environment_gpu_label': 'prod',\n",
       "  'root_attribution': 'automl',\n",
       "  'attribution': 'AutoML',\n",
       "  'Orchestrator': 'AutoML',\n",
       "  'CancelUri': 'https://southcentralus.experiments.azureml.net/jasmine/v1.0/subscriptions/6971f5ac-8af1-446e-8034-05acea24681f/resourceGroups/aml-quickstarts-137829/providers/Microsoft.MachineLearningServices/workspaces/quick-starts-ws-137829/experimentids/5e229304-f2ac-424b-814f-b2d13bccf389/cancel/AutoML_14e37013-364c-45f3-9f14-5eae7d2efdbd',\n",
       "  'ClientSdkVersion': '1.21.0',\n",
       "  'snapshotId': '00000000-0000-0000-0000-000000000000',\n",
       "  'SetupRunId': 'AutoML_14e37013-364c-45f3-9f14-5eae7d2efdbd_setup',\n",
       "  'SetupRunContainerId': 'dcid.AutoML_14e37013-364c-45f3-9f14-5eae7d2efdbd_setup',\n",
       "  'FeaturizationRunJsonPath': 'featurizer_container.json',\n",
       "  'FeaturizationRunId': 'AutoML_14e37013-364c-45f3-9f14-5eae7d2efdbd_featurize',\n",
       "  'ProblemInfoJsonString': '{\"dataset_num_categorical\": 0, \"is_sparse\": true, \"subsampling\": false, \"dataset_classes\": 2, \"dataset_features\": 24, \"dataset_samples\": 768, \"single_frequency_class_detected\": false}',\n",
       "  'ModelExplainRunId': 'AutoML_14e37013-364c-45f3-9f14-5eae7d2efdbd_ModelExplain'},\n",
       " 'inputDatasets': [{'dataset': {'id': 'aff48089-1f04-40a6-88c3-f2f06107285d'}, 'consumptionDetails': {'type': 'RunInput', 'inputName': 'training_data', 'mechanism': 'Direct'}}],\n",
       " 'outputDatasets': [],\n",
       " 'logFiles': {},\n",
       " 'submittedBy': 'ODL_User 137829'}"
      ]
     },
     "execution_count": 10,
     "metadata": {},
     "output_type": "execute_result"
    }
   ],
   "source": [
    "remote_run.wait_for_completion(show_output=True)"
   ]
  },
  {
   "cell_type": "code",
   "execution_count": 11,
   "metadata": {},
   "outputs": [
    {
     "data": {
      "text/html": [
       "<table style=\"width:100%\"><tr><th>Experiment</th><th>Id</th><th>Type</th><th>Status</th><th>Details Page</th><th>Docs Page</th></tr><tr><td>automl</td><td>AutoML_14e37013-364c-45f3-9f14-5eae7d2efdbd</td><td>automl</td><td>Completed</td><td><a href=\"https://ml.azure.com/experiments/automl/runs/AutoML_14e37013-364c-45f3-9f14-5eae7d2efdbd?wsid=/subscriptions/6971f5ac-8af1-446e-8034-05acea24681f/resourcegroups/aml-quickstarts-137829/workspaces/quick-starts-ws-137829\" target=\"_blank\" rel=\"noopener\">Link to Azure Machine Learning studio</a></td><td><a href=\"https://docs.microsoft.com/en-us/python/api/overview/azure/ml/intro?view=azure-ml-py\" target=\"_blank\" rel=\"noopener\">Link to Documentation</a></td></tr></table>"
      ],
      "text/plain": [
       "Run(Experiment: automl,\n",
       "Id: AutoML_14e37013-364c-45f3-9f14-5eae7d2efdbd,\n",
       "Type: automl,\n",
       "Status: Completed)"
      ]
     },
     "execution_count": 11,
     "metadata": {},
     "output_type": "execute_result"
    }
   ],
   "source": [
    "remote_run"
   ]
  },
  {
   "cell_type": "markdown",
   "metadata": {},
   "source": [
    "## Best Model\n",
    "\n",
    "The cell below shows the best model from the automl experiments and display all the properties of the model.\n",
    "\n"
   ]
  },
  {
   "cell_type": "code",
   "execution_count": 12,
   "metadata": {
    "collapsed": false,
    "gather": {
     "logged": 1598431425670
    },
    "jupyter": {
     "outputs_hidden": false,
     "source_hidden": false
    },
    "nteract": {
     "transient": {
      "deleting": false
     }
    }
   },
   "outputs": [
    {
     "name": "stderr",
     "output_type": "stream",
     "text": [
      "WARNING:root:The version of the SDK does not match the version the model was trained on.\n",
      "WARNING:root:The consistency in the result may not be guaranteed.\n",
      "WARNING:root:Package:azureml-automl-core, training version:1.21.0, current version:1.20.0\n",
      "Package:azureml-automl-runtime, training version:1.21.0, current version:1.20.0\n",
      "Package:azureml-core, training version:1.21.0.post1, current version:1.20.0\n",
      "Package:azureml-dataprep, training version:2.8.2, current version:2.7.3\n",
      "Package:azureml-dataprep-native, training version:28.0.0, current version:27.0.0\n",
      "Package:azureml-dataprep-rslex, training version:1.6.0, current version:1.5.0\n",
      "Package:azureml-dataset-runtime, training version:1.21.0, current version:1.20.0\n",
      "Package:azureml-defaults, training version:1.21.0, current version:1.20.0\n",
      "Package:azureml-interpret, training version:1.21.0, current version:1.20.0\n",
      "Package:azureml-pipeline-core, training version:1.21.0, current version:1.20.0\n",
      "Package:azureml-telemetry, training version:1.21.0, current version:1.20.0\n",
      "Package:azureml-train-automl-client, training version:1.21.0, current version:1.20.0\n",
      "Package:azureml-train-automl-runtime, training version:1.21.0, current version:1.20.0\n",
      "WARNING:root:Please ensure the version of your local conda dependencies match the version on which your model was trained in order to properly retrieve your model.\n"
     ]
    },
    {
     "name": "stdout",
     "output_type": "stream",
     "text": [
      "Run(Experiment: automl,\n",
      "Id: AutoML_14e37013-364c-45f3-9f14-5eae7d2efdbd_18,\n",
      "Type: azureml.scriptrun,\n",
      "Status: Completed)\n",
      "[('datatransformer', DataTransformer(enable_dnn=None, enable_feature_sweeping=None,\n",
      "                feature_sweeping_config=None, feature_sweeping_timeout=None,\n",
      "                featurization_config=None, force_text_dnn=None,\n",
      "                is_cross_validation=None, is_onnx_compatible=None, logger=None,\n",
      "                observer=None, task=None, working_dir=None)), ('prefittedsoftvotingclassifier', PreFittedSoftVotingClassifier(classification_labels=None,\n",
      "                              estimators=[('13',\n",
      "                                           Pipeline(memory=None,\n",
      "                                                    steps=[('maxabsscaler',\n",
      "                                                            MaxAbsScaler(copy=True)),\n",
      "                                                           ('logisticregression',\n",
      "                                                            LogisticRegression(C=2.559547922699533,\n",
      "                                                                               class_weight=None,\n",
      "                                                                               dual=False,\n",
      "                                                                               fit_intercept=True,\n",
      "                                                                               intercept_scaling=1,\n",
      "                                                                               l1_ratio=None,\n",
      "                                                                               max_iter=100,\n",
      "                                                                               multi_class='ovr',\n",
      "                                                                               n_jobs=1,\n",
      "                                                                               penalty='l2',\n",
      "                                                                               random_sta...\n",
      "                                                                               n_estimators=50,\n",
      "                                                                               n_jobs=1,\n",
      "                                                                               num_leaves=104,\n",
      "                                                                               objective=None,\n",
      "                                                                               random_state=None,\n",
      "                                                                               reg_alpha=0,\n",
      "                                                                               reg_lambda=0.42105263157894735,\n",
      "                                                                               silent=True,\n",
      "                                                                               subsample=1,\n",
      "                                                                               subsample_for_bin=200000,\n",
      "                                                                               subsample_freq=0,\n",
      "                                                                               verbose=-10))],\n",
      "                                                    verbose=False))],\n",
      "                              flatten_transform=None,\n",
      "                              weights=[0.1111111111111111, 0.1111111111111111,\n",
      "                                       0.2222222222222222, 0.1111111111111111,\n",
      "                                       0.3333333333333333, 0.1111111111111111]))]\n"
     ]
    }
   ],
   "source": [
    "# Retrieve and save best automl model\n",
    "best_model, model = remote_run.get_output()\n",
    "print(best_model)\n",
    "print(model.steps)"
   ]
  },
  {
   "cell_type": "code",
   "execution_count": 13,
   "metadata": {},
   "outputs": [
    {
     "data": {
      "text/plain": [
       "{'experiment_status': ['DatasetEvaluation',\n",
       "  'FeaturesGeneration',\n",
       "  'DatasetFeaturization',\n",
       "  'DatasetFeaturizationCompleted',\n",
       "  'DatasetCrossValidationSplit',\n",
       "  'ModelSelection'],\n",
       " 'experiment_status_description': ['Gathering dataset statistics.',\n",
       "  'Generating features for the dataset.',\n",
       "  'Beginning to fit featurizers and featurize the dataset.',\n",
       "  'Completed fit featurizers and featurizing the dataset.',\n",
       "  'Generating individually featurized CV splits.',\n",
       "  'Beginning model selection.'],\n",
       " 'f1_score_macro': 0.7430531953949386,\n",
       " 'AUC_macro': 0.8420359935948438,\n",
       " 'matthews_correlation': 0.5041214753461325,\n",
       " 'balanced_accuracy': 0.7317432190973184,\n",
       " 'recall_score_weighted': 0.7865036923860453,\n",
       " 'average_precision_score_macro': 0.8214962213726935,\n",
       " 'accuracy': 0.7865036923860453,\n",
       " 'norm_macro_recall': 0.46348643819463675,\n",
       " 'precision_score_weighted': 0.7846535725313328,\n",
       " 'average_precision_score_micro': 0.8599512092793296,\n",
       " 'log_loss': 0.4827309271510275,\n",
       " 'recall_score_micro': 0.7865036923860453,\n",
       " 'AUC_weighted': 0.8420359935948438,\n",
       " 'f1_score_micro': 0.7865036923860452,\n",
       " 'precision_score_micro': 0.7865036923860453,\n",
       " 'recall_score_macro': 0.7317432190973184,\n",
       " 'AUC_micro': 0.8576923716785009,\n",
       " 'precision_score_macro': 0.7745520208054366,\n",
       " 'weighted_accuracy': 0.8283011354561935,\n",
       " 'f1_score_weighted': 0.7773697517924348,\n",
       " 'average_precision_score_weighted': 0.8509098151939382}"
      ]
     },
     "execution_count": 13,
     "metadata": {},
     "output_type": "execute_result"
    }
   ],
   "source": [
    "remote_run.get_metrics()"
   ]
  },
  {
   "cell_type": "markdown",
   "metadata": {},
   "source": [
    "## Model Deployment\n",
    "\n",
    "Remember you have to deploy only one of the two models you trained.. Perform the steps in the rest of this notebook only if you wish to deploy this model.\n",
    "\n",
    "In the cell below, we have registered the model, created an inference config and deployed the model as a web service."
   ]
  },
  {
   "cell_type": "code",
   "execution_count": 14,
   "metadata": {
    "collapsed": false,
    "gather": {
     "logged": 1598431435189
    },
    "jupyter": {
     "outputs_hidden": false,
     "source_hidden": false
    },
    "nteract": {
     "transient": {
      "deleting": false
     }
    }
   },
   "outputs": [],
   "source": [
    "# Registring the best model\n",
    "model = best_model.register_model(model_name='automl-best-model',model_path='outputs/model.pkl')\n"
   ]
  },
  {
   "cell_type": "code",
   "execution_count": 15,
   "metadata": {},
   "outputs": [],
   "source": [
    "# from azureml.core.conda_dependencies import CondaDependencies\n",
    "\n",
    "# # create environment\n",
    "# environment = Environment(name=\"azure-env\")\n",
    "# conda_dep = CondaDependencies()\n",
    "\n",
    "# # Nedded packages and scripts\n",
    "# conda_dep.add_conda_package(\"pandas\")\n",
    "# conda_dep.add_conda_package(\"numpy\")\n",
    "# conda_dep.add_pip_package(\"scikit-learn\")\n",
    "# #conda_dep.add_conda_package(\"scikit-learn\")\n",
    "# conda_dep.add_pip_package(\"azureml-defaults\")\n",
    "\n",
    "# # Adding dependencies to the created environment\n",
    "# environment.python.conda_dependencies=conda_dep\n",
    "\n",
    "# Get automl environment with its dependencies\n",
    "environment = Environment.get(ws, \"AzureML-AutoML\")"
   ]
  },
  {
   "cell_type": "code",
   "execution_count": 18,
   "metadata": {},
   "outputs": [
    {
     "name": "stdout",
     "output_type": "stream",
     "text": [
      "Tips: You can try get_logs(): https://aka.ms/debugimage#dockerlog or local deployment: https://aka.ms/debugimage#debug-locally to debug if deployment takes longer than 10 minutes.\n",
      "Running.................................\n",
      "Succeeded\n",
      "ACI service creation operation finished, operation \"Succeeded\"\n",
      "http://47ca78f6-2df0-413d-97ac-c421e5618cc0.southcentralus.azurecontainer.io/score\n"
     ]
    }
   ],
   "source": [
    "inference_config = InferenceConfig(entry_script='scoring.py',\n",
    "                                   environment=environment)\n",
    "service_name = 'automl-deploy'\n",
    "deployment_config = AciWebservice.deploy_configuration(cpu_cores=1, memory_gb=1)\n",
    "\n",
    "service = Model.deploy(workspace=ws,\n",
    "                       name=service_name,\n",
    "                       models=[model],\n",
    "                       inference_config=inference_config,\n",
    "                       deployment_config=deployment_config,\n",
    "                       overwrite=True\n",
    "                      )\n",
    "service.wait_for_deployment(show_output=True)\n",
    "\n",
    "scoring_uri = service.scoring_uri\n",
    "print(scoring_uri)"
   ]
  },
  {
   "cell_type": "code",
   "execution_count": 19,
   "metadata": {},
   "outputs": [],
   "source": [
    "# Enable app insights\n",
    "service.update(enable_app_insights=True)"
   ]
  },
  {
   "cell_type": "markdown",
   "metadata": {
    "gather": {
     "logged": 1598431657736
    },
    "jupyter": {
     "outputs_hidden": false,
     "source_hidden": false
    },
    "nteract": {
     "transient": {
      "deleting": false
     }
    }
   },
   "source": [
    "In the cell below, we have sent a request to the web service to test it."
   ]
  },
  {
   "cell_type": "code",
   "execution_count": 21,
   "metadata": {},
   "outputs": [
    {
     "name": "stdout",
     "output_type": "stream",
     "text": [
      "{\"result\": [1, 0]}\n",
      "Case 0: Not Diabetes, Case 1: Diabetes.\n"
     ]
    }
   ],
   "source": [
    "import requests\n",
    "import json\n",
    "\n",
    "#two set of data to score, so we get two results back\n",
    "data = {\"data\": [{\"Pregnancies\": 5, \n",
    "     \"Glucose\": 150, \n",
    "     \"BloodPressure\": 70, \n",
    "     \"SkinThickness\": 40, \n",
    "     \"Insulin\": 10, \n",
    "     \"BMI\": 36.5, \n",
    "     \"DiabetesPedigreeFunction\": 0.627, \n",
    "     \"Age\": 30},\n",
    "\n",
    "    {\"Pregnancies\": 5, \n",
    "     \"Glucose\": 90, \n",
    "     \"BloodPressure\": 70, \n",
    "     \"SkinThickness\": 34, \n",
    "     \"Insulin\": 20, \n",
    "     \"BMI\": 26.5, \n",
    "     \"DiabetesPedigreeFunction\": 0.351, \n",
    "     \"Age\": 28},\n",
    "      ]}\n",
    "    \n",
    "# Convert to JSON string\n",
    "input_data = json.dumps(data)\n",
    "with open(\"data.json\", \"w\") as _f:\n",
    "    _f.write(input_data)\n",
    "\n",
    "# Set the content type\n",
    "headers = {'Content-Type': 'application/json'}\n",
    "# If authentication is enabled, set the authorization header\n",
    "#headers['Authorization'] = f'Bearer {key}'\n",
    "\n",
    "# Make the request and display the response\n",
    "resp = requests.post(scoring_uri, input_data, headers=headers)\n",
    "print(resp.json())\n",
    "print(\"Case 0: Not Diabetes, Case 1: Diabetes.\")"
   ]
  },
  {
   "cell_type": "code",
   "execution_count": 23,
   "metadata": {},
   "outputs": [
    {
     "name": "stdout",
     "output_type": "stream",
     "text": [
      "[{'Pregnancies': 5, 'Glucose': 150, 'BloodPressure': 70, 'SkinThickness': 40, 'Insulin': 10, 'BMI': 36.5, 'DiabetesPedigreeFunction': 0.627, 'Age': 30}, {'Pregnancies': 5, 'Glucose': 90, 'BloodPressure': 70, 'SkinThickness': 34, 'Insulin': 20, 'BMI': 26.5, 'DiabetesPedigreeFunction': 0.351, 'Age': 28}]\n"
     ]
    }
   ],
   "source": [
    "data = [{\"Pregnancies\": 5, \n",
    "     \"Glucose\": 150, \n",
    "     \"BloodPressure\": 70, \n",
    "     \"SkinThickness\": 40, \n",
    "     \"Insulin\": 10, \n",
    "     \"BMI\": 36.5, \n",
    "     \"DiabetesPedigreeFunction\": 0.627, \n",
    "     \"Age\": 30},\n",
    "\n",
    "    {\"Pregnancies\": 5, \n",
    "     \"Glucose\": 90, \n",
    "     \"BloodPressure\": 70, \n",
    "     \"SkinThickness\": 34, \n",
    "     \"Insulin\": 20, \n",
    "     \"BMI\": 26.5, \n",
    "     \"DiabetesPedigreeFunction\": 0.351, \n",
    "     \"Age\": 28},\n",
    "      ]\n",
    "\n",
    "print(data)"
   ]
  },
  {
   "cell_type": "code",
   "execution_count": 24,
   "metadata": {},
   "outputs": [
    {
     "data": {
      "text/plain": [
       "'{\"result\": [1, 0]}'"
      ]
     },
     "execution_count": 24,
     "metadata": {},
     "output_type": "execute_result"
    }
   ],
   "source": [
    "# test using service instance\n",
    "input_data = json.dumps({\n",
    "    'data': data\n",
    "})\n",
    "\n",
    "output = service.run(input_data)\n",
    "output"
   ]
  },
  {
   "cell_type": "markdown",
   "metadata": {
    "gather": {
     "logged": 1598432765711
    },
    "jupyter": {
     "outputs_hidden": false,
     "source_hidden": false
    },
    "nteract": {
     "transient": {
      "deleting": false
     }
    }
   },
   "source": [
    "Print the logs of the web service and delete the service"
   ]
  },
  {
   "cell_type": "code",
   "execution_count": 25,
   "metadata": {
    "collapsed": false,
    "jupyter": {
     "outputs_hidden": false,
     "source_hidden": false
    },
    "nteract": {
     "transient": {
      "deleting": false
     }
    }
   },
   "outputs": [
    {
     "data": {
      "text/plain": [
       "'2021-02-07T12:47:14,615308900+00:00 - gunicorn/run \\n2021-02-07T12:47:14,619020400+00:00 - iot-server/run \\n2021-02-07T12:47:14,629113700+00:00 - nginx/run \\n/usr/sbin/nginx: /azureml-envs/azureml_7ade26eb614f97df8030bc480da59236/lib/libcrypto.so.1.0.0: no version information available (required by /usr/sbin/nginx)\\n/usr/sbin/nginx: /azureml-envs/azureml_7ade26eb614f97df8030bc480da59236/lib/libcrypto.so.1.0.0: no version information available (required by /usr/sbin/nginx)\\n/usr/sbin/nginx: /azureml-envs/azureml_7ade26eb614f97df8030bc480da59236/lib/libssl.so.1.0.0: no version information available (required by /usr/sbin/nginx)\\n/usr/sbin/nginx: /azureml-envs/azureml_7ade26eb614f97df8030bc480da59236/lib/libssl.so.1.0.0: no version information available (required by /usr/sbin/nginx)\\n/usr/sbin/nginx: /azureml-envs/azureml_7ade26eb614f97df8030bc480da59236/lib/libssl.so.1.0.0: no version information available (required by /usr/sbin/nginx)\\n2021-02-07T12:47:14,653432300+00:00 - rsyslog/run \\nrsyslogd: /azureml-envs/azureml_7ade26eb614f97df8030bc480da59236/lib/libuuid.so.1: no version information available (required by rsyslogd)\\nEdgeHubConnectionString and IOTEDGE_IOTHUBHOSTNAME are not set. Exiting...\\n2021-02-07T12:47:16,507445900+00:00 - iot-server/finish 1 0\\n2021-02-07T12:47:16,552069700+00:00 - Exit code 1 is normal. Not restarting iot-server.\\nStarting gunicorn 19.9.0\\nListening at: http://127.0.0.1:31311 (66)\\nUsing worker: sync\\nworker timeout is set to 300\\nBooting worker with pid: 98\\nSPARK_HOME not set. Skipping PySpark Initialization.\\nGenerating new fontManager, this may take some time...\\nInitializing logger\\n2021-02-07 12:47:21,809 | root | INFO | Starting up app insights client\\n2021-02-07 12:47:21,809 | root | INFO | Starting up request id generator\\n2021-02-07 12:47:21,810 | root | INFO | Starting up app insight hooks\\n2021-02-07 12:47:21,810 | root | INFO | Invoking user\\'s init function\\n2021-02-07 12:47:32,409 | root | INFO | Users\\'s init has completed successfully\\n2021-02-07 12:47:32,423 | root | INFO | Skipping middleware: dbg_model_info as it\\'s not enabled.\\n2021-02-07 12:47:32,424 | root | INFO | Skipping middleware: dbg_resource_usage as it\\'s not enabled.\\n2021-02-07 12:47:32,427 | root | INFO | Scoring timeout is found from os.environ: 60000 ms\\n2021-02-07 12:47:45,212 | root | INFO | 200\\n127.0.0.1 - - [07/Feb/2021:12:47:45 +0000] \"GET /swagger.json HTTP/1.0\" 200 2536 \"-\" \"Go-http-client/1.1\"\\n2021-02-07 12:48:07,294 | root | INFO | Validation Request Content-Type\\n2021-02-07 12:48:07,295 | root | INFO | Scoring Timer is set to 60.0 seconds\\n2021-02-07 12:48:07,395 | root | INFO | 200\\n127.0.0.1 - - [07/Feb/2021:12:48:07 +0000] \"POST /score HTTP/1.0\" 200 22 \"-\" \"python-requests/2.25.1\"\\n'"
      ]
     },
     "execution_count": 25,
     "metadata": {},
     "output_type": "execute_result"
    }
   ],
   "source": [
    "logs = service.get_logs()\n",
    "logs"
   ]
  },
  {
   "cell_type": "code",
   "execution_count": 26,
   "metadata": {},
   "outputs": [],
   "source": [
    "service.delete()"
   ]
  },
  {
   "cell_type": "code",
   "execution_count": null,
   "metadata": {},
   "outputs": [],
   "source": []
  }
 ],
 "metadata": {
  "kernel_info": {
   "name": "python3"
  },
  "kernelspec": {
   "display_name": "Python 3",
   "language": "python",
   "name": "python3"
  },
  "language_info": {
   "codemirror_mode": {
    "name": "ipython",
    "version": 3
   },
   "file_extension": ".py",
   "mimetype": "text/x-python",
   "name": "python",
   "nbconvert_exporter": "python",
   "pygments_lexer": "ipython3",
   "version": "3.6.9"
  },
  "nteract": {
   "version": "nteract-front-end@1.0.0"
  }
 },
 "nbformat": 4,
 "nbformat_minor": 4
}
