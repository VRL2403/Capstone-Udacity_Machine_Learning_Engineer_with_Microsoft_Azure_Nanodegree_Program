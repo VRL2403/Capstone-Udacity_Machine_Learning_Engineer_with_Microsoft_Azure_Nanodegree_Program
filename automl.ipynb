{
 "cells": [
  {
   "cell_type": "markdown",
   "metadata": {},
   "source": [
    "# Automated ML\n",
    "\n",
    "Importing all needed dependencies to complete the project."
   ]
  },
  {
   "cell_type": "code",
   "execution_count": 1,
   "metadata": {
    "gather": {
     "logged": 1612018493821
    },
    "jupyter": {
     "outputs_hidden": false,
     "source_hidden": false
    },
    "nteract": {
     "transient": {
      "deleting": false
     }
    }
   },
   "outputs": [
    {
     "name": "stdout",
     "output_type": "stream",
     "text": [
      "SDK version: 1.20.0\n"
     ]
    }
   ],
   "source": [
    "import logging\n",
    "import os\n",
    "import json\n",
    "import csv\n",
    "import numpy as np\n",
    "import pandas as pd\n",
    "import pkg_resources\n",
    "import joblib\n",
    "\n",
    "import azureml.core\n",
    "from azureml.core.experiment import Experiment\n",
    "from azureml.core.workspace import Workspace\n",
    "from azureml.train.automl import AutoMLConfig\n",
    "from azureml.core.dataset import Dataset\n",
    "from azureml.core.compute import AmlCompute\n",
    "from azureml.core.compute import ComputeTarget\n",
    "from azureml.core.compute_target import ComputeTargetException\n",
    "from azureml.pipeline.steps import AutoMLStep\n",
    "from azureml.widgets import RunDetails\n",
    "from azureml.core import Model, Environment\n",
    "from azureml.core.model import InferenceConfig\n",
    "from azureml.core.webservice import AciWebservice\n",
    "from sklearn.preprocessing import StandardScaler\n",
    "\n",
    "# Check core SDK version number\n",
    "print(\"SDK version:\", azureml.core.VERSION)"
   ]
  },
  {
   "cell_type": "markdown",
   "metadata": {},
   "source": [
    "## Dataset\n",
    "\n",
    "### Overview\n",
    "This dataset comes from the Diabetes and Digestive and Kidney Disease National Institutes. The purpose of this dataset is to diagnose whether or not a patient is diabetic, on the basis of certain diagnostic measures in the dataset. The selection of these instances from a larger database was subject to several restrictions. All patients are women from the Indian heritage of Pima, at least 21 years old. \n",
    "https://www.kaggle.com/uciml/pima-indians-diabetes-database\n",
    "\n",
    "Task\n",
    "Predict the \"Outcome\" column based on the input features, either the patient has diabetes or not.\n",
    "\n",
    "Reference: http://www.arogyaworld.org/wp-content/uploads/2010/10/ArogyaWorld_IndiaDiabetes_FactSheets_CGI2013_web.pdf\n",
    "\n",
    "The dataset has nine features as follow:\n",
    "- Pregnancies: Number pregnancy times (int).\n",
    "- Glucose: Plasma glucose concentration level (int).\n",
    "- BloodPressure: Diastolic blood pressure level in mm Hg(int).\n",
    "- SkinThickness: skinfold thickness in mm(int).\n",
    "- Insulin: two-hour serum insulin measured by mu U/ml(int).\n",
    "- BMI: Body mass index (float).\n",
    "- DiabetesPedigreeFunction: Diabetes pedigree function(float).\n",
    "- Age: age in years 21 and above(int).\n",
    "- Outcome: Target column 0 or 1, 0 = Not diabetes, 1 = diabetes(int)."
   ]
  },
  {
   "cell_type": "code",
   "execution_count": 2,
   "metadata": {
    "gather": {
     "logged": 1598423890461
    },
    "jupyter": {
     "outputs_hidden": false,
     "source_hidden": false
    },
    "nteract": {
     "transient": {
      "deleting": false
     }
    }
   },
   "outputs": [],
   "source": [
    "ws = Workspace.from_config()\n",
    "\n",
    "# choose a name for experiment\n",
    "experiment_name = 'automl'\n",
    "\n",
    "experiment=Experiment(ws, experiment_name)"
   ]
  },
  {
   "cell_type": "code",
   "execution_count": 3,
   "metadata": {},
   "outputs": [
    {
     "name": "stdout",
     "output_type": "stream",
     "text": [
      "<class 'pandas.core.frame.DataFrame'>\n",
      "RangeIndex: 768 entries, 0 to 767\n",
      "Data columns (total 9 columns):\n",
      "Pregnancies                 768 non-null int64\n",
      "Glucose                     768 non-null int64\n",
      "BloodPressure               768 non-null int64\n",
      "SkinThickness               768 non-null int64\n",
      "Insulin                     768 non-null int64\n",
      "BMI                         768 non-null float64\n",
      "DiabetesPedigreeFunction    768 non-null float64\n",
      "Age                         768 non-null int64\n",
      "Outcome                     768 non-null int64\n",
      "dtypes: float64(2), int64(7)\n",
      "memory usage: 54.1 KB\n"
     ]
    }
   ],
   "source": [
    "# Load the registered dataset from workspace\n",
    "dataset = Dataset.get_by_name(ws, name='diabetes')\n",
    "\n",
    "# Convert the dataset to dataframe\n",
    "df = dataset.to_pandas_dataframe()\n",
    "df.info()"
   ]
  },
  {
   "cell_type": "code",
   "execution_count": 4,
   "metadata": {},
   "outputs": [
    {
     "data": {
      "text/html": [
       "<div>\n",
       "<style scoped>\n",
       "    .dataframe tbody tr th:only-of-type {\n",
       "        vertical-align: middle;\n",
       "    }\n",
       "\n",
       "    .dataframe tbody tr th {\n",
       "        vertical-align: top;\n",
       "    }\n",
       "\n",
       "    .dataframe thead th {\n",
       "        text-align: right;\n",
       "    }\n",
       "</style>\n",
       "<table border=\"1\" class=\"dataframe\">\n",
       "  <thead>\n",
       "    <tr style=\"text-align: right;\">\n",
       "      <th></th>\n",
       "      <th>Pregnancies</th>\n",
       "      <th>Glucose</th>\n",
       "      <th>BloodPressure</th>\n",
       "      <th>SkinThickness</th>\n",
       "      <th>Insulin</th>\n",
       "      <th>BMI</th>\n",
       "      <th>DiabetesPedigreeFunction</th>\n",
       "      <th>Age</th>\n",
       "      <th>Outcome</th>\n",
       "    </tr>\n",
       "  </thead>\n",
       "  <tbody>\n",
       "    <tr>\n",
       "      <th>count</th>\n",
       "      <td>768.000000</td>\n",
       "      <td>768.000000</td>\n",
       "      <td>768.000000</td>\n",
       "      <td>768.000000</td>\n",
       "      <td>768.000000</td>\n",
       "      <td>768.000000</td>\n",
       "      <td>768.000000</td>\n",
       "      <td>768.000000</td>\n",
       "      <td>768.000000</td>\n",
       "    </tr>\n",
       "    <tr>\n",
       "      <th>mean</th>\n",
       "      <td>3.845052</td>\n",
       "      <td>120.894531</td>\n",
       "      <td>69.105469</td>\n",
       "      <td>20.536458</td>\n",
       "      <td>79.799479</td>\n",
       "      <td>31.992578</td>\n",
       "      <td>0.471876</td>\n",
       "      <td>33.240885</td>\n",
       "      <td>0.348958</td>\n",
       "    </tr>\n",
       "    <tr>\n",
       "      <th>std</th>\n",
       "      <td>3.369578</td>\n",
       "      <td>31.972618</td>\n",
       "      <td>19.355807</td>\n",
       "      <td>15.952218</td>\n",
       "      <td>115.244002</td>\n",
       "      <td>7.884160</td>\n",
       "      <td>0.331329</td>\n",
       "      <td>11.760232</td>\n",
       "      <td>0.476951</td>\n",
       "    </tr>\n",
       "    <tr>\n",
       "      <th>min</th>\n",
       "      <td>0.000000</td>\n",
       "      <td>0.000000</td>\n",
       "      <td>0.000000</td>\n",
       "      <td>0.000000</td>\n",
       "      <td>0.000000</td>\n",
       "      <td>0.000000</td>\n",
       "      <td>0.078000</td>\n",
       "      <td>21.000000</td>\n",
       "      <td>0.000000</td>\n",
       "    </tr>\n",
       "    <tr>\n",
       "      <th>25%</th>\n",
       "      <td>1.000000</td>\n",
       "      <td>99.000000</td>\n",
       "      <td>62.000000</td>\n",
       "      <td>0.000000</td>\n",
       "      <td>0.000000</td>\n",
       "      <td>27.300000</td>\n",
       "      <td>0.243750</td>\n",
       "      <td>24.000000</td>\n",
       "      <td>0.000000</td>\n",
       "    </tr>\n",
       "    <tr>\n",
       "      <th>50%</th>\n",
       "      <td>3.000000</td>\n",
       "      <td>117.000000</td>\n",
       "      <td>72.000000</td>\n",
       "      <td>23.000000</td>\n",
       "      <td>30.500000</td>\n",
       "      <td>32.000000</td>\n",
       "      <td>0.372500</td>\n",
       "      <td>29.000000</td>\n",
       "      <td>0.000000</td>\n",
       "    </tr>\n",
       "    <tr>\n",
       "      <th>75%</th>\n",
       "      <td>6.000000</td>\n",
       "      <td>140.250000</td>\n",
       "      <td>80.000000</td>\n",
       "      <td>32.000000</td>\n",
       "      <td>127.250000</td>\n",
       "      <td>36.600000</td>\n",
       "      <td>0.626250</td>\n",
       "      <td>41.000000</td>\n",
       "      <td>1.000000</td>\n",
       "    </tr>\n",
       "    <tr>\n",
       "      <th>max</th>\n",
       "      <td>17.000000</td>\n",
       "      <td>199.000000</td>\n",
       "      <td>122.000000</td>\n",
       "      <td>99.000000</td>\n",
       "      <td>846.000000</td>\n",
       "      <td>67.100000</td>\n",
       "      <td>2.420000</td>\n",
       "      <td>81.000000</td>\n",
       "      <td>1.000000</td>\n",
       "    </tr>\n",
       "  </tbody>\n",
       "</table>\n",
       "</div>"
      ],
      "text/plain": [
       "       Pregnancies     Glucose  BloodPressure  SkinThickness     Insulin  \\\n",
       "count   768.000000  768.000000     768.000000     768.000000  768.000000   \n",
       "mean      3.845052  120.894531      69.105469      20.536458   79.799479   \n",
       "std       3.369578   31.972618      19.355807      15.952218  115.244002   \n",
       "min       0.000000    0.000000       0.000000       0.000000    0.000000   \n",
       "25%       1.000000   99.000000      62.000000       0.000000    0.000000   \n",
       "50%       3.000000  117.000000      72.000000      23.000000   30.500000   \n",
       "75%       6.000000  140.250000      80.000000      32.000000  127.250000   \n",
       "max      17.000000  199.000000     122.000000      99.000000  846.000000   \n",
       "\n",
       "              BMI  DiabetesPedigreeFunction         Age     Outcome  \n",
       "count  768.000000                768.000000  768.000000  768.000000  \n",
       "mean    31.992578                  0.471876   33.240885    0.348958  \n",
       "std      7.884160                  0.331329   11.760232    0.476951  \n",
       "min      0.000000                  0.078000   21.000000    0.000000  \n",
       "25%     27.300000                  0.243750   24.000000    0.000000  \n",
       "50%     32.000000                  0.372500   29.000000    0.000000  \n",
       "75%     36.600000                  0.626250   41.000000    1.000000  \n",
       "max     67.100000                  2.420000   81.000000    1.000000  "
      ]
     },
     "execution_count": 4,
     "metadata": {},
     "output_type": "execute_result"
    }
   ],
   "source": [
    "df.describe()"
   ]
  },
  {
   "cell_type": "code",
   "execution_count": 5,
   "metadata": {},
   "outputs": [
    {
     "data": {
      "text/html": [
       "<div>\n",
       "<style scoped>\n",
       "    .dataframe tbody tr th:only-of-type {\n",
       "        vertical-align: middle;\n",
       "    }\n",
       "\n",
       "    .dataframe tbody tr th {\n",
       "        vertical-align: top;\n",
       "    }\n",
       "\n",
       "    .dataframe thead th {\n",
       "        text-align: right;\n",
       "    }\n",
       "</style>\n",
       "<table border=\"1\" class=\"dataframe\">\n",
       "  <thead>\n",
       "    <tr style=\"text-align: right;\">\n",
       "      <th></th>\n",
       "      <th>Pregnancies</th>\n",
       "      <th>Glucose</th>\n",
       "      <th>BloodPressure</th>\n",
       "      <th>SkinThickness</th>\n",
       "      <th>Insulin</th>\n",
       "      <th>BMI</th>\n",
       "      <th>DiabetesPedigreeFunction</th>\n",
       "      <th>Age</th>\n",
       "      <th>Outcome</th>\n",
       "    </tr>\n",
       "  </thead>\n",
       "  <tbody>\n",
       "    <tr>\n",
       "      <th>0</th>\n",
       "      <td>6</td>\n",
       "      <td>148</td>\n",
       "      <td>72</td>\n",
       "      <td>35</td>\n",
       "      <td>0</td>\n",
       "      <td>33.6</td>\n",
       "      <td>0.627</td>\n",
       "      <td>50</td>\n",
       "      <td>1</td>\n",
       "    </tr>\n",
       "    <tr>\n",
       "      <th>1</th>\n",
       "      <td>1</td>\n",
       "      <td>85</td>\n",
       "      <td>66</td>\n",
       "      <td>29</td>\n",
       "      <td>0</td>\n",
       "      <td>26.6</td>\n",
       "      <td>0.351</td>\n",
       "      <td>31</td>\n",
       "      <td>0</td>\n",
       "    </tr>\n",
       "    <tr>\n",
       "      <th>2</th>\n",
       "      <td>8</td>\n",
       "      <td>183</td>\n",
       "      <td>64</td>\n",
       "      <td>0</td>\n",
       "      <td>0</td>\n",
       "      <td>23.3</td>\n",
       "      <td>0.672</td>\n",
       "      <td>32</td>\n",
       "      <td>1</td>\n",
       "    </tr>\n",
       "    <tr>\n",
       "      <th>3</th>\n",
       "      <td>1</td>\n",
       "      <td>89</td>\n",
       "      <td>66</td>\n",
       "      <td>23</td>\n",
       "      <td>94</td>\n",
       "      <td>28.1</td>\n",
       "      <td>0.167</td>\n",
       "      <td>21</td>\n",
       "      <td>0</td>\n",
       "    </tr>\n",
       "    <tr>\n",
       "      <th>4</th>\n",
       "      <td>0</td>\n",
       "      <td>137</td>\n",
       "      <td>40</td>\n",
       "      <td>35</td>\n",
       "      <td>168</td>\n",
       "      <td>43.1</td>\n",
       "      <td>2.288</td>\n",
       "      <td>33</td>\n",
       "      <td>1</td>\n",
       "    </tr>\n",
       "  </tbody>\n",
       "</table>\n",
       "</div>"
      ],
      "text/plain": [
       "   Pregnancies  Glucose  BloodPressure  SkinThickness  Insulin   BMI  \\\n",
       "0            6      148             72             35        0  33.6   \n",
       "1            1       85             66             29        0  26.6   \n",
       "2            8      183             64              0        0  23.3   \n",
       "3            1       89             66             23       94  28.1   \n",
       "4            0      137             40             35      168  43.1   \n",
       "\n",
       "   DiabetesPedigreeFunction  Age  Outcome  \n",
       "0                     0.627   50        1  \n",
       "1                     0.351   31        0  \n",
       "2                     0.672   32        1  \n",
       "3                     0.167   21        0  \n",
       "4                     2.288   33        1  "
      ]
     },
     "execution_count": 5,
     "metadata": {},
     "output_type": "execute_result"
    }
   ],
   "source": [
    "#Display the first five records of the dataset\n",
    "df.head()"
   ]
  },
  {
   "cell_type": "code",
   "execution_count": 6,
   "metadata": {},
   "outputs": [
    {
     "name": "stdout",
     "output_type": "stream",
     "text": [
      "Found existing cluster, use it.\n",
      "\n",
      "Running\n"
     ]
    }
   ],
   "source": [
    "# Create CPU cluster\n",
    "amlcompute_cluster_name = \"notebook138781\"\n",
    "\n",
    "# Verify if cluster does not exist otherwise use the existing one\n",
    "try:\n",
    "    compute_target = ComputeTarget(workspace=ws, name=amlcompute_cluster_name)\n",
    "    print('Found existing cluster, use it.')\n",
    "except ComputeTargetException:\n",
    "    compute_config = AmlCompute.provisioning_configuration(vm_size='Standard_DS12_V2',\n",
    "                                                           vm_priority = 'lowpriority', \n",
    "                                                           max_nodes=4)\n",
    "    compute_target = ComputeTarget.create(ws, amlcompute_cluster_name, compute_config)\n",
    "\n",
    "compute_target.wait_for_completion(show_output=True)\n"
   ]
  },
  {
   "cell_type": "markdown",
   "metadata": {},
   "source": [
    "## AutoML Configuration\n",
    "\n",
    "Overview of the automl settings and configuration used for this experiment:\n",
    "\n",
    "- \"experiment_timeout_minutes\": set to 30 minutes. The experiment will timeout after that period to avoid wasting resources.\n",
    "- \"max_concurrent_iterations\": is set to 4. The max number of concurrent iterations to be run in parallel at the same time.\n",
    "- \"primary_metric\" : is set to 'accuracy', which is a sutible metric for classification problems.\n",
    "- \"n_cross_validations\": is set to 5, therefore the training and validation sets will be divided into five equal sets.\n",
    "- \"iterations\": the number of iterations for the experiment is set to 20. It's a reasonable number and would provide the intendable result for the given dataset.\n",
    "- compute_target: set to the project cluster to run the experiment.\n",
    "- task: set to 'classification' since our target to predict whether the patient has diabetes or not.\n",
    "- training_data: the loaded dataset for the project.\n",
    "- label_column_name: set to the result/target colunm in the dataset 'Outcome' (0 or 1).\n",
    "- enable_early_stopping: is enabled to terminate the experiment if the accuracy score is not showing improvement over time.\n",
    "- featurization = is set to 'auto', it's an indicator of whether implementing a featurization step to preprocess/clean the dataset automatically or not. In our case, the preprocessing was applied for the numerical columns which normally involve treating missing values, cluster distance, the weight of evidence...etc.\n",
    "- debug_log: errors will be logged into 'automl_errors.log'.\n"
   ]
  },
  {
   "cell_type": "code",
   "execution_count": 10,
   "metadata": {
    "gather": {
     "logged": 1598429217746
    },
    "jupyter": {
     "outputs_hidden": false,
     "source_hidden": false
    },
    "nteract": {
     "transient": {
      "deleting": false
     }
    }
   },
   "outputs": [],
   "source": [
    "# Automl settings \n",
    "automl_settings = {\n",
    "    \"experiment_timeout_minutes\": 30,\n",
    "    \"max_concurrent_iterations\": 4,\n",
    "    \"primary_metric\" : 'accuracy',\n",
    "    \"n_cross_validations\": 5,\n",
    "    \"iterations\": 24\n",
    "    \n",
    "}\n",
    "\n",
    "# Automl config \n",
    "automl_config = AutoMLConfig(compute_target=compute_target,\n",
    "                             task = 'classification',\n",
    "                             training_data=dataset,\n",
    "                             label_column_name='Outcome',\n",
    "                             enable_early_stopping= True,\n",
    "                             featurization = 'auto',\n",
    "                             debug_log = 'automl_errors.log',\n",
    "                             **automl_settings\n",
    "                            )\n",
    "\n"
   ]
  },
  {
   "cell_type": "code",
   "execution_count": 11,
   "metadata": {
    "gather": {
     "logged": 1598431107951
    },
    "jupyter": {
     "outputs_hidden": false,
     "source_hidden": false
    },
    "nteract": {
     "transient": {
      "deleting": false
     }
    }
   },
   "outputs": [
    {
     "name": "stdout",
     "output_type": "stream",
     "text": [
      "Running on remote.\n",
      "No run_configuration provided, running on notebook138781 with default configuration\n",
      "Running on remote compute: notebook138781\n",
      "Parent Run ID: AutoML_b0a25907-1616-4fcb-a321-ac237c80c1b4\n",
      "\n",
      "Current status: FeaturesGeneration. Generating features for the dataset.\n",
      "Current status: DatasetCrossValidationSplit. Generating individually featurized CV splits.\n",
      "Current status: ModelSelection. Beginning model selection.\n",
      "\n",
      "****************************************************************************************************\n",
      "DATA GUARDRAILS: \n",
      "\n",
      "TYPE:         Class balancing detection\n",
      "STATUS:       PASSED\n",
      "DESCRIPTION:  Your inputs were analyzed, and all classes are balanced in your training data.\n",
      "              Learn more about imbalanced data: https://aka.ms/AutomatedMLImbalancedData\n",
      "\n",
      "****************************************************************************************************\n",
      "\n",
      "TYPE:         Missing feature values imputation\n",
      "STATUS:       PASSED\n",
      "DESCRIPTION:  No feature missing values were detected in the training data.\n",
      "              Learn more about missing value imputation: https://aka.ms/AutomatedMLFeaturization\n",
      "\n",
      "****************************************************************************************************\n",
      "\n",
      "TYPE:         High cardinality feature detection\n",
      "STATUS:       PASSED\n",
      "DESCRIPTION:  Your inputs were analyzed, and no high cardinality features were detected.\n",
      "              Learn more about high cardinality feature handling: https://aka.ms/AutomatedMLFeaturization\n",
      "\n",
      "****************************************************************************************************\n",
      "\n",
      "****************************************************************************************************\n",
      "ITERATION: The iteration being evaluated.\n",
      "PIPELINE: A summary description of the pipeline being evaluated.\n",
      "DURATION: Time taken for the current iteration.\n",
      "METRIC: The result of computing score on the fitted pipeline.\n",
      "BEST: The best observed score thus far.\n",
      "****************************************************************************************************\n",
      "\n",
      " ITERATION   PIPELINE                                       DURATION      METRIC      BEST\n",
      "         2   MaxAbsScaler RandomForest                      0:01:06       0.7553    0.7553\n",
      "         3   MaxAbsScaler RandomForest                      0:01:06       0.7527    0.7553\n",
      "         0   MaxAbsScaler LightGBM                          0:01:11       0.7370    0.7553\n",
      "         1   MaxAbsScaler XGBoostClassifier                 0:01:08       0.7500    0.7553\n",
      "         4   MaxAbsScaler RandomForest                      0:01:09       0.7618    0.7618\n",
      "         5   MaxAbsScaler RandomForest                      0:01:07       0.7162    0.7618\n",
      "         7   SparseNormalizer XGBoostClassifier             0:01:13       0.7591    0.7618\n",
      "         6   SparseNormalizer XGBoostClassifier             0:01:59       0.7553    0.7618\n",
      "         8   SparseNormalizer XGBoostClassifier             0:01:09       0.7436    0.7618\n",
      "         9   SparseNormalizer XGBoostClassifier             0:01:08       0.7423    0.7618\n",
      "        10   MaxAbsScaler RandomForest                      0:01:14       0.7501    0.7618\n",
      "        11   SparseNormalizer XGBoostClassifier             0:01:19       0.7241    0.7618\n",
      "        12   MaxAbsScaler RandomForest                      0:01:07       0.7709    0.7709\n",
      "        13   MaxAbsScaler ExtremeRandomTrees                0:01:08       0.7514    0.7709\n",
      "        14   MaxAbsScaler LightGBM                          0:01:51       0.7566    0.7709\n",
      "        15   MaxAbsScaler LogisticRegression                0:01:12       0.7579    0.7709\n",
      "        16   SparseNormalizer LightGBM                      0:01:06       0.7514    0.7709\n",
      "        17   MaxAbsScaler LogisticRegression                0:01:06       0.7540    0.7709\n",
      "        18   MaxAbsScaler LightGBM                          0:01:13       0.7592    0.7709\n",
      "        20   MaxAbsScaler ExtremeRandomTrees                0:01:12       0.7605    0.7709\n",
      "        21   MaxAbsScaler LightGBM                          0:01:10       0.7605    0.7709\n",
      "        19   StandardScalerWrapper RandomForest             0:01:14       0.7527    0.7709\n",
      "        22    VotingEnsemble                                0:01:39       0.7814    0.7814\n",
      "        23    StackEnsemble                                 0:01:40       0.7618    0.7814\n"
     ]
    }
   ],
   "source": [
    "# Submit experiment\n",
    "remote_run = experiment.submit(automl_config, show_output=True)"
   ]
  },
  {
   "cell_type": "markdown",
   "metadata": {},
   "source": [
    "## Run Details\n",
    "\n",
    "The best model has resulted from the AutoML experiment from VotingEnsemble model. The Voting Ensemble model takes a majority vote of several algorithms which makes it surpass individual algorithms and minimize the bias. \n",
    "\n",
    "Use the `RunDetails` widget to show the different experiments."
   ]
  },
  {
   "cell_type": "code",
   "execution_count": 12,
   "metadata": {
    "gather": {
     "logged": 1598431121770
    },
    "jupyter": {
     "outputs_hidden": false,
     "source_hidden": false
    },
    "nteract": {
     "transient": {
      "deleting": false
     }
    }
   },
   "outputs": [
    {
     "data": {
      "application/vnd.jupyter.widget-view+json": {
       "model_id": "22cb7ca599d14e09aa322cdede46f394",
       "version_major": 2,
       "version_minor": 0
      },
      "text/plain": [
       "_AutoMLWidget(widget_settings={'childWidgetDisplay': 'popup', 'send_telemetry': False, 'log_level': 'INFO', 's…"
      ]
     },
     "metadata": {},
     "output_type": "display_data"
    },
    {
     "data": {
      "application/aml.mini.widget.v1": "{\"status\": \"Completed\", \"workbench_run_details_uri\": \"https://ml.azure.com/experiments/automl/runs/AutoML_b0a25907-1616-4fcb-a321-ac237c80c1b4?wsid=/subscriptions/61c5c3f0-6dc7-4ed9-a7f3-c704b20e3b30/resourcegroups/aml-quickstarts-138781/workspaces/quick-starts-ws-138781\", \"run_id\": \"AutoML_b0a25907-1616-4fcb-a321-ac237c80c1b4\", \"run_properties\": {\"run_id\": \"AutoML_b0a25907-1616-4fcb-a321-ac237c80c1b4\", \"created_utc\": \"2021-02-13T10:17:22.332779Z\", \"properties\": {\"num_iterations\": \"24\", \"training_type\": \"TrainFull\", \"acquisition_function\": \"EI\", \"primary_metric\": \"accuracy\", \"train_split\": \"0\", \"acquisition_parameter\": \"0\", \"num_cross_validation\": \"5\", \"target\": \"notebook138781\", \"AMLSettingsJsonString\": \"{\\\"path\\\":null,\\\"name\\\":\\\"automl\\\",\\\"subscription_id\\\":\\\"61c5c3f0-6dc7-4ed9-a7f3-c704b20e3b30\\\",\\\"resource_group\\\":\\\"aml-quickstarts-138781\\\",\\\"workspace_name\\\":\\\"quick-starts-ws-138781\\\",\\\"region\\\":\\\"southcentralus\\\",\\\"compute_target\\\":\\\"notebook138781\\\",\\\"spark_service\\\":null,\\\"azure_service\\\":\\\"remote\\\",\\\"many_models\\\":false,\\\"pipeline_fetch_max_batch_size\\\":1,\\\"iterations\\\":24,\\\"primary_metric\\\":\\\"accuracy\\\",\\\"task_type\\\":\\\"classification\\\",\\\"data_script\\\":null,\\\"validation_size\\\":0.0,\\\"n_cross_validations\\\":5,\\\"y_min\\\":null,\\\"y_max\\\":null,\\\"num_classes\\\":null,\\\"featurization\\\":\\\"auto\\\",\\\"_ignore_package_version_incompatibilities\\\":false,\\\"is_timeseries\\\":false,\\\"max_cores_per_iteration\\\":1,\\\"max_concurrent_iterations\\\":4,\\\"iteration_timeout_minutes\\\":null,\\\"mem_in_mb\\\":null,\\\"enforce_time_on_windows\\\":false,\\\"experiment_timeout_minutes\\\":30,\\\"experiment_exit_score\\\":null,\\\"whitelist_models\\\":null,\\\"blacklist_algos\\\":[\\\"TensorFlowLinearClassifier\\\",\\\"TensorFlowDNN\\\"],\\\"supported_models\\\":[\\\"GradientBoosting\\\",\\\"XGBoostClassifier\\\",\\\"TensorFlowLinearClassifier\\\",\\\"RandomForest\\\",\\\"MultinomialNaiveBayes\\\",\\\"LightGBM\\\",\\\"BernoulliNaiveBayes\\\",\\\"LogisticRegression\\\",\\\"TensorFlowDNN\\\",\\\"SGD\\\",\\\"DecisionTree\\\",\\\"AveragedPerceptronClassifier\\\",\\\"ExtremeRandomTrees\\\",\\\"SVM\\\",\\\"LinearSVM\\\",\\\"KNN\\\"],\\\"auto_blacklist\\\":true,\\\"blacklist_samples_reached\\\":false,\\\"exclude_nan_labels\\\":true,\\\"verbosity\\\":20,\\\"_debug_log\\\":\\\"azureml_automl.log\\\",\\\"show_warnings\\\":false,\\\"model_explainability\\\":true,\\\"service_url\\\":null,\\\"sdk_url\\\":null,\\\"sdk_packages\\\":null,\\\"enable_onnx_compatible_models\\\":false,\\\"enable_split_onnx_featurizer_estimator_models\\\":false,\\\"vm_type\\\":\\\"STANDARD_DS3_V2\\\",\\\"telemetry_verbosity\\\":20,\\\"send_telemetry\\\":true,\\\"enable_dnn\\\":false,\\\"scenario\\\":\\\"SDK-1.13.0\\\",\\\"environment_label\\\":null,\\\"force_text_dnn\\\":false,\\\"enable_feature_sweeping\\\":true,\\\"enable_early_stopping\\\":true,\\\"early_stopping_n_iters\\\":10,\\\"metrics\\\":null,\\\"enable_ensembling\\\":true,\\\"enable_stack_ensembling\\\":true,\\\"ensemble_iterations\\\":15,\\\"enable_tf\\\":false,\\\"enable_subsampling\\\":false,\\\"subsample_seed\\\":null,\\\"enable_nimbusml\\\":false,\\\"enable_streaming\\\":false,\\\"force_streaming\\\":false,\\\"track_child_runs\\\":true,\\\"allowed_private_models\\\":[],\\\"label_column_name\\\":\\\"Outcome\\\",\\\"weight_column_name\\\":null,\\\"cv_split_column_names\\\":null,\\\"enable_local_managed\\\":false,\\\"_local_managed_run_id\\\":null,\\\"cost_mode\\\":1,\\\"lag_length\\\":0,\\\"metric_operation\\\":\\\"maximize\\\",\\\"preprocess\\\":true}\", \"DataPrepJsonString\": \"{\\\\\\\"training_data\\\\\\\": \\\\\\\"{\\\\\\\\\\\\\\\"blocks\\\\\\\\\\\\\\\": [{\\\\\\\\\\\\\\\"id\\\\\\\\\\\\\\\": \\\\\\\\\\\\\\\"a413eaf0-fe7b-4fb6-ac3d-c2b67d6e68cb\\\\\\\\\\\\\\\", \\\\\\\\\\\\\\\"type\\\\\\\\\\\\\\\": \\\\\\\\\\\\\\\"Microsoft.DPrep.GetDatastoreFilesBlock\\\\\\\\\\\\\\\", \\\\\\\\\\\\\\\"arguments\\\\\\\\\\\\\\\": {\\\\\\\\\\\\\\\"datastores\\\\\\\\\\\\\\\": [{\\\\\\\\\\\\\\\"datastoreName\\\\\\\\\\\\\\\": \\\\\\\\\\\\\\\"workspaceblobstore\\\\\\\\\\\\\\\", \\\\\\\\\\\\\\\"path\\\\\\\\\\\\\\\": \\\\\\\\\\\\\\\"UI/02-13-2021_101158_UTC/diabetes.csv\\\\\\\\\\\\\\\", \\\\\\\\\\\\\\\"resourceGroup\\\\\\\\\\\\\\\": \\\\\\\\\\\\\\\"aml-quickstarts-138781\\\\\\\\\\\\\\\", \\\\\\\\\\\\\\\"subscription\\\\\\\\\\\\\\\": \\\\\\\\\\\\\\\"61c5c3f0-6dc7-4ed9-a7f3-c704b20e3b30\\\\\\\\\\\\\\\", \\\\\\\\\\\\\\\"workspaceName\\\\\\\\\\\\\\\": \\\\\\\\\\\\\\\"quick-starts-ws-138781\\\\\\\\\\\\\\\"}]}, \\\\\\\\\\\\\\\"localData\\\\\\\\\\\\\\\": {}, \\\\\\\\\\\\\\\"isEnabled\\\\\\\\\\\\\\\": true, \\\\\\\\\\\\\\\"name\\\\\\\\\\\\\\\": null, \\\\\\\\\\\\\\\"annotation\\\\\\\\\\\\\\\": null}, {\\\\\\\\\\\\\\\"id\\\\\\\\\\\\\\\": \\\\\\\\\\\\\\\"7a997197-df92-49bf-9b48-ad40ddba5d22\\\\\\\\\\\\\\\", \\\\\\\\\\\\\\\"type\\\\\\\\\\\\\\\": \\\\\\\\\\\\\\\"Microsoft.DPrep.ParseDelimitedBlock\\\\\\\\\\\\\\\", \\\\\\\\\\\\\\\"arguments\\\\\\\\\\\\\\\": {\\\\\\\\\\\\\\\"columnHeadersMode\\\\\\\\\\\\\\\": 3, \\\\\\\\\\\\\\\"fileEncoding\\\\\\\\\\\\\\\": 0, \\\\\\\\\\\\\\\"handleQuotedLineBreaks\\\\\\\\\\\\\\\": false, \\\\\\\\\\\\\\\"preview\\\\\\\\\\\\\\\": false, \\\\\\\\\\\\\\\"separator\\\\\\\\\\\\\\\": \\\\\\\\\\\\\\\",\\\\\\\\\\\\\\\", \\\\\\\\\\\\\\\"skipRows\\\\\\\\\\\\\\\": 0, \\\\\\\\\\\\\\\"skipRowsMode\\\\\\\\\\\\\\\": 0}, \\\\\\\\\\\\\\\"localData\\\\\\\\\\\\\\\": {}, \\\\\\\\\\\\\\\"isEnabled\\\\\\\\\\\\\\\": true, \\\\\\\\\\\\\\\"name\\\\\\\\\\\\\\\": null, \\\\\\\\\\\\\\\"annotation\\\\\\\\\\\\\\\": null}, {\\\\\\\\\\\\\\\"id\\\\\\\\\\\\\\\": \\\\\\\\\\\\\\\"9d3fc92e-0df8-4189-a2dd-a01879aa4ffa\\\\\\\\\\\\\\\", \\\\\\\\\\\\\\\"type\\\\\\\\\\\\\\\": \\\\\\\\\\\\\\\"Microsoft.DPrep.DropColumnsBlock\\\\\\\\\\\\\\\", \\\\\\\\\\\\\\\"arguments\\\\\\\\\\\\\\\": {\\\\\\\\\\\\\\\"columns\\\\\\\\\\\\\\\": {\\\\\\\\\\\\\\\"type\\\\\\\\\\\\\\\": 0, \\\\\\\\\\\\\\\"details\\\\\\\\\\\\\\\": {\\\\\\\\\\\\\\\"selectedColumns\\\\\\\\\\\\\\\": [\\\\\\\\\\\\\\\"Path\\\\\\\\\\\\\\\"]}}}, \\\\\\\\\\\\\\\"localData\\\\\\\\\\\\\\\": {}, \\\\\\\\\\\\\\\"isEnabled\\\\\\\\\\\\\\\": true, \\\\\\\\\\\\\\\"name\\\\\\\\\\\\\\\": null, \\\\\\\\\\\\\\\"annotation\\\\\\\\\\\\\\\": null}, {\\\\\\\\\\\\\\\"id\\\\\\\\\\\\\\\": \\\\\\\\\\\\\\\"e7f5d392-72f8-47cb-9a9a-30a2c6271e1c\\\\\\\\\\\\\\\", \\\\\\\\\\\\\\\"type\\\\\\\\\\\\\\\": \\\\\\\\\\\\\\\"Microsoft.DPrep.SetColumnTypesBlock\\\\\\\\\\\\\\\", \\\\\\\\\\\\\\\"arguments\\\\\\\\\\\\\\\": {\\\\\\\\\\\\\\\"columnConversion\\\\\\\\\\\\\\\": [{\\\\\\\\\\\\\\\"column\\\\\\\\\\\\\\\": {\\\\\\\\\\\\\\\"type\\\\\\\\\\\\\\\": 2, \\\\\\\\\\\\\\\"details\\\\\\\\\\\\\\\": {\\\\\\\\\\\\\\\"selectedColumn\\\\\\\\\\\\\\\": \\\\\\\\\\\\\\\"Path\\\\\\\\\\\\\\\"}}, \\\\\\\\\\\\\\\"typeProperty\\\\\\\\\\\\\\\": 0}, {\\\\\\\\\\\\\\\"column\\\\\\\\\\\\\\\": {\\\\\\\\\\\\\\\"type\\\\\\\\\\\\\\\": 2, \\\\\\\\\\\\\\\"details\\\\\\\\\\\\\\\": {\\\\\\\\\\\\\\\"selectedColumn\\\\\\\\\\\\\\\": \\\\\\\\\\\\\\\"Pregnancies\\\\\\\\\\\\\\\"}}, \\\\\\\\\\\\\\\"typeProperty\\\\\\\\\\\\\\\": 2}, {\\\\\\\\\\\\\\\"column\\\\\\\\\\\\\\\": {\\\\\\\\\\\\\\\"type\\\\\\\\\\\\\\\": 2, \\\\\\\\\\\\\\\"details\\\\\\\\\\\\\\\": {\\\\\\\\\\\\\\\"selectedColumn\\\\\\\\\\\\\\\": \\\\\\\\\\\\\\\"Glucose\\\\\\\\\\\\\\\"}}, \\\\\\\\\\\\\\\"typeProperty\\\\\\\\\\\\\\\": 2}, {\\\\\\\\\\\\\\\"column\\\\\\\\\\\\\\\": {\\\\\\\\\\\\\\\"type\\\\\\\\\\\\\\\": 2, \\\\\\\\\\\\\\\"details\\\\\\\\\\\\\\\": {\\\\\\\\\\\\\\\"selectedColumn\\\\\\\\\\\\\\\": \\\\\\\\\\\\\\\"BloodPressure\\\\\\\\\\\\\\\"}}, \\\\\\\\\\\\\\\"typeProperty\\\\\\\\\\\\\\\": 2}, {\\\\\\\\\\\\\\\"column\\\\\\\\\\\\\\\": {\\\\\\\\\\\\\\\"type\\\\\\\\\\\\\\\": 2, \\\\\\\\\\\\\\\"details\\\\\\\\\\\\\\\": {\\\\\\\\\\\\\\\"selectedColumn\\\\\\\\\\\\\\\": \\\\\\\\\\\\\\\"SkinThickness\\\\\\\\\\\\\\\"}}, \\\\\\\\\\\\\\\"typeProperty\\\\\\\\\\\\\\\": 2}, {\\\\\\\\\\\\\\\"column\\\\\\\\\\\\\\\": {\\\\\\\\\\\\\\\"type\\\\\\\\\\\\\\\": 2, \\\\\\\\\\\\\\\"details\\\\\\\\\\\\\\\": {\\\\\\\\\\\\\\\"selectedColumn\\\\\\\\\\\\\\\": \\\\\\\\\\\\\\\"Insulin\\\\\\\\\\\\\\\"}}, \\\\\\\\\\\\\\\"typeProperty\\\\\\\\\\\\\\\": 2}, {\\\\\\\\\\\\\\\"column\\\\\\\\\\\\\\\": {\\\\\\\\\\\\\\\"type\\\\\\\\\\\\\\\": 2, \\\\\\\\\\\\\\\"details\\\\\\\\\\\\\\\": {\\\\\\\\\\\\\\\"selectedColumn\\\\\\\\\\\\\\\": \\\\\\\\\\\\\\\"BMI\\\\\\\\\\\\\\\"}}, \\\\\\\\\\\\\\\"typeProperty\\\\\\\\\\\\\\\": 3}, {\\\\\\\\\\\\\\\"column\\\\\\\\\\\\\\\": {\\\\\\\\\\\\\\\"type\\\\\\\\\\\\\\\": 2, \\\\\\\\\\\\\\\"details\\\\\\\\\\\\\\\": {\\\\\\\\\\\\\\\"selectedColumn\\\\\\\\\\\\\\\": \\\\\\\\\\\\\\\"DiabetesPedigreeFunction\\\\\\\\\\\\\\\"}}, \\\\\\\\\\\\\\\"typeProperty\\\\\\\\\\\\\\\": 3}, {\\\\\\\\\\\\\\\"column\\\\\\\\\\\\\\\": {\\\\\\\\\\\\\\\"type\\\\\\\\\\\\\\\": 2, \\\\\\\\\\\\\\\"details\\\\\\\\\\\\\\\": {\\\\\\\\\\\\\\\"selectedColumn\\\\\\\\\\\\\\\": \\\\\\\\\\\\\\\"Age\\\\\\\\\\\\\\\"}}, \\\\\\\\\\\\\\\"typeProperty\\\\\\\\\\\\\\\": 2}, {\\\\\\\\\\\\\\\"column\\\\\\\\\\\\\\\": {\\\\\\\\\\\\\\\"type\\\\\\\\\\\\\\\": 2, \\\\\\\\\\\\\\\"details\\\\\\\\\\\\\\\": {\\\\\\\\\\\\\\\"selectedColumn\\\\\\\\\\\\\\\": \\\\\\\\\\\\\\\"Outcome\\\\\\\\\\\\\\\"}}, \\\\\\\\\\\\\\\"typeProperty\\\\\\\\\\\\\\\": 2}]}, \\\\\\\\\\\\\\\"localData\\\\\\\\\\\\\\\": {}, \\\\\\\\\\\\\\\"isEnabled\\\\\\\\\\\\\\\": true, \\\\\\\\\\\\\\\"name\\\\\\\\\\\\\\\": null, \\\\\\\\\\\\\\\"annotation\\\\\\\\\\\\\\\": null}], \\\\\\\\\\\\\\\"inspectors\\\\\\\\\\\\\\\": [], \\\\\\\\\\\\\\\"meta\\\\\\\\\\\\\\\": {\\\\\\\\\\\\\\\"savedDatasetId\\\\\\\\\\\\\\\": \\\\\\\\\\\\\\\"3ada41b4-c12a-43bc-bd55-d3424afaabe6\\\\\\\\\\\\\\\", \\\\\\\\\\\\\\\"datasetType\\\\\\\\\\\\\\\": \\\\\\\\\\\\\\\"tabular\\\\\\\\\\\\\\\", \\\\\\\\\\\\\\\"subscriptionId\\\\\\\\\\\\\\\": \\\\\\\\\\\\\\\"61c5c3f0-6dc7-4ed9-a7f3-c704b20e3b30\\\\\\\\\\\\\\\", \\\\\\\\\\\\\\\"workspaceId\\\\\\\\\\\\\\\": \\\\\\\\\\\\\\\"7f8a139e-7aeb-4362-8787-72dd4d1ef764\\\\\\\\\\\\\\\", \\\\\\\\\\\\\\\"workspaceLocation\\\\\\\\\\\\\\\": \\\\\\\\\\\\\\\"southcentralus\\\\\\\\\\\\\\\"}}\\\\\\\", \\\\\\\"activities\\\\\\\": 0}\", \"EnableSubsampling\": \"False\", \"runTemplate\": \"AutoML\", \"azureml.runsource\": \"automl\", \"display_task_type\": \"classification\", \"dependencies_versions\": \"{\\\"azureml-widgets\\\": \\\"1.20.0\\\", \\\"azureml-train\\\": \\\"1.20.0\\\", \\\"azureml-train-restclients-hyperdrive\\\": \\\"1.20.0\\\", \\\"azureml-train-core\\\": \\\"1.20.0\\\", \\\"azureml-train-automl\\\": \\\"1.20.0\\\", \\\"azureml-train-automl-runtime\\\": \\\"1.20.0\\\", \\\"azureml-train-automl-client\\\": \\\"1.20.0\\\", \\\"azureml-tensorboard\\\": \\\"1.20.0\\\", \\\"azureml-telemetry\\\": \\\"1.20.0\\\", \\\"azureml-sdk\\\": \\\"1.20.0\\\", \\\"azureml-samples\\\": \\\"0+unknown\\\", \\\"azureml-pipeline\\\": \\\"1.20.0\\\", \\\"azureml-pipeline-steps\\\": \\\"1.20.0\\\", \\\"azureml-pipeline-core\\\": \\\"1.20.0\\\", \\\"azureml-opendatasets\\\": \\\"1.20.0\\\", \\\"azureml-model-management-sdk\\\": \\\"1.0.1b6.post1\\\", \\\"azureml-mlflow\\\": \\\"1.20.0.post1\\\", \\\"azureml-interpret\\\": \\\"1.20.0\\\", \\\"azureml-explain-model\\\": \\\"1.20.0\\\", \\\"azureml-defaults\\\": \\\"1.20.0\\\", \\\"azureml-dataset-runtime\\\": \\\"1.20.0\\\", \\\"azureml-dataprep\\\": \\\"2.7.3\\\", \\\"azureml-dataprep-rslex\\\": \\\"1.5.0\\\", \\\"azureml-dataprep-native\\\": \\\"27.0.0\\\", \\\"azureml-datadrift\\\": \\\"1.20.0\\\", \\\"azureml-core\\\": \\\"1.20.0\\\", \\\"azureml-contrib-services\\\": \\\"1.20.0\\\", \\\"azureml-contrib-server\\\": \\\"1.20.0\\\", \\\"azureml-contrib-reinforcementlearning\\\": \\\"1.20.0\\\", \\\"azureml-contrib-pipeline-steps\\\": \\\"1.20.0\\\", \\\"azureml-contrib-notebook\\\": \\\"1.20.0\\\", \\\"azureml-contrib-interpret\\\": \\\"1.20.0\\\", \\\"azureml-contrib-gbdt\\\": \\\"1.20.0\\\", \\\"azureml-contrib-fairness\\\": \\\"1.20.0\\\", \\\"azureml-contrib-dataset\\\": \\\"1.20.0\\\", \\\"azureml-cli-common\\\": \\\"1.20.0\\\", \\\"azureml-automl-runtime\\\": \\\"1.20.0\\\", \\\"azureml-automl-core\\\": \\\"1.20.0\\\", \\\"azureml-accel-models\\\": \\\"1.20.0\\\"}\", \"_aml_system_scenario_identification\": \"Remote.Parent\", \"ClientType\": \"SDK\", \"environment_cpu_name\": \"AzureML-AutoML\", \"environment_cpu_label\": \"prod\", \"environment_gpu_name\": \"AzureML-AutoML-GPU\", \"environment_gpu_label\": \"prod\", \"root_attribution\": \"automl\", \"attribution\": \"AutoML\", \"Orchestrator\": \"AutoML\", \"CancelUri\": \"https://southcentralus.experiments.azureml.net/jasmine/v1.0/subscriptions/61c5c3f0-6dc7-4ed9-a7f3-c704b20e3b30/resourceGroups/aml-quickstarts-138781/providers/Microsoft.MachineLearningServices/workspaces/quick-starts-ws-138781/experimentids/3d59d19c-5bc3-4025-9d9b-69a1460b58a2/cancel/AutoML_b0a25907-1616-4fcb-a321-ac237c80c1b4\", \"ClientSdkVersion\": \"1.21.0\", \"snapshotId\": \"00000000-0000-0000-0000-000000000000\", \"SetupRunId\": \"AutoML_b0a25907-1616-4fcb-a321-ac237c80c1b4_setup\", \"SetupRunContainerId\": \"dcid.AutoML_b0a25907-1616-4fcb-a321-ac237c80c1b4_setup\", \"FeaturizationRunJsonPath\": \"featurizer_container.json\", \"FeaturizationRunId\": \"AutoML_b0a25907-1616-4fcb-a321-ac237c80c1b4_featurize\", \"ProblemInfoJsonString\": \"{\\\"dataset_num_categorical\\\": 0, \\\"is_sparse\\\": true, \\\"subsampling\\\": false, \\\"dataset_classes\\\": 2, \\\"dataset_features\\\": 32, \\\"dataset_samples\\\": 768, \\\"single_frequency_class_detected\\\": false}\", \"ModelExplainRunId\": \"AutoML_b0a25907-1616-4fcb-a321-ac237c80c1b4_ModelExplain\"}, \"tags\": {\"model_explain_run\": \"best_run\", \"_aml_system_azureml.automlComponent\": \"AutoML\", \"pipeline_id\": \"\", \"score\": \"\", \"predicted_cost\": \"\", \"fit_time\": \"\", \"training_percent\": \"\", \"iteration\": \"\", \"run_preprocessor\": \"\", \"run_algorithm\": \"\", \"automl_best_child_run_id\": \"AutoML_b0a25907-1616-4fcb-a321-ac237c80c1b4_22\", \"model_explain_best_run_child_id\": \"AutoML_b0a25907-1616-4fcb-a321-ac237c80c1b4_22\"}, \"end_time_utc\": \"2021-02-13T10:33:20.922551Z\", \"status\": \"Completed\", \"log_files\": {}, \"log_groups\": [], \"run_duration\": \"0:15:58\"}, \"child_runs\": [{\"run_id\": \"AutoML_b0a25907-1616-4fcb-a321-ac237c80c1b4_1\", \"run_number\": 5, \"metric\": null, \"status\": \"Completed\", \"run_type\": \"azureml.scriptrun\", \"training_percent\": \"100\", \"start_time\": \"2021-02-13T10:22:54.052446Z\", \"end_time\": \"2021-02-13T10:24:02.129662Z\", \"created_time\": \"2021-02-13T10:22:40.114545Z\", \"created_time_dt\": \"2021-02-13T10:22:40.114545Z\", \"duration\": \"0:01:22\", \"iteration\": \"1\", \"goal\": \"accuracy_max\", \"run_name\": \"MaxAbsScaler, XGBoostClassifier\", \"run_properties\": \"copy=True\", \"primary_metric\": 0.74995331, \"best_metric\": 0.74995331}, {\"run_id\": \"AutoML_b0a25907-1616-4fcb-a321-ac237c80c1b4_3\", \"run_number\": 6, \"metric\": null, \"status\": \"Completed\", \"run_type\": \"azureml.scriptrun\", \"training_percent\": \"100\", \"start_time\": \"2021-02-13T10:22:52.390404Z\", \"end_time\": \"2021-02-13T10:23:58.336673Z\", \"created_time\": \"2021-02-13T10:22:40.114863Z\", \"created_time_dt\": \"2021-02-13T10:22:40.114863Z\", \"duration\": \"0:01:18\", \"iteration\": \"3\", \"goal\": \"accuracy_max\", \"run_name\": \"MaxAbsScaler, RandomForest\", \"run_properties\": \"copy=True\", \"primary_metric\": 0.75271199, \"best_metric\": 0.75528393}, {\"run_id\": \"AutoML_b0a25907-1616-4fcb-a321-ac237c80c1b4_0\", \"run_number\": 7, \"metric\": null, \"status\": \"Completed\", \"run_type\": \"azureml.scriptrun\", \"training_percent\": \"100\", \"start_time\": \"2021-02-13T10:22:53.059926Z\", \"end_time\": \"2021-02-13T10:24:03.811776Z\", \"created_time\": \"2021-02-13T10:22:40.148388Z\", \"created_time_dt\": \"2021-02-13T10:22:40.148388Z\", \"duration\": \"0:01:23\", \"iteration\": \"0\", \"goal\": \"accuracy_max\", \"run_name\": \"MaxAbsScaler, LightGBM\", \"run_properties\": \"copy=True\", \"primary_metric\": 0.73701723, \"best_metric\": 0.73701723}, {\"run_id\": \"AutoML_b0a25907-1616-4fcb-a321-ac237c80c1b4_2\", \"run_number\": 8, \"metric\": null, \"status\": \"Completed\", \"run_type\": \"azureml.scriptrun\", \"training_percent\": \"100\", \"start_time\": \"2021-02-13T10:22:54.424898Z\", \"end_time\": \"2021-02-13T10:24:00.03027Z\", \"created_time\": \"2021-02-13T10:22:40.178098Z\", \"created_time_dt\": \"2021-02-13T10:22:40.178098Z\", \"duration\": \"0:01:19\", \"iteration\": \"2\", \"goal\": \"accuracy_max\", \"run_name\": \"MaxAbsScaler, RandomForest\", \"run_properties\": \"copy=True\", \"primary_metric\": 0.75528393, \"best_metric\": 0.75528393}, {\"run_id\": \"AutoML_b0a25907-1616-4fcb-a321-ac237c80c1b4_4\", \"run_number\": 9, \"metric\": null, \"status\": \"Completed\", \"run_type\": \"azureml.scriptrun\", \"training_percent\": \"100\", \"start_time\": \"2021-02-13T10:24:19.892602Z\", \"end_time\": \"2021-02-13T10:25:28.732501Z\", \"created_time\": \"2021-02-13T10:24:01.844127Z\", \"created_time_dt\": \"2021-02-13T10:24:01.844127Z\", \"duration\": \"0:01:26\", \"iteration\": \"4\", \"goal\": \"accuracy_max\", \"run_name\": \"MaxAbsScaler, RandomForest\", \"run_properties\": \"copy=True\", \"primary_metric\": 0.76178593, \"best_metric\": 0.76178593}, {\"run_id\": \"AutoML_b0a25907-1616-4fcb-a321-ac237c80c1b4_5\", \"run_number\": 10, \"metric\": null, \"status\": \"Completed\", \"run_type\": \"azureml.scriptrun\", \"training_percent\": \"100\", \"start_time\": \"2021-02-13T10:24:22.697774Z\", \"end_time\": \"2021-02-13T10:25:30.041006Z\", \"created_time\": \"2021-02-13T10:24:08.021641Z\", \"created_time_dt\": \"2021-02-13T10:24:08.021641Z\", \"duration\": \"0:01:22\", \"iteration\": \"5\", \"goal\": \"accuracy_max\", \"run_name\": \"MaxAbsScaler, RandomForest\", \"run_properties\": \"copy=True\", \"primary_metric\": 0.7162465, \"best_metric\": 0.76178593}, {\"run_id\": \"AutoML_b0a25907-1616-4fcb-a321-ac237c80c1b4_7\", \"run_number\": 11, \"metric\": null, \"status\": \"Completed\", \"run_type\": \"azureml.scriptrun\", \"training_percent\": \"100\", \"start_time\": \"2021-02-13T10:24:22.855026Z\", \"end_time\": \"2021-02-13T10:25:36.046688Z\", \"created_time\": \"2021-02-13T10:24:08.153602Z\", \"created_time_dt\": \"2021-02-13T10:24:08.153602Z\", \"duration\": \"0:01:27\", \"iteration\": \"7\", \"goal\": \"accuracy_max\", \"run_name\": \"SparseNormalizer, XGBoostClassifier\", \"run_properties\": \"<azureml.automl.runtime.shared.model_wrappers.SparseNormalizer object at 0x7f322c321208\", \"primary_metric\": 0.75914608, \"best_metric\": 0.76178593}, {\"run_id\": \"AutoML_b0a25907-1616-4fcb-a321-ac237c80c1b4_6\", \"run_number\": 12, \"metric\": null, \"status\": \"Completed\", \"run_type\": \"azureml.scriptrun\", \"training_percent\": \"100\", \"start_time\": \"2021-02-13T10:24:22.774966Z\", \"end_time\": \"2021-02-13T10:26:21.732932Z\", \"created_time\": \"2021-02-13T10:24:08.179949Z\", \"created_time_dt\": \"2021-02-13T10:24:08.179949Z\", \"duration\": \"0:02:13\", \"iteration\": \"6\", \"goal\": \"accuracy_max\", \"run_name\": \"SparseNormalizer, XGBoostClassifier\", \"run_properties\": \"<azureml.automl.runtime.shared.model_wrappers.SparseNormalizer object at 0x7ff9e8d087b8\", \"primary_metric\": 0.75529242, \"best_metric\": 0.76178593}, {\"run_id\": \"AutoML_b0a25907-1616-4fcb-a321-ac237c80c1b4_8\", \"run_number\": 13, \"metric\": null, \"status\": \"Completed\", \"run_type\": \"azureml.scriptrun\", \"training_percent\": \"100\", \"start_time\": \"2021-02-13T10:25:45.565608Z\", \"end_time\": \"2021-02-13T10:26:54.958269Z\", \"created_time\": \"2021-02-13T10:25:31.091942Z\", \"created_time_dt\": \"2021-02-13T10:25:31.091942Z\", \"duration\": \"0:01:23\", \"iteration\": \"8\", \"goal\": \"accuracy_max\", \"run_name\": \"SparseNormalizer, XGBoostClassifier\", \"run_properties\": \"<azureml.automl.runtime.shared.model_wrappers.SparseNormalizer object at 0x7fd95a242278\", \"primary_metric\": 0.74357864, \"best_metric\": 0.76178593}, {\"run_id\": \"AutoML_b0a25907-1616-4fcb-a321-ac237c80c1b4_9\", \"run_number\": 14, \"metric\": null, \"status\": \"Completed\", \"run_type\": \"azureml.scriptrun\", \"training_percent\": \"100\", \"start_time\": \"2021-02-13T10:25:47.544753Z\", \"end_time\": \"2021-02-13T10:26:55.718016Z\", \"created_time\": \"2021-02-13T10:25:34.651669Z\", \"created_time_dt\": \"2021-02-13T10:25:34.651669Z\", \"duration\": \"0:01:21\", \"iteration\": \"9\", \"goal\": \"accuracy_max\", \"run_name\": \"SparseNormalizer, XGBoostClassifier\", \"run_properties\": \"<azureml.automl.runtime.shared.model_wrappers.SparseNormalizer object at 0x7f2ea334e710\", \"primary_metric\": 0.74227994, \"best_metric\": 0.76178593}, {\"run_id\": \"AutoML_b0a25907-1616-4fcb-a321-ac237c80c1b4_10\", \"run_number\": 15, \"metric\": null, \"status\": \"Completed\", \"run_type\": \"azureml.scriptrun\", \"training_percent\": \"100\", \"start_time\": \"2021-02-13T10:25:50.367709Z\", \"end_time\": \"2021-02-13T10:27:04.56467Z\", \"created_time\": \"2021-02-13T10:25:38.272971Z\", \"created_time_dt\": \"2021-02-13T10:25:38.272971Z\", \"duration\": \"0:01:26\", \"iteration\": \"10\", \"goal\": \"accuracy_max\", \"run_name\": \"MaxAbsScaler, RandomForest\", \"run_properties\": \"copy=True\", \"primary_metric\": 0.75008913, \"best_metric\": 0.76178593}, {\"run_id\": \"AutoML_b0a25907-1616-4fcb-a321-ac237c80c1b4_11\", \"run_number\": 16, \"metric\": null, \"status\": \"Completed\", \"run_type\": \"azureml.scriptrun\", \"training_percent\": \"100\", \"start_time\": \"2021-02-13T10:26:34.971907Z\", \"end_time\": \"2021-02-13T10:27:53.530313Z\", \"created_time\": \"2021-02-13T10:26:23.969206Z\", \"created_time_dt\": \"2021-02-13T10:26:23.969206Z\", \"duration\": \"0:01:29\", \"iteration\": \"11\", \"goal\": \"accuracy_max\", \"run_name\": \"SparseNormalizer, XGBoostClassifier\", \"run_properties\": \"<azureml.automl.runtime.shared.model_wrappers.SparseNormalizer object at 0x7f14fd258860\", \"primary_metric\": 0.72405568, \"best_metric\": 0.76178593}, {\"run_id\": \"AutoML_b0a25907-1616-4fcb-a321-ac237c80c1b4_12\", \"run_number\": 17, \"metric\": null, \"status\": \"Completed\", \"run_type\": \"azureml.scriptrun\", \"training_percent\": \"100\", \"start_time\": \"2021-02-13T10:27:07.811916Z\", \"end_time\": \"2021-02-13T10:28:14.548857Z\", \"created_time\": \"2021-02-13T10:26:57.067385Z\", \"created_time_dt\": \"2021-02-13T10:26:57.067385Z\", \"duration\": \"0:01:17\", \"iteration\": \"12\", \"goal\": \"accuracy_max\", \"run_name\": \"MaxAbsScaler, RandomForest\", \"run_properties\": \"copy=True\", \"primary_metric\": 0.77086835, \"best_metric\": 0.77086835}, {\"run_id\": \"AutoML_b0a25907-1616-4fcb-a321-ac237c80c1b4_13\", \"run_number\": 18, \"metric\": null, \"status\": \"Completed\", \"run_type\": \"azureml.scriptrun\", \"training_percent\": \"100\", \"start_time\": \"2021-02-13T10:27:15.402986Z\", \"end_time\": \"2021-02-13T10:28:23.846378Z\", \"created_time\": \"2021-02-13T10:27:02.316681Z\", \"created_time_dt\": \"2021-02-13T10:27:02.316681Z\", \"duration\": \"0:01:21\", \"iteration\": \"13\", \"goal\": \"accuracy_max\", \"run_name\": \"MaxAbsScaler, ExtremeRandomTrees\", \"run_properties\": \"copy=True\", \"primary_metric\": 0.75136236, \"best_metric\": 0.77086835}, {\"run_id\": \"AutoML_b0a25907-1616-4fcb-a321-ac237c80c1b4_14\", \"run_number\": 19, \"metric\": null, \"status\": \"Completed\", \"run_type\": \"azureml.scriptrun\", \"training_percent\": \"100\", \"start_time\": \"2021-02-13T10:27:22.093834Z\", \"end_time\": \"2021-02-13T10:29:12.739338Z\", \"created_time\": \"2021-02-13T10:27:07.37387Z\", \"created_time_dt\": \"2021-02-13T10:27:07.37387Z\", \"duration\": \"0:02:05\", \"iteration\": \"14\", \"goal\": \"accuracy_max\", \"run_name\": \"MaxAbsScaler, LightGBM\", \"run_properties\": \"copy=True\", \"primary_metric\": 0.75659961, \"best_metric\": 0.77086835}, {\"run_id\": \"AutoML_b0a25907-1616-4fcb-a321-ac237c80c1b4_15\", \"run_number\": 20, \"metric\": null, \"status\": \"Completed\", \"run_type\": \"azureml.scriptrun\", \"training_percent\": \"100\", \"start_time\": \"2021-02-13T10:28:05.653355Z\", \"end_time\": \"2021-02-13T10:29:17.679672Z\", \"created_time\": \"2021-02-13T10:27:55.45076Z\", \"created_time_dt\": \"2021-02-13T10:27:55.45076Z\", \"duration\": \"0:01:22\", \"iteration\": \"15\", \"goal\": \"accuracy_max\", \"run_name\": \"MaxAbsScaler, LogisticRegression\", \"run_properties\": \"copy=True\", \"primary_metric\": 0.75788982, \"best_metric\": 0.77086835}, {\"run_id\": \"AutoML_b0a25907-1616-4fcb-a321-ac237c80c1b4_16\", \"run_number\": 21, \"metric\": null, \"status\": \"Completed\", \"run_type\": \"azureml.scriptrun\", \"training_percent\": \"100\", \"start_time\": \"2021-02-13T10:28:29.604607Z\", \"end_time\": \"2021-02-13T10:29:35.691958Z\", \"created_time\": \"2021-02-13T10:28:18.162681Z\", \"created_time_dt\": \"2021-02-13T10:28:18.162681Z\", \"duration\": \"0:01:17\", \"iteration\": \"16\", \"goal\": \"accuracy_max\", \"run_name\": \"SparseNormalizer, LightGBM\", \"run_properties\": \"<azureml.automl.runtime.shared.model_wrappers.SparseNormalizer object at 0x7f7eca81dba8\", \"primary_metric\": 0.75139632, \"best_metric\": 0.77086835}, {\"run_id\": \"AutoML_b0a25907-1616-4fcb-a321-ac237c80c1b4_17\", \"run_number\": 22, \"metric\": null, \"status\": \"Completed\", \"run_type\": \"azureml.scriptrun\", \"training_percent\": \"100\", \"start_time\": \"2021-02-13T10:28:36.421946Z\", \"end_time\": \"2021-02-13T10:29:42.017812Z\", \"created_time\": \"2021-02-13T10:28:25.911991Z\", \"created_time_dt\": \"2021-02-13T10:28:25.911991Z\", \"duration\": \"0:01:16\", \"iteration\": \"17\", \"goal\": \"accuracy_max\", \"run_name\": \"MaxAbsScaler, LogisticRegression\", \"run_properties\": \"copy=True\", \"primary_metric\": 0.75397674, \"best_metric\": 0.77086835}, {\"run_id\": \"AutoML_b0a25907-1616-4fcb-a321-ac237c80c1b4_18\", \"run_number\": 23, \"metric\": null, \"status\": \"Completed\", \"run_type\": \"azureml.scriptrun\", \"training_percent\": \"100\", \"start_time\": \"2021-02-13T10:29:24.797408Z\", \"end_time\": \"2021-02-13T10:30:38.224948Z\", \"created_time\": \"2021-02-13T10:29:14.414768Z\", \"created_time_dt\": \"2021-02-13T10:29:14.414768Z\", \"duration\": \"0:01:23\", \"iteration\": \"18\", \"goal\": \"accuracy_max\", \"run_name\": \"MaxAbsScaler, LightGBM\", \"run_properties\": \"copy=True\", \"primary_metric\": 0.75916306, \"best_metric\": 0.77086835}, {\"run_id\": \"AutoML_b0a25907-1616-4fcb-a321-ac237c80c1b4_19\", \"run_number\": 24, \"metric\": null, \"status\": \"Completed\", \"run_type\": \"azureml.scriptrun\", \"training_percent\": \"100\", \"start_time\": \"2021-02-13T10:29:31.540632Z\", \"end_time\": \"2021-02-13T10:30:45.951947Z\", \"created_time\": \"2021-02-13T10:29:19.325259Z\", \"created_time_dt\": \"2021-02-13T10:29:19.325259Z\", \"duration\": \"0:01:26\", \"iteration\": \"19\", \"goal\": \"accuracy_max\", \"run_name\": \"StandardScalerWrapper, RandomForest\", \"run_properties\": \"<azureml.automl.runtime.shared.model_wrappers.StandardScalerWrapper object at 0x7f277c325ba8\", \"primary_metric\": 0.75266955, \"best_metric\": 0.77086835}, {\"run_id\": \"AutoML_b0a25907-1616-4fcb-a321-ac237c80c1b4_20\", \"run_number\": 25, \"metric\": null, \"status\": \"Completed\", \"run_type\": \"azureml.scriptrun\", \"training_percent\": \"100\", \"start_time\": \"2021-02-13T10:29:48.599629Z\", \"end_time\": \"2021-02-13T10:31:00.829065Z\", \"created_time\": \"2021-02-13T10:29:37.391882Z\", \"created_time_dt\": \"2021-02-13T10:29:37.391882Z\", \"duration\": \"0:01:23\", \"iteration\": \"20\", \"goal\": \"accuracy_max\", \"run_name\": \"MaxAbsScaler, ExtremeRandomTrees\", \"run_properties\": \"copy=True\", \"primary_metric\": 0.76049571, \"best_metric\": 0.77086835}, {\"run_id\": \"AutoML_b0a25907-1616-4fcb-a321-ac237c80c1b4_21\", \"run_number\": 26, \"metric\": null, \"status\": \"Completed\", \"run_type\": \"azureml.scriptrun\", \"training_percent\": \"100\", \"start_time\": \"2021-02-13T10:29:54.086044Z\", \"end_time\": \"2021-02-13T10:31:03.648674Z\", \"created_time\": \"2021-02-13T10:29:43.645932Z\", \"created_time_dt\": \"2021-02-13T10:29:43.645932Z\", \"duration\": \"0:01:20\", \"iteration\": \"21\", \"goal\": \"accuracy_max\", \"run_name\": \"MaxAbsScaler, LightGBM\", \"run_properties\": \"copy=True\", \"primary_metric\": 0.76047025, \"best_metric\": 0.77086835}, {\"run_id\": \"AutoML_b0a25907-1616-4fcb-a321-ac237c80c1b4_22\", \"run_number\": 27, \"metric\": null, \"status\": \"Completed\", \"run_type\": \"azureml.scriptrun\", \"training_percent\": \"100\", \"start_time\": \"2021-02-13T10:31:27.702979Z\", \"end_time\": \"2021-02-13T10:33:06.932737Z\", \"created_time\": \"2021-02-13T10:31:17.856939Z\", \"created_time_dt\": \"2021-02-13T10:31:17.856939Z\", \"duration\": \"0:01:49\", \"iteration\": \"22\", \"goal\": \"accuracy_max\", \"run_name\": \"VotingEnsemble\", \"run_properties\": \"classification_labels=None,\\n                              estimators=[('12',\\n                                           Pipeline(memory=None,\\n                                                    steps=[('maxabsscaler',\\n                                                            MaxAbsScaler(copy=True\", \"primary_metric\": 0.7813683, \"best_metric\": 0.7813683}, {\"run_id\": \"AutoML_b0a25907-1616-4fcb-a321-ac237c80c1b4_23\", \"run_number\": 28, \"metric\": null, \"status\": \"Completed\", \"run_type\": \"azureml.scriptrun\", \"training_percent\": \"100\", \"start_time\": \"2021-02-13T10:31:28.158503Z\", \"end_time\": \"2021-02-13T10:33:08.575316Z\", \"created_time\": \"2021-02-13T10:31:17.896209Z\", \"created_time_dt\": \"2021-02-13T10:31:17.896209Z\", \"duration\": \"0:01:50\", \"iteration\": \"23\", \"goal\": \"accuracy_max\", \"run_name\": \"StackEnsemble\", \"run_properties\": \"base_learners=[('12',\\n                                        Pipeline(memory=None,\\n                                                 steps=[('maxabsscaler',\\n                                                         MaxAbsScaler(copy=True\", \"primary_metric\": 0.76178593, \"best_metric\": 0.7813683}], \"children_metrics\": {\"categories\": [0], \"series\": {\"AUC_macro\": [{\"categories\": [\"0\", \"1\", \"2\", \"3\", \"4\", \"5\", \"6\", \"7\", \"8\", \"9\", \"10\", \"11\", \"12\", \"13\", \"14\", \"15\", \"16\", \"17\", \"18\", \"19\", \"20\", \"21\", \"22\", \"23\"], \"mode\": \"markers\", \"name\": \"AUC_macro\", \"stepped\": false, \"type\": \"scatter\", \"data\": [0.8150372976242946, 0.8275085242380651, 0.8228008504980749, 0.8203758768938115, 0.8312318976823919, 0.7969679047304495, 0.8102013346138113, 0.8172640511797968, 0.7965814154830533, 0.800817349302313, 0.8228077129295226, 0.7716558016600359, 0.8318181602736783, 0.8237871074954422, 0.8324091360447026, 0.8162204795439336, 0.8123369261347262, 0.8161536702630163, 0.8318553826155745, 0.8221587686538114, 0.8274881386830903, 0.8347988741011815, 0.8381730892941957, 0.8369579129753806]}, {\"categories\": [\"0\", \"1\", \"2\", \"3\", \"4\", \"5\", \"6\", \"7\", \"8\", \"9\", \"10\", \"11\", \"12\", \"13\", \"14\", \"15\", \"16\", \"17\", \"18\", \"19\", \"20\", \"21\", \"22\", \"23\"], \"mode\": \"lines\", \"name\": \"AUC_macro_max\", \"stepped\": true, \"type\": \"scatter\", \"data\": [0.8150372976242946, 0.8275085242380651, 0.8275085242380651, 0.8275085242380651, 0.8312318976823919, 0.8312318976823919, 0.8312318976823919, 0.8312318976823919, 0.8312318976823919, 0.8312318976823919, 0.8312318976823919, 0.8312318976823919, 0.8318181602736783, 0.8318181602736783, 0.8324091360447026, 0.8324091360447026, 0.8324091360447026, 0.8324091360447026, 0.8324091360447026, 0.8324091360447026, 0.8324091360447026, 0.8347988741011815, 0.8381730892941957, 0.8381730892941957]}], \"precision_score_weighted\": [{\"categories\": [\"0\", \"1\", \"2\", \"3\", \"4\", \"5\", \"6\", \"7\", \"8\", \"9\", \"10\", \"11\", \"12\", \"13\", \"14\", \"15\", \"16\", \"17\", \"18\", \"19\", \"20\", \"21\", \"22\", \"23\"], \"mode\": \"markers\", \"name\": \"precision_score_weighted\", \"stepped\": false, \"type\": \"scatter\", \"data\": [0.7335178499233476, 0.7510202577813173, 0.7527039618957, 0.7476587957451315, 0.7709675404159582, 0.7521524394408147, 0.7535102709122828, 0.7595306635642666, 0.7461898436967018, 0.7418718133168849, 0.7474873134233265, 0.7216369061145167, 0.7668722670683705, 0.755498812983746, 0.7533907140072633, 0.7562241963845748, 0.7503032761296271, 0.7517704954289469, 0.7558848652974153, 0.7491769624061098, 0.7590615825150664, 0.7580326944345589, 0.7788858251230621, 0.7626505032325254]}, {\"categories\": [\"0\", \"1\", \"2\", \"3\", \"4\", \"5\", \"6\", \"7\", \"8\", \"9\", \"10\", \"11\", \"12\", \"13\", \"14\", \"15\", \"16\", \"17\", \"18\", \"19\", \"20\", \"21\", \"22\", \"23\"], \"mode\": \"lines\", \"name\": \"precision_score_weighted_max\", \"stepped\": true, \"type\": \"scatter\", \"data\": [0.7335178499233476, 0.7510202577813173, 0.7527039618957, 0.7527039618957, 0.7709675404159582, 0.7709675404159582, 0.7709675404159582, 0.7709675404159582, 0.7709675404159582, 0.7709675404159582, 0.7709675404159582, 0.7709675404159582, 0.7709675404159582, 0.7709675404159582, 0.7709675404159582, 0.7709675404159582, 0.7709675404159582, 0.7709675404159582, 0.7709675404159582, 0.7709675404159582, 0.7709675404159582, 0.7709675404159582, 0.7788858251230621, 0.7788858251230621]}], \"f1_score_micro\": [{\"categories\": [\"0\", \"1\", \"2\", \"3\", \"4\", \"5\", \"6\", \"7\", \"8\", \"9\", \"10\", \"11\", \"12\", \"13\", \"14\", \"15\", \"16\", \"17\", \"18\", \"19\", \"20\", \"21\", \"22\", \"23\"], \"mode\": \"markers\", \"name\": \"f1_score_micro\", \"stepped\": false, \"type\": \"scatter\", \"data\": [0.7370172311348782, 0.749953314659197, 0.75528393175452, 0.7527119938884643, 0.7617859264918089, 0.7162464985994397, 0.7552924199983023, 0.7591460826754944, 0.7435786435786435, 0.7422799422799422, 0.7500891265597149, 0.7240556828792123, 0.7708683473389356, 0.7513623631270689, 0.756599609540786, 0.7578898225957049, 0.7513963161021986, 0.7539767422120363, 0.7591630591630592, 0.7526695526695526, 0.7604957134368899, 0.7604702487055428, 0.7813683048977167, 0.7617859264918089]}, {\"categories\": [\"0\", \"1\", \"2\", \"3\", \"4\", \"5\", \"6\", \"7\", \"8\", \"9\", \"10\", \"11\", \"12\", \"13\", \"14\", \"15\", \"16\", \"17\", \"18\", \"19\", \"20\", \"21\", \"22\", \"23\"], \"mode\": \"lines\", \"name\": \"f1_score_micro_max\", \"stepped\": true, \"type\": \"scatter\", \"data\": [0.7370172311348782, 0.749953314659197, 0.75528393175452, 0.75528393175452, 0.7617859264918089, 0.7617859264918089, 0.7617859264918089, 0.7617859264918089, 0.7617859264918089, 0.7617859264918089, 0.7617859264918089, 0.7617859264918089, 0.7708683473389356, 0.7708683473389356, 0.7708683473389356, 0.7708683473389356, 0.7708683473389356, 0.7708683473389356, 0.7708683473389356, 0.7708683473389356, 0.7708683473389356, 0.7708683473389356, 0.7813683048977167, 0.7813683048977167]}], \"AUC_micro\": [{\"categories\": [\"0\", \"1\", \"2\", \"3\", \"4\", \"5\", \"6\", \"7\", \"8\", \"9\", \"10\", \"11\", \"12\", \"13\", \"14\", \"15\", \"16\", \"17\", \"18\", \"19\", \"20\", \"21\", \"22\", \"23\"], \"mode\": \"markers\", \"name\": \"AUC_micro\", \"stepped\": false, \"type\": \"scatter\", \"data\": [0.8358016383960452, 0.8490933498662793, 0.8425289217579396, 0.840218217321679, 0.8412030686705261, 0.7947864858685871, 0.833855494339474, 0.8381822960913421, 0.8235119211983755, 0.8255706265292988, 0.833587680197126, 0.7987088005767136, 0.8519352846379913, 0.8333541241628539, 0.8468381933158218, 0.8422196610508298, 0.8318351662312775, 0.8426739715854292, 0.845941102453333, 0.8368115672059707, 0.8426898147220501, 0.854487286551128, 0.8565149414525528, 0.8497901467074163]}, {\"categories\": [\"0\", \"1\", \"2\", \"3\", \"4\", \"5\", \"6\", \"7\", \"8\", \"9\", \"10\", \"11\", \"12\", \"13\", \"14\", \"15\", \"16\", \"17\", \"18\", \"19\", \"20\", \"21\", \"22\", \"23\"], \"mode\": \"lines\", \"name\": \"AUC_micro_max\", \"stepped\": true, \"type\": \"scatter\", \"data\": [0.8358016383960452, 0.8490933498662793, 0.8490933498662793, 0.8490933498662793, 0.8490933498662793, 0.8490933498662793, 0.8490933498662793, 0.8490933498662793, 0.8490933498662793, 0.8490933498662793, 0.8490933498662793, 0.8490933498662793, 0.8519352846379913, 0.8519352846379913, 0.8519352846379913, 0.8519352846379913, 0.8519352846379913, 0.8519352846379913, 0.8519352846379913, 0.8519352846379913, 0.8519352846379913, 0.854487286551128, 0.8565149414525528, 0.8565149414525528]}], \"AUC_weighted\": [{\"categories\": [\"0\", \"1\", \"2\", \"3\", \"4\", \"5\", \"6\", \"7\", \"8\", \"9\", \"10\", \"11\", \"12\", \"13\", \"14\", \"15\", \"16\", \"17\", \"18\", \"19\", \"20\", \"21\", \"22\", \"23\"], \"mode\": \"markers\", \"name\": \"AUC_weighted\", \"stepped\": false, \"type\": \"scatter\", \"data\": [0.8150372976242946, 0.8275085242380651, 0.8228008504980749, 0.8203758768938118, 0.8312318976823919, 0.7969679047304495, 0.8102013346138115, 0.8172640511797968, 0.7965814154830533, 0.800817349302313, 0.8228077129295226, 0.7716558016600359, 0.8318181602736783, 0.8237871074954422, 0.8324091360447026, 0.8162204795439336, 0.8123369261347262, 0.8161536702630162, 0.8318553826155745, 0.8221587686538114, 0.8274881386830903, 0.8347988741011815, 0.8381730892941954, 0.8369579129753808]}, {\"categories\": [\"0\", \"1\", \"2\", \"3\", \"4\", \"5\", \"6\", \"7\", \"8\", \"9\", \"10\", \"11\", \"12\", \"13\", \"14\", \"15\", \"16\", \"17\", \"18\", \"19\", \"20\", \"21\", \"22\", \"23\"], \"mode\": \"lines\", \"name\": \"AUC_weighted_max\", \"stepped\": true, \"type\": \"scatter\", \"data\": [0.8150372976242946, 0.8275085242380651, 0.8275085242380651, 0.8275085242380651, 0.8312318976823919, 0.8312318976823919, 0.8312318976823919, 0.8312318976823919, 0.8312318976823919, 0.8312318976823919, 0.8312318976823919, 0.8312318976823919, 0.8318181602736783, 0.8318181602736783, 0.8324091360447026, 0.8324091360447026, 0.8324091360447026, 0.8324091360447026, 0.8324091360447026, 0.8324091360447026, 0.8324091360447026, 0.8347988741011815, 0.8381730892941954, 0.8381730892941954]}], \"precision_score_micro\": [{\"categories\": [\"0\", \"1\", \"2\", \"3\", \"4\", \"5\", \"6\", \"7\", \"8\", \"9\", \"10\", \"11\", \"12\", \"13\", \"14\", \"15\", \"16\", \"17\", \"18\", \"19\", \"20\", \"21\", \"22\", \"23\"], \"mode\": \"markers\", \"name\": \"precision_score_micro\", \"stepped\": false, \"type\": \"scatter\", \"data\": [0.7370172311348782, 0.749953314659197, 0.7552839317545199, 0.7527119938884643, 0.7617859264918089, 0.7162464985994397, 0.7552924199983023, 0.7591460826754944, 0.7435786435786435, 0.7422799422799422, 0.7500891265597149, 0.7240556828792123, 0.7708683473389355, 0.7513623631270689, 0.756599609540786, 0.7578898225957049, 0.7513963161021986, 0.7539767422120363, 0.7591630591630592, 0.7526695526695526, 0.7604957134368899, 0.7604702487055428, 0.7813683048977167, 0.7617859264918089]}, {\"categories\": [\"0\", \"1\", \"2\", \"3\", \"4\", \"5\", \"6\", \"7\", \"8\", \"9\", \"10\", \"11\", \"12\", \"13\", \"14\", \"15\", \"16\", \"17\", \"18\", \"19\", \"20\", \"21\", \"22\", \"23\"], \"mode\": \"lines\", \"name\": \"precision_score_micro_max\", \"stepped\": true, \"type\": \"scatter\", \"data\": [0.7370172311348782, 0.749953314659197, 0.7552839317545199, 0.7552839317545199, 0.7617859264918089, 0.7617859264918089, 0.7617859264918089, 0.7617859264918089, 0.7617859264918089, 0.7617859264918089, 0.7617859264918089, 0.7617859264918089, 0.7708683473389355, 0.7708683473389355, 0.7708683473389355, 0.7708683473389355, 0.7708683473389355, 0.7708683473389355, 0.7708683473389355, 0.7708683473389355, 0.7708683473389355, 0.7708683473389355, 0.7813683048977167, 0.7813683048977167]}], \"average_precision_score_weighted\": [{\"categories\": [\"0\", \"1\", \"2\", \"3\", \"4\", \"5\", \"6\", \"7\", \"8\", \"9\", \"10\", \"11\", \"12\", \"13\", \"14\", \"15\", \"16\", \"17\", \"18\", \"19\", \"20\", \"21\", \"22\", \"23\"], \"mode\": \"markers\", \"name\": \"average_precision_score_weighted\", \"stepped\": false, \"type\": \"scatter\", \"data\": [0.8236591035950204, 0.830315309406908, 0.8293902436126311, 0.8278606797263006, 0.8334028570531886, 0.810868161796642, 0.822915512108733, 0.8283954454750496, 0.8056072793752941, 0.8120227694609404, 0.8285106079299343, 0.7732944928320823, 0.8375753565873498, 0.8348050086877009, 0.8383540861311373, 0.8280486770157349, 0.8181219161393329, 0.8268622616001089, 0.8390076572439886, 0.8295386071108839, 0.8377577986553826, 0.8419670598322091, 0.8429785992271324, 0.8413917747976661]}, {\"categories\": [\"0\", \"1\", \"2\", \"3\", \"4\", \"5\", \"6\", \"7\", \"8\", \"9\", \"10\", \"11\", \"12\", \"13\", \"14\", \"15\", \"16\", \"17\", \"18\", \"19\", \"20\", \"21\", \"22\", \"23\"], \"mode\": \"lines\", \"name\": \"average_precision_score_weighted_max\", \"stepped\": true, \"type\": \"scatter\", \"data\": [0.8236591035950204, 0.830315309406908, 0.830315309406908, 0.830315309406908, 0.8334028570531886, 0.8334028570531886, 0.8334028570531886, 0.8334028570531886, 0.8334028570531886, 0.8334028570531886, 0.8334028570531886, 0.8334028570531886, 0.8375753565873498, 0.8375753565873498, 0.8383540861311373, 0.8383540861311373, 0.8383540861311373, 0.8383540861311373, 0.8390076572439886, 0.8390076572439886, 0.8390076572439886, 0.8419670598322091, 0.8429785992271324, 0.8429785992271324]}], \"norm_macro_recall\": [{\"categories\": [\"0\", \"1\", \"2\", \"3\", \"4\", \"5\", \"6\", \"7\", \"8\", \"9\", \"10\", \"11\", \"12\", \"13\", \"14\", \"15\", \"16\", \"17\", \"18\", \"19\", \"20\", \"21\", \"22\", \"23\"], \"mode\": \"markers\", \"name\": \"norm_macro_recall\", \"stepped\": false, \"type\": \"scatter\", \"data\": [0.39280601005319404, 0.4338107241005288, 0.4248057575419539, 0.3943197097404255, 0.5003501286914117, 0.45123468463841954, 0.4344034902277055, 0.4367652630292474, 0.4126495593730379, 0.4106492604591585, 0.3650382387112075, 0.32085950570928745, 0.44135264441911104, 0.35634046720063295, 0.39707484081558775, 0.41393257333493494, 0.4145069662823742, 0.40910843971322064, 0.3944010763283362, 0.3794268279052958, 0.3967047035931506, 0.4397743682183194, 0.49325811872868935, 0.44588066163717655]}, {\"categories\": [\"0\", \"1\", \"2\", \"3\", \"4\", \"5\", \"6\", \"7\", \"8\", \"9\", \"10\", \"11\", \"12\", \"13\", \"14\", \"15\", \"16\", \"17\", \"18\", \"19\", \"20\", \"21\", \"22\", \"23\"], \"mode\": \"lines\", \"name\": \"norm_macro_recall_max\", \"stepped\": true, \"type\": \"scatter\", \"data\": [0.39280601005319404, 0.4338107241005288, 0.4338107241005288, 0.4338107241005288, 0.5003501286914117, 0.5003501286914117, 0.5003501286914117, 0.5003501286914117, 0.5003501286914117, 0.5003501286914117, 0.5003501286914117, 0.5003501286914117, 0.5003501286914117, 0.5003501286914117, 0.5003501286914117, 0.5003501286914117, 0.5003501286914117, 0.5003501286914117, 0.5003501286914117, 0.5003501286914117, 0.5003501286914117, 0.5003501286914117, 0.5003501286914117, 0.5003501286914117]}], \"accuracy\": [{\"categories\": [\"0\", \"1\", \"2\", \"3\", \"4\", \"5\", \"6\", \"7\", \"8\", \"9\", \"10\", \"11\", \"12\", \"13\", \"14\", \"15\", \"16\", \"17\", \"18\", \"19\", \"20\", \"21\", \"22\", \"23\"], \"mode\": \"markers\", \"name\": \"accuracy\", \"stepped\": false, \"type\": \"scatter\", \"data\": [0.7370172311348782, 0.749953314659197, 0.7552839317545199, 0.7527119938884643, 0.7617859264918089, 0.7162464985994397, 0.7552924199983023, 0.7591460826754944, 0.7435786435786435, 0.7422799422799422, 0.7500891265597149, 0.7240556828792123, 0.7708683473389355, 0.7513623631270689, 0.756599609540786, 0.7578898225957049, 0.7513963161021986, 0.7539767422120363, 0.7591630591630592, 0.7526695526695526, 0.7604957134368899, 0.7604702487055428, 0.7813683048977167, 0.7617859264918089]}, {\"categories\": [\"0\", \"1\", \"2\", \"3\", \"4\", \"5\", \"6\", \"7\", \"8\", \"9\", \"10\", \"11\", \"12\", \"13\", \"14\", \"15\", \"16\", \"17\", \"18\", \"19\", \"20\", \"21\", \"22\", \"23\"], \"mode\": \"lines\", \"name\": \"accuracy_max\", \"stepped\": true, \"type\": \"scatter\", \"data\": [0.7370172311348782, 0.749953314659197, 0.7552839317545199, 0.7552839317545199, 0.7617859264918089, 0.7617859264918089, 0.7617859264918089, 0.7617859264918089, 0.7617859264918089, 0.7617859264918089, 0.7617859264918089, 0.7617859264918089, 0.7708683473389355, 0.7708683473389355, 0.7708683473389355, 0.7708683473389355, 0.7708683473389355, 0.7708683473389355, 0.7708683473389355, 0.7708683473389355, 0.7708683473389355, 0.7708683473389355, 0.7813683048977167, 0.7813683048977167]}], \"average_precision_score_micro\": [{\"categories\": [\"0\", \"1\", \"2\", \"3\", \"4\", \"5\", \"6\", \"7\", \"8\", \"9\", \"10\", \"11\", \"12\", \"13\", \"14\", \"15\", \"16\", \"17\", \"18\", \"19\", \"20\", \"21\", \"22\", \"23\"], \"mode\": \"markers\", \"name\": \"average_precision_score_micro\", \"stepped\": false, \"type\": \"scatter\", \"data\": [0.8363179226477786, 0.8451731511792488, 0.8430602310239449, 0.8400042966002935, 0.8385218744714791, 0.8018536065988628, 0.8354022664957037, 0.8395520549047791, 0.8195324393816474, 0.8241382108828624, 0.8377053821235615, 0.7916280947438301, 0.8506306488672462, 0.8376968497810656, 0.8487301230101003, 0.8394975503940912, 0.829365824280664, 0.8383799108532959, 0.8482408041681204, 0.8398761674768969, 0.8460721207557883, 0.8547315637927568, 0.8559245977468718, 0.849932120235632]}, {\"categories\": [\"0\", \"1\", \"2\", \"3\", \"4\", \"5\", \"6\", \"7\", \"8\", \"9\", \"10\", \"11\", \"12\", \"13\", \"14\", \"15\", \"16\", \"17\", \"18\", \"19\", \"20\", \"21\", \"22\", \"23\"], \"mode\": \"lines\", \"name\": \"average_precision_score_micro_max\", \"stepped\": true, \"type\": \"scatter\", \"data\": [0.8363179226477786, 0.8451731511792488, 0.8451731511792488, 0.8451731511792488, 0.8451731511792488, 0.8451731511792488, 0.8451731511792488, 0.8451731511792488, 0.8451731511792488, 0.8451731511792488, 0.8451731511792488, 0.8451731511792488, 0.8506306488672462, 0.8506306488672462, 0.8506306488672462, 0.8506306488672462, 0.8506306488672462, 0.8506306488672462, 0.8506306488672462, 0.8506306488672462, 0.8506306488672462, 0.8547315637927568, 0.8559245977468718, 0.8559245977468718]}], \"recall_score_weighted\": [{\"categories\": [\"0\", \"1\", \"2\", \"3\", \"4\", \"5\", \"6\", \"7\", \"8\", \"9\", \"10\", \"11\", \"12\", \"13\", \"14\", \"15\", \"16\", \"17\", \"18\", \"19\", \"20\", \"21\", \"22\", \"23\"], \"mode\": \"markers\", \"name\": \"recall_score_weighted\", \"stepped\": false, \"type\": \"scatter\", \"data\": [0.7370172311348782, 0.749953314659197, 0.7552839317545199, 0.7527119938884643, 0.7617859264918089, 0.7162464985994397, 0.7552924199983023, 0.7591460826754944, 0.7435786435786435, 0.7422799422799422, 0.7500891265597149, 0.7240556828792123, 0.7708683473389355, 0.7513623631270689, 0.756599609540786, 0.7578898225957049, 0.7513963161021986, 0.7539767422120363, 0.7591630591630592, 0.7526695526695526, 0.7604957134368899, 0.7604702487055428, 0.7813683048977167, 0.7617859264918089]}, {\"categories\": [\"0\", \"1\", \"2\", \"3\", \"4\", \"5\", \"6\", \"7\", \"8\", \"9\", \"10\", \"11\", \"12\", \"13\", \"14\", \"15\", \"16\", \"17\", \"18\", \"19\", \"20\", \"21\", \"22\", \"23\"], \"mode\": \"lines\", \"name\": \"recall_score_weighted_max\", \"stepped\": true, \"type\": \"scatter\", \"data\": [0.7370172311348782, 0.749953314659197, 0.7552839317545199, 0.7552839317545199, 0.7617859264918089, 0.7617859264918089, 0.7617859264918089, 0.7617859264918089, 0.7617859264918089, 0.7617859264918089, 0.7617859264918089, 0.7617859264918089, 0.7708683473389355, 0.7708683473389355, 0.7708683473389355, 0.7708683473389355, 0.7708683473389355, 0.7708683473389355, 0.7708683473389355, 0.7708683473389355, 0.7708683473389355, 0.7708683473389355, 0.7813683048977167, 0.7813683048977167]}], \"log_loss\": [{\"categories\": [\"0\", \"1\", \"2\", \"3\", \"4\", \"5\", \"6\", \"7\", \"8\", \"9\", \"10\", \"11\", \"12\", \"13\", \"14\", \"15\", \"16\", \"17\", \"18\", \"19\", \"20\", \"21\", \"22\", \"23\"], \"mode\": \"markers\", \"name\": \"log_loss\", \"stepped\": false, \"type\": \"scatter\", \"data\": [0.6406952943418174, 0.49330028670795983, 0.4897405019023882, 0.4986789625413254, 0.49596912148089645, 0.5602712627513438, 0.5274818882732772, 0.4990603119991516, 0.5599714519014009, 0.525352338312629, 0.513880028989816, 0.5760696455114788, 0.48058948672752466, 0.5167211793673475, 0.5009283466117243, 0.4915462635703555, 0.5044906694083325, 0.4980173152172684, 0.5007088482877677, 0.504446630804942, 0.5005672850003251, 0.47325255059868193, 0.48146681077435216, 0.4885521614380301]}, {\"categories\": [\"0\", \"1\", \"2\", \"3\", \"4\", \"5\", \"6\", \"7\", \"8\", \"9\", \"10\", \"11\", \"12\", \"13\", \"14\", \"15\", \"16\", \"17\", \"18\", \"19\", \"20\", \"21\", \"22\", \"23\"], \"mode\": \"lines\", \"name\": \"log_loss_min\", \"stepped\": true, \"type\": \"scatter\", \"data\": [0.6406952943418174, 0.49330028670795983, 0.4897405019023882, 0.4897405019023882, 0.4897405019023882, 0.4897405019023882, 0.4897405019023882, 0.4897405019023882, 0.4897405019023882, 0.4897405019023882, 0.4897405019023882, 0.4897405019023882, 0.48058948672752466, 0.48058948672752466, 0.48058948672752466, 0.48058948672752466, 0.48058948672752466, 0.48058948672752466, 0.48058948672752466, 0.48058948672752466, 0.48058948672752466, 0.47325255059868193, 0.47325255059868193, 0.47325255059868193]}], \"weighted_accuracy\": [{\"categories\": [\"0\", \"1\", \"2\", \"3\", \"4\", \"5\", \"6\", \"7\", \"8\", \"9\", \"10\", \"11\", \"12\", \"13\", \"14\", \"15\", \"16\", \"17\", \"18\", \"19\", \"20\", \"21\", \"22\", \"23\"], \"mode\": \"markers\", \"name\": \"weighted_accuracy\", \"stepped\": false, \"type\": \"scatter\", \"data\": [0.7684191378619745, 0.7755500455963984, 0.7898610115472733, 0.7961252917460445, 0.7707775183084011, 0.7078482153060304, 0.7859540388973298, 0.792138595987036, 0.7733884627749025, 0.7719898836943114, 0.8028403397547486, 0.775191362801986, 0.8099062991236318, 0.8089531962000244, 0.8021543741316947, 0.7974987974232903, 0.7877571174314119, 0.791607034263066, 0.806935483078864, 0.8018485156533732, 0.809102399122373, 0.7924177895892454, 0.8089589605359435, 0.7937438052006364]}, {\"categories\": [\"0\", \"1\", \"2\", \"3\", \"4\", \"5\", \"6\", \"7\", \"8\", \"9\", \"10\", \"11\", \"12\", \"13\", \"14\", \"15\", \"16\", \"17\", \"18\", \"19\", \"20\", \"21\", \"22\", \"23\"], \"mode\": \"lines\", \"name\": \"weighted_accuracy_max\", \"stepped\": true, \"type\": \"scatter\", \"data\": [0.7684191378619745, 0.7755500455963984, 0.7898610115472733, 0.7961252917460445, 0.7961252917460445, 0.7961252917460445, 0.7961252917460445, 0.7961252917460445, 0.7961252917460445, 0.7961252917460445, 0.8028403397547486, 0.8028403397547486, 0.8099062991236318, 0.8099062991236318, 0.8099062991236318, 0.8099062991236318, 0.8099062991236318, 0.8099062991236318, 0.8099062991236318, 0.8099062991236318, 0.8099062991236318, 0.8099062991236318, 0.8099062991236318, 0.8099062991236318]}], \"recall_score_macro\": [{\"categories\": [\"0\", \"1\", \"2\", \"3\", \"4\", \"5\", \"6\", \"7\", \"8\", \"9\", \"10\", \"11\", \"12\", \"13\", \"14\", \"15\", \"16\", \"17\", \"18\", \"19\", \"20\", \"21\", \"22\", \"23\"], \"mode\": \"markers\", \"name\": \"recall_score_macro\", \"stepped\": false, \"type\": \"scatter\", \"data\": [0.696403005026597, 0.7169053620502643, 0.7124028787709771, 0.6971598548702127, 0.7501750643457059, 0.7256173423192098, 0.7172017451138528, 0.7183826315146237, 0.706324779686519, 0.7053246302295794, 0.6825191193556037, 0.6604297528546438, 0.7206763222095556, 0.6781702336003164, 0.6985374204077939, 0.7069662866674674, 0.7072534831411871, 0.7045542198566104, 0.6972005381641682, 0.6897134139526478, 0.6983523517965754, 0.7198871841091596, 0.7466290593643446, 0.7229403308185882]}, {\"categories\": [\"0\", \"1\", \"2\", \"3\", \"4\", \"5\", \"6\", \"7\", \"8\", \"9\", \"10\", \"11\", \"12\", \"13\", \"14\", \"15\", \"16\", \"17\", \"18\", \"19\", \"20\", \"21\", \"22\", \"23\"], \"mode\": \"lines\", \"name\": \"recall_score_macro_max\", \"stepped\": true, \"type\": \"scatter\", \"data\": [0.696403005026597, 0.7169053620502643, 0.7169053620502643, 0.7169053620502643, 0.7501750643457059, 0.7501750643457059, 0.7501750643457059, 0.7501750643457059, 0.7501750643457059, 0.7501750643457059, 0.7501750643457059, 0.7501750643457059, 0.7501750643457059, 0.7501750643457059, 0.7501750643457059, 0.7501750643457059, 0.7501750643457059, 0.7501750643457059, 0.7501750643457059, 0.7501750643457059, 0.7501750643457059, 0.7501750643457059, 0.7501750643457059, 0.7501750643457059]}], \"precision_score_macro\": [{\"categories\": [\"0\", \"1\", \"2\", \"3\", \"4\", \"5\", \"6\", \"7\", \"8\", \"9\", \"10\", \"11\", \"12\", \"13\", \"14\", \"15\", \"16\", \"17\", \"18\", \"19\", \"20\", \"21\", \"22\", \"23\"], \"mode\": \"markers\", \"name\": \"precision_score_macro\", \"stepped\": false, \"type\": \"scatter\", \"data\": [0.707968491110291, 0.7219601097206135, 0.7334297009867443, 0.7330298690053286, 0.7380706713077534, 0.7062571597200231, 0.7314827151567137, 0.738114372061913, 0.7211978527260899, 0.7167110980805249, 0.7371713170941457, 0.7043659182656447, 0.7526718584990179, 0.7477509592181131, 0.7408133814041346, 0.7381635964442881, 0.7309598470151327, 0.732717884929045, 0.7442659143219975, 0.7366741493031956, 0.7475102176880241, 0.7368006485638566, 0.7604619861152703, 0.7422064264326513]}, {\"categories\": [\"0\", \"1\", \"2\", \"3\", \"4\", \"5\", \"6\", \"7\", \"8\", \"9\", \"10\", \"11\", \"12\", \"13\", \"14\", \"15\", \"16\", \"17\", \"18\", \"19\", \"20\", \"21\", \"22\", \"23\"], \"mode\": \"lines\", \"name\": \"precision_score_macro_max\", \"stepped\": true, \"type\": \"scatter\", \"data\": [0.707968491110291, 0.7219601097206135, 0.7334297009867443, 0.7334297009867443, 0.7380706713077534, 0.7380706713077534, 0.7380706713077534, 0.738114372061913, 0.738114372061913, 0.738114372061913, 0.738114372061913, 0.738114372061913, 0.7526718584990179, 0.7526718584990179, 0.7526718584990179, 0.7526718584990179, 0.7526718584990179, 0.7526718584990179, 0.7526718584990179, 0.7526718584990179, 0.7526718584990179, 0.7526718584990179, 0.7604619861152703, 0.7604619861152703]}], \"average_precision_score_macro\": [{\"categories\": [\"0\", \"1\", \"2\", \"3\", \"4\", \"5\", \"6\", \"7\", \"8\", \"9\", \"10\", \"11\", \"12\", \"13\", \"14\", \"15\", \"16\", \"17\", \"18\", \"19\", \"20\", \"21\", \"22\", \"23\"], \"mode\": \"markers\", \"name\": \"average_precision_score_macro\", \"stepped\": false, \"type\": \"scatter\", \"data\": [0.7909572473833129, 0.7985412245665678, 0.7989708586451774, 0.7986099765312334, 0.8032405639558226, 0.777633572105133, 0.7918244191144946, 0.7965704868665894, 0.7714513538708994, 0.7795479819720439, 0.795856915917762, 0.7364360495654547, 0.8085093850304105, 0.8037307957325523, 0.8078609610333087, 0.7998143048447605, 0.7862946406826262, 0.7996483086869678, 0.8089915040156892, 0.7971638535225153, 0.807176543005216, 0.8126242209770954, 0.8148817760634337, 0.8130006181371865]}, {\"categories\": [\"0\", \"1\", \"2\", \"3\", \"4\", \"5\", \"6\", \"7\", \"8\", \"9\", \"10\", \"11\", \"12\", \"13\", \"14\", \"15\", \"16\", \"17\", \"18\", \"19\", \"20\", \"21\", \"22\", \"23\"], \"mode\": \"lines\", \"name\": \"average_precision_score_macro_max\", \"stepped\": true, \"type\": \"scatter\", \"data\": [0.7909572473833129, 0.7985412245665678, 0.7989708586451774, 0.7989708586451774, 0.8032405639558226, 0.8032405639558226, 0.8032405639558226, 0.8032405639558226, 0.8032405639558226, 0.8032405639558226, 0.8032405639558226, 0.8032405639558226, 0.8085093850304105, 0.8085093850304105, 0.8085093850304105, 0.8085093850304105, 0.8085093850304105, 0.8085093850304105, 0.8089915040156892, 0.8089915040156892, 0.8089915040156892, 0.8126242209770954, 0.8148817760634337, 0.8148817760634337]}], \"matthews_correlation\": [{\"categories\": [\"0\", \"1\", \"2\", \"3\", \"4\", \"5\", \"6\", \"7\", \"8\", \"9\", \"10\", \"11\", \"12\", \"13\", \"14\", \"15\", \"16\", \"17\", \"18\", \"19\", \"20\", \"21\", \"22\", \"23\"], \"mode\": \"markers\", \"name\": \"matthews_correlation\", \"stepped\": false, \"type\": \"scatter\", \"data\": [0.40406487736619806, 0.4385875433500422, 0.4447637479325041, 0.42860855119889785, 0.4878920054434374, 0.4311651247246192, 0.4481123190958086, 0.4554107573553149, 0.4265571818111713, 0.42145661869312007, 0.4159441097002814, 0.36117528777509644, 0.4720753684887879, 0.41996113746706076, 0.43679535665795244, 0.4437432244099555, 0.4367500203481075, 0.43596569827278486, 0.43867446857983217, 0.42356287212151783, 0.4430382577906492, 0.4560591605134151, 0.506746822236324, 0.46394552168207825]}, {\"categories\": [\"0\", \"1\", \"2\", \"3\", \"4\", \"5\", \"6\", \"7\", \"8\", \"9\", \"10\", \"11\", \"12\", \"13\", \"14\", \"15\", \"16\", \"17\", \"18\", \"19\", \"20\", \"21\", \"22\", \"23\"], \"mode\": \"lines\", \"name\": \"matthews_correlation_max\", \"stepped\": true, \"type\": \"scatter\", \"data\": [0.40406487736619806, 0.4385875433500422, 0.4447637479325041, 0.4447637479325041, 0.4878920054434374, 0.4878920054434374, 0.4878920054434374, 0.4878920054434374, 0.4878920054434374, 0.4878920054434374, 0.4878920054434374, 0.4878920054434374, 0.4878920054434374, 0.4878920054434374, 0.4878920054434374, 0.4878920054434374, 0.4878920054434374, 0.4878920054434374, 0.4878920054434374, 0.4878920054434374, 0.4878920054434374, 0.4878920054434374, 0.506746822236324, 0.506746822236324]}], \"f1_score_macro\": [{\"categories\": [\"0\", \"1\", \"2\", \"3\", \"4\", \"5\", \"6\", \"7\", \"8\", \"9\", \"10\", \"11\", \"12\", \"13\", \"14\", \"15\", \"16\", \"17\", \"18\", \"19\", \"20\", \"21\", \"22\", \"23\"], \"mode\": \"markers\", \"name\": \"f1_score_macro\", \"stepped\": false, \"type\": \"scatter\", \"data\": [0.6998224487750973, 0.7174828203105663, 0.7165200929455608, 0.7060377493216301, 0.7417213841713501, 0.7028440703880868, 0.720411640951872, 0.7217432706354467, 0.7085022762157648, 0.7074062160494863, 0.6919570876626127, 0.6646727440470557, 0.7293534317021322, 0.6872379665506436, 0.7070813103100589, 0.7149186622925547, 0.7103939647836773, 0.7119557804485074, 0.7074334268632729, 0.698816052838561, 0.7084627928152043, 0.7241691907133528, 0.7509805827021504, 0.725843930126504]}, {\"categories\": [\"0\", \"1\", \"2\", \"3\", \"4\", \"5\", \"6\", \"7\", \"8\", \"9\", \"10\", \"11\", \"12\", \"13\", \"14\", \"15\", \"16\", \"17\", \"18\", \"19\", \"20\", \"21\", \"22\", \"23\"], \"mode\": \"lines\", \"name\": \"f1_score_macro_max\", \"stepped\": true, \"type\": \"scatter\", \"data\": [0.6998224487750973, 0.7174828203105663, 0.7174828203105663, 0.7174828203105663, 0.7417213841713501, 0.7417213841713501, 0.7417213841713501, 0.7417213841713501, 0.7417213841713501, 0.7417213841713501, 0.7417213841713501, 0.7417213841713501, 0.7417213841713501, 0.7417213841713501, 0.7417213841713501, 0.7417213841713501, 0.7417213841713501, 0.7417213841713501, 0.7417213841713501, 0.7417213841713501, 0.7417213841713501, 0.7417213841713501, 0.7509805827021504, 0.7509805827021504]}], \"balanced_accuracy\": [{\"categories\": [\"0\", \"1\", \"2\", \"3\", \"4\", \"5\", \"6\", \"7\", \"8\", \"9\", \"10\", \"11\", \"12\", \"13\", \"14\", \"15\", \"16\", \"17\", \"18\", \"19\", \"20\", \"21\", \"22\", \"23\"], \"mode\": \"markers\", \"name\": \"balanced_accuracy\", \"stepped\": false, \"type\": \"scatter\", \"data\": [0.696403005026597, 0.7169053620502643, 0.7124028787709771, 0.6971598548702127, 0.7501750643457059, 0.7256173423192098, 0.7172017451138528, 0.7183826315146237, 0.706324779686519, 0.7053246302295794, 0.6825191193556037, 0.6604297528546438, 0.7206763222095556, 0.6781702336003164, 0.6985374204077939, 0.7069662866674674, 0.7072534831411871, 0.7045542198566104, 0.6972005381641682, 0.6897134139526478, 0.6983523517965754, 0.7198871841091596, 0.7466290593643446, 0.7229403308185882]}, {\"categories\": [\"0\", \"1\", \"2\", \"3\", \"4\", \"5\", \"6\", \"7\", \"8\", \"9\", \"10\", \"11\", \"12\", \"13\", \"14\", \"15\", \"16\", \"17\", \"18\", \"19\", \"20\", \"21\", \"22\", \"23\"], \"mode\": \"lines\", \"name\": \"balanced_accuracy_max\", \"stepped\": true, \"type\": \"scatter\", \"data\": [0.696403005026597, 0.7169053620502643, 0.7169053620502643, 0.7169053620502643, 0.7501750643457059, 0.7501750643457059, 0.7501750643457059, 0.7501750643457059, 0.7501750643457059, 0.7501750643457059, 0.7501750643457059, 0.7501750643457059, 0.7501750643457059, 0.7501750643457059, 0.7501750643457059, 0.7501750643457059, 0.7501750643457059, 0.7501750643457059, 0.7501750643457059, 0.7501750643457059, 0.7501750643457059, 0.7501750643457059, 0.7501750643457059, 0.7501750643457059]}], \"f1_score_weighted\": [{\"categories\": [\"0\", \"1\", \"2\", \"3\", \"4\", \"5\", \"6\", \"7\", \"8\", \"9\", \"10\", \"11\", \"12\", \"13\", \"14\", \"15\", \"16\", \"17\", \"18\", \"19\", \"20\", \"21\", \"22\", \"23\"], \"mode\": \"markers\", \"name\": \"f1_score_weighted\", \"stepped\": false, \"type\": \"scatter\", \"data\": [0.7332124320150146, 0.7488718859120429, 0.7485530514579721, 0.7425750833867099, 0.7644737318559637, 0.7224199080613274, 0.7510352130799637, 0.7538308233854945, 0.7404771027681218, 0.7390277555843174, 0.7340142973023636, 0.707875911596503, 0.7627130912394223, 0.732073749099617, 0.7445244993185633, 0.750541336836752, 0.7434393355853156, 0.7472852959324102, 0.7466425749877931, 0.7389312069822537, 0.7476364510154878, 0.7556589227826068, 0.7779038495932352, 0.7565636961903202]}, {\"categories\": [\"0\", \"1\", \"2\", \"3\", \"4\", \"5\", \"6\", \"7\", \"8\", \"9\", \"10\", \"11\", \"12\", \"13\", \"14\", \"15\", \"16\", \"17\", \"18\", \"19\", \"20\", \"21\", \"22\", \"23\"], \"mode\": \"lines\", \"name\": \"f1_score_weighted_max\", \"stepped\": true, \"type\": \"scatter\", \"data\": [0.7332124320150146, 0.7488718859120429, 0.7488718859120429, 0.7488718859120429, 0.7644737318559637, 0.7644737318559637, 0.7644737318559637, 0.7644737318559637, 0.7644737318559637, 0.7644737318559637, 0.7644737318559637, 0.7644737318559637, 0.7644737318559637, 0.7644737318559637, 0.7644737318559637, 0.7644737318559637, 0.7644737318559637, 0.7644737318559637, 0.7644737318559637, 0.7644737318559637, 0.7644737318559637, 0.7644737318559637, 0.7779038495932352, 0.7779038495932352]}], \"recall_score_micro\": [{\"categories\": [\"0\", \"1\", \"2\", \"3\", \"4\", \"5\", \"6\", \"7\", \"8\", \"9\", \"10\", \"11\", \"12\", \"13\", \"14\", \"15\", \"16\", \"17\", \"18\", \"19\", \"20\", \"21\", \"22\", \"23\"], \"mode\": \"markers\", \"name\": \"recall_score_micro\", \"stepped\": false, \"type\": \"scatter\", \"data\": [0.7370172311348782, 0.749953314659197, 0.7552839317545199, 0.7527119938884643, 0.7617859264918089, 0.7162464985994397, 0.7552924199983023, 0.7591460826754944, 0.7435786435786435, 0.7422799422799422, 0.7500891265597149, 0.7240556828792123, 0.7708683473389355, 0.7513623631270689, 0.756599609540786, 0.7578898225957049, 0.7513963161021986, 0.7539767422120363, 0.7591630591630592, 0.7526695526695526, 0.7604957134368899, 0.7604702487055428, 0.7813683048977167, 0.7617859264918089]}, {\"categories\": [\"0\", \"1\", \"2\", \"3\", \"4\", \"5\", \"6\", \"7\", \"8\", \"9\", \"10\", \"11\", \"12\", \"13\", \"14\", \"15\", \"16\", \"17\", \"18\", \"19\", \"20\", \"21\", \"22\", \"23\"], \"mode\": \"lines\", \"name\": \"recall_score_micro_max\", \"stepped\": true, \"type\": \"scatter\", \"data\": [0.7370172311348782, 0.749953314659197, 0.7552839317545199, 0.7552839317545199, 0.7617859264918089, 0.7617859264918089, 0.7617859264918089, 0.7617859264918089, 0.7617859264918089, 0.7617859264918089, 0.7617859264918089, 0.7617859264918089, 0.7708683473389355, 0.7708683473389355, 0.7708683473389355, 0.7708683473389355, 0.7708683473389355, 0.7708683473389355, 0.7708683473389355, 0.7708683473389355, 0.7708683473389355, 0.7708683473389355, 0.7813683048977167, 0.7813683048977167]}]}, \"metricName\": null, \"primaryMetricName\": \"accuracy\", \"showLegend\": false}, \"run_metrics\": [{\"name\": \"experiment_status\", \"run_id\": \"AutoML_b0a25907-1616-4fcb-a321-ac237c80c1b4\", \"categories\": [0, 1, 2, 3, 4, 5, 6, 7, 8, 9, 10, 11, 12, 13], \"series\": [{\"data\": [\"DatasetEvaluation\", \"FeaturesGeneration\", \"DatasetFeaturization\", \"DatasetFeaturizationCompleted\", \"DatasetCrossValidationSplit\", \"ModelSelection\", \"BestRunExplainModel\", \"ModelExplanationDataSetSetup\", \"PickSurrogateModel\", \"EngineeredFeatureExplanations\", \"EngineeredFeatureExplanations\", \"RawFeaturesExplanations\", \"RawFeaturesExplanations\", \"BestRunExplainModel\"]}]}, {\"name\": \"experiment_status_description\", \"run_id\": \"AutoML_b0a25907-1616-4fcb-a321-ac237c80c1b4\", \"categories\": [0, 1, 2, 3, 4, 5, 6, 7, 8, 9, 10, 11, 12, 13], \"series\": [{\"data\": [\"Gathering dataset statistics.\", \"Generating features for the dataset.\", \"Beginning to fit featurizers and featurize the dataset.\", \"Completed fit featurizers and featurizing the dataset.\", \"Generating individually featurized CV splits.\", \"Beginning model selection.\", \"Best run model explanations started\", \"Model explanations data setup completed\", \"Choosing LightGBM as the surrogate model for explanations\", \"Computation of engineered features started\", \"Computation of engineered features completed\", \"Computation of raw features started\", \"Computation of raw features completed\", \"Best run model explanations completed\"]}]}, {\"name\": \"log_loss\", \"run_id\": \"AutoML_b0a25907-1616-4fcb-a321-ac237c80c1b4\", \"categories\": [0], \"series\": [{\"data\": [0.48146681077435216]}]}, {\"name\": \"AUC_micro\", \"run_id\": \"AutoML_b0a25907-1616-4fcb-a321-ac237c80c1b4\", \"categories\": [0], \"series\": [{\"data\": [0.8565149414525528]}]}, {\"name\": \"average_precision_score_macro\", \"run_id\": \"AutoML_b0a25907-1616-4fcb-a321-ac237c80c1b4\", \"categories\": [0], \"series\": [{\"data\": [0.8148817760634337]}]}, {\"name\": \"accuracy\", \"run_id\": \"AutoML_b0a25907-1616-4fcb-a321-ac237c80c1b4\", \"categories\": [0], \"series\": [{\"data\": [0.7813683048977167]}]}, {\"name\": \"recall_score_micro\", \"run_id\": \"AutoML_b0a25907-1616-4fcb-a321-ac237c80c1b4\", \"categories\": [0], \"series\": [{\"data\": [0.7813683048977167]}]}, {\"name\": \"average_precision_score_weighted\", \"run_id\": \"AutoML_b0a25907-1616-4fcb-a321-ac237c80c1b4\", \"categories\": [0], \"series\": [{\"data\": [0.8429785992271324]}]}, {\"name\": \"f1_score_micro\", \"run_id\": \"AutoML_b0a25907-1616-4fcb-a321-ac237c80c1b4\", \"categories\": [0], \"series\": [{\"data\": [0.7813683048977167]}]}, {\"name\": \"AUC_macro\", \"run_id\": \"AutoML_b0a25907-1616-4fcb-a321-ac237c80c1b4\", \"categories\": [0], \"series\": [{\"data\": [0.8381730892941957]}]}, {\"name\": \"recall_score_weighted\", \"run_id\": \"AutoML_b0a25907-1616-4fcb-a321-ac237c80c1b4\", \"categories\": [0], \"series\": [{\"data\": [0.7813683048977167]}]}, {\"name\": \"AUC_weighted\", \"run_id\": \"AutoML_b0a25907-1616-4fcb-a321-ac237c80c1b4\", \"categories\": [0], \"series\": [{\"data\": [0.8381730892941954]}]}, {\"name\": \"precision_score_macro\", \"run_id\": \"AutoML_b0a25907-1616-4fcb-a321-ac237c80c1b4\", \"categories\": [0], \"series\": [{\"data\": [0.7604619861152703]}]}, {\"name\": \"recall_score_macro\", \"run_id\": \"AutoML_b0a25907-1616-4fcb-a321-ac237c80c1b4\", \"categories\": [0], \"series\": [{\"data\": [0.7466290593643446]}]}, {\"name\": \"average_precision_score_micro\", \"run_id\": \"AutoML_b0a25907-1616-4fcb-a321-ac237c80c1b4\", \"categories\": [0], \"series\": [{\"data\": [0.8559245977468718]}]}, {\"name\": \"precision_score_micro\", \"run_id\": \"AutoML_b0a25907-1616-4fcb-a321-ac237c80c1b4\", \"categories\": [0], \"series\": [{\"data\": [0.7813683048977167]}]}, {\"name\": \"norm_macro_recall\", \"run_id\": \"AutoML_b0a25907-1616-4fcb-a321-ac237c80c1b4\", \"categories\": [0], \"series\": [{\"data\": [0.49325811872868935]}]}, {\"name\": \"precision_score_weighted\", \"run_id\": \"AutoML_b0a25907-1616-4fcb-a321-ac237c80c1b4\", \"categories\": [0], \"series\": [{\"data\": [0.7788858251230621]}]}, {\"name\": \"f1_score_weighted\", \"run_id\": \"AutoML_b0a25907-1616-4fcb-a321-ac237c80c1b4\", \"categories\": [0], \"series\": [{\"data\": [0.7779038495932352]}]}, {\"name\": \"f1_score_macro\", \"run_id\": \"AutoML_b0a25907-1616-4fcb-a321-ac237c80c1b4\", \"categories\": [0], \"series\": [{\"data\": [0.7509805827021504]}]}, {\"name\": \"matthews_correlation\", \"run_id\": \"AutoML_b0a25907-1616-4fcb-a321-ac237c80c1b4\", \"categories\": [0], \"series\": [{\"data\": [0.506746822236324]}]}, {\"name\": \"weighted_accuracy\", \"run_id\": \"AutoML_b0a25907-1616-4fcb-a321-ac237c80c1b4\", \"categories\": [0], \"series\": [{\"data\": [0.8089589605359435]}]}, {\"name\": \"balanced_accuracy\", \"run_id\": \"AutoML_b0a25907-1616-4fcb-a321-ac237c80c1b4\", \"categories\": [0], \"series\": [{\"data\": [0.7466290593643446]}]}], \"run_logs\": \"\\nRun is completed.\", \"graph\": {}, \"widget_settings\": {\"childWidgetDisplay\": \"popup\", \"send_telemetry\": false, \"log_level\": \"INFO\", \"sdk_version\": \"1.20.0\"}, \"loading\": false}"
     },
     "metadata": {},
     "output_type": "display_data"
    }
   ],
   "source": [
    "RunDetails(remote_run).show()"
   ]
  },
  {
   "cell_type": "code",
   "execution_count": 13,
   "metadata": {},
   "outputs": [
    {
     "name": "stdout",
     "output_type": "stream",
     "text": [
      "\n",
      "\n",
      "****************************************************************************************************\n",
      "DATA GUARDRAILS: \n",
      "\n",
      "TYPE:         Class balancing detection\n",
      "STATUS:       PASSED\n",
      "DESCRIPTION:  Your inputs were analyzed, and all classes are balanced in your training data.\n",
      "              Learn more about imbalanced data: https://aka.ms/AutomatedMLImbalancedData\n",
      "\n",
      "****************************************************************************************************\n",
      "\n",
      "TYPE:         Missing feature values imputation\n",
      "STATUS:       PASSED\n",
      "DESCRIPTION:  No feature missing values were detected in the training data.\n",
      "              Learn more about missing value imputation: https://aka.ms/AutomatedMLFeaturization\n",
      "\n",
      "****************************************************************************************************\n",
      "\n",
      "TYPE:         High cardinality feature detection\n",
      "STATUS:       PASSED\n",
      "DESCRIPTION:  Your inputs were analyzed, and no high cardinality features were detected.\n",
      "              Learn more about high cardinality feature handling: https://aka.ms/AutomatedMLFeaturization\n",
      "\n",
      "****************************************************************************************************\n",
      "\n",
      "****************************************************************************************************\n",
      "ITERATION: The iteration being evaluated.\n",
      "PIPELINE: A summary description of the pipeline being evaluated.\n",
      "DURATION: Time taken for the current iteration.\n",
      "METRIC: The result of computing score on the fitted pipeline.\n",
      "BEST: The best observed score thus far.\n",
      "****************************************************************************************************\n",
      "\n",
      " ITERATION   PIPELINE                                       DURATION      METRIC      BEST\n",
      "         0   MaxAbsScaler LightGBM                          0:01:11       0.7370    0.7370\n",
      "         1   MaxAbsScaler XGBoostClassifier                 0:01:08       0.7500    0.7500\n",
      "         2   MaxAbsScaler RandomForest                      0:01:06       0.7553    0.7553\n",
      "         3   MaxAbsScaler RandomForest                      0:01:06       0.7527    0.7553\n",
      "         4   MaxAbsScaler RandomForest                      0:01:09       0.7618    0.7618\n",
      "         5   MaxAbsScaler RandomForest                      0:01:07       0.7162    0.7618\n",
      "         6   SparseNormalizer XGBoostClassifier             0:01:59       0.7553    0.7618\n",
      "         7   SparseNormalizer XGBoostClassifier             0:01:13       0.7591    0.7618\n",
      "        10   MaxAbsScaler RandomForest                      0:01:14       0.7501    0.7618\n",
      "        11   SparseNormalizer XGBoostClassifier             0:01:19       0.7241    0.7618\n",
      "         8   SparseNormalizer XGBoostClassifier             0:01:09       0.7436    0.7618\n",
      "         9   SparseNormalizer XGBoostClassifier             0:01:08       0.7423    0.7618\n",
      "        12   MaxAbsScaler RandomForest                      0:01:07       0.7709    0.7709\n",
      "        13   MaxAbsScaler ExtremeRandomTrees                0:01:08       0.7514    0.7709\n",
      "        14   MaxAbsScaler LightGBM                          0:01:51       0.7566    0.7709\n",
      "        15   MaxAbsScaler LogisticRegression                0:01:12       0.7579    0.7709\n",
      "        16   SparseNormalizer LightGBM                      0:01:06       0.7514    0.7709\n",
      "        17   MaxAbsScaler LogisticRegression                0:01:06       0.7540    0.7709\n",
      "        18   MaxAbsScaler LightGBM                          0:01:13       0.7592    0.7709\n",
      "        19   StandardScalerWrapper RandomForest             0:01:14       0.7527    0.7709\n",
      "        20   MaxAbsScaler ExtremeRandomTrees                0:01:12       0.7605    0.7709\n",
      "        21   MaxAbsScaler LightGBM                          0:01:10       0.7605    0.7709\n",
      "        22    VotingEnsemble                                0:01:39       0.7814    0.7814\n",
      "        23    StackEnsemble                                 0:01:40       0.7618    0.7814\n"
     ]
    },
    {
     "data": {
      "text/plain": [
       "{'runId': 'AutoML_b0a25907-1616-4fcb-a321-ac237c80c1b4',\n",
       " 'target': 'notebook138781',\n",
       " 'status': 'Completed',\n",
       " 'startTimeUtc': '2021-02-13T10:17:38.215117Z',\n",
       " 'endTimeUtc': '2021-02-13T10:33:20.922551Z',\n",
       " 'properties': {'num_iterations': '24',\n",
       "  'training_type': 'TrainFull',\n",
       "  'acquisition_function': 'EI',\n",
       "  'primary_metric': 'accuracy',\n",
       "  'train_split': '0',\n",
       "  'acquisition_parameter': '0',\n",
       "  'num_cross_validation': '5',\n",
       "  'target': 'notebook138781',\n",
       "  'AMLSettingsJsonString': '{\"path\":null,\"name\":\"automl\",\"subscription_id\":\"61c5c3f0-6dc7-4ed9-a7f3-c704b20e3b30\",\"resource_group\":\"aml-quickstarts-138781\",\"workspace_name\":\"quick-starts-ws-138781\",\"region\":\"southcentralus\",\"compute_target\":\"notebook138781\",\"spark_service\":null,\"azure_service\":\"remote\",\"many_models\":false,\"pipeline_fetch_max_batch_size\":1,\"iterations\":24,\"primary_metric\":\"accuracy\",\"task_type\":\"classification\",\"data_script\":null,\"validation_size\":0.0,\"n_cross_validations\":5,\"y_min\":null,\"y_max\":null,\"num_classes\":null,\"featurization\":\"auto\",\"_ignore_package_version_incompatibilities\":false,\"is_timeseries\":false,\"max_cores_per_iteration\":1,\"max_concurrent_iterations\":4,\"iteration_timeout_minutes\":null,\"mem_in_mb\":null,\"enforce_time_on_windows\":false,\"experiment_timeout_minutes\":30,\"experiment_exit_score\":null,\"whitelist_models\":null,\"blacklist_algos\":[\"TensorFlowLinearClassifier\",\"TensorFlowDNN\"],\"supported_models\":[\"GradientBoosting\",\"XGBoostClassifier\",\"TensorFlowLinearClassifier\",\"RandomForest\",\"MultinomialNaiveBayes\",\"LightGBM\",\"BernoulliNaiveBayes\",\"LogisticRegression\",\"TensorFlowDNN\",\"SGD\",\"DecisionTree\",\"AveragedPerceptronClassifier\",\"ExtremeRandomTrees\",\"SVM\",\"LinearSVM\",\"KNN\"],\"auto_blacklist\":true,\"blacklist_samples_reached\":false,\"exclude_nan_labels\":true,\"verbosity\":20,\"_debug_log\":\"azureml_automl.log\",\"show_warnings\":false,\"model_explainability\":true,\"service_url\":null,\"sdk_url\":null,\"sdk_packages\":null,\"enable_onnx_compatible_models\":false,\"enable_split_onnx_featurizer_estimator_models\":false,\"vm_type\":\"STANDARD_DS3_V2\",\"telemetry_verbosity\":20,\"send_telemetry\":true,\"enable_dnn\":false,\"scenario\":\"SDK-1.13.0\",\"environment_label\":null,\"force_text_dnn\":false,\"enable_feature_sweeping\":true,\"enable_early_stopping\":true,\"early_stopping_n_iters\":10,\"metrics\":null,\"enable_ensembling\":true,\"enable_stack_ensembling\":true,\"ensemble_iterations\":15,\"enable_tf\":false,\"enable_subsampling\":false,\"subsample_seed\":null,\"enable_nimbusml\":false,\"enable_streaming\":false,\"force_streaming\":false,\"track_child_runs\":true,\"allowed_private_models\":[],\"label_column_name\":\"Outcome\",\"weight_column_name\":null,\"cv_split_column_names\":null,\"enable_local_managed\":false,\"_local_managed_run_id\":null,\"cost_mode\":1,\"lag_length\":0,\"metric_operation\":\"maximize\",\"preprocess\":true}',\n",
       "  'DataPrepJsonString': '{\\\\\"training_data\\\\\": \\\\\"{\\\\\\\\\\\\\"blocks\\\\\\\\\\\\\": [{\\\\\\\\\\\\\"id\\\\\\\\\\\\\": \\\\\\\\\\\\\"a413eaf0-fe7b-4fb6-ac3d-c2b67d6e68cb\\\\\\\\\\\\\", \\\\\\\\\\\\\"type\\\\\\\\\\\\\": \\\\\\\\\\\\\"Microsoft.DPrep.GetDatastoreFilesBlock\\\\\\\\\\\\\", \\\\\\\\\\\\\"arguments\\\\\\\\\\\\\": {\\\\\\\\\\\\\"datastores\\\\\\\\\\\\\": [{\\\\\\\\\\\\\"datastoreName\\\\\\\\\\\\\": \\\\\\\\\\\\\"workspaceblobstore\\\\\\\\\\\\\", \\\\\\\\\\\\\"path\\\\\\\\\\\\\": \\\\\\\\\\\\\"UI/02-13-2021_101158_UTC/diabetes.csv\\\\\\\\\\\\\", \\\\\\\\\\\\\"resourceGroup\\\\\\\\\\\\\": \\\\\\\\\\\\\"aml-quickstarts-138781\\\\\\\\\\\\\", \\\\\\\\\\\\\"subscription\\\\\\\\\\\\\": \\\\\\\\\\\\\"61c5c3f0-6dc7-4ed9-a7f3-c704b20e3b30\\\\\\\\\\\\\", \\\\\\\\\\\\\"workspaceName\\\\\\\\\\\\\": \\\\\\\\\\\\\"quick-starts-ws-138781\\\\\\\\\\\\\"}]}, \\\\\\\\\\\\\"localData\\\\\\\\\\\\\": {}, \\\\\\\\\\\\\"isEnabled\\\\\\\\\\\\\": true, \\\\\\\\\\\\\"name\\\\\\\\\\\\\": null, \\\\\\\\\\\\\"annotation\\\\\\\\\\\\\": null}, {\\\\\\\\\\\\\"id\\\\\\\\\\\\\": \\\\\\\\\\\\\"7a997197-df92-49bf-9b48-ad40ddba5d22\\\\\\\\\\\\\", \\\\\\\\\\\\\"type\\\\\\\\\\\\\": \\\\\\\\\\\\\"Microsoft.DPrep.ParseDelimitedBlock\\\\\\\\\\\\\", \\\\\\\\\\\\\"arguments\\\\\\\\\\\\\": {\\\\\\\\\\\\\"columnHeadersMode\\\\\\\\\\\\\": 3, \\\\\\\\\\\\\"fileEncoding\\\\\\\\\\\\\": 0, \\\\\\\\\\\\\"handleQuotedLineBreaks\\\\\\\\\\\\\": false, \\\\\\\\\\\\\"preview\\\\\\\\\\\\\": false, \\\\\\\\\\\\\"separator\\\\\\\\\\\\\": \\\\\\\\\\\\\",\\\\\\\\\\\\\", \\\\\\\\\\\\\"skipRows\\\\\\\\\\\\\": 0, \\\\\\\\\\\\\"skipRowsMode\\\\\\\\\\\\\": 0}, \\\\\\\\\\\\\"localData\\\\\\\\\\\\\": {}, \\\\\\\\\\\\\"isEnabled\\\\\\\\\\\\\": true, \\\\\\\\\\\\\"name\\\\\\\\\\\\\": null, \\\\\\\\\\\\\"annotation\\\\\\\\\\\\\": null}, {\\\\\\\\\\\\\"id\\\\\\\\\\\\\": \\\\\\\\\\\\\"9d3fc92e-0df8-4189-a2dd-a01879aa4ffa\\\\\\\\\\\\\", \\\\\\\\\\\\\"type\\\\\\\\\\\\\": \\\\\\\\\\\\\"Microsoft.DPrep.DropColumnsBlock\\\\\\\\\\\\\", \\\\\\\\\\\\\"arguments\\\\\\\\\\\\\": {\\\\\\\\\\\\\"columns\\\\\\\\\\\\\": {\\\\\\\\\\\\\"type\\\\\\\\\\\\\": 0, \\\\\\\\\\\\\"details\\\\\\\\\\\\\": {\\\\\\\\\\\\\"selectedColumns\\\\\\\\\\\\\": [\\\\\\\\\\\\\"Path\\\\\\\\\\\\\"]}}}, \\\\\\\\\\\\\"localData\\\\\\\\\\\\\": {}, \\\\\\\\\\\\\"isEnabled\\\\\\\\\\\\\": true, \\\\\\\\\\\\\"name\\\\\\\\\\\\\": null, \\\\\\\\\\\\\"annotation\\\\\\\\\\\\\": null}, {\\\\\\\\\\\\\"id\\\\\\\\\\\\\": \\\\\\\\\\\\\"e7f5d392-72f8-47cb-9a9a-30a2c6271e1c\\\\\\\\\\\\\", \\\\\\\\\\\\\"type\\\\\\\\\\\\\": \\\\\\\\\\\\\"Microsoft.DPrep.SetColumnTypesBlock\\\\\\\\\\\\\", \\\\\\\\\\\\\"arguments\\\\\\\\\\\\\": {\\\\\\\\\\\\\"columnConversion\\\\\\\\\\\\\": [{\\\\\\\\\\\\\"column\\\\\\\\\\\\\": {\\\\\\\\\\\\\"type\\\\\\\\\\\\\": 2, \\\\\\\\\\\\\"details\\\\\\\\\\\\\": {\\\\\\\\\\\\\"selectedColumn\\\\\\\\\\\\\": \\\\\\\\\\\\\"Path\\\\\\\\\\\\\"}}, \\\\\\\\\\\\\"typeProperty\\\\\\\\\\\\\": 0}, {\\\\\\\\\\\\\"column\\\\\\\\\\\\\": {\\\\\\\\\\\\\"type\\\\\\\\\\\\\": 2, \\\\\\\\\\\\\"details\\\\\\\\\\\\\": {\\\\\\\\\\\\\"selectedColumn\\\\\\\\\\\\\": \\\\\\\\\\\\\"Pregnancies\\\\\\\\\\\\\"}}, \\\\\\\\\\\\\"typeProperty\\\\\\\\\\\\\": 2}, {\\\\\\\\\\\\\"column\\\\\\\\\\\\\": {\\\\\\\\\\\\\"type\\\\\\\\\\\\\": 2, \\\\\\\\\\\\\"details\\\\\\\\\\\\\": {\\\\\\\\\\\\\"selectedColumn\\\\\\\\\\\\\": \\\\\\\\\\\\\"Glucose\\\\\\\\\\\\\"}}, \\\\\\\\\\\\\"typeProperty\\\\\\\\\\\\\": 2}, {\\\\\\\\\\\\\"column\\\\\\\\\\\\\": {\\\\\\\\\\\\\"type\\\\\\\\\\\\\": 2, \\\\\\\\\\\\\"details\\\\\\\\\\\\\": {\\\\\\\\\\\\\"selectedColumn\\\\\\\\\\\\\": \\\\\\\\\\\\\"BloodPressure\\\\\\\\\\\\\"}}, \\\\\\\\\\\\\"typeProperty\\\\\\\\\\\\\": 2}, {\\\\\\\\\\\\\"column\\\\\\\\\\\\\": {\\\\\\\\\\\\\"type\\\\\\\\\\\\\": 2, \\\\\\\\\\\\\"details\\\\\\\\\\\\\": {\\\\\\\\\\\\\"selectedColumn\\\\\\\\\\\\\": \\\\\\\\\\\\\"SkinThickness\\\\\\\\\\\\\"}}, \\\\\\\\\\\\\"typeProperty\\\\\\\\\\\\\": 2}, {\\\\\\\\\\\\\"column\\\\\\\\\\\\\": {\\\\\\\\\\\\\"type\\\\\\\\\\\\\": 2, \\\\\\\\\\\\\"details\\\\\\\\\\\\\": {\\\\\\\\\\\\\"selectedColumn\\\\\\\\\\\\\": \\\\\\\\\\\\\"Insulin\\\\\\\\\\\\\"}}, \\\\\\\\\\\\\"typeProperty\\\\\\\\\\\\\": 2}, {\\\\\\\\\\\\\"column\\\\\\\\\\\\\": {\\\\\\\\\\\\\"type\\\\\\\\\\\\\": 2, \\\\\\\\\\\\\"details\\\\\\\\\\\\\": {\\\\\\\\\\\\\"selectedColumn\\\\\\\\\\\\\": \\\\\\\\\\\\\"BMI\\\\\\\\\\\\\"}}, \\\\\\\\\\\\\"typeProperty\\\\\\\\\\\\\": 3}, {\\\\\\\\\\\\\"column\\\\\\\\\\\\\": {\\\\\\\\\\\\\"type\\\\\\\\\\\\\": 2, \\\\\\\\\\\\\"details\\\\\\\\\\\\\": {\\\\\\\\\\\\\"selectedColumn\\\\\\\\\\\\\": \\\\\\\\\\\\\"DiabetesPedigreeFunction\\\\\\\\\\\\\"}}, \\\\\\\\\\\\\"typeProperty\\\\\\\\\\\\\": 3}, {\\\\\\\\\\\\\"column\\\\\\\\\\\\\": {\\\\\\\\\\\\\"type\\\\\\\\\\\\\": 2, \\\\\\\\\\\\\"details\\\\\\\\\\\\\": {\\\\\\\\\\\\\"selectedColumn\\\\\\\\\\\\\": \\\\\\\\\\\\\"Age\\\\\\\\\\\\\"}}, \\\\\\\\\\\\\"typeProperty\\\\\\\\\\\\\": 2}, {\\\\\\\\\\\\\"column\\\\\\\\\\\\\": {\\\\\\\\\\\\\"type\\\\\\\\\\\\\": 2, \\\\\\\\\\\\\"details\\\\\\\\\\\\\": {\\\\\\\\\\\\\"selectedColumn\\\\\\\\\\\\\": \\\\\\\\\\\\\"Outcome\\\\\\\\\\\\\"}}, \\\\\\\\\\\\\"typeProperty\\\\\\\\\\\\\": 2}]}, \\\\\\\\\\\\\"localData\\\\\\\\\\\\\": {}, \\\\\\\\\\\\\"isEnabled\\\\\\\\\\\\\": true, \\\\\\\\\\\\\"name\\\\\\\\\\\\\": null, \\\\\\\\\\\\\"annotation\\\\\\\\\\\\\": null}], \\\\\\\\\\\\\"inspectors\\\\\\\\\\\\\": [], \\\\\\\\\\\\\"meta\\\\\\\\\\\\\": {\\\\\\\\\\\\\"savedDatasetId\\\\\\\\\\\\\": \\\\\\\\\\\\\"3ada41b4-c12a-43bc-bd55-d3424afaabe6\\\\\\\\\\\\\", \\\\\\\\\\\\\"datasetType\\\\\\\\\\\\\": \\\\\\\\\\\\\"tabular\\\\\\\\\\\\\", \\\\\\\\\\\\\"subscriptionId\\\\\\\\\\\\\": \\\\\\\\\\\\\"61c5c3f0-6dc7-4ed9-a7f3-c704b20e3b30\\\\\\\\\\\\\", \\\\\\\\\\\\\"workspaceId\\\\\\\\\\\\\": \\\\\\\\\\\\\"7f8a139e-7aeb-4362-8787-72dd4d1ef764\\\\\\\\\\\\\", \\\\\\\\\\\\\"workspaceLocation\\\\\\\\\\\\\": \\\\\\\\\\\\\"southcentralus\\\\\\\\\\\\\"}}\\\\\", \\\\\"activities\\\\\": 0}',\n",
       "  'EnableSubsampling': 'False',\n",
       "  'runTemplate': 'AutoML',\n",
       "  'azureml.runsource': 'automl',\n",
       "  'display_task_type': 'classification',\n",
       "  'dependencies_versions': '{\"azureml-widgets\": \"1.20.0\", \"azureml-train\": \"1.20.0\", \"azureml-train-restclients-hyperdrive\": \"1.20.0\", \"azureml-train-core\": \"1.20.0\", \"azureml-train-automl\": \"1.20.0\", \"azureml-train-automl-runtime\": \"1.20.0\", \"azureml-train-automl-client\": \"1.20.0\", \"azureml-tensorboard\": \"1.20.0\", \"azureml-telemetry\": \"1.20.0\", \"azureml-sdk\": \"1.20.0\", \"azureml-samples\": \"0+unknown\", \"azureml-pipeline\": \"1.20.0\", \"azureml-pipeline-steps\": \"1.20.0\", \"azureml-pipeline-core\": \"1.20.0\", \"azureml-opendatasets\": \"1.20.0\", \"azureml-model-management-sdk\": \"1.0.1b6.post1\", \"azureml-mlflow\": \"1.20.0.post1\", \"azureml-interpret\": \"1.20.0\", \"azureml-explain-model\": \"1.20.0\", \"azureml-defaults\": \"1.20.0\", \"azureml-dataset-runtime\": \"1.20.0\", \"azureml-dataprep\": \"2.7.3\", \"azureml-dataprep-rslex\": \"1.5.0\", \"azureml-dataprep-native\": \"27.0.0\", \"azureml-datadrift\": \"1.20.0\", \"azureml-core\": \"1.20.0\", \"azureml-contrib-services\": \"1.20.0\", \"azureml-contrib-server\": \"1.20.0\", \"azureml-contrib-reinforcementlearning\": \"1.20.0\", \"azureml-contrib-pipeline-steps\": \"1.20.0\", \"azureml-contrib-notebook\": \"1.20.0\", \"azureml-contrib-interpret\": \"1.20.0\", \"azureml-contrib-gbdt\": \"1.20.0\", \"azureml-contrib-fairness\": \"1.20.0\", \"azureml-contrib-dataset\": \"1.20.0\", \"azureml-cli-common\": \"1.20.0\", \"azureml-automl-runtime\": \"1.20.0\", \"azureml-automl-core\": \"1.20.0\", \"azureml-accel-models\": \"1.20.0\"}',\n",
       "  '_aml_system_scenario_identification': 'Remote.Parent',\n",
       "  'ClientType': 'SDK',\n",
       "  'environment_cpu_name': 'AzureML-AutoML',\n",
       "  'environment_cpu_label': 'prod',\n",
       "  'environment_gpu_name': 'AzureML-AutoML-GPU',\n",
       "  'environment_gpu_label': 'prod',\n",
       "  'root_attribution': 'automl',\n",
       "  'attribution': 'AutoML',\n",
       "  'Orchestrator': 'AutoML',\n",
       "  'CancelUri': 'https://southcentralus.experiments.azureml.net/jasmine/v1.0/subscriptions/61c5c3f0-6dc7-4ed9-a7f3-c704b20e3b30/resourceGroups/aml-quickstarts-138781/providers/Microsoft.MachineLearningServices/workspaces/quick-starts-ws-138781/experimentids/3d59d19c-5bc3-4025-9d9b-69a1460b58a2/cancel/AutoML_b0a25907-1616-4fcb-a321-ac237c80c1b4',\n",
       "  'ClientSdkVersion': '1.21.0',\n",
       "  'snapshotId': '00000000-0000-0000-0000-000000000000',\n",
       "  'SetupRunId': 'AutoML_b0a25907-1616-4fcb-a321-ac237c80c1b4_setup',\n",
       "  'SetupRunContainerId': 'dcid.AutoML_b0a25907-1616-4fcb-a321-ac237c80c1b4_setup',\n",
       "  'FeaturizationRunJsonPath': 'featurizer_container.json',\n",
       "  'FeaturizationRunId': 'AutoML_b0a25907-1616-4fcb-a321-ac237c80c1b4_featurize',\n",
       "  'ProblemInfoJsonString': '{\"dataset_num_categorical\": 0, \"is_sparse\": true, \"subsampling\": false, \"dataset_classes\": 2, \"dataset_features\": 32, \"dataset_samples\": 768, \"single_frequency_class_detected\": false}',\n",
       "  'ModelExplainRunId': 'AutoML_b0a25907-1616-4fcb-a321-ac237c80c1b4_ModelExplain'},\n",
       " 'inputDatasets': [{'dataset': {'id': '3ada41b4-c12a-43bc-bd55-d3424afaabe6'}, 'consumptionDetails': {'type': 'RunInput', 'inputName': 'training_data', 'mechanism': 'Direct'}}],\n",
       " 'outputDatasets': [],\n",
       " 'logFiles': {},\n",
       " 'submittedBy': 'ODL_User 138781'}"
      ]
     },
     "execution_count": 13,
     "metadata": {},
     "output_type": "execute_result"
    }
   ],
   "source": [
    "remote_run.wait_for_completion(show_output=True)"
   ]
  },
  {
   "cell_type": "code",
   "execution_count": 14,
   "metadata": {},
   "outputs": [
    {
     "data": {
      "text/html": [
       "<table style=\"width:100%\"><tr><th>Experiment</th><th>Id</th><th>Type</th><th>Status</th><th>Details Page</th><th>Docs Page</th></tr><tr><td>automl</td><td>AutoML_b0a25907-1616-4fcb-a321-ac237c80c1b4</td><td>automl</td><td>Completed</td><td><a href=\"https://ml.azure.com/experiments/automl/runs/AutoML_b0a25907-1616-4fcb-a321-ac237c80c1b4?wsid=/subscriptions/61c5c3f0-6dc7-4ed9-a7f3-c704b20e3b30/resourcegroups/aml-quickstarts-138781/workspaces/quick-starts-ws-138781\" target=\"_blank\" rel=\"noopener\">Link to Azure Machine Learning studio</a></td><td><a href=\"https://docs.microsoft.com/en-us/python/api/overview/azure/ml/intro?view=azure-ml-py\" target=\"_blank\" rel=\"noopener\">Link to Documentation</a></td></tr></table>"
      ],
      "text/plain": [
       "Run(Experiment: automl,\n",
       "Id: AutoML_b0a25907-1616-4fcb-a321-ac237c80c1b4,\n",
       "Type: automl,\n",
       "Status: Completed)"
      ]
     },
     "execution_count": 14,
     "metadata": {},
     "output_type": "execute_result"
    }
   ],
   "source": [
    "remote_run"
   ]
  },
  {
   "cell_type": "markdown",
   "metadata": {},
   "source": [
    "## Best Model\n",
    "\n",
    "The cell below shows the best model from the automl experiments and display all the properties of the model.\n",
    "\n"
   ]
  },
  {
   "cell_type": "code",
   "execution_count": 15,
   "metadata": {
    "gather": {
     "logged": 1598431425670
    },
    "jupyter": {
     "outputs_hidden": false,
     "source_hidden": false
    },
    "nteract": {
     "transient": {
      "deleting": false
     }
    }
   },
   "outputs": [
    {
     "name": "stderr",
     "output_type": "stream",
     "text": [
      "WARNING:root:The version of the SDK does not match the version the model was trained on.\n",
      "WARNING:root:The consistency in the result may not be guaranteed.\n",
      "WARNING:root:Package:azureml-automl-core, training version:1.21.0, current version:1.20.0\n",
      "Package:azureml-automl-runtime, training version:1.21.0, current version:1.20.0\n",
      "Package:azureml-core, training version:1.21.0.post1, current version:1.20.0\n",
      "Package:azureml-dataprep, training version:2.8.2, current version:2.7.3\n",
      "Package:azureml-dataprep-native, training version:28.0.0, current version:27.0.0\n",
      "Package:azureml-dataprep-rslex, training version:1.6.0, current version:1.5.0\n",
      "Package:azureml-dataset-runtime, training version:1.21.0, current version:1.20.0\n",
      "Package:azureml-defaults, training version:1.21.0, current version:1.20.0\n",
      "Package:azureml-interpret, training version:1.21.0, current version:1.20.0\n",
      "Package:azureml-pipeline-core, training version:1.21.0, current version:1.20.0\n",
      "Package:azureml-telemetry, training version:1.21.0, current version:1.20.0\n",
      "Package:azureml-train-automl-client, training version:1.21.0, current version:1.20.0\n",
      "Package:azureml-train-automl-runtime, training version:1.21.0, current version:1.20.0\n",
      "WARNING:root:Please ensure the version of your local conda dependencies match the version on which your model was trained in order to properly retrieve your model.\n"
     ]
    },
    {
     "name": "stdout",
     "output_type": "stream",
     "text": [
      "Run(Experiment: automl,\n",
      "Id: AutoML_b0a25907-1616-4fcb-a321-ac237c80c1b4_22,\n",
      "Type: azureml.scriptrun,\n",
      "Status: Completed)\n",
      "[('datatransformer', DataTransformer(enable_dnn=None, enable_feature_sweeping=None,\n",
      "                feature_sweeping_config=None, feature_sweeping_timeout=None,\n",
      "                featurization_config=None, force_text_dnn=None,\n",
      "                is_cross_validation=None, is_onnx_compatible=None, logger=None,\n",
      "                observer=None, task=None, working_dir=None)), ('prefittedsoftvotingclassifier', PreFittedSoftVotingClassifier(classification_labels=None,\n",
      "                              estimators=[('12',\n",
      "                                           Pipeline(memory=None,\n",
      "                                                    steps=[('maxabsscaler',\n",
      "                                                            MaxAbsScaler(copy=True)),\n",
      "                                                           ('randomforestclassifier',\n",
      "                                                            RandomForestClassifier(bootstrap=True,\n",
      "                                                                                   ccp_alpha=0.0,\n",
      "                                                                                   class_weight=None,\n",
      "                                                                                   criterion='gini',\n",
      "                                                                                   max_depth=None,\n",
      "                                                                                   max_features=None,\n",
      "                                                                                   max_leaf_nodes=None,\n",
      "                                                                                   max_samples=None,\n",
      "                                                                                   min_impurity_decrease=0...\n",
      "                                                                                   min_samples_leaf=0.01,\n",
      "                                                                                   min_samples_split=0.2442105263157895,\n",
      "                                                                                   min_weight_fraction_leaf=0.0,\n",
      "                                                                                   n_estimators=10,\n",
      "                                                                                   n_jobs=1,\n",
      "                                                                                   oob_score=False,\n",
      "                                                                                   random_state=None,\n",
      "                                                                                   verbose=0,\n",
      "                                                                                   warm_start=False))],\n",
      "                                                    verbose=False))],\n",
      "                              flatten_transform=None,\n",
      "                              weights=[0.26666666666666666, 0.13333333333333333,\n",
      "                                       0.13333333333333333, 0.06666666666666667,\n",
      "                                       0.06666666666666667, 0.2,\n",
      "                                       0.06666666666666667,\n",
      "                                       0.06666666666666667]))]\n"
     ]
    }
   ],
   "source": [
    "# Retrieve and save best automl model\n",
    "best_model, model = remote_run.get_output()\n",
    "print(best_model)\n",
    "print(model.steps)"
   ]
  },
  {
   "cell_type": "code",
   "execution_count": 16,
   "metadata": {},
   "outputs": [
    {
     "data": {
      "text/plain": [
       "{'experiment_status': ['DatasetEvaluation',\n",
       "  'FeaturesGeneration',\n",
       "  'DatasetFeaturization',\n",
       "  'DatasetFeaturizationCompleted',\n",
       "  'DatasetCrossValidationSplit',\n",
       "  'ModelSelection'],\n",
       " 'experiment_status_description': ['Gathering dataset statistics.',\n",
       "  'Generating features for the dataset.',\n",
       "  'Beginning to fit featurizers and featurize the dataset.',\n",
       "  'Completed fit featurizers and featurizing the dataset.',\n",
       "  'Generating individually featurized CV splits.',\n",
       "  'Beginning model selection.'],\n",
       " 'log_loss': 0.48146681077435216,\n",
       " 'AUC_micro': 0.8565149414525528,\n",
       " 'average_precision_score_macro': 0.8148817760634337,\n",
       " 'accuracy': 0.7813683048977167,\n",
       " 'recall_score_micro': 0.7813683048977167,\n",
       " 'average_precision_score_weighted': 0.8429785992271324,\n",
       " 'f1_score_micro': 0.7813683048977167,\n",
       " 'AUC_macro': 0.8381730892941957,\n",
       " 'recall_score_weighted': 0.7813683048977167,\n",
       " 'AUC_weighted': 0.8381730892941954,\n",
       " 'precision_score_macro': 0.7604619861152703,\n",
       " 'recall_score_macro': 0.7466290593643446,\n",
       " 'average_precision_score_micro': 0.8559245977468718,\n",
       " 'precision_score_micro': 0.7813683048977167,\n",
       " 'norm_macro_recall': 0.49325811872868935,\n",
       " 'precision_score_weighted': 0.7788858251230621,\n",
       " 'f1_score_weighted': 0.7779038495932352,\n",
       " 'f1_score_macro': 0.7509805827021504,\n",
       " 'matthews_correlation': 0.506746822236324,\n",
       " 'weighted_accuracy': 0.8089589605359435,\n",
       " 'balanced_accuracy': 0.7466290593643446}"
      ]
     },
     "execution_count": 16,
     "metadata": {},
     "output_type": "execute_result"
    }
   ],
   "source": [
    "remote_run.get_metrics()"
   ]
  },
  {
   "cell_type": "markdown",
   "metadata": {},
   "source": [
    "## Model Deployment\n",
    "\n",
    "Remember you have to deploy only one of the two models you trained.. Perform the steps in the rest of this notebook only if you wish to deploy this model.\n",
    "\n",
    "In the cell below, we have registered the model, created an inference config and deployed the model as a web service."
   ]
  },
  {
   "cell_type": "code",
   "execution_count": 17,
   "metadata": {
    "gather": {
     "logged": 1598431435189
    },
    "jupyter": {
     "outputs_hidden": false,
     "source_hidden": false
    },
    "nteract": {
     "transient": {
      "deleting": false
     }
    }
   },
   "outputs": [],
   "source": [
    "# Registring the best model\n",
    "model = best_model.register_model(model_name='automl-best-model',model_path='outputs/model.pkl')\n"
   ]
  },
  {
   "cell_type": "code",
   "execution_count": 19,
   "metadata": {},
   "outputs": [],
   "source": [
    "# Get automl environment with its dependencies\n",
    "environment = Environment.get(ws, \"AzureML-AutoML\")"
   ]
  },
  {
   "cell_type": "code",
   "execution_count": 20,
   "metadata": {},
   "outputs": [
    {
     "name": "stdout",
     "output_type": "stream",
     "text": [
      "Tips: You can try get_logs(): https://aka.ms/debugimage#dockerlog or local deployment: https://aka.ms/debugimage#debug-locally to debug if deployment takes longer than 10 minutes.\n",
      "Running...........................................\n",
      "Succeeded\n",
      "ACI service creation operation finished, operation \"Succeeded\"\n",
      "http://4339ffef-aac1-4471-91c7-40726bc5bcc8.southcentralus.azurecontainer.io/score\n"
     ]
    }
   ],
   "source": [
    "inference_config = InferenceConfig(entry_script='scoring.py',\n",
    "                                   environment=environment)\n",
    "service_name = 'automl-deploy'\n",
    "deployment_config = AciWebservice.deploy_configuration(cpu_cores=1, memory_gb=1)\n",
    "\n",
    "service = Model.deploy(workspace=ws,\n",
    "                       name=service_name,\n",
    "                       models=[model],\n",
    "                       inference_config=inference_config,\n",
    "                       deployment_config=deployment_config,\n",
    "                       overwrite=True\n",
    "                      )\n",
    "service.wait_for_deployment(show_output=True)\n",
    "\n",
    "scoring_uri = service.scoring_uri\n",
    "print(scoring_uri)"
   ]
  },
  {
   "cell_type": "code",
   "execution_count": 21,
   "metadata": {},
   "outputs": [],
   "source": [
    "# Enable app insights\n",
    "service.update(enable_app_insights=True)"
   ]
  },
  {
   "cell_type": "markdown",
   "metadata": {
    "gather": {
     "logged": 1598431657736
    },
    "jupyter": {
     "outputs_hidden": false,
     "source_hidden": false
    },
    "nteract": {
     "transient": {
      "deleting": false
     }
    }
   },
   "source": [
    "In the cell below, we have sent a request to the web service to test it."
   ]
  },
  {
   "cell_type": "code",
   "execution_count": 22,
   "metadata": {},
   "outputs": [
    {
     "name": "stdout",
     "output_type": "stream",
     "text": [
      "{\"result\": [1, 0]}\n",
      "Case 0: Not Diabetes, Case 1: Diabetes.\n"
     ]
    }
   ],
   "source": [
    "import requests\n",
    "import json\n",
    "\n",
    "#two set of data to score, so we get two results back\n",
    "data = {\"data\": [{\"Pregnancies\": 5, \n",
    "     \"Glucose\": 150, \n",
    "     \"BloodPressure\": 70, \n",
    "     \"SkinThickness\": 40, \n",
    "     \"Insulin\": 10, \n",
    "     \"BMI\": 36.5, \n",
    "     \"DiabetesPedigreeFunction\": 0.627, \n",
    "     \"Age\": 30},\n",
    "\n",
    "    {\"Pregnancies\": 5, \n",
    "     \"Glucose\": 90, \n",
    "     \"BloodPressure\": 70, \n",
    "     \"SkinThickness\": 34, \n",
    "     \"Insulin\": 20, \n",
    "     \"BMI\": 26.5, \n",
    "     \"DiabetesPedigreeFunction\": 0.351, \n",
    "     \"Age\": 28},\n",
    "      ]}\n",
    "    \n",
    "# Convert to JSON string\n",
    "input_data = json.dumps(data)\n",
    "with open(\"data.json\", \"w\") as _f:\n",
    "    _f.write(input_data)\n",
    "\n",
    "# Set the content type\n",
    "headers = {'Content-Type': 'application/json'}\n",
    "# If authentication is enabled, set the authorization header\n",
    "#headers['Authorization'] = f'Bearer {key}'\n",
    "\n",
    "# Make the request and display the response\n",
    "resp = requests.post(scoring_uri, input_data, headers=headers)\n",
    "print(resp.json())\n",
    "print(\"Case 0: Not Diabetes, Case 1: Diabetes.\")"
   ]
  },
  {
   "cell_type": "code",
   "execution_count": 23,
   "metadata": {},
   "outputs": [
    {
     "name": "stdout",
     "output_type": "stream",
     "text": [
      "[{'Pregnancies': 5, 'Glucose': 150, 'BloodPressure': 70, 'SkinThickness': 40, 'Insulin': 10, 'BMI': 36.5, 'DiabetesPedigreeFunction': 0.627, 'Age': 30}, {'Pregnancies': 5, 'Glucose': 90, 'BloodPressure': 70, 'SkinThickness': 34, 'Insulin': 20, 'BMI': 26.5, 'DiabetesPedigreeFunction': 0.351, 'Age': 28}]\n"
     ]
    }
   ],
   "source": [
    "data = [{\"Pregnancies\": 5, \n",
    "     \"Glucose\": 150, \n",
    "     \"BloodPressure\": 70, \n",
    "     \"SkinThickness\": 40, \n",
    "     \"Insulin\": 10, \n",
    "     \"BMI\": 36.5, \n",
    "     \"DiabetesPedigreeFunction\": 0.627, \n",
    "     \"Age\": 30},\n",
    "\n",
    "    {\"Pregnancies\": 5, \n",
    "     \"Glucose\": 90, \n",
    "     \"BloodPressure\": 70, \n",
    "     \"SkinThickness\": 34, \n",
    "     \"Insulin\": 20, \n",
    "     \"BMI\": 26.5, \n",
    "     \"DiabetesPedigreeFunction\": 0.351, \n",
    "     \"Age\": 28},\n",
    "      ]\n",
    "\n",
    "print(data)"
   ]
  },
  {
   "cell_type": "code",
   "execution_count": 25,
   "metadata": {},
   "outputs": [
    {
     "data": {
      "text/plain": [
       "'{\"result\": [1, 0]}'"
      ]
     },
     "execution_count": 25,
     "metadata": {},
     "output_type": "execute_result"
    }
   ],
   "source": [
    "# test using service instance\n",
    "input_data = json.dumps({\n",
    "    'data': data\n",
    "})\n",
    "\n",
    "output = service.run(input_data)\n",
    "output"
   ]
  },
  {
   "cell_type": "markdown",
   "metadata": {
    "gather": {
     "logged": 1598432765711
    },
    "jupyter": {
     "outputs_hidden": false,
     "source_hidden": false
    },
    "nteract": {
     "transient": {
      "deleting": false
     }
    }
   },
   "source": [
    "Print the logs of the web service and delete the service"
   ]
  },
  {
   "cell_type": "code",
   "execution_count": 26,
   "metadata": {
    "jupyter": {
     "outputs_hidden": false,
     "source_hidden": false
    },
    "nteract": {
     "transient": {
      "deleting": false
     }
    }
   },
   "outputs": [
    {
     "data": {
      "text/plain": [
       "'2021-02-13T10:42:36,780328967+00:00 - iot-server/run \\n2021-02-13T10:42:36,781229872+00:00 - gunicorn/run \\n2021-02-13T10:42:36,793854239+00:00 - rsyslog/run \\n2021-02-13T10:42:36,795951750+00:00 - nginx/run \\n/usr/sbin/nginx: /azureml-envs/azureml_09ff55f546b313bb1ab136a466214499/lib/libcrypto.so.1.0.0: no version information available (required by /usr/sbin/nginx)\\n/usr/sbin/nginx: /azureml-envs/azureml_09ff55f546b313bb1ab136a466214499/lib/libcrypto.so.1.0.0: no version information available (required by /usr/sbin/nginx)\\n/usr/sbin/nginx: /azureml-envs/azureml_09ff55f546b313bb1ab136a466214499/lib/libssl.so.1.0.0: no version information available (required by /usr/sbin/nginx)\\n/usr/sbin/nginx: /azureml-envs/azureml_09ff55f546b313bb1ab136a466214499/lib/libssl.so.1.0.0: no version information available (required by /usr/sbin/nginx)\\n/usr/sbin/nginx: /azureml-envs/azureml_09ff55f546b313bb1ab136a466214499/lib/libssl.so.1.0.0: no version information available (required by /usr/sbin/nginx)\\nrsyslogd: /azureml-envs/azureml_09ff55f546b313bb1ab136a466214499/lib/libuuid.so.1: no version information available (required by rsyslogd)\\nEdgeHubConnectionString and IOTEDGE_IOTHUBHOSTNAME are not set. Exiting...\\n2021-02-13T10:42:36,915157877+00:00 - iot-server/finish 1 0\\n2021-02-13T10:42:36,916211783+00:00 - Exit code 1 is normal. Not restarting iot-server.\\nStarting gunicorn 19.9.0\\nListening at: http://127.0.0.1:31311 (14)\\nUsing worker: sync\\nworker timeout is set to 300\\nBooting worker with pid: 42\\nSPARK_HOME not set. Skipping PySpark Initialization.\\nGenerating new fontManager, this may take some time...\\nInitializing logger\\n2021-02-13 10:42:38,143 | root | INFO | Starting up app insights client\\n2021-02-13 10:42:38,143 | root | INFO | Starting up request id generator\\n2021-02-13 10:42:38,143 | root | INFO | Starting up app insight hooks\\n2021-02-13 10:42:38,143 | root | INFO | Invoking user\\'s init function\\n2021-02-13 10:42:40,539 | root | INFO | Users\\'s init has completed successfully\\n2021-02-13 10:42:40,543 | root | INFO | Skipping middleware: dbg_model_info as it\\'s not enabled.\\n2021-02-13 10:42:40,543 | root | INFO | Skipping middleware: dbg_resource_usage as it\\'s not enabled.\\n2021-02-13 10:42:40,601 | root | INFO | Scoring timeout is found from os.environ: 60000 ms\\n2021-02-13 10:42:45,758 | root | INFO | 200\\n127.0.0.1 - - [13/Feb/2021:10:42:45 +0000] \"GET /swagger.json HTTP/1.0\" 200 2536 \"-\" \"Go-http-client/1.1\"\\n2021-02-13 10:42:58,501 | root | INFO | Validation Request Content-Type\\n2021-02-13 10:42:58,502 | root | INFO | Scoring Timer is set to 60.0 seconds\\n2021-02-13 10:42:58,620 | root | INFO | 200\\n127.0.0.1 - - [13/Feb/2021:10:42:58 +0000] \"POST /score HTTP/1.0\" 200 22 \"-\" \"python-requests/2.25.1\"\\n'"
      ]
     },
     "execution_count": 26,
     "metadata": {},
     "output_type": "execute_result"
    }
   ],
   "source": [
    "logs = service.get_logs()\n",
    "logs"
   ]
  },
  {
   "cell_type": "code",
   "execution_count": null,
   "metadata": {},
   "outputs": [],
   "source": [
    "service.delete()"
   ]
  },
  {
   "cell_type": "code",
   "execution_count": null,
   "metadata": {},
   "outputs": [],
   "source": []
  }
 ],
 "metadata": {
  "kernel_info": {
   "name": "python3"
  },
  "kernelspec": {
   "display_name": "Python 3",
   "language": "python",
   "name": "python3"
  },
  "language_info": {
   "codemirror_mode": {
    "name": "ipython",
    "version": 3
   },
   "file_extension": ".py",
   "mimetype": "text/x-python",
   "name": "python",
   "nbconvert_exporter": "python",
   "pygments_lexer": "ipython3",
   "version": "3.6.9"
  },
  "nteract": {
   "version": "nteract-front-end@1.0.0"
  }
 },
 "nbformat": 4,
 "nbformat_minor": 4
}
